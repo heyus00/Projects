{
 "cells": [
  {
   "cell_type": "markdown",
   "id": "b691d581",
   "metadata": {},
   "source": [
    "## Dense network"
   ]
  },
  {
   "cell_type": "markdown",
   "id": "0b949cf9",
   "metadata": {},
   "source": [
    "Finally, try with neural networks\n",
    "- 1-layer dense network i.e. no hidden layer, just the input and output ones\n",
    "- 2-layer dense network i.e. one hidden layer"
   ]
  },
  {
   "cell_type": "code",
   "execution_count": 34,
   "id": "58a00a8f",
   "metadata": {},
   "outputs": [],
   "source": [
    "import numpy as np\n",
    "import pandas as pd\n",
    "import tensorflow as tf\n",
    "from tensorflow.keras import Sequential\n",
    "from tensorflow.keras.layers import Dense\n",
    "from tensorflow.keras.preprocessing.image import ImageDataGenerator\n",
    "from tensorflow.keras import activations\n",
    "from tensorflow.keras import initializers\n",
    "from tensorflow.keras import optimizers\n",
    "from tensorflow.keras import losses\n",
    "from tensorflow.keras import metrics\n",
    "from sklearn.preprocessing import StandardScaler"
   ]
  },
  {
   "cell_type": "markdown",
   "id": "784c0514",
   "metadata": {},
   "source": [
    "- 1-layer dense network i.e. no hidden layer, just the input and output ones"
   ]
  },
  {
   "cell_type": "code",
   "execution_count": 2,
   "id": "f02c987d",
   "metadata": {},
   "outputs": [
    {
     "name": "stdout",
     "output_type": "stream",
     "text": [
      "_________________________________________________________________\n",
      "Layer (type)                 Output Shape              Param #   \n",
      "=================================================================\n",
      "dense (Dense)                (None, 6)                 903174    \n",
      "=================================================================\n",
      "Total params: 903,174\n",
      "Trainable params: 903,174\n",
      "Non-trainable params: 0\n",
      "_________________________________________________________________\n"
     ]
    }
   ],
   "source": [
    "model = Sequential()\n",
    "model.add(Dense(\n",
    "    units=6, activation=activations.softmax, input_dim=150528,\n",
    "    kernel_initializer=initializers.VarianceScaling(scale=1.0, seed=0)))\n",
    "model.summary()"
   ]
  },
  {
   "cell_type": "code",
   "execution_count": 3,
   "id": "a3bb4502",
   "metadata": {},
   "outputs": [],
   "source": [
    "# Define loss function, optimizer and metrics to track during training\n",
    "model.compile(\n",
    "    optimizer='sgd', # .. or optimizers.SGD(lr=0.01)\n",
    "    loss='sparse_categorical_crossentropy', # .. or losses.sparse_categorical_crossentropy\n",
    "    metrics=['acc'] # .. or metrics.sparse_categorical_accuracy\n",
    ")"
   ]
  },
  {
   "cell_type": "code",
   "execution_count": 4,
   "id": "1b8daf5f",
   "metadata": {},
   "outputs": [],
   "source": [
    "train_generator = ImageDataGenerator(\n",
    "    rescale=1/255, horizontal_flip=True, rotation_range=5)\n",
    "\n",
    "valid_generator = ImageDataGenerator(rescale=1/255)\n",
    "\n",
    "test_generator = ImageDataGenerator(rescale=1/255)"
   ]
  },
  {
   "cell_type": "code",
   "execution_count": 5,
   "id": "24bcd3f3",
   "metadata": {},
   "outputs": [
    {
     "name": "stdout",
     "output_type": "stream",
     "text": [
      "Found 280 images belonging to 6 classes.\n",
      "Found 139 images belonging to 6 classes.\n",
      "Found 50 images belonging to 6 classes.\n"
     ]
    }
   ],
   "source": [
    "trainset = train_generator.flow_from_directory(\n",
    "     'train', batch_size=32, target_size=(224, 224),\n",
    "    shuffle=True, class_mode = 'sparse')\n",
    "validset = valid_generator.flow_from_directory(\n",
    "    'valid', batch_size=32, target_size=(224, 224),\n",
    "    shuffle=False, class_mode = 'sparse')\n",
    "testset = test_generator.flow_from_directory(\n",
    "    'test', batch_size=32, target_size=(224, 224),\n",
    "    shuffle=False, class_mode = 'sparse')"
   ]
  },
  {
   "cell_type": "code",
   "execution_count": 6,
   "id": "e0f3a52b",
   "metadata": {},
   "outputs": [
    {
     "data": {
      "text/plain": [
       "{'bike': 0, 'car': 1, 'motorcycle': 2, 'other': 3, 'truck': 4, 'van': 5}"
      ]
     },
     "execution_count": 6,
     "metadata": {},
     "output_type": "execute_result"
    }
   ],
   "source": [
    "trainset.class_indices"
   ]
  },
  {
   "cell_type": "code",
   "execution_count": 7,
   "id": "e2f6b1c3",
   "metadata": {},
   "outputs": [
    {
     "name": "stdout",
     "output_type": "stream",
     "text": [
      "Batch images: (32, 224, 224, 3)\n",
      "Batch labels: (32,)\n"
     ]
    }
   ],
   "source": [
    "batch_imgs, batch_labels = trainset.next() # 32 images per batch\n",
    "\n",
    "print('Batch images:', batch_imgs.shape) \n",
    "print('Batch labels:', batch_labels.shape)"
   ]
  },
  {
   "cell_type": "code",
   "execution_count": 8,
   "id": "31c10380",
   "metadata": {},
   "outputs": [],
   "source": [
    "x_train = []\n",
    "y_train = []\n",
    "x_valid = []\n",
    "y_valid = []\n",
    "x_test = []\n",
    "y_test = []\n",
    "\n",
    "for i in range(len(trainset)):\n",
    "    batch_imgs, batch_labels = trainset.next()\n",
    "    x_train.extend(batch_imgs)\n",
    "    y_train.extend(batch_labels)\n",
    "    \n",
    "\n",
    "for i in range(len(validset)):\n",
    "    batch_imgs, batch_labels = validset.next()\n",
    "    x_valid.extend(batch_imgs)\n",
    "    y_valid.extend(batch_labels)\n",
    "\n",
    "for i in range(len(testset)):\n",
    "    batch_imgs, batch_labels = testset.next()\n",
    "    x_test.extend(batch_imgs)\n",
    "    y_test.extend(batch_labels)\n"
   ]
  },
  {
   "cell_type": "markdown",
   "id": "9909fae0",
   "metadata": {},
   "source": [
    "Flatten a RGB images:"
   ]
  },
  {
   "cell_type": "markdown",
   "id": "d3d3c6ff",
   "metadata": {},
   "source": [
    "224x224 = 50176"
   ]
  },
  {
   "cell_type": "code",
   "execution_count": 9,
   "id": "0b9970d0",
   "metadata": {},
   "outputs": [
    {
     "data": {
      "text/plain": [
       "(280, 224, 224, 3)"
      ]
     },
     "execution_count": 9,
     "metadata": {},
     "output_type": "execute_result"
    }
   ],
   "source": [
    "np.array(x_train).shape"
   ]
  },
  {
   "cell_type": "code",
   "execution_count": 10,
   "id": "67c83093",
   "metadata": {},
   "outputs": [],
   "source": [
    "numImages = np.array(x_train).shape[0]\n",
    "x_train = np.array([x_train[i].flatten() for i in range(0,numImages)])"
   ]
  },
  {
   "cell_type": "code",
   "execution_count": 11,
   "id": "5ad12d59",
   "metadata": {},
   "outputs": [
    {
     "data": {
      "text/plain": [
       "(280, 150528)"
      ]
     },
     "execution_count": 11,
     "metadata": {},
     "output_type": "execute_result"
    }
   ],
   "source": [
    "x_train.shape"
   ]
  },
  {
   "cell_type": "code",
   "execution_count": 12,
   "id": "7f8a024c",
   "metadata": {},
   "outputs": [],
   "source": [
    "x_train = x_train.astype(float)"
   ]
  },
  {
   "cell_type": "code",
   "execution_count": 13,
   "id": "2e36fbde",
   "metadata": {},
   "outputs": [
    {
     "data": {
      "text/plain": [
       "(280,)"
      ]
     },
     "execution_count": 13,
     "metadata": {},
     "output_type": "execute_result"
    }
   ],
   "source": [
    "np.array(y_train).shape"
   ]
  },
  {
   "cell_type": "code",
   "execution_count": 14,
   "id": "6d7d1d81",
   "metadata": {
    "scrolled": true
   },
   "outputs": [
    {
     "name": "stdout",
     "output_type": "stream",
     "text": [
      "Train on 55 samples, validate on 225 samples\n",
      "Epoch 1/50\n",
      "55/55 [==============================] - 0s 6ms/step - loss: 5.7495 - acc: 0.2545 - val_loss: 12.4187 - val_acc: 0.2267\n",
      "Epoch 2/50\n",
      "55/55 [==============================] - 0s 4ms/step - loss: 11.7223 - acc: 0.2727 - val_loss: 12.4187 - val_acc: 0.2267\n",
      "Epoch 3/50\n",
      "55/55 [==============================] - 0s 4ms/step - loss: 11.7223 - acc: 0.2727 - val_loss: 12.4187 - val_acc: 0.2267\n",
      "Epoch 4/50\n",
      "55/55 [==============================] - 0s 4ms/step - loss: 11.7223 - acc: 0.2727 - val_loss: 12.4187 - val_acc: 0.2267\n",
      "Epoch 5/50\n",
      "55/55 [==============================] - 0s 4ms/step - loss: 11.7223 - acc: 0.2727 - val_loss: 12.4187 - val_acc: 0.2267\n",
      "Epoch 6/50\n",
      "55/55 [==============================] - 0s 4ms/step - loss: 11.7223 - acc: 0.2727 - val_loss: 12.4187 - val_acc: 0.2267\n",
      "Epoch 7/50\n",
      "55/55 [==============================] - 0s 4ms/step - loss: 11.7223 - acc: 0.2727 - val_loss: 12.4187 - val_acc: 0.2267\n",
      "Epoch 8/50\n",
      "55/55 [==============================] - 0s 4ms/step - loss: 11.7223 - acc: 0.2727 - val_loss: 12.4187 - val_acc: 0.2267\n",
      "Epoch 9/50\n",
      "55/55 [==============================] - 0s 5ms/step - loss: 11.7223 - acc: 0.2727 - val_loss: 12.4187 - val_acc: 0.2267\n",
      "Epoch 10/50\n",
      "55/55 [==============================] - 0s 5ms/step - loss: 11.7223 - acc: 0.2727 - val_loss: 12.4187 - val_acc: 0.2267\n",
      "Epoch 11/50\n",
      "55/55 [==============================] - 0s 4ms/step - loss: 11.7223 - acc: 0.2727 - val_loss: 12.4187 - val_acc: 0.2267\n",
      "Epoch 12/50\n",
      "55/55 [==============================] - 0s 4ms/step - loss: 11.7223 - acc: 0.2727 - val_loss: 12.4187 - val_acc: 0.2267\n",
      "Epoch 13/50\n",
      "55/55 [==============================] - 0s 4ms/step - loss: 11.7223 - acc: 0.2727 - val_loss: 12.4187 - val_acc: 0.2267\n",
      "Epoch 14/50\n",
      "55/55 [==============================] - 0s 4ms/step - loss: 11.7223 - acc: 0.2727 - val_loss: 12.4187 - val_acc: 0.2267\n",
      "Epoch 15/50\n",
      "55/55 [==============================] - 0s 5ms/step - loss: 11.7223 - acc: 0.2727 - val_loss: 12.4187 - val_acc: 0.2267\n",
      "Epoch 16/50\n",
      "55/55 [==============================] - 0s 4ms/step - loss: 11.7223 - acc: 0.2727 - val_loss: 12.4187 - val_acc: 0.2267\n",
      "Epoch 17/50\n",
      "55/55 [==============================] - 0s 4ms/step - loss: 11.7223 - acc: 0.2727 - val_loss: 12.4187 - val_acc: 0.2267\n",
      "Epoch 18/50\n",
      "55/55 [==============================] - 0s 4ms/step - loss: 11.7223 - acc: 0.2727 - val_loss: 12.4187 - val_acc: 0.2267\n",
      "Epoch 19/50\n",
      "55/55 [==============================] - 0s 4ms/step - loss: 11.7223 - acc: 0.2727 - val_loss: 12.4187 - val_acc: 0.2267\n",
      "Epoch 20/50\n",
      "55/55 [==============================] - 0s 4ms/step - loss: 11.7223 - acc: 0.2727 - val_loss: 12.4187 - val_acc: 0.2267\n",
      "Epoch 21/50\n",
      "55/55 [==============================] - 0s 4ms/step - loss: 11.7223 - acc: 0.2727 - val_loss: 12.4187 - val_acc: 0.2267\n",
      "Epoch 22/50\n",
      "55/55 [==============================] - 0s 5ms/step - loss: 11.7223 - acc: 0.2727 - val_loss: 12.4187 - val_acc: 0.2267\n",
      "Epoch 23/50\n",
      "55/55 [==============================] - 0s 5ms/step - loss: 11.7223 - acc: 0.2727 - val_loss: 12.4187 - val_acc: 0.2267\n",
      "Epoch 24/50\n",
      "55/55 [==============================] - 0s 4ms/step - loss: 11.7223 - acc: 0.2727 - val_loss: 12.4187 - val_acc: 0.2267\n",
      "Epoch 25/50\n",
      "55/55 [==============================] - 0s 4ms/step - loss: 11.7223 - acc: 0.2727 - val_loss: 12.4187 - val_acc: 0.2267\n",
      "Epoch 26/50\n",
      "55/55 [==============================] - 0s 4ms/step - loss: 11.7223 - acc: 0.2727 - val_loss: 12.4187 - val_acc: 0.2267\n",
      "Epoch 27/50\n",
      "55/55 [==============================] - 0s 4ms/step - loss: 11.7223 - acc: 0.2727 - val_loss: 12.4187 - val_acc: 0.2267\n",
      "Epoch 28/50\n",
      "55/55 [==============================] - 0s 4ms/step - loss: 11.7223 - acc: 0.2727 - val_loss: 12.4187 - val_acc: 0.2267\n",
      "Epoch 29/50\n",
      "55/55 [==============================] - 0s 4ms/step - loss: 11.7223 - acc: 0.2727 - val_loss: 12.4187 - val_acc: 0.2267\n",
      "Epoch 30/50\n",
      "55/55 [==============================] - 0s 4ms/step - loss: 11.7223 - acc: 0.2727 - val_loss: 12.4187 - val_acc: 0.2267\n",
      "Epoch 31/50\n",
      "55/55 [==============================] - 0s 5ms/step - loss: 11.7223 - acc: 0.2727 - val_loss: 12.4187 - val_acc: 0.2267\n",
      "Epoch 32/50\n",
      "55/55 [==============================] - 0s 4ms/step - loss: 11.7223 - acc: 0.2727 - val_loss: 12.4187 - val_acc: 0.2267\n",
      "Epoch 33/50\n",
      "55/55 [==============================] - 0s 5ms/step - loss: 11.7223 - acc: 0.2727 - val_loss: 12.4187 - val_acc: 0.2267\n",
      "Epoch 34/50\n",
      "55/55 [==============================] - 0s 4ms/step - loss: 11.7223 - acc: 0.2727 - val_loss: 12.4187 - val_acc: 0.2267\n",
      "Epoch 35/50\n",
      "55/55 [==============================] - 0s 4ms/step - loss: 11.7223 - acc: 0.2727 - val_loss: 12.4187 - val_acc: 0.2267\n",
      "Epoch 36/50\n",
      "55/55 [==============================] - 0s 4ms/step - loss: 11.7223 - acc: 0.2727 - val_loss: 12.4187 - val_acc: 0.2267\n",
      "Epoch 37/50\n",
      "55/55 [==============================] - 0s 4ms/step - loss: 11.7223 - acc: 0.2727 - val_loss: 12.4187 - val_acc: 0.2267\n",
      "Epoch 38/50\n",
      "55/55 [==============================] - 0s 4ms/step - loss: 11.7223 - acc: 0.2727 - val_loss: 12.4187 - val_acc: 0.2267\n",
      "Epoch 39/50\n",
      "55/55 [==============================] - 0s 4ms/step - loss: 11.7223 - acc: 0.2727 - val_loss: 12.4187 - val_acc: 0.2267\n",
      "Epoch 40/50\n",
      "55/55 [==============================] - 0s 4ms/step - loss: 11.7223 - acc: 0.2727 - val_loss: 12.4187 - val_acc: 0.2267\n",
      "Epoch 41/50\n",
      "55/55 [==============================] - 0s 4ms/step - loss: 11.7223 - acc: 0.2727 - val_loss: 12.4187 - val_acc: 0.2267\n",
      "Epoch 42/50\n",
      "55/55 [==============================] - 0s 4ms/step - loss: 11.7223 - acc: 0.2727 - val_loss: 12.4187 - val_acc: 0.2267\n",
      "Epoch 43/50\n",
      "55/55 [==============================] - 0s 4ms/step - loss: 11.7223 - acc: 0.2727 - val_loss: 12.4187 - val_acc: 0.2267\n",
      "Epoch 44/50\n",
      "55/55 [==============================] - 0s 4ms/step - loss: 11.7223 - acc: 0.2727 - val_loss: 12.4187 - val_acc: 0.2267\n",
      "Epoch 45/50\n",
      "55/55 [==============================] - 0s 4ms/step - loss: 11.7223 - acc: 0.2727 - val_loss: 12.4187 - val_acc: 0.2267\n",
      "Epoch 46/50\n",
      "55/55 [==============================] - 0s 4ms/step - loss: 11.7223 - acc: 0.2727 - val_loss: 12.4187 - val_acc: 0.2267\n",
      "Epoch 47/50\n",
      "55/55 [==============================] - 0s 4ms/step - loss: 11.7223 - acc: 0.2727 - val_loss: 12.4187 - val_acc: 0.2267\n",
      "Epoch 48/50\n",
      "55/55 [==============================] - 0s 5ms/step - loss: 11.7223 - acc: 0.2727 - val_loss: 12.4187 - val_acc: 0.2267\n",
      "Epoch 49/50\n",
      "55/55 [==============================] - 0s 5ms/step - loss: 11.7223 - acc: 0.2727 - val_loss: 12.4187 - val_acc: 0.2267\n",
      "Epoch 50/50\n",
      "55/55 [==============================] - 0s 5ms/step - loss: 11.7223 - acc: 0.2727 - val_loss: 12.4187 - val_acc: 0.2267\n"
     ]
    }
   ],
   "source": [
    "# Fit model\n",
    "history = model.fit(\n",
    "    x=x_train, y=np.array(y_train),\n",
    "    validation_split=0.8, batch_size=32, epochs=50,\n",
    "    shuffle=True # Shuffle training samples\n",
    ")"
   ]
  },
  {
   "cell_type": "code",
   "execution_count": 15,
   "id": "54c17d4d",
   "metadata": {},
   "outputs": [
    {
     "data": {
      "image/png": "[encoded data removed]",
      "text/plain": [
       "<Figure size 864x288 with 2 Axes>"
      ]
     },
     "metadata": {
      "needs_background": "light"
     },
     "output_type": "display_data"
    }
   ],
   "source": [
    "%matplotlib inline\n",
    "import matplotlib.pyplot as plt\n",
    "import numpy as np\n",
    "\n",
    "# Create two plots: one for the loss value, one for the accuracy\n",
    "fig, (ax1, ax2) = plt.subplots(nrows=1, ncols=2, figsize=(12, 4))\n",
    "\n",
    "# Plot accuracy values\n",
    "ax1.plot(history.history['loss'], label='train loss')\n",
    "ax1.plot(history.history['val_loss'], label='val loss')\n",
    "ax1.set_title('Validation loss {:.3f} (mean last 3)'.format(\n",
    "    np.mean(history.history['val_loss'][-3:]) # last three values\n",
    "))\n",
    "ax1.set_xlabel('epoch')\n",
    "ax1.set_ylabel('loss value')\n",
    "ax1.legend()\n",
    "\n",
    "# Plot accuracy values\n",
    "ax2.plot(history.history['acc'], label='train acc')\n",
    "ax2.plot(history.history['val_acc'], label='val acc')\n",
    "ax2.set_title('Validation accuracy {:.3f} (mean last 3)'.format(\n",
    "    np.mean(history.history['val_acc'][-3:]) # last three values\n",
    "))\n",
    "ax2.set_xlabel('epoch')\n",
    "ax2.set_ylabel('accuracy')\n",
    "ax2.legend()\n",
    "plt.show()"
   ]
  },
  {
   "cell_type": "markdown",
   "id": "a4b68055",
   "metadata": {},
   "source": [
    "You can always implement a 1-layer\n",
    "network (a network without a hidden layer) which is **equivalent to a Logistic Regression**\n",
    "(\"softmax\" strategy) and should return the **same accuracy** i.e. if you get 90% accuracy with\n",
    "your logistic regression, then you should be able to get that score with your 1-layer dense\n",
    "NN implementation."
   ]
  },
  {
   "cell_type": "markdown",
   "id": "ec2c7a02",
   "metadata": {},
   "source": [
    "--------"
   ]
  },
  {
   "cell_type": "markdown",
   "id": "16f7d619",
   "metadata": {},
   "source": [
    "- 2-layer dense network i.e. one hidden layer"
   ]
  },
  {
   "cell_type": "code",
   "execution_count": 16,
   "id": "66487d81",
   "metadata": {},
   "outputs": [
    {
     "name": "stdout",
     "output_type": "stream",
     "text": [
      "_________________________________________________________________\n",
      "Layer (type)                 Output Shape              Param #   \n",
      "=================================================================\n",
      "dense_1 (Dense)              (None, 16)                2408464   \n",
      "_________________________________________________________________\n",
      "dense_2 (Dense)              (None, 6)                 102       \n",
      "=================================================================\n",
      "Total params: 2,408,566\n",
      "Trainable params: 2,408,566\n",
      "Non-trainable params: 0\n",
      "_________________________________________________________________\n"
     ]
    }
   ],
   "source": [
    "# Create model\n",
    "model_2 = Sequential()\n",
    "\n",
    "# First hidden layer\n",
    "model_2.add(Dense(\n",
    "    units=16, activation=activations.relu, input_dim=150528,\n",
    "    kernel_initializer=initializers.VarianceScaling(scale=2.0, seed=0)))\n",
    "\n",
    "# Second hidden layer = output layer\n",
    "model_2.add(Dense(\n",
    "    units=6, activation=activations.softmax,\n",
    "    kernel_initializer=initializers.VarianceScaling(scale=1.0, seed=0)))\n",
    "\n",
    "# Print network summary\n",
    "model_2.summary()"
   ]
  },
  {
   "cell_type": "code",
   "execution_count": 17,
   "id": "2a842b1a",
   "metadata": {},
   "outputs": [],
   "source": [
    "model_2.compile(\n",
    "    optimizer='sgd', # .. or optimizers.SGD(lr=0.01)\n",
    "    loss='sparse_categorical_crossentropy', # .. or losses.sparse_categorical_crossentropy\n",
    "    metrics=['acc'] # .. or metrics.sparse_categorical_accuracy\n",
    ")"
   ]
  },
  {
   "cell_type": "code",
   "execution_count": 18,
   "id": "c44e7243",
   "metadata": {},
   "outputs": [
    {
     "name": "stdout",
     "output_type": "stream",
     "text": [
      "Train on 55 samples, validate on 225 samples\n",
      "Epoch 1/50\n",
      "55/55 [==============================] - 0s 8ms/step - loss: 2.1458 - acc: 0.1818 - val_loss: 2.1816 - val_acc: 0.0933\n",
      "Epoch 2/50\n",
      "55/55 [==============================] - 0s 5ms/step - loss: 2.0523 - acc: 0.0909 - val_loss: 1.8532 - val_acc: 0.0756\n",
      "Epoch 3/50\n",
      "55/55 [==============================] - 0s 5ms/step - loss: 1.8450 - acc: 0.1091 - val_loss: 1.8010 - val_acc: 0.1289\n",
      "Epoch 4/50\n",
      "55/55 [==============================] - 0s 5ms/step - loss: 1.7978 - acc: 0.1818 - val_loss: 1.7904 - val_acc: 0.2267\n",
      "Epoch 5/50\n",
      "55/55 [==============================] - 0s 5ms/step - loss: 1.7897 - acc: 0.2727 - val_loss: 1.7901 - val_acc: 0.2267\n",
      "Epoch 6/50\n",
      "55/55 [==============================] - 0s 5ms/step - loss: 1.7892 - acc: 0.2727 - val_loss: 1.7898 - val_acc: 0.2267\n",
      "Epoch 7/50\n",
      "55/55 [==============================] - 0s 6ms/step - loss: 1.7887 - acc: 0.2727 - val_loss: 1.7894 - val_acc: 0.2267\n",
      "Epoch 8/50\n",
      "55/55 [==============================] - 0s 5ms/step - loss: 1.7883 - acc: 0.2727 - val_loss: 1.7891 - val_acc: 0.2267\n",
      "Epoch 9/50\n",
      "55/55 [==============================] - 0s 5ms/step - loss: 1.7877 - acc: 0.2727 - val_loss: 1.7888 - val_acc: 0.2267\n",
      "Epoch 10/50\n",
      "55/55 [==============================] - 0s 5ms/step - loss: 1.7873 - acc: 0.2727 - val_loss: 1.7885 - val_acc: 0.2267\n",
      "Epoch 11/50\n",
      "55/55 [==============================] - 0s 5ms/step - loss: 1.7868 - acc: 0.2727 - val_loss: 1.7882 - val_acc: 0.2267\n",
      "Epoch 12/50\n",
      "55/55 [==============================] - 0s 5ms/step - loss: 1.7864 - acc: 0.2727 - val_loss: 1.7879 - val_acc: 0.2267\n",
      "Epoch 13/50\n",
      "55/55 [==============================] - 0s 5ms/step - loss: 1.7859 - acc: 0.2727 - val_loss: 1.7876 - val_acc: 0.2267\n",
      "Epoch 14/50\n",
      "55/55 [==============================] - 0s 5ms/step - loss: 1.7855 - acc: 0.2727 - val_loss: 1.7873 - val_acc: 0.2267\n",
      "Epoch 15/50\n",
      "55/55 [==============================] - 0s 5ms/step - loss: 1.7849 - acc: 0.2727 - val_loss: 1.7870 - val_acc: 0.2267\n",
      "Epoch 16/50\n",
      "55/55 [==============================] - 0s 5ms/step - loss: 1.7844 - acc: 0.2727 - val_loss: 1.7867 - val_acc: 0.2267\n",
      "Epoch 17/50\n",
      "55/55 [==============================] - 0s 5ms/step - loss: 1.7840 - acc: 0.2727 - val_loss: 1.7863 - val_acc: 0.2267\n",
      "Epoch 18/50\n",
      "55/55 [==============================] - 0s 5ms/step - loss: 1.7835 - acc: 0.2727 - val_loss: 1.7860 - val_acc: 0.2267\n",
      "Epoch 19/50\n",
      "55/55 [==============================] - 0s 5ms/step - loss: 1.7830 - acc: 0.2727 - val_loss: 1.7858 - val_acc: 0.2267\n",
      "Epoch 20/50\n",
      "55/55 [==============================] - 0s 5ms/step - loss: 1.7826 - acc: 0.2727 - val_loss: 1.7855 - val_acc: 0.2267\n",
      "Epoch 21/50\n",
      "55/55 [==============================] - 0s 5ms/step - loss: 1.7821 - acc: 0.2727 - val_loss: 1.7852 - val_acc: 0.2267\n",
      "Epoch 22/50\n",
      "55/55 [==============================] - 0s 6ms/step - loss: 1.7817 - acc: 0.2727 - val_loss: 1.7849 - val_acc: 0.2267\n",
      "Epoch 23/50\n",
      "55/55 [==============================] - 0s 5ms/step - loss: 1.7812 - acc: 0.2727 - val_loss: 1.7846 - val_acc: 0.2267\n",
      "Epoch 24/50\n",
      "55/55 [==============================] - 0s 6ms/step - loss: 1.7808 - acc: 0.2727 - val_loss: 1.7843 - val_acc: 0.2267\n",
      "Epoch 25/50\n",
      "55/55 [==============================] - 0s 5ms/step - loss: 1.7804 - acc: 0.2727 - val_loss: 1.7841 - val_acc: 0.2267\n",
      "Epoch 26/50\n",
      "55/55 [==============================] - 0s 5ms/step - loss: 1.7799 - acc: 0.2727 - val_loss: 1.7838 - val_acc: 0.2267\n",
      "Epoch 27/50\n",
      "55/55 [==============================] - 0s 6ms/step - loss: 1.7795 - acc: 0.2727 - val_loss: 1.7835 - val_acc: 0.2267\n",
      "Epoch 28/50\n",
      "55/55 [==============================] - 0s 6ms/step - loss: 1.7791 - acc: 0.2727 - val_loss: 1.7833 - val_acc: 0.2267\n",
      "Epoch 29/50\n",
      "55/55 [==============================] - 0s 5ms/step - loss: 1.7786 - acc: 0.2727 - val_loss: 1.7830 - val_acc: 0.2267\n",
      "Epoch 30/50\n",
      "55/55 [==============================] - 0s 5ms/step - loss: 1.7782 - acc: 0.2727 - val_loss: 1.7828 - val_acc: 0.2267\n",
      "Epoch 31/50\n",
      "55/55 [==============================] - 0s 5ms/step - loss: 1.7778 - acc: 0.2727 - val_loss: 1.7825 - val_acc: 0.2267\n",
      "Epoch 32/50\n",
      "55/55 [==============================] - 0s 7ms/step - loss: 1.7774 - acc: 0.2727 - val_loss: 1.7822 - val_acc: 0.2267\n",
      "Epoch 33/50\n",
      "55/55 [==============================] - 0s 6ms/step - loss: 1.7769 - acc: 0.2727 - val_loss: 1.7820 - val_acc: 0.2267\n",
      "Epoch 34/50\n",
      "55/55 [==============================] - 0s 5ms/step - loss: 1.7766 - acc: 0.2727 - val_loss: 1.7818 - val_acc: 0.2267\n",
      "Epoch 35/50\n",
      "55/55 [==============================] - 0s 5ms/step - loss: 1.7763 - acc: 0.2727 - val_loss: 1.7815 - val_acc: 0.2267\n",
      "Epoch 36/50\n",
      "55/55 [==============================] - 0s 5ms/step - loss: 1.7757 - acc: 0.2727 - val_loss: 1.7812 - val_acc: 0.2267\n",
      "Epoch 37/50\n",
      "55/55 [==============================] - 0s 5ms/step - loss: 1.7753 - acc: 0.2727 - val_loss: 1.7810 - val_acc: 0.2267\n",
      "Epoch 38/50\n",
      "55/55 [==============================] - 0s 6ms/step - loss: 1.7749 - acc: 0.2727 - val_loss: 1.7807 - val_acc: 0.2267\n",
      "Epoch 39/50\n",
      "55/55 [==============================] - 0s 5ms/step - loss: 1.7746 - acc: 0.2727 - val_loss: 1.7805 - val_acc: 0.2267\n",
      "Epoch 40/50\n",
      "55/55 [==============================] - 0s 5ms/step - loss: 1.7742 - acc: 0.2727 - val_loss: 1.7803 - val_acc: 0.2267\n",
      "Epoch 41/50\n",
      "55/55 [==============================] - 0s 5ms/step - loss: 1.7738 - acc: 0.2727 - val_loss: 1.7800 - val_acc: 0.2267\n",
      "Epoch 42/50\n",
      "55/55 [==============================] - 0s 5ms/step - loss: 1.7734 - acc: 0.2727 - val_loss: 1.7798 - val_acc: 0.2267\n",
      "Epoch 43/50\n",
      "55/55 [==============================] - 0s 5ms/step - loss: 1.7731 - acc: 0.2727 - val_loss: 1.7796 - val_acc: 0.2267\n",
      "Epoch 44/50\n",
      "55/55 [==============================] - 0s 5ms/step - loss: 1.7726 - acc: 0.2727 - val_loss: 1.7794 - val_acc: 0.2267\n",
      "Epoch 45/50\n",
      "55/55 [==============================] - 0s 5ms/step - loss: 1.7723 - acc: 0.2727 - val_loss: 1.7792 - val_acc: 0.2267\n",
      "Epoch 46/50\n",
      "55/55 [==============================] - 0s 5ms/step - loss: 1.7719 - acc: 0.2727 - val_loss: 1.7789 - val_acc: 0.2267\n",
      "Epoch 47/50\n",
      "55/55 [==============================] - 0s 5ms/step - loss: 1.7715 - acc: 0.2727 - val_loss: 1.7787 - val_acc: 0.2267\n",
      "Epoch 48/50\n",
      "55/55 [==============================] - 0s 5ms/step - loss: 1.7712 - acc: 0.2727 - val_loss: 1.7785 - val_acc: 0.2267\n",
      "Epoch 49/50\n",
      "55/55 [==============================] - 0s 5ms/step - loss: 1.7707 - acc: 0.2727 - val_loss: 1.7783 - val_acc: 0.2267\n",
      "Epoch 50/50\n",
      "55/55 [==============================] - 0s 5ms/step - loss: 1.7704 - acc: 0.2727 - val_loss: 1.7780 - val_acc: 0.2267\n"
     ]
    }
   ],
   "source": [
    "# Fit model\n",
    "history_2 = model_2.fit(\n",
    "    x=x_train, y=np.array(y_train),\n",
    "    validation_split=0.8, batch_size=32, epochs=50,\n",
    "    shuffle=True # Shuffle training samples\n",
    ")"
   ]
  },
  {
   "cell_type": "code",
   "execution_count": 19,
   "id": "1e39cf79",
   "metadata": {},
   "outputs": [
    {
     "data": {
      "image/png": "[encoded data removed]",
      "text/plain": [
       "<Figure size 864x288 with 2 Axes>"
      ]
     },
     "metadata": {
      "needs_background": "light"
     },
     "output_type": "display_data"
    }
   ],
   "source": [
    "%matplotlib inline\n",
    "import matplotlib.pyplot as plt\n",
    "import numpy as np\n",
    "\n",
    "# Create two plots: one for the loss value, one for the accuracy\n",
    "fig, (ax1, ax2) = plt.subplots(nrows=1, ncols=2, figsize=(12, 4))\n",
    "\n",
    "# Plot accuracy values\n",
    "ax1.plot(history_2.history['loss'], label='train loss')\n",
    "ax1.plot(history_2.history['val_loss'], label='val loss')\n",
    "ax1.set_title('Validation loss {:.3f} (mean last 3)'.format(\n",
    "    np.mean(history_2.history['val_loss'][-3:]) # last three values\n",
    "))\n",
    "ax1.set_xlabel('epoch')\n",
    "ax1.set_ylabel('loss value')\n",
    "ax1.legend()\n",
    "\n",
    "# Plot accuracy values\n",
    "ax2.plot(history_2.history['acc'], label='train acc')\n",
    "ax2.plot(history_2.history['val_acc'], label='val acc')\n",
    "ax2.set_title('Validation accuracy {:.3f} (mean last 3)'.format(\n",
    "    np.mean(history_2.history['val_acc'][-3:]) # last three values\n",
    "))\n",
    "ax2.set_xlabel('epoch')\n",
    "ax2.set_ylabel('accuracy')\n",
    "ax2.legend()\n",
    "plt.show()"
   ]
  },
  {
   "cell_type": "markdown",
   "id": "b21575f3",
   "metadata": {},
   "source": [
    "While both networks result in the same validation accuracy we get a much lower validation loss for the 2-layer network."
   ]
  },
  {
   "cell_type": "markdown",
   "id": "0787dfa4",
   "metadata": {},
   "source": [
    "---------------"
   ]
  },
  {
   "cell_type": "markdown",
   "id": "1b865c49",
   "metadata": {},
   "source": [
    "Store the model names and the accuracy on the test data in a .csv file:"
   ]
  },
  {
   "cell_type": "code",
   "execution_count": 20,
   "id": "11ba308c",
   "metadata": {},
   "outputs": [],
   "source": [
    "numImages = np.array(x_test).shape[0]\n",
    "x_test = np.array([x_test[i].flatten() for i in range(0,numImages)])"
   ]
  },
  {
   "cell_type": "code",
   "execution_count": 21,
   "id": "43086e4a",
   "metadata": {},
   "outputs": [],
   "source": [
    "x_test = x_test.astype(float)"
   ]
  },
  {
   "cell_type": "code",
   "execution_count": 29,
   "id": "546071be",
   "metadata": {},
   "outputs": [
    {
     "name": "stdout",
     "output_type": "stream",
     "text": [
      "50/50 [==============================] - 0s 836us/step\n",
      "Test loss: 12.18\n",
      "Test accuracy: 24.00%\n"
     ]
    }
   ],
   "source": [
    "(test_loss_1, test_accuracy_1) = model.evaluate(x_test, np.array(y_test), batch_size=32)\n",
    "\n",
    "print('Test loss: {:.2f}'.format(test_loss_1))\n",
    "print('Test accuracy: {:.2f}%'.format(100*test_accuracy_1))"
   ]
  },
  {
   "cell_type": "code",
   "execution_count": 31,
   "id": "814cfa20",
   "metadata": {},
   "outputs": [
    {
     "name": "stdout",
     "output_type": "stream",
     "text": [
      "50/50 [==============================] - 0s 937us/step\n",
      "Test loss: 1.77\n",
      "Test accuracy: 24.00%\n"
     ]
    }
   ],
   "source": [
    "(test_loss_2, test_accuracy_2) = model_2.evaluate(x_test, np.array(y_test), batch_size=32)\n",
    "\n",
    "print('Test loss: {:.2f}'.format(test_loss_2))\n",
    "print('Test accuracy: {:.2f}%'.format(100*test_accuracy_2))"
   ]
  },
  {
   "cell_type": "code",
   "execution_count": 35,
   "id": "084ce5b9",
   "metadata": {},
   "outputs": [],
   "source": [
    "Test_accuracy_07_Dense_networks =  pd.DataFrame(data = {'model': ['1-layer nn', '2-layer nn'], 'test_acurracy': [test_accuracy_1,test_accuracy_2]})"
   ]
  },
  {
   "cell_type": "code",
   "execution_count": 37,
   "id": "160d26be",
   "metadata": {},
   "outputs": [],
   "source": [
    "Test_accuracy_07_Dense_networks.to_csv(path_or_buf = r'C:\\Users\\heyus\\Desktop\\Desktop\\EPFL_Data Science COS\\EPFL\\04. Applied Machine Learning 2\\11. Course project\\Test_accuracy_07_Dense_networks.csv')"
   ]
  }
 ],
 "metadata": {
  "kernelspec": {
   "display_name": "Python 3",
   "language": "python",
   "name": "python3"
  },
  "language_info": {
   "codemirror_mode": {
    "name": "ipython",
    "version": 3
   },
   "file_extension": ".py",
   "mimetype": "text/x-python",
   "name": "python",
   "nbconvert_exporter": "python",
   "pygments_lexer": "ipython3",
   "version": "3.6.13"
  }
 },
 "nbformat": 4,
 "nbformat_minor": 5
}
