{
 "cells": [
  {
   "cell_type": "markdown",
   "id": "2a60dce6",
   "metadata": {},
   "source": [
    "# Convolutional neural network"
   ]
  },
  {
   "cell_type": "markdown",
   "id": "d522d69a",
   "metadata": {},
   "source": [
    "You tested above different models with the set of high-level features extracted from a\n",
    "pretrained neural network. However, can you get similar results by creating a ConvNet\n",
    "from scratch and using the pixel values from the original images to train the model?\n",
    "- What accuracy can you achieve?\n",
    "- Can you get good results? - If not, why?\n"
   ]
  },
  {
   "cell_type": "code",
   "execution_count": 1,
   "id": "0d534198",
   "metadata": {},
   "outputs": [],
   "source": [
    "import numpy as np\n",
    "import pandas as pd\n",
    "import tensorflow as tf\n",
    "import tensorflow.keras as keras\n",
    "from tensorflow.keras import Sequential\n",
    "from tensorflow.keras.layers import Dense\n",
    "from tensorflow.keras.preprocessing.image import ImageDataGenerator\n",
    "from tensorflow.keras import activations\n",
    "from tensorflow.keras import initializers\n",
    "from tensorflow.keras import optimizers\n",
    "from tensorflow.keras import losses\n",
    "from tensorflow.keras import metrics\n",
    "from sklearn.preprocessing import StandardScaler\n",
    "%matplotlib inline\n",
    "import matplotlib.pyplot as plt\n",
    "from sklearn.metrics import confusion_matrix"
   ]
  },
  {
   "cell_type": "code",
   "execution_count": 2,
   "id": "f86a9adf",
   "metadata": {},
   "outputs": [],
   "source": [
    "train_generator = ImageDataGenerator(\n",
    "    rescale=1/255, horizontal_flip=True, rotation_range=5)\n",
    "\n",
    "valid_generator = ImageDataGenerator(rescale=1/255)\n",
    "\n",
    "test_generator = ImageDataGenerator(rescale=1/255)"
   ]
  },
  {
   "cell_type": "code",
   "execution_count": 3,
   "id": "a56a9c51",
   "metadata": {},
   "outputs": [
    {
     "name": "stdout",
     "output_type": "stream",
     "text": [
      "Found 280 images belonging to 6 classes.\n",
      "Found 139 images belonging to 6 classes.\n",
      "Found 50 images belonging to 6 classes.\n"
     ]
    }
   ],
   "source": [
    "trainset = train_generator.flow_from_directory(\n",
    "     'train', batch_size=32, target_size=(224, 224),\n",
    "    shuffle=True, class_mode = 'sparse')\n",
    "validset = valid_generator.flow_from_directory(\n",
    "    'valid', batch_size=32, target_size=(224, 224),\n",
    "    shuffle=False, class_mode = 'sparse')\n",
    "testset = test_generator.flow_from_directory(\n",
    "    'test', batch_size=32, target_size=(224, 224),\n",
    "    shuffle=False, class_mode = 'sparse')"
   ]
  },
  {
   "cell_type": "code",
   "execution_count": 4,
   "id": "1820930e",
   "metadata": {},
   "outputs": [
    {
     "data": {
      "text/plain": [
       "{'bike': 0, 'car': 1, 'motorcycle': 2, 'other': 3, 'truck': 4, 'van': 5}"
      ]
     },
     "execution_count": 4,
     "metadata": {},
     "output_type": "execute_result"
    }
   ],
   "source": [
    "trainset.class_indices"
   ]
  },
  {
   "cell_type": "code",
   "execution_count": 5,
   "id": "708070db",
   "metadata": {},
   "outputs": [
    {
     "name": "stdout",
     "output_type": "stream",
     "text": [
      "Batch images: (32, 224, 224, 3)\n",
      "Batch labels: (32,)\n"
     ]
    }
   ],
   "source": [
    "batch_imgs, batch_labels = trainset.next() # 32 images per batch\n",
    "\n",
    "print('Batch images:', batch_imgs.shape) \n",
    "print('Batch labels:', batch_labels.shape)"
   ]
  },
  {
   "cell_type": "code",
   "execution_count": 6,
   "id": "5a826ec2",
   "metadata": {},
   "outputs": [
    {
     "name": "stdout",
     "output_type": "stream",
     "text": [
      "_________________________________________________________________\n",
      "Layer (type)                 Output Shape              Param #   \n",
      "=================================================================\n",
      "conv2d (Conv2D)              (None, 110, 110, 64)      4864      \n",
      "_________________________________________________________________\n",
      "max_pooling2d (MaxPooling2D) (None, 55, 55, 64)        0         \n",
      "_________________________________________________________________\n",
      "conv2d_1 (Conv2D)            (None, 53, 53, 64)        36928     \n",
      "_________________________________________________________________\n",
      "max_pooling2d_1 (MaxPooling2 (None, 26, 26, 64)        0         \n",
      "_________________________________________________________________\n",
      "flatten (Flatten)            (None, 43264)             0         \n",
      "_________________________________________________________________\n",
      "dense (Dense)                (None, 6)                 259590    \n",
      "=================================================================\n",
      "Total params: 301,382\n",
      "Trainable params: 301,382\n",
      "Non-trainable params: 0\n",
      "_________________________________________________________________\n"
     ]
    }
   ],
   "source": [
    "# Convolutional Network\n",
    "model = keras.Sequential()\n",
    "model.add(keras.layers.Conv2D(filters=64, kernel_size=5, strides=2,\n",
    "                              activation='relu', input_shape=(224, 224, 3)))\n",
    "model.add(keras.layers.MaxPool2D(pool_size=2))\n",
    "model.add(keras.layers.Conv2D(filters=64, kernel_size=3, strides=1,\n",
    "                              activation='relu'))\n",
    "model.add(keras.layers.MaxPool2D(pool_size=2))\n",
    "model.add(keras.layers.Flatten())\n",
    "model.add(keras.layers.Dense(units=trainset.num_classes, activation='softmax'))\n",
    "model.summary()"
   ]
  },
  {
   "cell_type": "code",
   "execution_count": 7,
   "id": "d292faf3",
   "metadata": {},
   "outputs": [],
   "source": [
    "# Compile the model\n",
    "model.compile(optimizer=keras.optimizers.Adam(), loss='sparse_categorical_crossentropy', metrics=['acc'])"
   ]
  },
  {
   "cell_type": "code",
   "execution_count": 8,
   "id": "32306367",
   "metadata": {},
   "outputs": [
    {
     "name": "stdout",
     "output_type": "stream",
     "text": [
      "Epoch 1/100\n",
      "9/9 [==============================] - 9s 1s/step - loss: 1.8771 - acc: 0.2301 - val_loss: 1.7684 - val_acc: 0.2302\n",
      "Epoch 2/100\n",
      "9/9 [==============================] - 8s 935ms/step - loss: 1.7092 - acc: 0.3141 - val_loss: 1.6703 - val_acc: 0.2734\n",
      "Epoch 3/100\n",
      "9/9 [==============================] - 8s 900ms/step - loss: 1.5941 - acc: 0.3614 - val_loss: 1.5570 - val_acc: 0.3885\n",
      "Epoch 4/100\n",
      "9/9 [==============================] - 8s 869ms/step - loss: 1.4212 - acc: 0.4930 - val_loss: 1.4408 - val_acc: 0.4317\n",
      "Epoch 5/100\n",
      "9/9 [==============================] - 8s 891ms/step - loss: 1.2476 - acc: 0.5164 - val_loss: 1.2996 - val_acc: 0.5180\n",
      "Epoch 6/100\n",
      "9/9 [==============================] - 14s 2s/step - loss: 1.0127 - acc: 0.6818 - val_loss: 1.3312 - val_acc: 0.4820\n",
      "Epoch 7/100\n",
      "9/9 [==============================] - 13s 1s/step - loss: 0.8582 - acc: 0.6884 - val_loss: 1.4850 - val_acc: 0.4604\n",
      "Epoch 8/100\n",
      "9/9 [==============================] - 12s 1s/step - loss: 0.7104 - acc: 0.7350 - val_loss: 1.2979 - val_acc: 0.5036\n",
      "Epoch 9/100\n",
      "9/9 [==============================] - 11s 1s/step - loss: 0.4744 - acc: 0.8517 - val_loss: 1.3048 - val_acc: 0.5612\n",
      "Epoch 10/100\n",
      "9/9 [==============================] - 10s 1s/step - loss: 0.3680 - acc: 0.8910 - val_loss: 1.3790 - val_acc: 0.5396\n",
      "Epoch 11/100\n",
      "9/9 [==============================] - 10s 1s/step - loss: 0.2456 - acc: 0.9443 - val_loss: 1.4593 - val_acc: 0.5108\n",
      "Epoch 12/100\n",
      "9/9 [==============================] - 10s 1s/step - loss: 0.1522 - acc: 0.9652 - val_loss: 1.8066 - val_acc: 0.5036\n",
      "Epoch 13/100\n",
      "9/9 [==============================] - 9s 1s/step - loss: 0.1474 - acc: 0.9582 - val_loss: 1.7247 - val_acc: 0.5180\n",
      "Epoch 14/100\n",
      "9/9 [==============================] - 10s 1s/step - loss: 0.1429 - acc: 0.9652 - val_loss: 1.7193 - val_acc: 0.5468\n"
     ]
    }
   ],
   "source": [
    "# End training when accuracy stops improving (optional)\n",
    "early_stopping = keras.callbacks.EarlyStopping(monitor='val_loss', patience=6) \n",
    "\n",
    "# Train model\n",
    "history = model.fit_generator(\n",
    "    generator=trainset, validation_data=validset, epochs=100, callbacks=[early_stopping])"
   ]
  },
  {
   "cell_type": "code",
   "execution_count": 9,
   "id": "3118753b",
   "metadata": {},
   "outputs": [
    {
     "data": {
      "image/png": "[encoded data removed]",
      "text/plain": [
       "<Figure size 864x288 with 2 Axes>"
      ]
     },
     "metadata": {
      "needs_background": "light"
     },
     "output_type": "display_data"
    }
   ],
   "source": [
    "fig, (ax1, ax2) = plt.subplots(nrows=1, ncols=2, figsize=(12, 4))\n",
    "\n",
    "# Plot loss values\n",
    "ax1.set_title('loss: {:.4f}'.format(history.history['val_loss'][-1]))\n",
    "ax1.plot(history.history['val_loss'], label='validation')\n",
    "ax1.plot(history.history['loss'], label='training')\n",
    "ax1.legend()\n",
    "\n",
    "# plot accuracy values\n",
    "ax2.set_title('accuracy: {:.2f}%'.format(history.history['val_acc'][-1]*100))\n",
    "ax2.plot(history.history['val_acc'], label='validation')\n",
    "ax2.plot(history.history['acc'], label='training')\n",
    "ax2.legend()\n",
    "\n",
    "plt.show()"
   ]
  },
  {
   "cell_type": "code",
   "execution_count": 10,
   "id": "13dca80e",
   "metadata": {},
   "outputs": [
    {
     "name": "stdout",
     "output_type": "stream",
     "text": [
      "Predictions: (50, 6)\n"
     ]
    }
   ],
   "source": [
    "test_preds = model.predict_generator(testset)\n",
    "print('Predictions:', test_preds.shape)"
   ]
  },
  {
   "cell_type": "code",
   "execution_count": 11,
   "id": "e9b6e513",
   "metadata": {},
   "outputs": [],
   "source": [
    "matrix = confusion_matrix(\n",
    "    y_true=testset.classes, # array with true labels\n",
    "    y_pred=test_preds.argmax(axis=1)) # array with predicted labels"
   ]
  },
  {
   "cell_type": "code",
   "execution_count": 12,
   "id": "19bc431b",
   "metadata": {},
   "outputs": [
    {
     "data": {
      "text/plain": [
       "array([[9, 0, 3, 0, 0, 0],\n",
       "       [2, 5, 2, 0, 1, 1],\n",
       "       [1, 4, 4, 0, 0, 0],\n",
       "       [1, 1, 3, 0, 1, 0],\n",
       "       [0, 4, 1, 0, 1, 1],\n",
       "       [0, 2, 1, 0, 0, 2]], dtype=int64)"
      ]
     },
     "execution_count": 12,
     "metadata": {},
     "output_type": "execute_result"
    }
   ],
   "source": [
    "matrix"
   ]
  },
  {
   "cell_type": "code",
   "execution_count": 13,
   "id": "a15b2dfb",
   "metadata": {},
   "outputs": [
    {
     "data": {
      "text/html": [
       "<div>\n",
       "<style scoped>\n",
       "    .dataframe tbody tr th:only-of-type {\n",
       "        vertical-align: middle;\n",
       "    }\n",
       "\n",
       "    .dataframe tbody tr th {\n",
       "        vertical-align: top;\n",
       "    }\n",
       "\n",
       "    .dataframe thead th {\n",
       "        text-align: right;\n",
       "    }\n",
       "</style>\n",
       "<table border=\"1\" class=\"dataframe\">\n",
       "  <thead>\n",
       "    <tr style=\"text-align: right;\">\n",
       "      <th>Predictions</th>\n",
       "      <th>bike</th>\n",
       "      <th>car</th>\n",
       "      <th>motorcycle</th>\n",
       "      <th>other</th>\n",
       "      <th>truck</th>\n",
       "      <th>van</th>\n",
       "    </tr>\n",
       "    <tr>\n",
       "      <th>True class</th>\n",
       "      <th></th>\n",
       "      <th></th>\n",
       "      <th></th>\n",
       "      <th></th>\n",
       "      <th></th>\n",
       "      <th></th>\n",
       "    </tr>\n",
       "  </thead>\n",
       "  <tbody>\n",
       "    <tr>\n",
       "      <th>bike</th>\n",
       "      <td>9</td>\n",
       "      <td>0</td>\n",
       "      <td>3</td>\n",
       "      <td>0</td>\n",
       "      <td>0</td>\n",
       "      <td>0</td>\n",
       "    </tr>\n",
       "    <tr>\n",
       "      <th>car</th>\n",
       "      <td>2</td>\n",
       "      <td>5</td>\n",
       "      <td>2</td>\n",
       "      <td>0</td>\n",
       "      <td>1</td>\n",
       "      <td>1</td>\n",
       "    </tr>\n",
       "    <tr>\n",
       "      <th>motorcycle</th>\n",
       "      <td>1</td>\n",
       "      <td>4</td>\n",
       "      <td>4</td>\n",
       "      <td>0</td>\n",
       "      <td>0</td>\n",
       "      <td>0</td>\n",
       "    </tr>\n",
       "    <tr>\n",
       "      <th>other</th>\n",
       "      <td>1</td>\n",
       "      <td>1</td>\n",
       "      <td>3</td>\n",
       "      <td>0</td>\n",
       "      <td>1</td>\n",
       "      <td>0</td>\n",
       "    </tr>\n",
       "    <tr>\n",
       "      <th>truck</th>\n",
       "      <td>0</td>\n",
       "      <td>4</td>\n",
       "      <td>1</td>\n",
       "      <td>0</td>\n",
       "      <td>1</td>\n",
       "      <td>1</td>\n",
       "    </tr>\n",
       "    <tr>\n",
       "      <th>van</th>\n",
       "      <td>0</td>\n",
       "      <td>2</td>\n",
       "      <td>1</td>\n",
       "      <td>0</td>\n",
       "      <td>0</td>\n",
       "      <td>2</td>\n",
       "    </tr>\n",
       "  </tbody>\n",
       "</table>\n",
       "</div>"
      ],
      "text/plain": [
       "Predictions  bike  car  motorcycle  other  truck  van\n",
       "True class                                           \n",
       "bike            9    0           3      0      0    0\n",
       "car             2    5           2      0      1    1\n",
       "motorcycle      1    4           4      0      0    0\n",
       "other           1    1           3      0      1    0\n",
       "truck           0    4           1      0      1    1\n",
       "van             0    2           1      0      0    2"
      ]
     },
     "execution_count": 13,
     "metadata": {},
     "output_type": "execute_result"
    }
   ],
   "source": [
    "# Format as a DataFrame\n",
    "class_names = list(testset.class_indices.keys())\n",
    "matrix_df = pd.DataFrame(data=matrix, columns=class_names, index=class_names)\n",
    "matrix_df.columns.name = 'Predictions'\n",
    "matrix_df.index.name = 'True class'\n",
    "matrix_df"
   ]
  },
  {
   "cell_type": "code",
   "execution_count": 17,
   "id": "9c910c47",
   "metadata": {},
   "outputs": [
    {
     "name": "stdout",
     "output_type": "stream",
     "text": [
      "Valid loss: 1.72, Valid accuracy: 54.68%\n"
     ]
    }
   ],
   "source": [
    "valid_loss, valid_acurracy = model.evaluate_generator(validset)\n",
    "print('Valid loss: {:.2f}, Valid accuracy: {:.2f}%'.format(valid_loss, valid_acurracy*100))"
   ]
  },
  {
   "cell_type": "markdown",
   "id": "e2967bc2",
   "metadata": {},
   "source": [
    "**Findings:** Let's evaluate the evaluation accuarcy of 54,7% from ConvNet model with the previously pre-trained models based on the high level features from MovileNet v2:\n",
    "\n",
    "- k-NN: 44,6% \n",
    "- Simple decision tree: 30,2% \n",
    "- LogRegression: 39,1% \n",
    "- Random Forest: 19,4% \n",
    "- RBF SVM: 23,7% \n",
    "- 1-layer NN: 21,3% \n",
    "- 2-layer NN: 21,3% "
   ]
  },
  {
   "cell_type": "markdown",
   "id": "80e67d0d",
   "metadata": {},
   "source": [
    "The ConvNet gets significantly better results than all previous models according to the test validation accuracy."
   ]
  },
  {
   "cell_type": "markdown",
   "id": "0b206683",
   "metadata": {},
   "source": [
    "-------"
   ]
  },
  {
   "cell_type": "markdown",
   "id": "1bfc90a2",
   "metadata": {},
   "source": [
    "Store the model name and the accuracy on the test data in a .csv file:"
   ]
  },
  {
   "cell_type": "code",
   "execution_count": 18,
   "id": "82bef117",
   "metadata": {},
   "outputs": [
    {
     "name": "stdout",
     "output_type": "stream",
     "text": [
      "Test loss: 1.95, Test accuracy: 42.00%\n"
     ]
    }
   ],
   "source": [
    "test_loss, test_acurracy = model.evaluate_generator(testset)\n",
    "print('Test loss: {:.2f}, Test accuracy: {:.2f}%'.format(test_loss, test_acurracy*100))"
   ]
  },
  {
   "cell_type": "code",
   "execution_count": 35,
   "id": "e7ca5875",
   "metadata": {},
   "outputs": [],
   "source": [
    "Test_accuracy_08_Convnets =  pd.DataFrame(data = {'model': ['cnn'], 'test_acurracy': [test_acurracy]})"
   ]
  },
  {
   "cell_type": "code",
   "execution_count": 52,
   "id": "6770f542",
   "metadata": {},
   "outputs": [],
   "source": [
    "Test_accuracy_08_Convnets.to_csv(path_or_buf = r'C:\\Users\\heyus\\Desktop\\Desktop\\EPFL_Data Science COS\\EPFL\\04. Applied Machine Learning 2\\11. Course project\\Test_accuracy_08_Convnets.csv')"
   ]
  }
 ],
 "metadata": {
  "kernelspec": {
   "display_name": "Python 3",
   "language": "python",
   "name": "python3"
  },
  "language_info": {
   "codemirror_mode": {
    "name": "ipython",
    "version": 3
   },
   "file_extension": ".py",
   "mimetype": "text/x-python",
   "name": "python",
   "nbconvert_exporter": "python",
   "pygments_lexer": "ipython3",
   "version": "3.6.13"
  }
 },
 "nbformat": 4,
 "nbformat_minor": 5
}
