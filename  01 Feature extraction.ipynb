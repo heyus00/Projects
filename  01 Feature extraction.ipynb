{
 "cells": [
  {
   "cell_type": "markdown",
   "id": "0ad352c1",
   "metadata": {},
   "source": [
    "# Feature extraction"
   ]
  },
  {
   "cell_type": "markdown",
   "id": "3b338803",
   "metadata": {},
   "source": [
    "- The goal of this project is to test the different classifiers  and techniques from the course using high-level features extracted with a pretrained convolutional neural network from TensorFlow Hub and compare the results with your own ConvNet implementation trained from the raw image pixels.\n",
    "- Only the last model (i.e. ConvNet) should use the pixel values for computation"
   ]
  },
  {
   "cell_type": "markdown",
   "id": "a77032cc",
   "metadata": {},
   "source": [
    "start by extracting a set of high-level features for each\n",
    "image in the data set. To achieve this, you can use ex. the Inception v3 or MobileNet v2\n",
    "ConvNets which respectively extract 2048 and 1280 high-level features.This high-level features should then be used for all of the tasks in this project, except for\n",
    "when it is stated otherwise. \n"
   ]
  },
  {
   "cell_type": "markdown",
   "id": "5a579927",
   "metadata": {},
   "source": [
    "- consider storing the extracted high-level features, e.g. in npz files, for quickly reloading them into each of the following notebooks. \n",
    "\n",
    "- You can find a general exampleof creating / loading .npz files in the course under \"Applied Machine Learning 2 > 2K-nearest neighbors > Pickle and Numpy formats\"\n",
    "\n",
    "- For this project, you will first need to extract the high-level features into ex. X_{train, valid, test} Numpy arrays variables and save those using the code from the unit linked above."
   ]
  },
  {
   "cell_type": "markdown",
   "id": "598514b0",
   "metadata": {},
   "source": [
    "### Extraction of the high-level features from MobileNet v2 "
   ]
  },
  {
   "cell_type": "markdown",
   "id": "1c8bd5e5",
   "metadata": {},
   "source": [
    "Apply transfer learning and exploit the fact that the MobileNet v2 model is more advanced and have been trained on\n",
    "vast datasets."
   ]
  },
  {
   "cell_type": "code",
   "execution_count": 1,
   "id": "5806a033",
   "metadata": {},
   "outputs": [
    {
     "name": "stderr",
     "output_type": "stream",
     "text": [
      "WARNING:absl:Some hub symbols are not available because TensorFlow version is less than 1.14\n"
     ]
    }
   ],
   "source": [
    "import tensorflow as tf\n",
    "import tensorflow_hub as hub\n",
    "%matplotlib inline\n",
    "import matplotlib.pyplot as plt"
   ]
  },
  {
   "cell_type": "code",
   "execution_count": 2,
   "id": "bcb7c19c",
   "metadata": {},
   "outputs": [
    {
     "name": "stdout",
     "output_type": "stream",
     "text": [
      "INFO:tensorflow:Saver not created because there are no variables in the graph to restore\n"
     ]
    },
    {
     "name": "stderr",
     "output_type": "stream",
     "text": [
      "INFO:tensorflow:Saver not created because there are no variables in the graph to restore\n"
     ]
    }
   ],
   "source": [
    "# Create graph\n",
    "img_graph = tf.Graph()\n",
    "\n",
    "with img_graph.as_default():\n",
    "    # Download module\n",
    "    module_url = 'https://tfhub.dev/google/imagenet/mobilenet_v2_100_224/feature_vector/2'\n",
    "    feature_extractor = hub.Module(module_url)\n",
    "    \n",
    "    # Create input placeholder\n",
    "    input_imgs = tf.placeholder(dtype=tf.float32, shape=[None, 224, 224, 3])\n",
    "    \n",
    "    # A node with the features\n",
    "    imgs_features = feature_extractor(input_imgs)\n",
    "    \n",
    "    # Collect initializers\n",
    "    init_op = tf.group([\n",
    "        tf.global_variables_initializer(), tf.tables_initializer()\n",
    "    ])\n",
    "    \n",
    "img_graph.finalize()"
   ]
  },
  {
   "cell_type": "code",
   "execution_count": 3,
   "id": "b1b84f5a",
   "metadata": {
    "scrolled": true
   },
   "outputs": [
    {
     "data": {
      "text/plain": [
       "TensorShape([Dimension(None), Dimension(1280)])"
      ]
     },
     "execution_count": 3,
     "metadata": {},
     "output_type": "execute_result"
    }
   ],
   "source": [
    "imgs_features.shape"
   ]
  },
  {
   "cell_type": "markdown",
   "id": "74bcda06",
   "metadata": {},
   "source": [
    "Insert Keras generators that read images from the disk for the train, valid and test. Obtain integer encoded labels (e.g. '1' instead of 'bike' in the orginial data set) with the iterator. It is much better to have the labels encoded as integers (single column) rather than one-hot encoding (6 columns) from the very beginning in order to avoid classification issues using sklearn models by interpreting different ways of labeling. "
   ]
  },
  {
   "cell_type": "code",
   "execution_count": 4,
   "id": "9352f0dc",
   "metadata": {},
   "outputs": [],
   "source": [
    "from tensorflow.keras.preprocessing.image import ImageDataGenerator\n",
    "\n",
    "train_generator = ImageDataGenerator(\n",
    "    rescale=1/255, horizontal_flip=True, rotation_range=5)\n",
    "\n",
    "valid_generator = ImageDataGenerator(rescale=1/255)\n",
    "\n",
    "test_generator = ImageDataGenerator(rescale=1/255)"
   ]
  },
  {
   "cell_type": "code",
   "execution_count": 5,
   "id": "feacf42c",
   "metadata": {},
   "outputs": [
    {
     "name": "stdout",
     "output_type": "stream",
     "text": [
      "Found 280 images belonging to 6 classes.\n",
      "Found 139 images belonging to 6 classes.\n",
      "Found 50 images belonging to 6 classes.\n"
     ]
    }
   ],
   "source": [
    "trainset = train_generator.flow_from_directory(\n",
    "     'train', batch_size=32, target_size=(224, 224),\n",
    "    shuffle=True, class_mode = 'sparse')\n",
    "validset = valid_generator.flow_from_directory(\n",
    "    'valid', batch_size=32, target_size=(224, 224),\n",
    "    shuffle=False, class_mode = 'sparse')\n",
    "testset = test_generator.flow_from_directory(\n",
    "    'test', batch_size=32, target_size=(224, 224),\n",
    "    shuffle=False, class_mode = 'sparse')"
   ]
  },
  {
   "cell_type": "code",
   "execution_count": 6,
   "id": "9c8b4699",
   "metadata": {
    "scrolled": true
   },
   "outputs": [
    {
     "data": {
      "text/plain": [
       "set()"
      ]
     },
     "execution_count": 6,
     "metadata": {},
     "output_type": "execute_result"
    }
   ],
   "source": [
    "set(trainset.filenames).intersection(set(validset.filenames))"
   ]
  },
  {
   "cell_type": "markdown",
   "id": "7dab082a",
   "metadata": {},
   "source": [
    "Get the next batch of images with their labels:"
   ]
  },
  {
   "cell_type": "code",
   "execution_count": 7,
   "id": "9efacfeb",
   "metadata": {},
   "outputs": [
    {
     "name": "stdout",
     "output_type": "stream",
     "text": [
      "Batch images: (32, 224, 224, 3)\n",
      "Batch labels: (32,)\n"
     ]
    }
   ],
   "source": [
    "batch_imgs, batch_labels = trainset.next()\n",
    "\n",
    "print('Batch images:', batch_imgs.shape)\n",
    "print('Batch labels:', batch_labels.shape)"
   ]
  },
  {
   "cell_type": "code",
   "execution_count": 8,
   "id": "0b372cab",
   "metadata": {},
   "outputs": [
    {
     "data": {
      "text/plain": [
       "array([1., 3., 1., 1., 0., 2., 4., 0., 3., 0., 0., 1., 4., 4., 1., 3., 2.,\n",
       "       1., 5., 4., 1., 2., 4., 1., 2., 2., 1., 3., 2., 1., 0., 5.],\n",
       "      dtype=float32)"
      ]
     },
     "execution_count": 8,
     "metadata": {},
     "output_type": "execute_result"
    }
   ],
   "source": [
    "batch_labels"
   ]
  },
  {
   "cell_type": "markdown",
   "id": "6b173da7",
   "metadata": {},
   "source": [
    "Original class names:"
   ]
  },
  {
   "cell_type": "code",
   "execution_count": 9,
   "id": "578c182f",
   "metadata": {},
   "outputs": [
    {
     "data": {
      "text/plain": [
       "{'bike': 0, 'car': 1, 'motorcycle': 2, 'other': 3, 'truck': 4, 'van': 5}"
      ]
     },
     "execution_count": 9,
     "metadata": {},
     "output_type": "execute_result"
    }
   ],
   "source": [
    "trainset.class_indices"
   ]
  },
  {
   "cell_type": "code",
   "execution_count": 10,
   "id": "69271837",
   "metadata": {},
   "outputs": [
    {
     "data": {
      "text/plain": [
       "6"
      ]
     },
     "execution_count": 10,
     "metadata": {},
     "output_type": "execute_result"
    }
   ],
   "source": [
    "trainset.num_classes"
   ]
  },
  {
   "cell_type": "markdown",
   "id": "a13f100b",
   "metadata": {},
   "source": [
    "Extract the features in smaller batches and add them to the same list:"
   ]
  },
  {
   "cell_type": "code",
   "execution_count": 11,
   "id": "bf530194",
   "metadata": {},
   "outputs": [],
   "source": [
    "X_train = []\n",
    "X_valid = []\n",
    "X_test = []\n",
    "\n",
    "for i in range(len(trainset)):\n",
    "    batch_imgs, batch_labels = trainset.next()\n",
    "    X_train.extend(batch_imgs)\n",
    "\n",
    "for i in range(len(validset)):\n",
    "    batch_imgs, batch_labels = validset.next()\n",
    "    X_valid.extend(batch_imgs)\n",
    "\n",
    "for i in range(len(testset)):\n",
    "    batch_imgs, batch_labels = testset.next()\n",
    "    X_test.extend(batch_imgs)"
   ]
  },
  {
   "cell_type": "code",
   "execution_count": 12,
   "id": "31ffbe52",
   "metadata": {},
   "outputs": [
    {
     "data": {
      "text/plain": [
       "(280, 1280)"
      ]
     },
     "execution_count": 12,
     "metadata": {},
     "output_type": "execute_result"
    }
   ],
   "source": [
    "sess = tf.Session(graph=img_graph)\n",
    "sess.run(init_op)\n",
    "\n",
    "# Extract features\n",
    "features_train = sess.run(imgs_features, feed_dict={input_imgs: X_train})\n",
    "features_train.shape"
   ]
  },
  {
   "cell_type": "code",
   "execution_count": 13,
   "id": "09c44f64",
   "metadata": {},
   "outputs": [
    {
     "data": {
      "text/plain": [
       "(139, 1280)"
      ]
     },
     "execution_count": 13,
     "metadata": {},
     "output_type": "execute_result"
    }
   ],
   "source": [
    "sess = tf.Session(graph=img_graph)\n",
    "sess.run(init_op)\n",
    "\n",
    "# Extract features\n",
    "features_valid = sess.run(imgs_features, feed_dict={input_imgs: X_valid})\n",
    "features_valid.shape"
   ]
  },
  {
   "cell_type": "code",
   "execution_count": 14,
   "id": "41e7b036",
   "metadata": {},
   "outputs": [
    {
     "data": {
      "text/plain": [
       "(50, 1280)"
      ]
     },
     "execution_count": 14,
     "metadata": {},
     "output_type": "execute_result"
    }
   ],
   "source": [
    "sess = tf.Session(graph=img_graph)\n",
    "sess.run(init_op)\n",
    "\n",
    "# Extract features\n",
    "features_test = sess.run(imgs_features, feed_dict={input_imgs: X_test})\n",
    "features_test.shape"
   ]
  },
  {
   "cell_type": "markdown",
   "id": "d02b585d",
   "metadata": {},
   "source": [
    "The feature vector size is written in the MobileNet V2 module page. In this case, it's a vector with 1,280 values that we can now use as a high-level representation in our machine learning tasks ex. image classification, clustering, etc. We can see that our network returned positive values and that most of the features are very small."
   ]
  },
  {
   "cell_type": "code",
   "execution_count": 15,
   "id": "bfcfffaa",
   "metadata": {},
   "outputs": [
    {
     "data": {
      "image/png": "[encoded data removed]",
      "text/plain": [
       "<Figure size 1152x576 with 3 Axes>"
      ]
     },
     "metadata": {
      "needs_background": "light"
     },
     "output_type": "display_data"
    }
   ],
   "source": [
    "fig, axes = plt.subplots(nrows=1, ncols=3, figsize=(16, 8))\n",
    "\n",
    "axes[0].hist(features_train[0], bins=30)\n",
    "axes[0].set_title('Trainset: high-level feature distribution')\n",
    "\n",
    "axes[1].hist(features_valid[0], bins=30)\n",
    "axes[1].set_title('Validset: high-level feature distribution')\n",
    "\n",
    "axes[2].hist(features_test[0], bins=30)\n",
    "axes[2].set_title('Testset: high-level feature distribution')\n",
    "\n",
    "plt.show()"
   ]
  },
  {
   "cell_type": "markdown",
   "id": "5f02acf8",
   "metadata": {},
   "source": [
    "Extract the high-level features into ex. X_{train, valid, test} Numpy arrays variables and save into a npz file:"
   ]
  },
  {
   "cell_type": "code",
   "execution_count": 18,
   "id": "49e849ed",
   "metadata": {},
   "outputs": [],
   "source": [
    "import pickle\n",
    "import numpy as np"
   ]
  },
  {
   "cell_type": "code",
   "execution_count": 19,
   "id": "49e4c6ef",
   "metadata": {},
   "outputs": [],
   "source": [
    "# Save the features and labels into .npz files\n",
    "np.savez('train.npz', features=features_train, targets=trainset.classes)\n",
    "np.savez('valid.npz', features=features_valid, targets=validset.classes)\n",
    "np.savez('test.npz', features=features_test, targets=testset.classes)"
   ]
  },
  {
   "cell_type": "markdown",
   "id": "8f475226",
   "metadata": {},
   "source": [
    "Load the arrays into an x and a y variable inside the with statement because Python closes the data.npz file after the last line of the with statement and we cannot read anymore its content:"
   ]
  },
  {
   "cell_type": "code",
   "execution_count": 20,
   "id": "2a03db8d",
   "metadata": {},
   "outputs": [
    {
     "name": "stdout",
     "output_type": "stream",
     "text": [
      "['features', 'targets']\n",
      "x: [[0.60111076 1.2158889  0.         ... 0.3017757  0.         0.01815591]\n",
      " [0.22400282 0.436434   0.77965593 ... 0.06292479 0.         0.07810001]\n",
      " [0.91664886 1.6306     0.01359991 ... 0.4489011  0.15288512 0.        ]\n",
      " ...\n",
      " [0.95758915 0.31207407 0.44082472 ... 0.45021233 0.8905929  0.        ]\n",
      " [0.6478935  0.4861869  0.0075399  ... 0.         0.         0.52920437]\n",
      " [1.0656173  2.7841268  0.21541798 ... 0.01128208 0.         0.59357   ]]\n",
      "y: [0 0 0 0 0 0 0 0 0 0 0 0 0 0 0 0 0 0 0 0 0 0 0 0 0 0 0 0 0 0 0 0 0 0 0 0 0\n",
      " 0 0 0 0 0 0 0 0 0 0 0 0 0 0 0 0 0 0 0 0 0 0 0 0 0 0 0 0 0 1 1 1 1 1 1 1 1\n",
      " 1 1 1 1 1 1 1 1 1 1 1 1 1 1 1 1 1 1 1 1 1 1 1 1 1 1 1 1 1 1 1 1 1 1 1 1 1\n",
      " 1 1 1 1 1 1 1 1 1 1 1 1 1 1 1 1 1 1 1 2 2 2 2 2 2 2 2 2 2 2 2 2 2 2 2 2 2\n",
      " 2 2 2 2 2 2 2 2 2 2 2 2 2 2 2 2 2 2 2 2 2 2 2 2 2 2 2 2 2 2 2 2 2 3 3 3 3\n",
      " 3 3 3 3 3 3 3 3 3 3 3 3 3 3 3 3 3 3 3 3 3 3 3 3 3 3 3 3 4 4 4 4 4 4 4 4 4\n",
      " 4 4 4 4 4 4 4 4 4 4 4 4 4 4 4 4 4 4 4 4 4 4 4 4 4 4 4 4 4 4 4 4 4 5 5 5 5\n",
      " 5 5 5 5 5 5 5 5 5 5 5 5 5 5 5 5 5 5 5 5 5]\n"
     ]
    }
   ],
   "source": [
    "with np.load('train.npz', allow_pickle=False) as npz_file:\n",
    "    print(list(npz_file.keys()))\n",
    "    # Load the arrays\n",
    "    x = npz_file['features']\n",
    "    y = npz_file['targets']\n",
    "    \n",
    "print('x:', x)\n",
    "print('y:', y)"
   ]
  },
  {
   "cell_type": "code",
   "execution_count": 21,
   "id": "1120798f",
   "metadata": {},
   "outputs": [
    {
     "name": "stdout",
     "output_type": "stream",
     "text": [
      "['features', 'targets']\n",
      "x_valid: [[1.09401548e+00 9.27886213e-05 1.07716374e-01 ... 0.00000000e+00\n",
      "  4.30678539e-02 0.00000000e+00]\n",
      " [4.22967300e-02 5.20349801e-01 7.99242035e-02 ... 4.39764149e-02\n",
      "  0.00000000e+00 6.98618412e-01]\n",
      " [1.12324441e-02 7.67907441e-01 6.04033768e-01 ... 4.05907452e-01\n",
      "  0.00000000e+00 1.24343288e+00]\n",
      " ...\n",
      " [2.73414534e-02 0.00000000e+00 1.13507099e-02 ... 0.00000000e+00\n",
      "  1.49869227e+00 2.43480830e-03]\n",
      " [4.10406943e-03 7.48322951e-03 1.43061848e-02 ... 0.00000000e+00\n",
      "  1.37576861e-02 1.12666693e-02]\n",
      " [3.57184082e-01 0.00000000e+00 0.00000000e+00 ... 1.63174793e-01\n",
      "  1.47952592e+00 0.00000000e+00]]\n",
      "y_valid: [0 0 0 0 0 0 0 0 0 0 0 0 0 0 0 0 0 0 0 0 0 0 0 0 0 0 0 0 0 0 0 0 0 1 1 1 1\n",
      " 1 1 1 1 1 1 1 1 1 1 1 1 1 1 1 1 1 1 1 1 1 1 1 1 1 1 1 1 2 2 2 2 2 2 2 2 2\n",
      " 2 2 2 2 2 2 2 2 2 2 2 2 2 2 2 2 3 3 3 3 3 3 3 3 3 3 3 3 3 3 3 3 4 4 4 4 4\n",
      " 4 4 4 4 4 4 4 4 4 4 4 4 4 4 4 4 5 5 5 5 5 5 5 5 5 5 5 5]\n"
     ]
    }
   ],
   "source": [
    "with np.load('valid.npz', allow_pickle=False) as npz_file:\n",
    "    print(list(npz_file.keys()))\n",
    "    # Load the arrays\n",
    "    x_valid = npz_file['features']\n",
    "    y_valid = npz_file['targets']\n",
    "    \n",
    "print('x_valid:', x_valid)\n",
    "print('y_valid:', y_valid)"
   ]
  },
  {
   "cell_type": "code",
   "execution_count": 22,
   "id": "bc269850",
   "metadata": {},
   "outputs": [
    {
     "name": "stdout",
     "output_type": "stream",
     "text": [
      "['features', 'targets']\n",
      "x_test: [[0.29144996 0.22876674 0.07972695 ... 0.         0.         0.71062976]\n",
      " [0.31160155 0.03422425 0.         ... 0.         0.         1.6426007 ]\n",
      " [0.32524595 0.6716555  0.20074673 ... 0.21926497 0.         1.1482638 ]\n",
      " ...\n",
      " [0.04735842 0.10354836 0.         ... 0.06827842 1.6214066  0.1305886 ]\n",
      " [0.71848965 0.88224953 0.23294441 ... 0.0484273  0.07042809 0.2750796 ]\n",
      " [0.         0.         0.         ... 0.         0.2249395  0.06894732]]\n",
      "y_test: [0 0 0 0 0 0 0 0 0 0 0 0 1 1 1 1 1 1 1 1 1 1 1 2 2 2 2 2 2 2 2 2 3 3 3 3 3\n",
      " 3 4 4 4 4 4 4 4 5 5 5 5 5]\n"
     ]
    }
   ],
   "source": [
    "with np.load('test.npz', allow_pickle=False) as npz_file:\n",
    "    print(list(npz_file.keys()))\n",
    "    # Load the arrays\n",
    "    x_test = npz_file['features']\n",
    "    y_test = npz_file['targets']\n",
    "    \n",
    "print('x_test:', x_test)\n",
    "print('y_test:', y_test)"
   ]
  }
 ],
 "metadata": {
  "kernelspec": {
   "display_name": "Python 3",
   "language": "python",
   "name": "python3"
  },
  "language_info": {
   "codemirror_mode": {
    "name": "ipython",
    "version": 3
   },
   "file_extension": ".py",
   "mimetype": "text/x-python",
   "name": "python",
   "nbconvert_exporter": "python",
   "pygments_lexer": "ipython3",
   "version": "3.6.13"
  }
 },
 "nbformat": 4,
 "nbformat_minor": 5
}
