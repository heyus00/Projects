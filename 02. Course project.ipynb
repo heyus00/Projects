{
 "cells": [
  {
   "cell_type": "markdown",
   "id": "connected-detector",
   "metadata": {},
   "source": [
    "This document is referring to the second course project of the COS \"Applied Data Science: Machine Learning\"\n",
    "# Course Project Topic: Open Food Facts\n",
    "- Exploration of nutrition facts from foods around the world\n",
    "- Messy, incomplete, unformatted format from different sources (Open Food Facs dataset from Kaggle)\n",
    "- This is a data set of food products listing the ingredients and nutritional facts of more than 300,000 foods from over 150 countries in the world.\n",
    "- Goal: get this data in the best shape possible for analysis\n",
    "\n",
    "The data is meant to be free to the public to help users decode food labels, and make better food choices in general.\n",
    "\n",
    "The enumerations (A. - F.) are referring exactly to the list of tasks from EPFL."
   ]
  },
  {
   "cell_type": "code",
   "execution_count": 1,
   "id": "assigned-republican",
   "metadata": {},
   "outputs": [],
   "source": [
    "# Import required packages\n",
    "import numpy as np \n",
    "import pandas as pd \n",
    "import seaborn as sns\n",
    "import sqlite3\n",
    "import matplotlib.pyplot as plt\n",
    "%matplotlib inline"
   ]
  },
  {
   "cell_type": "markdown",
   "id": "reverse-imaging",
   "metadata": {},
   "source": [
    "## A. Data import and high level exploration"
   ]
  },
  {
   "cell_type": "code",
   "execution_count": 2,
   "id": "convertible-yacht",
   "metadata": {},
   "outputs": [
    {
     "name": "stderr",
     "output_type": "stream",
     "text": [
      "/Users/heyus/opt/anaconda3/lib/python3.7/site-packages/IPython/core/interactiveshell.py:3166: DtypeWarning: Columns (0,3,5,19,20,24,25,26,27,28,36,37,38,39,48) have mixed types.Specify dtype option on import or set low_memory=False.\n",
      "  interactivity=interactivity, compiler=compiler, result=result)\n"
     ]
    }
   ],
   "source": [
    "df = pd.read_csv('en.openfoodfacts.org.products.tsv', sep='\\t')"
   ]
  },
  {
   "cell_type": "markdown",
   "id": "western-photograph",
   "metadata": {},
   "source": [
    "**Exploratory data analysis**"
   ]
  },
  {
   "cell_type": "markdown",
   "id": "extensive-airline",
   "metadata": {},
   "source": [
    "- What is the proportion of missing values per column/row? \n",
    "- Should I keep, fill or remove these missing values? What would be the implications?\n",
    "- What are the different columns data types?"
   ]
  },
  {
   "cell_type": "code",
   "execution_count": 3,
   "id": "agreed-vegetable",
   "metadata": {},
   "outputs": [
    {
     "data": {
      "text/plain": [
       "(356027, 163)"
      ]
     },
     "execution_count": 3,
     "metadata": {},
     "output_type": "execute_result"
    }
   ],
   "source": [
    "df.shape"
   ]
  },
  {
   "cell_type": "code",
   "execution_count": 4,
   "id": "constitutional-matthew",
   "metadata": {},
   "outputs": [],
   "source": [
    "# list(df.columns) to get an overview of all columns included"
   ]
  },
  {
   "cell_type": "code",
   "execution_count": 5,
   "id": "japanese-taxation",
   "metadata": {},
   "outputs": [
    {
     "data": {
      "text/html": [
       "<div>\n",
       "<style scoped>\n",
       "    .dataframe tbody tr th:only-of-type {\n",
       "        vertical-align: middle;\n",
       "    }\n",
       "\n",
       "    .dataframe tbody tr th {\n",
       "        vertical-align: top;\n",
       "    }\n",
       "\n",
       "    .dataframe thead th {\n",
       "        text-align: right;\n",
       "    }\n",
       "</style>\n",
       "<table border=\"1\" class=\"dataframe\">\n",
       "  <thead>\n",
       "    <tr style=\"text-align: right;\">\n",
       "      <th></th>\n",
       "      <th>code</th>\n",
       "      <th>url</th>\n",
       "      <th>creator</th>\n",
       "      <th>created_t</th>\n",
       "      <th>created_datetime</th>\n",
       "      <th>last_modified_t</th>\n",
       "      <th>last_modified_datetime</th>\n",
       "      <th>product_name</th>\n",
       "      <th>generic_name</th>\n",
       "      <th>quantity</th>\n",
       "      <th>...</th>\n",
       "      <th>fruits-vegetables-nuts_100g</th>\n",
       "      <th>fruits-vegetables-nuts-estimate_100g</th>\n",
       "      <th>collagen-meat-protein-ratio_100g</th>\n",
       "      <th>cocoa_100g</th>\n",
       "      <th>chlorophyl_100g</th>\n",
       "      <th>carbon-footprint_100g</th>\n",
       "      <th>nutrition-score-fr_100g</th>\n",
       "      <th>nutrition-score-uk_100g</th>\n",
       "      <th>glycemic-index_100g</th>\n",
       "      <th>water-hardness_100g</th>\n",
       "    </tr>\n",
       "  </thead>\n",
       "  <tbody>\n",
       "    <tr>\n",
       "      <th>0</th>\n",
       "      <td>3087</td>\n",
       "      <td>http://world-en.openfoodfacts.org/product/0000...</td>\n",
       "      <td>openfoodfacts-contributors</td>\n",
       "      <td>1474103866</td>\n",
       "      <td>2016-09-17T09:17:46Z</td>\n",
       "      <td>1474103893</td>\n",
       "      <td>2016-09-17T09:18:13Z</td>\n",
       "      <td>Farine de blé noir</td>\n",
       "      <td>NaN</td>\n",
       "      <td>1kg</td>\n",
       "      <td>...</td>\n",
       "      <td>NaN</td>\n",
       "      <td>NaN</td>\n",
       "      <td>NaN</td>\n",
       "      <td>NaN</td>\n",
       "      <td>NaN</td>\n",
       "      <td>NaN</td>\n",
       "      <td>NaN</td>\n",
       "      <td>NaN</td>\n",
       "      <td>NaN</td>\n",
       "      <td>NaN</td>\n",
       "    </tr>\n",
       "    <tr>\n",
       "      <th>1</th>\n",
       "      <td>4530</td>\n",
       "      <td>http://world-en.openfoodfacts.org/product/0000...</td>\n",
       "      <td>usda-ndb-import</td>\n",
       "      <td>1489069957</td>\n",
       "      <td>2017-03-09T14:32:37Z</td>\n",
       "      <td>1489069957</td>\n",
       "      <td>2017-03-09T14:32:37Z</td>\n",
       "      <td>Banana Chips Sweetened (Whole)</td>\n",
       "      <td>NaN</td>\n",
       "      <td>NaN</td>\n",
       "      <td>...</td>\n",
       "      <td>NaN</td>\n",
       "      <td>NaN</td>\n",
       "      <td>NaN</td>\n",
       "      <td>NaN</td>\n",
       "      <td>NaN</td>\n",
       "      <td>NaN</td>\n",
       "      <td>14.0</td>\n",
       "      <td>14.0</td>\n",
       "      <td>NaN</td>\n",
       "      <td>NaN</td>\n",
       "    </tr>\n",
       "  </tbody>\n",
       "</table>\n",
       "<p>2 rows × 163 columns</p>\n",
       "</div>"
      ],
      "text/plain": [
       "   code                                                url  \\\n",
       "0  3087  http://world-en.openfoodfacts.org/product/0000...   \n",
       "1  4530  http://world-en.openfoodfacts.org/product/0000...   \n",
       "\n",
       "                      creator   created_t      created_datetime  \\\n",
       "0  openfoodfacts-contributors  1474103866  2016-09-17T09:17:46Z   \n",
       "1             usda-ndb-import  1489069957  2017-03-09T14:32:37Z   \n",
       "\n",
       "  last_modified_t last_modified_datetime                    product_name  \\\n",
       "0      1474103893   2016-09-17T09:18:13Z              Farine de blé noir   \n",
       "1      1489069957   2017-03-09T14:32:37Z  Banana Chips Sweetened (Whole)   \n",
       "\n",
       "  generic_name quantity  ... fruits-vegetables-nuts_100g  \\\n",
       "0          NaN      1kg  ...                         NaN   \n",
       "1          NaN      NaN  ...                         NaN   \n",
       "\n",
       "  fruits-vegetables-nuts-estimate_100g collagen-meat-protein-ratio_100g  \\\n",
       "0                                  NaN                              NaN   \n",
       "1                                  NaN                              NaN   \n",
       "\n",
       "  cocoa_100g chlorophyl_100g carbon-footprint_100g nutrition-score-fr_100g  \\\n",
       "0        NaN             NaN                   NaN                     NaN   \n",
       "1        NaN             NaN                   NaN                    14.0   \n",
       "\n",
       "  nutrition-score-uk_100g glycemic-index_100g water-hardness_100g  \n",
       "0                     NaN                 NaN                 NaN  \n",
       "1                    14.0                 NaN                 NaN  \n",
       "\n",
       "[2 rows x 163 columns]"
      ]
     },
     "execution_count": 5,
     "metadata": {},
     "output_type": "execute_result"
    }
   ],
   "source": [
    "df.head(2)"
   ]
  },
  {
   "cell_type": "markdown",
   "id": "little-imagination",
   "metadata": {},
   "source": [
    "At first sight there seems to be a lot of missing values in the data and some columns might not be required for my data analysis (e.g. 'url' does not provide value-added information). First I am going to replace all values representing a Zero value (e.g. 0.0000, 0, 0.00) with NaN."
   ]
  },
  {
   "cell_type": "code",
   "execution_count": 6,
   "id": "finite-climb",
   "metadata": {},
   "outputs": [],
   "source": [
    "df.replace([0,0.0,0.00,0.000,0.0000,0.00000,0.000000,0.0000000], np.nan, inplace=True)"
   ]
  },
  {
   "cell_type": "code",
   "execution_count": 7,
   "id": "collected-headquarters",
   "metadata": {},
   "outputs": [
    {
     "data": {
      "text/plain": [
       "{float64: ['no_nutriments', 'additives_n', 'ingredients_from_palm_oil_n', 'ingredients_from_palm_oil', 'ingredients_that_may_be_from_palm_oil_n', 'ingredients_that_may_be_from_palm_oil', 'nutrition_grade_uk', 'energy_100g', 'energy-from-fat_100g', 'fat_100g', 'saturated-fat_100g', '-butyric-acid_100g', '-caproic-acid_100g', '-caprylic-acid_100g', '-capric-acid_100g', '-lauric-acid_100g', '-myristic-acid_100g', '-palmitic-acid_100g', '-stearic-acid_100g', '-arachidic-acid_100g', '-behenic-acid_100g', '-lignoceric-acid_100g', '-cerotic-acid_100g', '-montanic-acid_100g', '-melissic-acid_100g', 'monounsaturated-fat_100g', 'polyunsaturated-fat_100g', 'omega-3-fat_100g', '-alpha-linolenic-acid_100g', '-eicosapentaenoic-acid_100g', '-docosahexaenoic-acid_100g', 'omega-6-fat_100g', '-linoleic-acid_100g', '-arachidonic-acid_100g', '-gamma-linolenic-acid_100g', '-dihomo-gamma-linolenic-acid_100g', 'omega-9-fat_100g', '-oleic-acid_100g', '-elaidic-acid_100g', '-gondoic-acid_100g', '-mead-acid_100g', '-erucic-acid_100g', '-nervonic-acid_100g', 'trans-fat_100g', 'cholesterol_100g', 'carbohydrates_100g', 'sugars_100g', '-sucrose_100g', '-glucose_100g', '-fructose_100g', '-lactose_100g', '-maltose_100g', '-maltodextrins_100g', 'starch_100g', 'polyols_100g', 'fiber_100g', 'proteins_100g', 'casein_100g', 'serum-proteins_100g', 'nucleotides_100g', 'salt_100g', 'sodium_100g', 'alcohol_100g', 'vitamin-a_100g', 'beta-carotene_100g', 'vitamin-d_100g', 'vitamin-e_100g', 'vitamin-k_100g', 'vitamin-c_100g', 'vitamin-b1_100g', 'vitamin-b2_100g', 'vitamin-pp_100g', 'vitamin-b6_100g', 'vitamin-b9_100g', 'folates_100g', 'vitamin-b12_100g', 'biotin_100g', 'pantothenic-acid_100g', 'silica_100g', 'bicarbonate_100g', 'potassium_100g', 'chloride_100g', 'calcium_100g', 'phosphorus_100g', 'iron_100g', 'magnesium_100g', 'zinc_100g', 'copper_100g', 'manganese_100g', 'fluoride_100g', 'selenium_100g', 'chromium_100g', 'molybdenum_100g', 'iodine_100g', 'caffeine_100g', 'taurine_100g', 'ph_100g', 'fruits-vegetables-nuts_100g', 'fruits-vegetables-nuts-estimate_100g', 'collagen-meat-protein-ratio_100g', ...], object: ['code', 'url', 'creator', 'created_t', 'created_datetime', 'last_modified_t', 'last_modified_datetime', 'product_name', 'generic_name', 'quantity', 'packaging', 'packaging_tags', 'brands', 'brands_tags', 'categories', 'categories_tags', 'categories_en', 'origins', 'origins_tags', 'manufacturing_places', 'manufacturing_places_tags', 'labels', 'labels_tags', 'labels_en', 'emb_codes', 'emb_codes_tags', 'first_packaging_code_geo', 'cities', 'cities_tags', 'purchase_places', 'stores', 'countries', 'countries_tags', 'countries_en', 'ingredients_text', 'allergens', 'allergens_en', 'traces', 'traces_tags', 'traces_en', 'serving_size', 'additives', 'additives_tags', 'additives_en', 'ingredients_from_palm_oil_tags', 'ingredients_that_may_be_from_palm_oil_tags', 'nutrition_grade_fr', 'pnns_groups_1', 'pnns_groups_2', 'states', 'states_tags', 'states_en', 'main_category', 'main_category_en', 'image_url', 'image_small_url']}"
      ]
     },
     "execution_count": 7,
     "metadata": {},
     "output_type": "execute_result"
    }
   ],
   "source": [
    "df.columns.to_series().groupby(df.dtypes).groups"
   ]
  },
  {
   "cell_type": "markdown",
   "id": "dressed-contact",
   "metadata": {},
   "source": [
    "The data types are float64 and object. Be aware that the data type for instance for 'code' is object instead of int or float"
   ]
  },
  {
   "cell_type": "markdown",
   "id": "short-donna",
   "metadata": {},
   "source": [
    "Proportion of missing values per column:"
   ]
  },
  {
   "cell_type": "code",
   "execution_count": 8,
   "id": "romance-dynamics",
   "metadata": {},
   "outputs": [],
   "source": [
    "#for column in df.columns:\n",
    "#    prop_null = df.isnull().sum()[column]/df.shape[0]\n",
    "#    print(column, round(prop_null,2))"
   ]
  },
  {
   "cell_type": "markdown",
   "id": "durable-flesh",
   "metadata": {},
   "source": [
    "Since there is a significant amount of missing values I will select all columns with a proportion of missing values more than 66% for a better overview:"
   ]
  },
  {
   "cell_type": "code",
   "execution_count": 9,
   "id": "stopped-machine",
   "metadata": {},
   "outputs": [],
   "source": [
    "#for column in df.columns:\n",
    "#    if df.isnull().sum()[column]/df.shape[0] > 0.66:\n",
    "#        print(column)"
   ]
  },
  {
   "cell_type": "markdown",
   "id": "rental-scenario",
   "metadata": {},
   "source": [
    "**Findings:** Columns missing more than 2/3 of data can be removed due to lack of adding-value."
   ]
  },
  {
   "cell_type": "markdown",
   "id": "foreign-november",
   "metadata": {},
   "source": [
    "Drop columns if all values are NA:"
   ]
  },
  {
   "cell_type": "code",
   "execution_count": 10,
   "id": "naked-action",
   "metadata": {},
   "outputs": [],
   "source": [
    "df_short = df.dropna(axis=1, how='all')"
   ]
  },
  {
   "cell_type": "code",
   "execution_count": 11,
   "id": "attractive-circus",
   "metadata": {},
   "outputs": [
    {
     "data": {
      "text/plain": [
       "(356027, 147)"
      ]
     },
     "execution_count": 11,
     "metadata": {},
     "output_type": "execute_result"
    }
   ],
   "source": [
    "df_short.shape"
   ]
  },
  {
   "cell_type": "markdown",
   "id": "useful-accountability",
   "metadata": {},
   "source": [
    "DataFrame has been reduced to an overseeable amount of columns but still has a lot of missing values per column:"
   ]
  },
  {
   "cell_type": "code",
   "execution_count": 12,
   "id": "hydraulic-radical",
   "metadata": {},
   "outputs": [
    {
     "data": {
      "text/plain": [
       "code                                    26\n",
       "url                                     26\n",
       "creator                                  3\n",
       "created_t                                4\n",
       "created_datetime                        10\n",
       "                                     ...  \n",
       "collagen-meat-protein-ratio_100g    355845\n",
       "cocoa_100g                          354644\n",
       "carbon-footprint_100g               355775\n",
       "nutrition-score-fr_100g             115853\n",
       "nutrition-score-uk_100g             117267\n",
       "Length: 147, dtype: int64"
      ]
     },
     "execution_count": 12,
     "metadata": {},
     "output_type": "execute_result"
    }
   ],
   "source": [
    "df_short.isna().sum()"
   ]
  },
  {
   "cell_type": "code",
   "execution_count": 13,
   "id": "spectacular-workplace",
   "metadata": {},
   "outputs": [
    {
     "name": "stderr",
     "output_type": "stream",
     "text": [
      "/Users/heyus/opt/anaconda3/lib/python3.7/site-packages/ipykernel_launcher.py:1: SettingWithCopyWarning: \n",
      "A value is trying to be set on a copy of a slice from a DataFrame\n",
      "\n",
      "See the caveats in the documentation: https://pandas.pydata.org/pandas-docs/stable/user_guide/indexing.html#returning-a-view-versus-a-copy\n",
      "  \"\"\"Entry point for launching an IPython kernel.\n"
     ]
    }
   ],
   "source": [
    "df_short.dropna(axis=1, thresh=(356027-((0.66)*356027)), inplace=True)"
   ]
  },
  {
   "cell_type": "markdown",
   "id": "civil-winner",
   "metadata": {},
   "source": [
    "All columns with more than 2/3 null values have been dropped since they are negatively affecting the accuracy and reliablity of my analysis results"
   ]
  },
  {
   "cell_type": "code",
   "execution_count": 14,
   "id": "affected-visitor",
   "metadata": {},
   "outputs": [
    {
     "data": {
      "text/plain": [
       "(356027, 36)"
      ]
     },
     "execution_count": 14,
     "metadata": {},
     "output_type": "execute_result"
    }
   ],
   "source": [
    "df_short.shape"
   ]
  },
  {
   "cell_type": "markdown",
   "id": "supreme-sunrise",
   "metadata": {},
   "source": [
    "Proportion of missing values per row (added as a new row to the dataframe):"
   ]
  },
  {
   "cell_type": "code",
   "execution_count": 15,
   "id": "intensive-procedure",
   "metadata": {},
   "outputs": [
    {
     "name": "stderr",
     "output_type": "stream",
     "text": [
      "/Users/heyus/opt/anaconda3/lib/python3.7/site-packages/ipykernel_launcher.py:1: SettingWithCopyWarning: \n",
      "A value is trying to be set on a copy of a slice from a DataFrame.\n",
      "Try using .loc[row_indexer,col_indexer] = value instead\n",
      "\n",
      "See the caveats in the documentation: https://pandas.pydata.org/pandas-docs/stable/user_guide/indexing.html#returning-a-view-versus-a-copy\n",
      "  \"\"\"Entry point for launching an IPython kernel.\n"
     ]
    }
   ],
   "source": [
    "df_short['prop_null_row'] = round(df_short.isnull().sum(axis=1)/df_short.shape[1],2)"
   ]
  },
  {
   "cell_type": "markdown",
   "id": "dirty-underwear",
   "metadata": {},
   "source": [
    "Select all rows with a proportion of missing values more than 60% for a better overview:"
   ]
  },
  {
   "cell_type": "code",
   "execution_count": 16,
   "id": "historic-library",
   "metadata": {},
   "outputs": [
    {
     "data": {
      "text/plain": [
       "129"
      ]
     },
     "execution_count": 16,
     "metadata": {},
     "output_type": "execute_result"
    }
   ],
   "source": [
    "df_short[df_short['prop_null_row']>0.66].shape[0]"
   ]
  },
  {
   "cell_type": "markdown",
   "id": "received-reverse",
   "metadata": {},
   "source": [
    "Consistently I am supposed to remove of rows missing more than 2/3 of data set. However the number of rows is relatively low which will not have a significant effect on the completeness of the data set. "
   ]
  },
  {
   "cell_type": "code",
   "execution_count": 17,
   "id": "seasonal-summer",
   "metadata": {},
   "outputs": [
    {
     "name": "stderr",
     "output_type": "stream",
     "text": [
      "/Users/heyus/opt/anaconda3/lib/python3.7/site-packages/pandas/core/frame.py:4315: SettingWithCopyWarning: \n",
      "A value is trying to be set on a copy of a slice from a DataFrame\n",
      "\n",
      "See the caveats in the documentation: https://pandas.pydata.org/pandas-docs/stable/user_guide/indexing.html#returning-a-view-versus-a-copy\n",
      "  errors=errors,\n"
     ]
    }
   ],
   "source": [
    "df_short.drop(columns='prop_null_row', inplace=True)"
   ]
  },
  {
   "cell_type": "code",
   "execution_count": 18,
   "id": "parental-dancing",
   "metadata": {},
   "outputs": [
    {
     "data": {
      "text/plain": [
       "code                           26\n",
       "url                            26\n",
       "creator                         3\n",
       "created_t                       4\n",
       "created_datetime               10\n",
       "last_modified_t                 0\n",
       "last_modified_datetime          0\n",
       "product_name                17512\n",
       "brands                      29050\n",
       "brands_tags                 29070\n",
       "countries                     275\n",
       "countries_tags                275\n",
       "countries_en                  275\n",
       "ingredients_text            72134\n",
       "serving_size               139406\n",
       "additives_n                185838\n",
       "additives                   72202\n",
       "additives_tags             185838\n",
       "additives_en               185838\n",
       "nutrition_grade_fr         101171\n",
       "pnns_groups_1              227021\n",
       "pnns_groups_2              223338\n",
       "states                         52\n",
       "states_tags                    52\n",
       "states_en                      52\n",
       "energy_100g                 70076\n",
       "fat_100g                   144815\n",
       "saturated-fat_100g         166241\n",
       "carbohydrates_100g         100346\n",
       "sugars_100g                116844\n",
       "fiber_100g                 209217\n",
       "proteins_100g              118545\n",
       "salt_100g                  105039\n",
       "sodium_100g                105043\n",
       "nutrition-score-fr_100g    115853\n",
       "nutrition-score-uk_100g    117267\n",
       "dtype: int64"
      ]
     },
     "execution_count": 18,
     "metadata": {},
     "output_type": "execute_result"
    }
   ],
   "source": [
    "df_short.isna().sum()"
   ]
  },
  {
   "cell_type": "markdown",
   "id": "ordered-single",
   "metadata": {},
   "source": [
    "-------"
   ]
  },
  {
   "cell_type": "markdown",
   "id": "prerequisite-nebraska",
   "metadata": {},
   "source": [
    "Which columns can be deleted due to no value-adding information for the tasks (e.g. 'weblink')?"
   ]
  },
  {
   "cell_type": "code",
   "execution_count": 19,
   "id": "fabulous-booking",
   "metadata": {
    "collapsed": true,
    "jupyter": {
     "outputs_hidden": true
    }
   },
   "outputs": [
    {
     "data": {
      "text/plain": [
       "<bound method DataFrame.info of                  code                                                url  \\\n",
       "0                3087  http://world-en.openfoodfacts.org/product/0000...   \n",
       "1                4530  http://world-en.openfoodfacts.org/product/0000...   \n",
       "2                4559  http://world-en.openfoodfacts.org/product/0000...   \n",
       "3               16087  http://world-en.openfoodfacts.org/product/0000...   \n",
       "4               16094  http://world-en.openfoodfacts.org/product/0000...   \n",
       "...               ...                                                ...   \n",
       "356022       99567453  http://world-en.openfoodfacts.org/product/9956...   \n",
       "356023  9970229501521  http://world-en.openfoodfacts.org/product/9970...   \n",
       "356024  9977471758307  http://world-en.openfoodfacts.org/product/9977...   \n",
       "356025  9980282863788  http://world-en.openfoodfacts.org/product/9980...   \n",
       "356026   999990026839  http://world-en.openfoodfacts.org/product/9999...   \n",
       "\n",
       "                           creator   created_t      created_datetime  \\\n",
       "0       openfoodfacts-contributors  1474103866  2016-09-17T09:17:46Z   \n",
       "1                  usda-ndb-import  1489069957  2017-03-09T14:32:37Z   \n",
       "2                  usda-ndb-import  1489069957  2017-03-09T14:32:37Z   \n",
       "3                  usda-ndb-import  1489055731  2017-03-09T10:35:31Z   \n",
       "4                  usda-ndb-import  1489055653  2017-03-09T10:34:13Z   \n",
       "...                            ...         ...                   ...   \n",
       "356022             usda-ndb-import  1489059076  2017-03-09T11:31:16Z   \n",
       "356023                      tomato  1422099377  2015-01-24T11:36:17Z   \n",
       "356024  openfoodfacts-contributors  1497018549  2017-06-09T14:29:09Z   \n",
       "356025  openfoodfacts-contributors  1492340089  2017-04-16T10:54:49Z   \n",
       "356026             usda-ndb-import  1489072709  2017-03-09T15:18:29Z   \n",
       "\n",
       "       last_modified_t last_modified_datetime  \\\n",
       "0           1474103893   2016-09-17T09:18:13Z   \n",
       "1           1489069957   2017-03-09T14:32:37Z   \n",
       "2           1489069957   2017-03-09T14:32:37Z   \n",
       "3           1489055731   2017-03-09T10:35:31Z   \n",
       "4           1489055653   2017-03-09T10:34:13Z   \n",
       "...                ...                    ...   \n",
       "356022      1491244499   2017-04-03T18:34:59Z   \n",
       "356023      1491244499   2017-04-03T18:34:59Z   \n",
       "356024      1500730305   2017-07-22T13:31:45Z   \n",
       "356025      1492340089   2017-04-16T10:54:49Z   \n",
       "356026      1491244499   2017-04-03T18:34:59Z   \n",
       "\n",
       "                                             product_name           brands  \\\n",
       "0                                      Farine de blé noir  Ferme t'y R'nao   \n",
       "1                          Banana Chips Sweetened (Whole)              NaN   \n",
       "2                                                 Peanuts   Torn & Glasser   \n",
       "3                                  Organic Salted Nut Mix        Grizzlies   \n",
       "4                                         Organic Polenta   Bob's Red Mill   \n",
       "...                                                   ...              ...   \n",
       "356022  Mint Melange Tea A Blend Of Peppermint, Lemon ...     Trader Joe's   \n",
       "356023                                            乐吧泡菜味薯片               乐吧   \n",
       "356024                                      Biscottes bio     Leader Price   \n",
       "356025                           Tomates aux Vermicelles             Knorr   \n",
       "356026                    Sugar Free Drink Mix, Peach Tea    Market Pantry   \n",
       "\n",
       "            brands_tags  ... fat_100g saturated-fat_100g carbohydrates_100g  \\\n",
       "0       ferme-t-y-r-nao  ...      NaN                NaN                NaN   \n",
       "1                   NaN  ...    28.57              28.57              64.29   \n",
       "2          torn-glasser  ...    17.86                NaN              60.71   \n",
       "3             grizzlies  ...    57.14               5.36              17.86   \n",
       "4        bob-s-red-mill  ...     1.43                NaN              77.14   \n",
       "...                 ...  ...      ...                ...                ...   \n",
       "356022     trader-joe-s  ...      NaN                NaN                NaN   \n",
       "356023               乐吧  ...      NaN                NaN                NaN   \n",
       "356024     leader-price  ...      NaN                NaN                NaN   \n",
       "356025            knorr  ...      NaN                NaN                NaN   \n",
       "356026    market-pantry  ...      NaN                NaN                NaN   \n",
       "\n",
       "       sugars_100g fiber_100g  proteins_100g salt_100g sodium_100g  \\\n",
       "0              NaN        NaN            NaN       NaN         NaN   \n",
       "1            14.29        3.6           3.57       NaN         NaN   \n",
       "2            17.86        7.1          17.86   0.63500       0.250   \n",
       "3             3.57        7.1          17.86   1.22428       0.482   \n",
       "4              NaN        5.7           8.57       NaN         NaN   \n",
       "...            ...        ...            ...       ...         ...   \n",
       "356022         NaN        NaN            NaN       NaN         NaN   \n",
       "356023         NaN        NaN            NaN       NaN         NaN   \n",
       "356024         NaN        NaN            NaN       NaN         NaN   \n",
       "356025         NaN        NaN            NaN       NaN         NaN   \n",
       "356026         NaN        NaN            NaN       NaN         NaN   \n",
       "\n",
       "       nutrition-score-fr_100g nutrition-score-uk_100g  \n",
       "0                          NaN                     NaN  \n",
       "1                         14.0                    14.0  \n",
       "2                          NaN                     NaN  \n",
       "3                         12.0                    12.0  \n",
       "4                          NaN                     NaN  \n",
       "...                        ...                     ...  \n",
       "356022                     NaN                     NaN  \n",
       "356023                     NaN                     NaN  \n",
       "356024                     NaN                     NaN  \n",
       "356025                     NaN                     NaN  \n",
       "356026                     NaN                     NaN  \n",
       "\n",
       "[356027 rows x 36 columns]>"
      ]
     },
     "execution_count": 19,
     "metadata": {},
     "output_type": "execute_result"
    }
   ],
   "source": [
    "df_short.info"
   ]
  },
  {
   "cell_type": "markdown",
   "id": "compliant-archives",
   "metadata": {},
   "source": [
    "After carefully reviewing the values per column I decided to drop 'url','creator','created_t','last_modified_t'since they do not contribute adding-value to my analysis. "
   ]
  },
  {
   "cell_type": "code",
   "execution_count": 20,
   "id": "attempted-convergence",
   "metadata": {},
   "outputs": [
    {
     "name": "stderr",
     "output_type": "stream",
     "text": [
      "/Users/heyus/opt/anaconda3/lib/python3.7/site-packages/pandas/core/frame.py:4315: SettingWithCopyWarning: \n",
      "A value is trying to be set on a copy of a slice from a DataFrame\n",
      "\n",
      "See the caveats in the documentation: https://pandas.pydata.org/pandas-docs/stable/user_guide/indexing.html#returning-a-view-versus-a-copy\n",
      "  errors=errors,\n"
     ]
    }
   ],
   "source": [
    "df_short.drop(columns=['url','creator','created_t','last_modified_t','last_modified_datetime','created_datetime'], inplace=True)"
   ]
  },
  {
   "cell_type": "code",
   "execution_count": 21,
   "id": "accessory-background",
   "metadata": {},
   "outputs": [
    {
     "data": {
      "text/plain": [
       "code                       355839\n",
       "product_name               249245\n",
       "brands                      66961\n",
       "brands_tags                 56804\n",
       "countries                    1637\n",
       "countries_tags                784\n",
       "countries_en                  779\n",
       "ingredients_text           238920\n",
       "serving_size                25928\n",
       "additives_n                    29\n",
       "additives                  228280\n",
       "additives_tags              39941\n",
       "additives_en                39941\n",
       "nutrition_grade_fr              5\n",
       "pnns_groups_1                  14\n",
       "pnns_groups_2                  42\n",
       "states                       1068\n",
       "states_tags                  1068\n",
       "states_en                    1068\n",
       "energy_100g                  4092\n",
       "fat_100g                     3528\n",
       "saturated-fat_100g           2306\n",
       "carbohydrates_100g           5614\n",
       "sugars_100g                  4193\n",
       "fiber_100g                   1149\n",
       "proteins_100g                2632\n",
       "salt_100g                    5955\n",
       "sodium_100g                  5635\n",
       "nutrition-score-fr_100g        54\n",
       "nutrition-score-uk_100g        54\n",
       "dtype: int64"
      ]
     },
     "execution_count": 21,
     "metadata": {},
     "output_type": "execute_result"
    }
   ],
   "source": [
    "df_short.nunique()"
   ]
  },
  {
   "cell_type": "code",
   "execution_count": 22,
   "id": "german-criterion",
   "metadata": {},
   "outputs": [
    {
     "data": {
      "text/html": [
       "<div>\n",
       "<style scoped>\n",
       "    .dataframe tbody tr th:only-of-type {\n",
       "        vertical-align: middle;\n",
       "    }\n",
       "\n",
       "    .dataframe tbody tr th {\n",
       "        vertical-align: top;\n",
       "    }\n",
       "\n",
       "    .dataframe thead th {\n",
       "        text-align: right;\n",
       "    }\n",
       "</style>\n",
       "<table border=\"1\" class=\"dataframe\">\n",
       "  <thead>\n",
       "    <tr style=\"text-align: right;\">\n",
       "      <th></th>\n",
       "      <th>code</th>\n",
       "      <th>product_name</th>\n",
       "      <th>brands</th>\n",
       "      <th>brands_tags</th>\n",
       "      <th>countries</th>\n",
       "      <th>countries_tags</th>\n",
       "      <th>countries_en</th>\n",
       "      <th>ingredients_text</th>\n",
       "      <th>serving_size</th>\n",
       "      <th>additives_n</th>\n",
       "      <th>...</th>\n",
       "      <th>fat_100g</th>\n",
       "      <th>saturated-fat_100g</th>\n",
       "      <th>carbohydrates_100g</th>\n",
       "      <th>sugars_100g</th>\n",
       "      <th>fiber_100g</th>\n",
       "      <th>proteins_100g</th>\n",
       "      <th>salt_100g</th>\n",
       "      <th>sodium_100g</th>\n",
       "      <th>nutrition-score-fr_100g</th>\n",
       "      <th>nutrition-score-uk_100g</th>\n",
       "    </tr>\n",
       "  </thead>\n",
       "  <tbody>\n",
       "    <tr>\n",
       "      <th>0</th>\n",
       "      <td>3087</td>\n",
       "      <td>Farine de blé noir</td>\n",
       "      <td>Ferme t'y R'nao</td>\n",
       "      <td>ferme-t-y-r-nao</td>\n",
       "      <td>en:FR</td>\n",
       "      <td>en:france</td>\n",
       "      <td>France</td>\n",
       "      <td>NaN</td>\n",
       "      <td>NaN</td>\n",
       "      <td>NaN</td>\n",
       "      <td>...</td>\n",
       "      <td>NaN</td>\n",
       "      <td>NaN</td>\n",
       "      <td>NaN</td>\n",
       "      <td>NaN</td>\n",
       "      <td>NaN</td>\n",
       "      <td>NaN</td>\n",
       "      <td>NaN</td>\n",
       "      <td>NaN</td>\n",
       "      <td>NaN</td>\n",
       "      <td>NaN</td>\n",
       "    </tr>\n",
       "  </tbody>\n",
       "</table>\n",
       "<p>1 rows × 30 columns</p>\n",
       "</div>"
      ],
      "text/plain": [
       "   code        product_name           brands      brands_tags countries  \\\n",
       "0  3087  Farine de blé noir  Ferme t'y R'nao  ferme-t-y-r-nao     en:FR   \n",
       "\n",
       "  countries_tags countries_en ingredients_text serving_size  additives_n  ...  \\\n",
       "0      en:france       France              NaN          NaN          NaN  ...   \n",
       "\n",
       "  fat_100g saturated-fat_100g carbohydrates_100g sugars_100g fiber_100g  \\\n",
       "0      NaN                NaN                NaN         NaN        NaN   \n",
       "\n",
       "  proteins_100g salt_100g sodium_100g nutrition-score-fr_100g  \\\n",
       "0           NaN       NaN         NaN                     NaN   \n",
       "\n",
       "   nutrition-score-uk_100g  \n",
       "0                      NaN  \n",
       "\n",
       "[1 rows x 30 columns]"
      ]
     },
     "execution_count": 22,
     "metadata": {},
     "output_type": "execute_result"
    }
   ],
   "source": [
    "df_short.head(1)"
   ]
  },
  {
   "cell_type": "markdown",
   "id": "better-pathology",
   "metadata": {},
   "source": [
    "All irrelevant columns or duplicated rows have been removed. \n"
   ]
  },
  {
   "cell_type": "markdown",
   "id": "later-punishment",
   "metadata": {},
   "source": [
    "For all remaining null values I will clean them as much as necessary to get reasonable results once I know which columns I will use for my analysis"
   ]
  },
  {
   "cell_type": "markdown",
   "id": "green-execution",
   "metadata": {},
   "source": [
    "-------"
   ]
  },
  {
   "cell_type": "markdown",
   "id": "informational-hotel",
   "metadata": {},
   "source": [
    "Which column could serve as an index (i.e. have unique values)? "
   ]
  },
  {
   "cell_type": "code",
   "execution_count": 23,
   "id": "obvious-fashion",
   "metadata": {},
   "outputs": [
    {
     "data": {
      "text/plain": [
       "355839"
      ]
     },
     "execution_count": 23,
     "metadata": {},
     "output_type": "execute_result"
    }
   ],
   "source": [
    "df_short['code'].nunique()"
   ]
  },
  {
   "cell_type": "code",
   "execution_count": 24,
   "id": "conceptual-convertible",
   "metadata": {},
   "outputs": [
    {
     "data": {
      "text/plain": [
       "False    356001\n",
       "True         26\n",
       "Name: code, dtype: int64"
      ]
     },
     "execution_count": 24,
     "metadata": {},
     "output_type": "execute_result"
    }
   ],
   "source": [
    "df_short['code'].isnull().value_counts()"
   ]
  },
  {
   "cell_type": "code",
   "execution_count": 25,
   "id": "informational-christianity",
   "metadata": {},
   "outputs": [
    {
     "data": {
      "text/plain": [
       "193908    NaN\n",
       "193944    NaN\n",
       "193950    NaN\n",
       "193960    NaN\n",
       "193993    NaN\n",
       "194001    NaN\n",
       "194003    NaN\n",
       "194009    NaN\n",
       "194055    NaN\n",
       "194084    NaN\n",
       "194086    NaN\n",
       "194090    NaN\n",
       "194092    NaN\n",
       "194102    NaN\n",
       "194104    NaN\n",
       "194111    NaN\n",
       "194114    NaN\n",
       "194190    NaN\n",
       "194210    NaN\n",
       "194212    NaN\n",
       "194227    NaN\n",
       "194255    NaN\n",
       "194257    NaN\n",
       "194288    NaN\n",
       "194311    NaN\n",
       "194323    NaN\n",
       "Name: code, dtype: object"
      ]
     },
     "execution_count": 25,
     "metadata": {},
     "output_type": "execute_result"
    }
   ],
   "source": [
    "df_short.loc[df_short['code'].isnull(), 'code'] # all null values"
   ]
  },
  {
   "cell_type": "code",
   "execution_count": 26,
   "id": "mexican-athens",
   "metadata": {},
   "outputs": [
    {
     "data": {
      "text/plain": [
       "code\n",
       "70650800367    3\n",
       "16571910303    2\n",
       "20004552       2\n",
       "42187216195    2\n",
       "74880030037    2\n",
       "              ..\n",
       "70650800312    2\n",
       "75925302317    2\n",
       "75925302300    2\n",
       "13562000777    2\n",
       "13562000784    2\n",
       "Length: 161, dtype: int64"
      ]
     },
     "execution_count": 26,
     "metadata": {},
     "output_type": "execute_result"
    }
   ],
   "source": [
    "df_short.groupby('code').size().sort_values(ascending=False)[0:(356001-355839-1)] # all dupliacted values"
   ]
  },
  {
   "cell_type": "markdown",
   "id": "running-girlfriend",
   "metadata": {},
   "source": [
    "Unique rows in column 'code' (355'839) < All rows in column 'code' (356'027) => there are duplicates in this column\n",
    "\n",
    "Total of 26 NaN values in the column 'code'. \n",
    "\n",
    "**Finding:** After cleaning up duplicates and NaN values I can use this column as an index. For my analyses I do not think that this index will be needed hence I will keep the data set index unchanged for the time being."
   ]
  },
  {
   "cell_type": "markdown",
   "id": "smoking-arcade",
   "metadata": {},
   "source": [
    "-------"
   ]
  },
  {
   "cell_type": "markdown",
   "id": "knowing-reach",
   "metadata": {},
   "source": [
    "What are the mean/min/max/median values of numerical columns? "
   ]
  },
  {
   "cell_type": "code",
   "execution_count": 27,
   "id": "conventional-feeling",
   "metadata": {},
   "outputs": [],
   "source": [
    "df_num = df.select_dtypes(np.number) # be aware that all columns set as 'object' per default (e.g. 'code') have been dropped although they actually include numbers as values"
   ]
  },
  {
   "cell_type": "code",
   "execution_count": 28,
   "id": "determined-kinase",
   "metadata": {},
   "outputs": [
    {
     "data": {
      "text/html": [
       "<div>\n",
       "<style scoped>\n",
       "    .dataframe tbody tr th:only-of-type {\n",
       "        vertical-align: middle;\n",
       "    }\n",
       "\n",
       "    .dataframe tbody tr th {\n",
       "        vertical-align: top;\n",
       "    }\n",
       "\n",
       "    .dataframe thead th {\n",
       "        text-align: right;\n",
       "    }\n",
       "</style>\n",
       "<table border=\"1\" class=\"dataframe\">\n",
       "  <thead>\n",
       "    <tr style=\"text-align: right;\">\n",
       "      <th></th>\n",
       "      <th>no_nutriments</th>\n",
       "      <th>additives_n</th>\n",
       "      <th>ingredients_from_palm_oil_n</th>\n",
       "      <th>ingredients_from_palm_oil</th>\n",
       "      <th>ingredients_that_may_be_from_palm_oil_n</th>\n",
       "      <th>ingredients_that_may_be_from_palm_oil</th>\n",
       "      <th>nutrition_grade_uk</th>\n",
       "      <th>energy_100g</th>\n",
       "      <th>energy-from-fat_100g</th>\n",
       "      <th>fat_100g</th>\n",
       "      <th>...</th>\n",
       "      <th>fruits-vegetables-nuts_100g</th>\n",
       "      <th>fruits-vegetables-nuts-estimate_100g</th>\n",
       "      <th>collagen-meat-protein-ratio_100g</th>\n",
       "      <th>cocoa_100g</th>\n",
       "      <th>chlorophyl_100g</th>\n",
       "      <th>carbon-footprint_100g</th>\n",
       "      <th>nutrition-score-fr_100g</th>\n",
       "      <th>nutrition-score-uk_100g</th>\n",
       "      <th>glycemic-index_100g</th>\n",
       "      <th>water-hardness_100g</th>\n",
       "    </tr>\n",
       "  </thead>\n",
       "  <tbody>\n",
       "    <tr>\n",
       "      <th>mean</th>\n",
       "      <td>NaN</td>\n",
       "      <td>3.130496</td>\n",
       "      <td>1.012021</td>\n",
       "      <td>NaN</td>\n",
       "      <td>1.183487</td>\n",
       "      <td>NaN</td>\n",
       "      <td>NaN</td>\n",
       "      <td>1162.513055</td>\n",
       "      <td>725.876586</td>\n",
       "      <td>7.419201e+04</td>\n",
       "      <td>...</td>\n",
       "      <td>46.988479</td>\n",
       "      <td>60.509901</td>\n",
       "      <td>15.362637</td>\n",
       "      <td>52.102675</td>\n",
       "      <td>NaN</td>\n",
       "      <td>370.435733</td>\n",
       "      <td>9.726469</td>\n",
       "      <td>9.586086</td>\n",
       "      <td>NaN</td>\n",
       "      <td>NaN</td>\n",
       "    </tr>\n",
       "    <tr>\n",
       "      <th>min</th>\n",
       "      <td>NaN</td>\n",
       "      <td>1.000000</td>\n",
       "      <td>1.000000</td>\n",
       "      <td>NaN</td>\n",
       "      <td>1.000000</td>\n",
       "      <td>NaN</td>\n",
       "      <td>NaN</td>\n",
       "      <td>0.020000</td>\n",
       "      <td>6.360000</td>\n",
       "      <td>1.000000e-04</td>\n",
       "      <td>...</td>\n",
       "      <td>1.000000</td>\n",
       "      <td>0.900000</td>\n",
       "      <td>8.000000</td>\n",
       "      <td>6.000000</td>\n",
       "      <td>NaN</td>\n",
       "      <td>0.000001</td>\n",
       "      <td>-15.000000</td>\n",
       "      <td>-15.000000</td>\n",
       "      <td>NaN</td>\n",
       "      <td>NaN</td>\n",
       "    </tr>\n",
       "    <tr>\n",
       "      <th>max</th>\n",
       "      <td>NaN</td>\n",
       "      <td>30.000000</td>\n",
       "      <td>2.000000</td>\n",
       "      <td>NaN</td>\n",
       "      <td>6.000000</td>\n",
       "      <td>NaN</td>\n",
       "      <td>NaN</td>\n",
       "      <td>231199.000000</td>\n",
       "      <td>3830.000000</td>\n",
       "      <td>1.566667e+10</td>\n",
       "      <td>...</td>\n",
       "      <td>100.000000</td>\n",
       "      <td>100.000000</td>\n",
       "      <td>25.000000</td>\n",
       "      <td>100.000000</td>\n",
       "      <td>NaN</td>\n",
       "      <td>2842.000000</td>\n",
       "      <td>40.000000</td>\n",
       "      <td>40.000000</td>\n",
       "      <td>NaN</td>\n",
       "      <td>NaN</td>\n",
       "    </tr>\n",
       "    <tr>\n",
       "      <th>50%</th>\n",
       "      <td>NaN</td>\n",
       "      <td>2.000000</td>\n",
       "      <td>1.000000</td>\n",
       "      <td>NaN</td>\n",
       "      <td>1.000000</td>\n",
       "      <td>NaN</td>\n",
       "      <td>NaN</td>\n",
       "      <td>1138.000000</td>\n",
       "      <td>522.000000</td>\n",
       "      <td>1.126000e+01</td>\n",
       "      <td>...</td>\n",
       "      <td>50.000000</td>\n",
       "      <td>58.000000</td>\n",
       "      <td>15.000000</td>\n",
       "      <td>52.000000</td>\n",
       "      <td>NaN</td>\n",
       "      <td>205.000000</td>\n",
       "      <td>11.000000</td>\n",
       "      <td>10.000000</td>\n",
       "      <td>NaN</td>\n",
       "      <td>NaN</td>\n",
       "    </tr>\n",
       "  </tbody>\n",
       "</table>\n",
       "<p>4 rows × 107 columns</p>\n",
       "</div>"
      ],
      "text/plain": [
       "      no_nutriments  additives_n  ingredients_from_palm_oil_n  \\\n",
       "mean            NaN     3.130496                     1.012021   \n",
       "min             NaN     1.000000                     1.000000   \n",
       "max             NaN    30.000000                     2.000000   \n",
       "50%             NaN     2.000000                     1.000000   \n",
       "\n",
       "      ingredients_from_palm_oil  ingredients_that_may_be_from_palm_oil_n  \\\n",
       "mean                        NaN                                 1.183487   \n",
       "min                         NaN                                 1.000000   \n",
       "max                         NaN                                 6.000000   \n",
       "50%                         NaN                                 1.000000   \n",
       "\n",
       "      ingredients_that_may_be_from_palm_oil  nutrition_grade_uk  \\\n",
       "mean                                    NaN                 NaN   \n",
       "min                                     NaN                 NaN   \n",
       "max                                     NaN                 NaN   \n",
       "50%                                     NaN                 NaN   \n",
       "\n",
       "        energy_100g  energy-from-fat_100g      fat_100g  ...  \\\n",
       "mean    1162.513055            725.876586  7.419201e+04  ...   \n",
       "min        0.020000              6.360000  1.000000e-04  ...   \n",
       "max   231199.000000           3830.000000  1.566667e+10  ...   \n",
       "50%     1138.000000            522.000000  1.126000e+01  ...   \n",
       "\n",
       "      fruits-vegetables-nuts_100g  fruits-vegetables-nuts-estimate_100g  \\\n",
       "mean                    46.988479                             60.509901   \n",
       "min                      1.000000                              0.900000   \n",
       "max                    100.000000                            100.000000   \n",
       "50%                     50.000000                             58.000000   \n",
       "\n",
       "      collagen-meat-protein-ratio_100g  cocoa_100g  chlorophyl_100g  \\\n",
       "mean                         15.362637   52.102675              NaN   \n",
       "min                           8.000000    6.000000              NaN   \n",
       "max                          25.000000  100.000000              NaN   \n",
       "50%                          15.000000   52.000000              NaN   \n",
       "\n",
       "      carbon-footprint_100g  nutrition-score-fr_100g  nutrition-score-uk_100g  \\\n",
       "mean             370.435733                 9.726469                 9.586086   \n",
       "min                0.000001               -15.000000               -15.000000   \n",
       "max             2842.000000                40.000000                40.000000   \n",
       "50%              205.000000                11.000000                10.000000   \n",
       "\n",
       "      glycemic-index_100g  water-hardness_100g  \n",
       "mean                  NaN                  NaN  \n",
       "min                   NaN                  NaN  \n",
       "max                   NaN                  NaN  \n",
       "50%                   NaN                  NaN  \n",
       "\n",
       "[4 rows x 107 columns]"
      ]
     },
     "execution_count": 28,
     "metadata": {},
     "output_type": "execute_result"
    }
   ],
   "source": [
    "df_num.describe().loc[['mean', 'min', 'max', '50%']]"
   ]
  },
  {
   "cell_type": "markdown",
   "id": "afraid-looking",
   "metadata": {},
   "source": [
    "Do I spot any issue from analyzing those statistics? ex. a negative amount of sugar, a maximum value extremely far from the 75% percentile (outlier?)"
   ]
  },
  {
   "cell_type": "code",
   "execution_count": 29,
   "id": "sunset-diesel",
   "metadata": {},
   "outputs": [
    {
     "data": {
      "text/plain": [
       "count    239183.000000\n",
       "mean         18.294786\n",
       "std          22.718959\n",
       "min         -17.860000\n",
       "25%           2.920000\n",
       "50%           8.570000\n",
       "75%          28.000000\n",
       "max        3520.000000\n",
       "Name: sugars_100g, dtype: float64"
      ]
     },
     "execution_count": 29,
     "metadata": {},
     "output_type": "execute_result"
    }
   ],
   "source": [
    "df_num.sugars_100g.describe()"
   ]
  },
  {
   "cell_type": "markdown",
   "id": "simplified-magic",
   "metadata": {},
   "source": [
    "For example sugar does really provide some issues when it comes to statistics. The min is negative (-17.86) and the max (3520) is extremely far from the 75% percentile (28) which may indicate an outlier"
   ]
  },
  {
   "cell_type": "code",
   "execution_count": 30,
   "id": "unable-trick",
   "metadata": {},
   "outputs": [
    {
     "name": "stdout",
     "output_type": "stream",
     "text": [
      "Lower bound: -34.7000, upper bound: 65.6200\n"
     ]
    }
   ],
   "source": [
    "Q1 = np.percentile(df_num.sugars_100g.dropna(), 25, axis=0)\n",
    "Q3 = np.percentile(df_num.sugars_100g.dropna(), 75, axis=0)\n",
    "IQR = Q3 - Q1\n",
    "lower_bound = Q1 - 1.5 * IQR\n",
    "upper_bound = Q3 + 1.5 * IQR\n",
    "print(\"Lower bound: {:.4f}, upper bound: {:.4f}\".format(lower_bound, upper_bound))"
   ]
  },
  {
   "cell_type": "code",
   "execution_count": 31,
   "id": "judicial-consent",
   "metadata": {},
   "outputs": [
    {
     "name": "stdout",
     "output_type": "stream",
     "text": [
      "Number of outliers detected per feature using a boxplot:\n",
      "11357\n",
      "Total number of outliers detected: 11357\n"
     ]
    }
   ],
   "source": [
    "boxplot_filter = (df_num.sugars_100g.dropna() < lower_bound) | (df_num.sugars_100g.dropna() > upper_bound)\n",
    "print(\"Number of outliers detected per feature using a boxplot:\")\n",
    "print(boxplot_filter.sum(axis=0))\n",
    "print(\"Total number of outliers detected:\", boxplot_filter.sum(axis=0).sum())"
   ]
  },
  {
   "cell_type": "markdown",
   "id": "generic-thing",
   "metadata": {},
   "source": [
    "Indeed the column \"sugars_100g\" shows 11'357 outliers when using the interquartile range (IQR)"
   ]
  },
  {
   "cell_type": "markdown",
   "id": "regulated-scratch",
   "metadata": {},
   "source": [
    "----"
   ]
  },
  {
   "cell_type": "markdown",
   "id": "healthy-python",
   "metadata": {},
   "source": [
    "For numerical columns, how does the variable distribution look like? ex. using histograms or scatter/violin/density plots"
   ]
  },
  {
   "cell_type": "code",
   "execution_count": 32,
   "id": "innovative-dublin",
   "metadata": {
    "collapsed": true,
    "jupyter": {
     "outputs_hidden": true
    }
   },
   "outputs": [
    {
     "data": {
      "text/plain": [
       "['no_nutriments',\n",
       " 'additives_n',\n",
       " 'ingredients_from_palm_oil_n',\n",
       " 'ingredients_from_palm_oil',\n",
       " 'ingredients_that_may_be_from_palm_oil_n',\n",
       " 'ingredients_that_may_be_from_palm_oil',\n",
       " 'nutrition_grade_uk',\n",
       " 'energy_100g',\n",
       " 'energy-from-fat_100g',\n",
       " 'fat_100g',\n",
       " 'saturated-fat_100g',\n",
       " '-butyric-acid_100g',\n",
       " '-caproic-acid_100g',\n",
       " '-caprylic-acid_100g',\n",
       " '-capric-acid_100g',\n",
       " '-lauric-acid_100g',\n",
       " '-myristic-acid_100g',\n",
       " '-palmitic-acid_100g',\n",
       " '-stearic-acid_100g',\n",
       " '-arachidic-acid_100g',\n",
       " '-behenic-acid_100g',\n",
       " '-lignoceric-acid_100g',\n",
       " '-cerotic-acid_100g',\n",
       " '-montanic-acid_100g',\n",
       " '-melissic-acid_100g',\n",
       " 'monounsaturated-fat_100g',\n",
       " 'polyunsaturated-fat_100g',\n",
       " 'omega-3-fat_100g',\n",
       " '-alpha-linolenic-acid_100g',\n",
       " '-eicosapentaenoic-acid_100g',\n",
       " '-docosahexaenoic-acid_100g',\n",
       " 'omega-6-fat_100g',\n",
       " '-linoleic-acid_100g',\n",
       " '-arachidonic-acid_100g',\n",
       " '-gamma-linolenic-acid_100g',\n",
       " '-dihomo-gamma-linolenic-acid_100g',\n",
       " 'omega-9-fat_100g',\n",
       " '-oleic-acid_100g',\n",
       " '-elaidic-acid_100g',\n",
       " '-gondoic-acid_100g',\n",
       " '-mead-acid_100g',\n",
       " '-erucic-acid_100g',\n",
       " '-nervonic-acid_100g',\n",
       " 'trans-fat_100g',\n",
       " 'cholesterol_100g',\n",
       " 'carbohydrates_100g',\n",
       " 'sugars_100g',\n",
       " '-sucrose_100g',\n",
       " '-glucose_100g',\n",
       " '-fructose_100g',\n",
       " '-lactose_100g',\n",
       " '-maltose_100g',\n",
       " '-maltodextrins_100g',\n",
       " 'starch_100g',\n",
       " 'polyols_100g',\n",
       " 'fiber_100g',\n",
       " 'proteins_100g',\n",
       " 'casein_100g',\n",
       " 'serum-proteins_100g',\n",
       " 'nucleotides_100g',\n",
       " 'salt_100g',\n",
       " 'sodium_100g',\n",
       " 'alcohol_100g',\n",
       " 'vitamin-a_100g',\n",
       " 'beta-carotene_100g',\n",
       " 'vitamin-d_100g',\n",
       " 'vitamin-e_100g',\n",
       " 'vitamin-k_100g',\n",
       " 'vitamin-c_100g',\n",
       " 'vitamin-b1_100g',\n",
       " 'vitamin-b2_100g',\n",
       " 'vitamin-pp_100g',\n",
       " 'vitamin-b6_100g',\n",
       " 'vitamin-b9_100g',\n",
       " 'folates_100g',\n",
       " 'vitamin-b12_100g',\n",
       " 'biotin_100g',\n",
       " 'pantothenic-acid_100g',\n",
       " 'silica_100g',\n",
       " 'bicarbonate_100g',\n",
       " 'potassium_100g',\n",
       " 'chloride_100g',\n",
       " 'calcium_100g',\n",
       " 'phosphorus_100g',\n",
       " 'iron_100g',\n",
       " 'magnesium_100g',\n",
       " 'zinc_100g',\n",
       " 'copper_100g',\n",
       " 'manganese_100g',\n",
       " 'fluoride_100g',\n",
       " 'selenium_100g',\n",
       " 'chromium_100g',\n",
       " 'molybdenum_100g',\n",
       " 'iodine_100g',\n",
       " 'caffeine_100g',\n",
       " 'taurine_100g',\n",
       " 'ph_100g',\n",
       " 'fruits-vegetables-nuts_100g',\n",
       " 'fruits-vegetables-nuts-estimate_100g',\n",
       " 'collagen-meat-protein-ratio_100g',\n",
       " 'cocoa_100g',\n",
       " 'chlorophyl_100g',\n",
       " 'carbon-footprint_100g',\n",
       " 'nutrition-score-fr_100g',\n",
       " 'nutrition-score-uk_100g',\n",
       " 'glycemic-index_100g',\n",
       " 'water-hardness_100g']"
      ]
     },
     "execution_count": 32,
     "metadata": {},
     "output_type": "execute_result"
    }
   ],
   "source": [
    "list(df_num.columns)"
   ]
  },
  {
   "cell_type": "markdown",
   "id": "conditional-representation",
   "metadata": {},
   "source": [
    "Ploting all numerical columns as histograms without removing outliers will result in useless graphs. This is why I am focusing on the two variables additives_n and nutrition-score-fr_100g."
   ]
  },
  {
   "cell_type": "code",
   "execution_count": 33,
   "id": "detected-palace",
   "metadata": {},
   "outputs": [
    {
     "data": {
      "image/png": "[encoded data removed]",
      "text/plain": [
       "<Figure size 432x288 with 2 Axes>"
      ]
     },
     "metadata": {
      "needs_background": "light"
     },
     "output_type": "display_data"
    }
   ],
   "source": [
    "fig, axes = plt.subplots(nrows=1, ncols=2,tight_layout=True)\n",
    "axes[0].set(title='additives_n')\n",
    "axes[1].set(title='nutrition-score-fr_100g')\n",
    "axes[0].hist(df_num['additives_n'], color='magenta', linewidth = 3)\n",
    "axes[1].hist(df_num['nutrition-score-fr_100g'], color='red', linewidth = 3, bins=30);"
   ]
  },
  {
   "cell_type": "markdown",
   "id": "million-starter",
   "metadata": {},
   "source": [
    "Are the products number of food additives (additives_n) correlated with the nutrition score?"
   ]
  },
  {
   "cell_type": "code",
   "execution_count": 34,
   "id": "happy-breach",
   "metadata": {},
   "outputs": [
    {
     "data": {
      "image/png": "[encoded data removed]",
      "text/plain": [
       "<Figure size 432x432 with 1 Axes>"
      ]
     },
     "metadata": {
      "needs_background": "light"
     },
     "output_type": "display_data"
    }
   ],
   "source": [
    "sns.pairplot(df_num, x_vars=['additives_n'], y_vars = ['nutrition-score-fr_100g'], height=6);"
   ]
  },
  {
   "cell_type": "markdown",
   "id": "enabling-greensboro",
   "metadata": {},
   "source": [
    "There seems to be a slight concentration around nutrition score fr_100g 10-20 for a higher number of food additives"
   ]
  },
  {
   "cell_type": "markdown",
   "id": "devoted-pledge",
   "metadata": {},
   "source": [
    "-----"
   ]
  },
  {
   "cell_type": "markdown",
   "id": "fitted-shore",
   "metadata": {},
   "source": [
    "Are there columns that contain lists? ex. lists of ingredients, tags"
   ]
  },
  {
   "cell_type": "code",
   "execution_count": 35,
   "id": "traditional-theory",
   "metadata": {},
   "outputs": [
    {
     "data": {
      "text/plain": [
       "['code',\n",
       " 'product_name',\n",
       " 'brands',\n",
       " 'brands_tags',\n",
       " 'countries',\n",
       " 'countries_tags',\n",
       " 'countries_en',\n",
       " 'ingredients_text',\n",
       " 'serving_size',\n",
       " 'additives_n',\n",
       " 'additives',\n",
       " 'additives_tags',\n",
       " 'additives_en',\n",
       " 'nutrition_grade_fr',\n",
       " 'pnns_groups_1',\n",
       " 'pnns_groups_2',\n",
       " 'states',\n",
       " 'states_tags',\n",
       " 'states_en',\n",
       " 'energy_100g',\n",
       " 'fat_100g',\n",
       " 'saturated-fat_100g',\n",
       " 'carbohydrates_100g',\n",
       " 'sugars_100g',\n",
       " 'fiber_100g',\n",
       " 'proteins_100g',\n",
       " 'salt_100g',\n",
       " 'sodium_100g',\n",
       " 'nutrition-score-fr_100g',\n",
       " 'nutrition-score-uk_100g']"
      ]
     },
     "execution_count": 35,
     "metadata": {},
     "output_type": "execute_result"
    }
   ],
   "source": [
    "list(df_short.columns)"
   ]
  },
  {
   "cell_type": "code",
   "execution_count": 36,
   "id": "decent-delay",
   "metadata": {},
   "outputs": [
    {
     "data": {
      "text/plain": [
       "'Bananas, vegetable oil (coconut oil, corn oil and/or palm oil) sugar, natural banana flavor.'"
      ]
     },
     "execution_count": 36,
     "metadata": {},
     "output_type": "execute_result"
    }
   ],
   "source": [
    "df_short.ingredients_text[1]"
   ]
  },
  {
   "cell_type": "code",
   "execution_count": 37,
   "id": "moved-multimedia",
   "metadata": {},
   "outputs": [
    {
     "data": {
      "text/plain": [
       "'en:FR'"
      ]
     },
     "execution_count": 37,
     "metadata": {},
     "output_type": "execute_result"
    }
   ],
   "source": [
    "df_short.countries[0]"
   ]
  },
  {
   "cell_type": "code",
   "execution_count": 38,
   "id": "incredible-penguin",
   "metadata": {},
   "outputs": [
    {
     "data": {
      "text/plain": [
       "'en:france'"
      ]
     },
     "execution_count": 38,
     "metadata": {},
     "output_type": "execute_result"
    }
   ],
   "source": [
    "df_short.countries_tags[0]"
   ]
  },
  {
   "cell_type": "code",
   "execution_count": 39,
   "id": "accepted-crisis",
   "metadata": {},
   "outputs": [
    {
     "data": {
      "text/plain": [
       "'France'"
      ]
     },
     "execution_count": 39,
     "metadata": {},
     "output_type": "execute_result"
    }
   ],
   "source": [
    "df_short.countries_en[0]"
   ]
  },
  {
   "cell_type": "markdown",
   "id": "opened-window",
   "metadata": {},
   "source": [
    "**Findings:**\n",
    "- ingredients_text: contains list of ingredients\n",
    "- countries_tags: contains list of countries tags (similar tag related columns for brand, additives and states) \n",
    "\n",
    "Note: there are further columns in the original data set containig lists (e.g. categories) which have been previously dropped due to a proportion of NaN values > 66%"
   ]
  },
  {
   "cell_type": "markdown",
   "id": "communist-material",
   "metadata": {},
   "source": [
    "----"
   ]
  },
  {
   "cell_type": "markdown",
   "id": "sensitive-bouquet",
   "metadata": {},
   "source": [
    "Are there columns that are very similar in their content?"
   ]
  },
  {
   "cell_type": "code",
   "execution_count": 40,
   "id": "sustainable-stability",
   "metadata": {},
   "outputs": [
    {
     "data": {
      "text/html": [
       "<div>\n",
       "<style scoped>\n",
       "    .dataframe tbody tr th:only-of-type {\n",
       "        vertical-align: middle;\n",
       "    }\n",
       "\n",
       "    .dataframe tbody tr th {\n",
       "        vertical-align: top;\n",
       "    }\n",
       "\n",
       "    .dataframe thead th {\n",
       "        text-align: right;\n",
       "    }\n",
       "</style>\n",
       "<table border=\"1\" class=\"dataframe\">\n",
       "  <thead>\n",
       "    <tr style=\"text-align: right;\">\n",
       "      <th></th>\n",
       "      <th>categories</th>\n",
       "      <th>categories_en</th>\n",
       "      <th>categories_tags</th>\n",
       "    </tr>\n",
       "  </thead>\n",
       "  <tbody>\n",
       "    <tr>\n",
       "      <th>47</th>\n",
       "      <td>Filet de bœuf</td>\n",
       "      <td>fr:Filet-de-boeuf</td>\n",
       "      <td>fr:filet-de-boeuf</td>\n",
       "    </tr>\n",
       "    <tr>\n",
       "      <th>176</th>\n",
       "      <td>Légumes-feuilles</td>\n",
       "      <td>Plant-based foods and beverages,Plant-based fo...</td>\n",
       "      <td>en:plant-based-foods-and-beverages,en:plant-ba...</td>\n",
       "    </tr>\n",
       "    <tr>\n",
       "      <th>177</th>\n",
       "      <td>Snacks sucrés,Biscuits et gâteaux,Pâtisseries</td>\n",
       "      <td>Sugary snacks,Biscuits and cakes,Pastries</td>\n",
       "      <td>en:sugary-snacks,en:biscuits-and-cakes,en:past...</td>\n",
       "    </tr>\n",
       "    <tr>\n",
       "      <th>179</th>\n",
       "      <td>Plant-based foods and beverages,Plant-based fo...</td>\n",
       "      <td>Plant-based foods and beverages,Plant-based fo...</td>\n",
       "      <td>en:plant-based-foods-and-beverages,en:plant-ba...</td>\n",
       "    </tr>\n",
       "    <tr>\n",
       "      <th>182</th>\n",
       "      <td>Snacks sucrés,Biscuits et gâteaux,Pâtisseries</td>\n",
       "      <td>Sugary snacks,Biscuits and cakes,Pastries</td>\n",
       "      <td>en:sugary-snacks,en:biscuits-and-cakes,en:past...</td>\n",
       "    </tr>\n",
       "    <tr>\n",
       "      <th>...</th>\n",
       "      <td>...</td>\n",
       "      <td>...</td>\n",
       "      <td>...</td>\n",
       "    </tr>\n",
       "    <tr>\n",
       "      <th>356016</th>\n",
       "      <td>pl:Szprot</td>\n",
       "      <td>pl:Szprot</td>\n",
       "      <td>pl:szprot</td>\n",
       "    </tr>\n",
       "    <tr>\n",
       "      <th>356017</th>\n",
       "      <td>thés verts</td>\n",
       "      <td>Plant-based foods and beverages,Beverages,Hot ...</td>\n",
       "      <td>en:plant-based-foods-and-beverages,en:beverage...</td>\n",
       "    </tr>\n",
       "    <tr>\n",
       "      <th>356019</th>\n",
       "      <td>Viandes,Produits à tartiner,Charcuteries,Produ...</td>\n",
       "      <td>Meats,Spreads,Prepared meats,Salted spreads,Ri...</td>\n",
       "      <td>en:meats,en:spreads,en:prepared-meats,en:salte...</td>\n",
       "    </tr>\n",
       "    <tr>\n",
       "      <th>356020</th>\n",
       "      <td>Peanuts</td>\n",
       "      <td>Plant-based foods and beverages,Plant-based fo...</td>\n",
       "      <td>en:plant-based-foods-and-beverages,en:plant-ba...</td>\n",
       "    </tr>\n",
       "    <tr>\n",
       "      <th>356023</th>\n",
       "      <td>Potato chips</td>\n",
       "      <td>Salty snacks,Appetizers,Chips and fries,Crisps...</td>\n",
       "      <td>en:salty-snacks,en:appetizers,en:chips-and-fri...</td>\n",
       "    </tr>\n",
       "  </tbody>\n",
       "</table>\n",
       "<p>103299 rows × 3 columns</p>\n",
       "</div>"
      ],
      "text/plain": [
       "                                               categories  \\\n",
       "47                                          Filet de bœuf   \n",
       "176                                      Légumes-feuilles   \n",
       "177         Snacks sucrés,Biscuits et gâteaux,Pâtisseries   \n",
       "179     Plant-based foods and beverages,Plant-based fo...   \n",
       "182         Snacks sucrés,Biscuits et gâteaux,Pâtisseries   \n",
       "...                                                   ...   \n",
       "356016                                          pl:Szprot   \n",
       "356017                                         thés verts   \n",
       "356019  Viandes,Produits à tartiner,Charcuteries,Produ...   \n",
       "356020                                            Peanuts   \n",
       "356023                                       Potato chips   \n",
       "\n",
       "                                            categories_en  \\\n",
       "47                                      fr:Filet-de-boeuf   \n",
       "176     Plant-based foods and beverages,Plant-based fo...   \n",
       "177             Sugary snacks,Biscuits and cakes,Pastries   \n",
       "179     Plant-based foods and beverages,Plant-based fo...   \n",
       "182             Sugary snacks,Biscuits and cakes,Pastries   \n",
       "...                                                   ...   \n",
       "356016                                          pl:Szprot   \n",
       "356017  Plant-based foods and beverages,Beverages,Hot ...   \n",
       "356019  Meats,Spreads,Prepared meats,Salted spreads,Ri...   \n",
       "356020  Plant-based foods and beverages,Plant-based fo...   \n",
       "356023  Salty snacks,Appetizers,Chips and fries,Crisps...   \n",
       "\n",
       "                                          categories_tags  \n",
       "47                                      fr:filet-de-boeuf  \n",
       "176     en:plant-based-foods-and-beverages,en:plant-ba...  \n",
       "177     en:sugary-snacks,en:biscuits-and-cakes,en:past...  \n",
       "179     en:plant-based-foods-and-beverages,en:plant-ba...  \n",
       "182     en:sugary-snacks,en:biscuits-and-cakes,en:past...  \n",
       "...                                                   ...  \n",
       "356016                                          pl:szprot  \n",
       "356017  en:plant-based-foods-and-beverages,en:beverage...  \n",
       "356019  en:meats,en:spreads,en:prepared-meats,en:salte...  \n",
       "356020  en:plant-based-foods-and-beverages,en:plant-ba...  \n",
       "356023  en:salty-snacks,en:appetizers,en:chips-and-fri...  \n",
       "\n",
       "[103299 rows x 3 columns]"
      ]
     },
     "execution_count": 40,
     "metadata": {},
     "output_type": "execute_result"
    }
   ],
   "source": [
    "df[df['categories'].notnull()].loc[:,['categories','categories_en','categories_tags']]"
   ]
  },
  {
   "cell_type": "code",
   "execution_count": 41,
   "id": "instrumental-accounting",
   "metadata": {},
   "outputs": [
    {
     "data": {
      "text/html": [
       "<div>\n",
       "<style scoped>\n",
       "    .dataframe tbody tr th:only-of-type {\n",
       "        vertical-align: middle;\n",
       "    }\n",
       "\n",
       "    .dataframe tbody tr th {\n",
       "        vertical-align: top;\n",
       "    }\n",
       "\n",
       "    .dataframe thead th {\n",
       "        text-align: right;\n",
       "    }\n",
       "</style>\n",
       "<table border=\"1\" class=\"dataframe\">\n",
       "  <thead>\n",
       "    <tr style=\"text-align: right;\">\n",
       "      <th></th>\n",
       "      <th>countries</th>\n",
       "      <th>countries_en</th>\n",
       "      <th>countries_tags</th>\n",
       "    </tr>\n",
       "  </thead>\n",
       "  <tbody>\n",
       "    <tr>\n",
       "      <th>0</th>\n",
       "      <td>en:FR</td>\n",
       "      <td>France</td>\n",
       "      <td>en:france</td>\n",
       "    </tr>\n",
       "    <tr>\n",
       "      <th>1</th>\n",
       "      <td>US</td>\n",
       "      <td>United States</td>\n",
       "      <td>en:united-states</td>\n",
       "    </tr>\n",
       "    <tr>\n",
       "      <th>2</th>\n",
       "      <td>US</td>\n",
       "      <td>United States</td>\n",
       "      <td>en:united-states</td>\n",
       "    </tr>\n",
       "    <tr>\n",
       "      <th>3</th>\n",
       "      <td>US</td>\n",
       "      <td>United States</td>\n",
       "      <td>en:united-states</td>\n",
       "    </tr>\n",
       "    <tr>\n",
       "      <th>4</th>\n",
       "      <td>US</td>\n",
       "      <td>United States</td>\n",
       "      <td>en:united-states</td>\n",
       "    </tr>\n",
       "    <tr>\n",
       "      <th>...</th>\n",
       "      <td>...</td>\n",
       "      <td>...</td>\n",
       "      <td>...</td>\n",
       "    </tr>\n",
       "    <tr>\n",
       "      <th>356022</th>\n",
       "      <td>US</td>\n",
       "      <td>United States</td>\n",
       "      <td>en:united-states</td>\n",
       "    </tr>\n",
       "    <tr>\n",
       "      <th>356023</th>\n",
       "      <td>China</td>\n",
       "      <td>China</td>\n",
       "      <td>en:china</td>\n",
       "    </tr>\n",
       "    <tr>\n",
       "      <th>356024</th>\n",
       "      <td>France</td>\n",
       "      <td>France</td>\n",
       "      <td>en:france</td>\n",
       "    </tr>\n",
       "    <tr>\n",
       "      <th>356025</th>\n",
       "      <td>en:FR</td>\n",
       "      <td>France</td>\n",
       "      <td>en:france</td>\n",
       "    </tr>\n",
       "    <tr>\n",
       "      <th>356026</th>\n",
       "      <td>US</td>\n",
       "      <td>United States</td>\n",
       "      <td>en:united-states</td>\n",
       "    </tr>\n",
       "  </tbody>\n",
       "</table>\n",
       "<p>355752 rows × 3 columns</p>\n",
       "</div>"
      ],
      "text/plain": [
       "       countries   countries_en    countries_tags\n",
       "0          en:FR         France         en:france\n",
       "1             US  United States  en:united-states\n",
       "2             US  United States  en:united-states\n",
       "3             US  United States  en:united-states\n",
       "4             US  United States  en:united-states\n",
       "...          ...            ...               ...\n",
       "356022        US  United States  en:united-states\n",
       "356023     China          China          en:china\n",
       "356024    France         France         en:france\n",
       "356025     en:FR         France         en:france\n",
       "356026        US  United States  en:united-states\n",
       "\n",
       "[355752 rows x 3 columns]"
      ]
     },
     "execution_count": 41,
     "metadata": {},
     "output_type": "execute_result"
    }
   ],
   "source": [
    "df[df['countries'].notnull()].loc[:,['countries','countries_en','countries_tags']]"
   ]
  },
  {
   "cell_type": "markdown",
   "id": "heavy-location",
   "metadata": {},
   "source": [
    "Columns with suffix _tags or _en contain redundant information"
   ]
  },
  {
   "cell_type": "markdown",
   "id": "retained-english",
   "metadata": {},
   "source": [
    "------"
   ]
  },
  {
   "cell_type": "markdown",
   "id": "addressed-muslim",
   "metadata": {},
   "source": [
    "Are columns with text always written using the same alphabet?"
   ]
  },
  {
   "cell_type": "code",
   "execution_count": 42,
   "id": "turned-minutes",
   "metadata": {},
   "outputs": [
    {
     "data": {
      "text/plain": [
       "0                                        Farine de blé noir\n",
       "1                            Banana Chips Sweetened (Whole)\n",
       "2                                                   Peanuts\n",
       "3                                    Organic Salted Nut Mix\n",
       "4                                           Organic Polenta\n",
       "                                ...                        \n",
       "356022    Mint Melange Tea A Blend Of Peppermint, Lemon ...\n",
       "356023                                              乐吧泡菜味薯片\n",
       "356024                                        Biscottes bio\n",
       "356025                             Tomates aux Vermicelles \n",
       "356026                      Sugar Free Drink Mix, Peach Tea\n",
       "Name: product_name, Length: 356027, dtype: object"
      ]
     },
     "execution_count": 42,
     "metadata": {},
     "output_type": "execute_result"
    }
   ],
   "source": [
    "df_short.product_name"
   ]
  },
  {
   "cell_type": "code",
   "execution_count": 43,
   "id": "serial-pasta",
   "metadata": {},
   "outputs": [
    {
     "data": {
      "text/plain": [
       "0         Ferme t'y R'nao\n",
       "1                     NaN\n",
       "2          Torn & Glasser\n",
       "3               Grizzlies\n",
       "4          Bob's Red Mill\n",
       "               ...       \n",
       "356022       Trader Joe's\n",
       "356023                 乐吧\n",
       "356024       Leader Price\n",
       "356025              Knorr\n",
       "356026      Market Pantry\n",
       "Name: brands, Length: 356027, dtype: object"
      ]
     },
     "execution_count": 43,
     "metadata": {},
     "output_type": "execute_result"
    }
   ],
   "source": [
    "df_short.brands"
   ]
  },
  {
   "cell_type": "markdown",
   "id": "fixed-response",
   "metadata": {},
   "source": [
    "For instance the text of column product_name and brands contain Chinese alphabet (e.g. row 356023)"
   ]
  },
  {
   "cell_type": "markdown",
   "id": "prepared-worse",
   "metadata": {},
   "source": [
    "------"
   ]
  },
  {
   "cell_type": "markdown",
   "id": "bored-mouse",
   "metadata": {},
   "source": [
    "For categorical columns, what are the top 10 most frequent values?"
   ]
  },
  {
   "cell_type": "code",
   "execution_count": 44,
   "id": "chief-auditor",
   "metadata": {},
   "outputs": [],
   "source": [
    "columns_cat=[i for i in df_short.columns if df_short.dtypes[i]=='object']"
   ]
  },
  {
   "cell_type": "code",
   "execution_count": 45,
   "id": "derived-jimmy",
   "metadata": {
    "collapsed": true,
    "jupyter": {
     "outputs_hidden": true
    }
   },
   "outputs": [
    {
     "name": "stdout",
     "output_type": "stream",
     "text": [
      "code\n",
      "70650800367     3\n",
      "16571910303     2\n",
      "20004552        2\n",
      "42187216195     2\n",
      "74880030037     2\n",
      "16571940348     2\n",
      "11110881373     2\n",
      "75925304892     2\n",
      "9800800056      2\n",
      "737628062508    2\n",
      "dtype: int64\n",
      "product_name\n",
      "Ice Cream                 411\n",
      "Extra Virgin Olive Oil    303\n",
      "Potato Chips              281\n",
      "Premium Ice Cream         226\n",
      "Tomato Ketchup            190\n",
      "Beef Jerky                167\n",
      "Pinto Beans               162\n",
      "Popcorn                   159\n",
      "Cookies                   159\n",
      "Salsa                     149\n",
      "dtype: int64\n",
      "brands\n",
      "Carrefour       3670\n",
      "Auchan          3217\n",
      "U               2608\n",
      "Casino          2091\n",
      "Leader Price    2015\n",
      "Meijer          1995\n",
      "Kroger          1662\n",
      "Cora            1374\n",
      "Ahold           1370\n",
      "Spartan         1341\n",
      "dtype: int64\n",
      "brands_tags\n",
      "carrefour       3847\n",
      "auchan          3334\n",
      "u               2637\n",
      "leader-price    2228\n",
      "casino          2178\n",
      "meijer          1996\n",
      "kroger          1662\n",
      "cora            1411\n",
      "ahold           1370\n",
      "spartan         1341\n",
      "dtype: int64\n",
      "countries\n",
      "US                169789\n",
      "France            106296\n",
      "en:FR              16056\n",
      "Suisse             12003\n",
      "Deutschland         6900\n",
      "España              3896\n",
      "United Kingdom      3363\n",
      "United States       2358\n",
      "en:CH               2207\n",
      "en:BE               1759\n",
      "dtype: int64\n",
      "countries_tags\n",
      "en:united-states            173159\n",
      "en:france                   123960\n",
      "en:switzerland               14932\n",
      "en:germany                    8470\n",
      "en:spain                      5529\n",
      "en:united-kingdom             5092\n",
      "en:belgium                    2936\n",
      "en:australia                  2201\n",
      "en:russia                     1582\n",
      "en:france,en:switzerland      1492\n",
      "dtype: int64\n",
      "countries_en\n",
      "United States         173159\n",
      "France                123961\n",
      "Switzerland            14932\n",
      "Germany                 8470\n",
      "Spain                   5529\n",
      "United Kingdom          5092\n",
      "Belgium                 2936\n",
      "Australia               2201\n",
      "Russia                  1582\n",
      "France,Switzerland      1492\n",
      "dtype: int64\n",
      "ingredients_text\n",
      "Carbonated water, natural flavor.                                                                                      222\n",
      "Almonds.                                                                                                               219\n",
      "Extra virgin olive oil.                                                                                                202\n",
      "Extra virgin olive oil                                                                                                 192\n",
      "Semolina (wheat), durum flour (wheat), niacin, ferrous sulfate (iron), thiamin mononitrate, riboflavin, folic acid.    184\n",
      "Honey                                                                                                                  150\n",
      "Walnuts.                                                                                                               130\n",
      "Pecans.                                                                                                                128\n",
      "Green beans, water, salt.                                                                                              124\n",
      "Semoule de _blé_ dur de qualité supérieure.                                                                            118\n",
      "dtype: int64\n",
      "serving_size\n",
      "240 ml (8 fl oz)    5496\n",
      "28 g (1 oz)         5374\n",
      "28 g (1 ONZ)        3770\n",
      "30 g                3049\n",
      "15 ml (1 Tbsp)      2959\n",
      "30 g (2 Tbsp)       2898\n",
      "30 g (0.25 cup)     2119\n",
      "240 ml (1 cup)      2012\n",
      "14 g (1 Tbsp)       1885\n",
      "100 g               1814\n",
      "dtype: int64\n",
      "additives\n",
      " [ extra-virgin-olive-oil -> en:extra-virgin-olive-oil  ]  [ virgin-olive-oil -> en:virgin-olive-oil  ]  [ olive-oil -> en:olive-oil  ]  [ oil -> en:oil  ]                                                                                                                                                                                                                                                                                                                          397\n",
      " [ almonds -> en:almonds  ]                                                                                                                                                                                                                                                                                                                                                                                                                                                          274\n",
      " [ honey -> en:honey  ]                                                                                                                                                                                                                                                                                                                                                                                                                                                              269\n",
      " [ carbonated-water -> en:carbonated-water  ]  [ water -> en:water  ]  [ natural-flavor -> en:natural-flavor  ]  [ flavor -> en:flavor  ]                                                                                                                                                                                                                                                                                                                                            233\n",
      " [ semoule-de-ble-dur-de-qualite-superieure -> fr:semoule-de-ble-dur-de-qualite-superieure  ]  [ semoule-de-ble-dur-de-qualite -> fr:semoule-de-ble-dur-de-qualite  ]  [ semoule-de-ble-dur-de -> fr:semoule-de-ble-dur-de  ]  [ semoule-de-ble-dur -> fr:semoule-de-ble-dur  ]  [ semoule-de-ble -> fr:semoule-de-ble  ]  [ semoule-de -> fr:semoule-de  ]  [ semoule -> fr:semoule  ]                                                                                              212\n",
      " [ semolina -> en:semolina  ]  [ wheat -> en:wheat  ]  [ durum-flour -> en:durum-flour  ]  [ flour -> en:flour  ]  [ wheat -> en:wheat  ]  [ niacin -> en:e375  -> exists  -- ok  ]  [ ferrous-sulfate -> en:ferrous-sulfate  ]  [ sulfate -> en:sulfate  ]  [ iron -> en:iron  ]  [ thiamin-mononitrate -> en:thiamin-mononitrate  ]  [ mononitrate -> en:mononitrate  ]  [ riboflavin -> en:e101i  -> exists  -- ok  ]  [ folic-acid -> en:folic-acid  ]  [ acid -> en:acid  ]     188\n",
      " [ walnuts -> en:walnuts  ]                                                                                                                                                                                                                                                                                                                                                                                                                                                          169\n",
      " [ 100-semoule-de-ble-dur-de-qualite-superieure -> fr:100-semoule-de-ble-dur-de-qualite-superieure  ]  [ 100-semoule-de-ble-dur-de-qualite -> fr:100-semoule-de-ble-dur-de-qualite  ]  [ 100-semoule-de-ble-dur-de -> fr:100-semoule-de-ble-dur-de  ]  [ 100-semoule-de-ble-dur -> fr:100-semoule-de-ble-dur  ]  [ 100-semoule-de-ble -> fr:100-semoule-de-ble  ]  [ 100-semoule-de -> fr:100-semoule-de  ]  [ 100-semoule -> fr:100-semoule  ]  [ 100 -> fr:100  ]                  163\n",
      " [ pecans -> en:pecans  ]                                                                                                                                                                                                                                                                                                                                                                                                                                                            161\n",
      " [ contient-des-sulfites -> fr:contient-des-sulfites  ]  [ contient-des -> fr:contient-des  ]  [ contient -> fr:contient  ]                                                                                                                                                                                                                                                                                                                                                          150\n",
      "dtype: int64\n",
      "additives_tags\n",
      "en:e330                     8656\n",
      "en:e322,en:e322i            7955\n",
      "en:e101,en:e101i,en:e375    7673\n",
      "en:e300                     3661\n",
      "en:e415                     2569\n",
      "en:e300,en:e330             2080\n",
      "en:e440,en:e440i            1628\n",
      "en:e330,en:e509             1211\n",
      "en:e160b                    1167\n",
      "en:e150a                    1084\n",
      "dtype: int64\n",
      "additives_en\n",
      "E330 - Citric acid                                            8656\n",
      "E322 - Lecithins,E322i - Lecithin                             7955\n",
      "E101 - Riboflavin,E101i - Riboflavin,E375 - Nicotinic acid    7673\n",
      "E300 - Ascorbic acid                                          3661\n",
      "E415 - Xanthan gum                                            2569\n",
      "E300 - Ascorbic acid,E330 - Citric acid                       2080\n",
      "E440 - Pectins,E440i - Pectin                                 1628\n",
      "E330 - Citric acid,E509 - Calcium chloride                    1211\n",
      "E160b - Annatto                                               1167\n",
      "E150a - Plain caramel                                         1084\n",
      "dtype: int64\n",
      "nutrition_grade_fr\n",
      "d    72436\n",
      "c    52870\n",
      "e    50236\n",
      "a    40304\n",
      "b    39010\n",
      "dtype: int64\n",
      "pnns_groups_1\n",
      "unknown                    43603\n",
      "Sugary snacks              14750\n",
      "Beverages                  13476\n",
      "Milk and dairy products    10733\n",
      "Cereals and potatoes       10078\n",
      "Fish Meat Eggs              9473\n",
      "Composite foods             7972\n",
      "Fat and sauces              7122\n",
      "Fruits and vegetables       6763\n",
      "Salty snacks                3299\n",
      "dtype: int64\n",
      "pnns_groups_2\n",
      "unknown                  43603\n",
      "Non-sugared beverages     7290\n",
      "One-dish meals            6495\n",
      "Sweets                    5685\n",
      "Biscuits and cakes        5511\n",
      "Cereals                   4686\n",
      "Cheese                    4564\n",
      "Dressings and sauces      4522\n",
      "Milk and yogurt           4251\n",
      "Processed meat            3835\n",
      "dtype: int64\n",
      "states\n",
      "en:to-be-completed, en:nutrition-facts-completed, en:ingredients-completed, en:expiration-date-to-be-completed, en:packaging-code-to-be-completed, en:characteristics-to-be-completed, en:categories-to-be-completed, en:brands-completed, en:packaging-to-be-completed, en:quantity-to-be-completed, en:product-name-completed, en:photos-to-be-uploaded                               167862\n",
      "en:to-be-checked, en:complete, en:nutrition-facts-completed, en:ingredients-completed, en:expiration-date-completed, en:characteristics-completed, en:categories-completed, en:brands-completed, en:packaging-completed, en:quantity-completed, en:product-name-completed, en:photos-validated, en:photos-uploaded                                                                       20762\n",
      "en:to-be-checked, en:complete, en:nutrition-facts-completed, en:ingredients-completed, en:expiration-date-to-be-completed, en:characteristics-completed, en:categories-completed, en:brands-completed, en:packaging-completed, en:quantity-completed, en:product-name-completed, en:photos-validated, en:photos-uploaded                                                                 17094\n",
      "en:to-be-completed, en:nutrition-facts-completed, en:ingredients-completed, en:expiration-date-to-be-completed, en:packaging-code-to-be-completed, en:characteristics-to-be-completed, en:categories-to-be-completed, en:brands-completed, en:packaging-to-be-completed, en:quantity-to-be-completed, en:product-name-completed, en:photos-to-be-validated, en:photos-uploaded           13439\n",
      "en:to-be-checked, en:complete, en:nutrition-facts-completed, en:ingredients-completed, en:expiration-date-completed, en:packaging-code-to-be-completed, en:characteristics-completed, en:categories-completed, en:brands-completed, en:packaging-completed, en:quantity-completed, en:product-name-completed, en:photos-validated, en:photos-uploaded                                    12018\n",
      "en:to-be-completed, en:nutrition-facts-completed, en:ingredients-to-be-completed, en:expiration-date-to-be-completed, en:packaging-code-to-be-completed, en:characteristics-to-be-completed, en:categories-to-be-completed, en:brands-completed, en:packaging-to-be-completed, en:quantity-to-be-completed, en:product-name-completed, en:photos-to-be-validated, en:photos-uploaded      8860\n",
      "en:to-be-checked, en:complete, en:nutrition-facts-completed, en:ingredients-completed, en:expiration-date-to-be-completed, en:packaging-code-to-be-completed, en:characteristics-completed, en:categories-completed, en:brands-completed, en:packaging-completed, en:quantity-completed, en:product-name-completed, en:photos-validated, en:photos-uploaded                               8194\n",
      "en:to-be-completed, en:nutrition-facts-to-be-completed, en:ingredients-to-be-completed, en:expiration-date-to-be-completed, en:characteristics-to-be-completed, en:categories-to-be-completed, en:brands-to-be-completed, en:packaging-to-be-completed, en:quantity-to-be-completed, en:product-name-to-be-completed, en:photos-to-be-validated, en:photos-uploaded                       6888\n",
      "en:to-be-checked, en:complete, en:nutrition-facts-completed, en:ingredients-completed, en:expiration-date-completed, en:packaging-code-completed, en:characteristics-completed, en:categories-completed, en:brands-completed, en:packaging-completed, en:quantity-completed, en:product-name-completed, en:photos-validated, en:photos-uploaded                                           6791\n",
      "en:to-be-completed, en:nutrition-facts-to-be-completed, en:ingredients-to-be-completed, en:expiration-date-to-be-completed, en:characteristics-to-be-completed, en:categories-to-be-completed, en:brands-completed, en:packaging-to-be-completed, en:quantity-completed, en:product-name-completed, en:photos-to-be-validated, en:photos-uploaded                                         5521\n",
      "dtype: int64\n",
      "states_tags\n",
      "en:to-be-completed,en:nutrition-facts-completed,en:ingredients-completed,en:expiration-date-to-be-completed,en:packaging-code-to-be-completed,en:characteristics-to-be-completed,en:categories-to-be-completed,en:brands-completed,en:packaging-to-be-completed,en:quantity-to-be-completed,en:product-name-completed,en:photos-to-be-uploaded                              167862\n",
      "en:to-be-checked,en:complete,en:nutrition-facts-completed,en:ingredients-completed,en:expiration-date-completed,en:characteristics-completed,en:categories-completed,en:brands-completed,en:packaging-completed,en:quantity-completed,en:product-name-completed,en:photos-validated,en:photos-uploaded                                                                       20762\n",
      "en:to-be-checked,en:complete,en:nutrition-facts-completed,en:ingredients-completed,en:expiration-date-to-be-completed,en:characteristics-completed,en:categories-completed,en:brands-completed,en:packaging-completed,en:quantity-completed,en:product-name-completed,en:photos-validated,en:photos-uploaded                                                                 17094\n",
      "en:to-be-completed,en:nutrition-facts-completed,en:ingredients-completed,en:expiration-date-to-be-completed,en:packaging-code-to-be-completed,en:characteristics-to-be-completed,en:categories-to-be-completed,en:brands-completed,en:packaging-to-be-completed,en:quantity-to-be-completed,en:product-name-completed,en:photos-to-be-validated,en:photos-uploaded           13439\n",
      "en:to-be-checked,en:complete,en:nutrition-facts-completed,en:ingredients-completed,en:expiration-date-completed,en:packaging-code-to-be-completed,en:characteristics-completed,en:categories-completed,en:brands-completed,en:packaging-completed,en:quantity-completed,en:product-name-completed,en:photos-validated,en:photos-uploaded                                     12018\n",
      "en:to-be-completed,en:nutrition-facts-completed,en:ingredients-to-be-completed,en:expiration-date-to-be-completed,en:packaging-code-to-be-completed,en:characteristics-to-be-completed,en:categories-to-be-completed,en:brands-completed,en:packaging-to-be-completed,en:quantity-to-be-completed,en:product-name-completed,en:photos-to-be-validated,en:photos-uploaded      8860\n",
      "en:to-be-checked,en:complete,en:nutrition-facts-completed,en:ingredients-completed,en:expiration-date-to-be-completed,en:packaging-code-to-be-completed,en:characteristics-completed,en:categories-completed,en:brands-completed,en:packaging-completed,en:quantity-completed,en:product-name-completed,en:photos-validated,en:photos-uploaded                                8194\n",
      "en:to-be-completed,en:nutrition-facts-to-be-completed,en:ingredients-to-be-completed,en:expiration-date-to-be-completed,en:characteristics-to-be-completed,en:categories-to-be-completed,en:brands-to-be-completed,en:packaging-to-be-completed,en:quantity-to-be-completed,en:product-name-to-be-completed,en:photos-to-be-validated,en:photos-uploaded                      6888\n",
      "en:to-be-checked,en:complete,en:nutrition-facts-completed,en:ingredients-completed,en:expiration-date-completed,en:packaging-code-completed,en:characteristics-completed,en:categories-completed,en:brands-completed,en:packaging-completed,en:quantity-completed,en:product-name-completed,en:photos-validated,en:photos-uploaded                                            6791\n",
      "en:to-be-completed,en:nutrition-facts-to-be-completed,en:ingredients-to-be-completed,en:expiration-date-to-be-completed,en:characteristics-to-be-completed,en:categories-to-be-completed,en:brands-completed,en:packaging-to-be-completed,en:quantity-completed,en:product-name-completed,en:photos-to-be-validated,en:photos-uploaded                                        5521\n",
      "dtype: int64\n",
      "states_en\n",
      "To be completed,Nutrition facts completed,Ingredients completed,Expiration date to be completed,Packaging-code-to-be-completed,Characteristics to be completed,Categories to be completed,Brands completed,Packaging to be completed,Quantity to be completed,Product name completed,Photos to be uploaded                           167862\n",
      "To be checked,Complete,Nutrition facts completed,Ingredients completed,Expiration date completed,Characteristics completed,Categories completed,Brands completed,Packaging completed,Quantity completed,Product name completed,Photos validated,Photos uploaded                                                                       20762\n",
      "To be checked,Complete,Nutrition facts completed,Ingredients completed,Expiration date to be completed,Characteristics completed,Categories completed,Brands completed,Packaging completed,Quantity completed,Product name completed,Photos validated,Photos uploaded                                                                 17094\n",
      "To be completed,Nutrition facts completed,Ingredients completed,Expiration date to be completed,Packaging-code-to-be-completed,Characteristics to be completed,Categories to be completed,Brands completed,Packaging to be completed,Quantity to be completed,Product name completed,Photos to be validated,Photos uploaded           13439\n",
      "To be checked,Complete,Nutrition facts completed,Ingredients completed,Expiration date completed,Packaging-code-to-be-completed,Characteristics completed,Categories completed,Brands completed,Packaging completed,Quantity completed,Product name completed,Photos validated,Photos uploaded                                        12018\n",
      "To be completed,Nutrition facts completed,Ingredients to be completed,Expiration date to be completed,Packaging-code-to-be-completed,Characteristics to be completed,Categories to be completed,Brands completed,Packaging to be completed,Quantity to be completed,Product name completed,Photos to be validated,Photos uploaded      8860\n",
      "To be checked,Complete,Nutrition facts completed,Ingredients completed,Expiration date to be completed,Packaging-code-to-be-completed,Characteristics completed,Categories completed,Brands completed,Packaging completed,Quantity completed,Product name completed,Photos validated,Photos uploaded                                   8194\n",
      "To be completed,Nutrition facts to be completed,Ingredients to be completed,Expiration date to be completed,Characteristics to be completed,Categories to be completed,Brands to be completed,Packaging to be completed,Quantity to be completed,Product name to be completed,Photos to be validated,Photos uploaded                   6888\n",
      "To be checked,Complete,Nutrition facts completed,Ingredients completed,Expiration date completed,Packaging-code-completed,Characteristics completed,Categories completed,Brands completed,Packaging completed,Quantity completed,Product name completed,Photos validated,Photos uploaded                                               6791\n",
      "To be completed,Nutrition facts to be completed,Ingredients to be completed,Expiration date to be completed,Characteristics to be completed,Categories to be completed,Brands completed,Packaging to be completed,Quantity completed,Product name completed,Photos to be validated,Photos uploaded                                     5521\n",
      "dtype: int64\n"
     ]
    }
   ],
   "source": [
    "for column in columns_cat:\n",
    "    df_cat = df_short.select_dtypes(exclude=np.number).groupby(column)\n",
    "    print(df_cat.size().sort_values(ascending=False)[0:10])"
   ]
  },
  {
   "cell_type": "markdown",
   "id": "careful-plumbing",
   "metadata": {},
   "source": [
    "Are there duplicate products?"
   ]
  },
  {
   "cell_type": "code",
   "execution_count": 46,
   "id": "greek-company",
   "metadata": {},
   "outputs": [
    {
     "data": {
      "text/plain": [
       "False    356027\n",
       "dtype: int64"
      ]
     },
     "execution_count": 46,
     "metadata": {},
     "output_type": "execute_result"
    }
   ],
   "source": [
    "df.duplicated().value_counts()"
   ]
  },
  {
   "cell_type": "markdown",
   "id": "weekly-monthly",
   "metadata": {},
   "source": [
    "No row is duplicated across the table"
   ]
  },
  {
   "cell_type": "code",
   "execution_count": 47,
   "id": "federal-lightning",
   "metadata": {},
   "outputs": [
    {
     "data": {
      "text/plain": [
       "(133602, 163)"
      ]
     },
     "execution_count": 47,
     "metadata": {},
     "output_type": "execute_result"
    }
   ],
   "source": [
    "df[df.duplicated(subset=['product_name'],keep=False)==True].shape"
   ]
  },
  {
   "cell_type": "markdown",
   "id": "applicable-darwin",
   "metadata": {},
   "source": [
    "133'602 duplicates incl. NaN values in the column 'product_name' "
   ]
  },
  {
   "cell_type": "code",
   "execution_count": 48,
   "id": "attached-england",
   "metadata": {},
   "outputs": [
    {
     "data": {
      "text/plain": [
       "False    249246\n",
       "True     106781\n",
       "Name: product_name, dtype: int64"
      ]
     },
     "execution_count": 48,
     "metadata": {},
     "output_type": "execute_result"
    }
   ],
   "source": [
    "df['product_name'].duplicated().value_counts()"
   ]
  },
  {
   "cell_type": "markdown",
   "id": "alike-stake",
   "metadata": {},
   "source": [
    "106'781 duplicates in the column 'product_name' (excluding the first unique value respectively)"
   ]
  },
  {
   "cell_type": "markdown",
   "id": "median-allowance",
   "metadata": {},
   "source": [
    "------"
   ]
  },
  {
   "cell_type": "markdown",
   "id": "demanding-fellowship",
   "metadata": {},
   "source": [
    "## B. In-depth analysis"
   ]
  },
  {
   "cell_type": "markdown",
   "id": "blocked-humidity",
   "metadata": {},
   "source": [
    "Choose 3 interesting questions that must be complex enough to allow for some substantial data manipulation:\n",
    "\n",
    "1. What's the proportion of the _100g ingredients for all products available in the US? \n",
    "2. Based on the first questions are there any significant difference between top 10 brands?\n",
    "3. What product category is most prone to have low values of energy?"
   ]
  },
  {
   "cell_type": "markdown",
   "id": "above-serum",
   "metadata": {},
   "source": [
    "1. What's the proportion of the _100g ingredients for all products available in the US?"
   ]
  },
  {
   "cell_type": "code",
   "execution_count": 49,
   "id": "sufficient-franchise",
   "metadata": {},
   "outputs": [],
   "source": [
    "df_short_US = df_short[df_short['countries'] == 'US']"
   ]
  },
  {
   "cell_type": "code",
   "execution_count": 50,
   "id": "median-tamil",
   "metadata": {},
   "outputs": [
    {
     "data": {
      "text/plain": [
       "(169789, 30)"
      ]
     },
     "execution_count": 50,
     "metadata": {},
     "output_type": "execute_result"
    }
   ],
   "source": [
    "df_short_US.shape"
   ]
  },
  {
   "cell_type": "markdown",
   "id": "champion-amber",
   "metadata": {},
   "source": [
    "for _100g variables check the following:\n",
    "  - proportion of missing values for brands and _100g variables and how to handle them, **OK** (see below)\n",
    "  - any duplicates and how to handle them => lots of duplicated values (expected for this analysis, therefore accepted), **OK**\n",
    "  - appropriate data type of column => dtypes are **OK** \n",
    "  - any particular issues from analyzing statistics (non-logical negatives, outliers)**OK** (see below)\n",
    "  - any lists in the columns => no, **OK** \n",
    "  - consistency (like alphabet)=> numbers only, **OK**"
   ]
  },
  {
   "cell_type": "code",
   "execution_count": 51,
   "id": "accepted-winning",
   "metadata": {},
   "outputs": [
    {
     "data": {
      "text/plain": [
       "code                            0\n",
       "product_name                  128\n",
       "brands                        935\n",
       "brands_tags                   935\n",
       "countries                       0\n",
       "countries_tags                  0\n",
       "countries_en                    0\n",
       "ingredients_text               86\n",
       "serving_size                   86\n",
       "additives_n                 59113\n",
       "additives                      91\n",
       "additives_tags              59113\n",
       "additives_en                59113\n",
       "nutrition_grade_fr          32312\n",
       "pnns_groups_1              168835\n",
       "pnns_groups_2              168835\n",
       "states                          0\n",
       "states_tags                     0\n",
       "states_en                       0\n",
       "energy_100g                  8844\n",
       "fat_100g                    58422\n",
       "saturated-fat_100g          83912\n",
       "carbohydrates_100g          18674\n",
       "sugars_100g                 42412\n",
       "fiber_100g                  83601\n",
       "proteins_100g               48706\n",
       "salt_100g                   27342\n",
       "sodium_100g                 27342\n",
       "nutrition-score-fr_100g     40410\n",
       "nutrition-score-uk_100g     40430\n",
       "dtype: int64"
      ]
     },
     "execution_count": 51,
     "metadata": {},
     "output_type": "execute_result"
    }
   ],
   "source": [
    "df_short_US.isnull().sum()"
   ]
  },
  {
   "cell_type": "markdown",
   "id": "regulation-intranet",
   "metadata": {},
   "source": [
    "- brands: almost no missing values\n",
    "- _100 g variables: saturated-fat_100g and fiber_100g have a significant proportion of null values => working assumption: missing values NOT due to bad data quality but because of missing nutrition in the product\n",
    "- nutrition score fr/uk 100g: to be dropped since this is not relevant for the analysis"
   ]
  },
  {
   "cell_type": "code",
   "execution_count": 52,
   "id": "familiar-consideration",
   "metadata": {},
   "outputs": [
    {
     "data": {
      "text/html": [
       "<div>\n",
       "<style scoped>\n",
       "    .dataframe tbody tr th:only-of-type {\n",
       "        vertical-align: middle;\n",
       "    }\n",
       "\n",
       "    .dataframe tbody tr th {\n",
       "        vertical-align: top;\n",
       "    }\n",
       "\n",
       "    .dataframe thead th {\n",
       "        text-align: right;\n",
       "    }\n",
       "</style>\n",
       "<table border=\"1\" class=\"dataframe\">\n",
       "  <thead>\n",
       "    <tr style=\"text-align: right;\">\n",
       "      <th></th>\n",
       "      <th>fat_100g</th>\n",
       "      <th>saturated-fat_100g</th>\n",
       "    </tr>\n",
       "  </thead>\n",
       "  <tbody>\n",
       "    <tr>\n",
       "      <th>1</th>\n",
       "      <td>28.57</td>\n",
       "      <td>28.57</td>\n",
       "    </tr>\n",
       "    <tr>\n",
       "      <th>2</th>\n",
       "      <td>17.86</td>\n",
       "      <td>NaN</td>\n",
       "    </tr>\n",
       "    <tr>\n",
       "      <th>3</th>\n",
       "      <td>57.14</td>\n",
       "      <td>5.36</td>\n",
       "    </tr>\n",
       "    <tr>\n",
       "      <th>4</th>\n",
       "      <td>1.43</td>\n",
       "      <td>NaN</td>\n",
       "    </tr>\n",
       "    <tr>\n",
       "      <th>5</th>\n",
       "      <td>18.27</td>\n",
       "      <td>1.92</td>\n",
       "    </tr>\n",
       "    <tr>\n",
       "      <th>...</th>\n",
       "      <td>...</td>\n",
       "      <td>...</td>\n",
       "    </tr>\n",
       "    <tr>\n",
       "      <th>355968</th>\n",
       "      <td>9.72</td>\n",
       "      <td>2.78</td>\n",
       "    </tr>\n",
       "    <tr>\n",
       "      <th>355985</th>\n",
       "      <td>NaN</td>\n",
       "      <td>NaN</td>\n",
       "    </tr>\n",
       "    <tr>\n",
       "      <th>356004</th>\n",
       "      <td>NaN</td>\n",
       "      <td>NaN</td>\n",
       "    </tr>\n",
       "    <tr>\n",
       "      <th>356022</th>\n",
       "      <td>NaN</td>\n",
       "      <td>NaN</td>\n",
       "    </tr>\n",
       "    <tr>\n",
       "      <th>356026</th>\n",
       "      <td>NaN</td>\n",
       "      <td>NaN</td>\n",
       "    </tr>\n",
       "  </tbody>\n",
       "</table>\n",
       "<p>169789 rows × 2 columns</p>\n",
       "</div>"
      ],
      "text/plain": [
       "        fat_100g  saturated-fat_100g\n",
       "1          28.57               28.57\n",
       "2          17.86                 NaN\n",
       "3          57.14                5.36\n",
       "4           1.43                 NaN\n",
       "5          18.27                1.92\n",
       "...          ...                 ...\n",
       "355968      9.72                2.78\n",
       "355985       NaN                 NaN\n",
       "356004       NaN                 NaN\n",
       "356022       NaN                 NaN\n",
       "356026       NaN                 NaN\n",
       "\n",
       "[169789 rows x 2 columns]"
      ]
     },
     "execution_count": 52,
     "metadata": {},
     "output_type": "execute_result"
    }
   ],
   "source": [
    "df_short_US[['fat_100g', 'saturated-fat_100g']]"
   ]
  },
  {
   "cell_type": "markdown",
   "id": "collectible-documentation",
   "metadata": {},
   "source": [
    "Working assumption: if saturated-fat_100g = NaN, then fat_100g = **un**saturated-fat_100g"
   ]
  },
  {
   "cell_type": "code",
   "execution_count": 53,
   "id": "expanded-trading",
   "metadata": {},
   "outputs": [],
   "source": [
    "df_short_US_1 = df_short_US[['product_name','brands','energy_100g','fat_100g','saturated-fat_100g','carbohydrates_100g','sugars_100g','fiber_100g','proteins_100g','salt_100g','sodium_100g']]"
   ]
  },
  {
   "cell_type": "code",
   "execution_count": 54,
   "id": "powerful-teens",
   "metadata": {},
   "outputs": [
    {
     "data": {
      "text/html": [
       "<div>\n",
       "<style scoped>\n",
       "    .dataframe tbody tr th:only-of-type {\n",
       "        vertical-align: middle;\n",
       "    }\n",
       "\n",
       "    .dataframe tbody tr th {\n",
       "        vertical-align: top;\n",
       "    }\n",
       "\n",
       "    .dataframe thead th {\n",
       "        text-align: right;\n",
       "    }\n",
       "</style>\n",
       "<table border=\"1\" class=\"dataframe\">\n",
       "  <thead>\n",
       "    <tr style=\"text-align: right;\">\n",
       "      <th></th>\n",
       "      <th>product_name</th>\n",
       "      <th>brands</th>\n",
       "      <th>energy_100g</th>\n",
       "      <th>fat_100g</th>\n",
       "      <th>saturated-fat_100g</th>\n",
       "      <th>carbohydrates_100g</th>\n",
       "      <th>sugars_100g</th>\n",
       "      <th>fiber_100g</th>\n",
       "      <th>proteins_100g</th>\n",
       "      <th>salt_100g</th>\n",
       "      <th>sodium_100g</th>\n",
       "    </tr>\n",
       "  </thead>\n",
       "  <tbody>\n",
       "    <tr>\n",
       "      <th>1</th>\n",
       "      <td>Banana Chips Sweetened (Whole)</td>\n",
       "      <td>NaN</td>\n",
       "      <td>2243.0</td>\n",
       "      <td>28.57</td>\n",
       "      <td>28.57</td>\n",
       "      <td>64.29</td>\n",
       "      <td>14.29</td>\n",
       "      <td>3.6</td>\n",
       "      <td>3.57</td>\n",
       "      <td>NaN</td>\n",
       "      <td>NaN</td>\n",
       "    </tr>\n",
       "    <tr>\n",
       "      <th>2</th>\n",
       "      <td>Peanuts</td>\n",
       "      <td>Torn &amp; Glasser</td>\n",
       "      <td>1941.0</td>\n",
       "      <td>17.86</td>\n",
       "      <td>NaN</td>\n",
       "      <td>60.71</td>\n",
       "      <td>17.86</td>\n",
       "      <td>7.1</td>\n",
       "      <td>17.86</td>\n",
       "      <td>0.635</td>\n",
       "      <td>0.25</td>\n",
       "    </tr>\n",
       "  </tbody>\n",
       "</table>\n",
       "</div>"
      ],
      "text/plain": [
       "                     product_name          brands  energy_100g  fat_100g  \\\n",
       "1  Banana Chips Sweetened (Whole)             NaN       2243.0     28.57   \n",
       "2                         Peanuts  Torn & Glasser       1941.0     17.86   \n",
       "\n",
       "   saturated-fat_100g  carbohydrates_100g  sugars_100g  fiber_100g  \\\n",
       "1               28.57               64.29        14.29         3.6   \n",
       "2                 NaN               60.71        17.86         7.1   \n",
       "\n",
       "   proteins_100g  salt_100g  sodium_100g  \n",
       "1           3.57        NaN          NaN  \n",
       "2          17.86      0.635         0.25  "
      ]
     },
     "execution_count": 54,
     "metadata": {},
     "output_type": "execute_result"
    }
   ],
   "source": [
    "df_short_US_1.head(2)"
   ]
  },
  {
   "cell_type": "code",
   "execution_count": 55,
   "id": "likely-ceremony",
   "metadata": {},
   "outputs": [
    {
     "name": "stdout",
     "output_type": "stream",
     "text": [
      "<class 'pandas.core.frame.DataFrame'>\n",
      "Int64Index: 169789 entries, 1 to 356026\n",
      "Data columns (total 11 columns):\n",
      " #   Column              Non-Null Count   Dtype  \n",
      "---  ------              --------------   -----  \n",
      " 0   product_name        169661 non-null  object \n",
      " 1   brands              168854 non-null  object \n",
      " 2   energy_100g         160945 non-null  float64\n",
      " 3   fat_100g            111367 non-null  float64\n",
      " 4   saturated-fat_100g  85877 non-null   float64\n",
      " 5   carbohydrates_100g  151115 non-null  float64\n",
      " 6   sugars_100g         127377 non-null  float64\n",
      " 7   fiber_100g          86188 non-null   float64\n",
      " 8   proteins_100g       121083 non-null  float64\n",
      " 9   salt_100g           142447 non-null  float64\n",
      " 10  sodium_100g         142447 non-null  float64\n",
      "dtypes: float64(9), object(2)\n",
      "memory usage: 15.5+ MB\n"
     ]
    }
   ],
   "source": [
    "df_short_US_1.info()"
   ]
  },
  {
   "cell_type": "code",
   "execution_count": 56,
   "id": "electoral-brain",
   "metadata": {},
   "outputs": [
    {
     "data": {
      "text/html": [
       "<div>\n",
       "<style scoped>\n",
       "    .dataframe tbody tr th:only-of-type {\n",
       "        vertical-align: middle;\n",
       "    }\n",
       "\n",
       "    .dataframe tbody tr th {\n",
       "        vertical-align: top;\n",
       "    }\n",
       "\n",
       "    .dataframe thead th {\n",
       "        text-align: right;\n",
       "    }\n",
       "</style>\n",
       "<table border=\"1\" class=\"dataframe\">\n",
       "  <thead>\n",
       "    <tr style=\"text-align: right;\">\n",
       "      <th></th>\n",
       "      <th>energy_100g</th>\n",
       "      <th>fat_100g</th>\n",
       "      <th>saturated-fat_100g</th>\n",
       "      <th>carbohydrates_100g</th>\n",
       "      <th>sugars_100g</th>\n",
       "      <th>fiber_100g</th>\n",
       "      <th>proteins_100g</th>\n",
       "      <th>salt_100g</th>\n",
       "      <th>sodium_100g</th>\n",
       "    </tr>\n",
       "  </thead>\n",
       "  <tbody>\n",
       "    <tr>\n",
       "      <th>50%</th>\n",
       "      <td>1209.00</td>\n",
       "      <td>14.12</td>\n",
       "      <td>6.06</td>\n",
       "      <td>30.56</td>\n",
       "      <td>11.61</td>\n",
       "      <td>3.30</td>\n",
       "      <td>7.14</td>\n",
       "      <td>0.85</td>\n",
       "      <td>0.33</td>\n",
       "    </tr>\n",
       "    <tr>\n",
       "      <th>mean</th>\n",
       "      <td>1191.42</td>\n",
       "      <td>18.84</td>\n",
       "      <td>8.22</td>\n",
       "      <td>37.85</td>\n",
       "      <td>21.39</td>\n",
       "      <td>4.73</td>\n",
       "      <td>9.50</td>\n",
       "      <td>2.92</td>\n",
       "      <td>1.15</td>\n",
       "    </tr>\n",
       "    <tr>\n",
       "      <th>min</th>\n",
       "      <td>4.00</td>\n",
       "      <td>0.02</td>\n",
       "      <td>0.01</td>\n",
       "      <td>0.01</td>\n",
       "      <td>-17.86</td>\n",
       "      <td>-6.70</td>\n",
       "      <td>-800.00</td>\n",
       "      <td>0.00</td>\n",
       "      <td>0.00</td>\n",
       "    </tr>\n",
       "    <tr>\n",
       "      <th>max</th>\n",
       "      <td>231199.00</td>\n",
       "      <td>100.00</td>\n",
       "      <td>550.00</td>\n",
       "      <td>2916.67</td>\n",
       "      <td>3520.00</td>\n",
       "      <td>5380.00</td>\n",
       "      <td>430.00</td>\n",
       "      <td>64312.80</td>\n",
       "      <td>25320.00</td>\n",
       "    </tr>\n",
       "    <tr>\n",
       "      <th>75%</th>\n",
       "      <td>1674.00</td>\n",
       "      <td>27.27</td>\n",
       "      <td>11.54</td>\n",
       "      <td>64.29</td>\n",
       "      <td>33.33</td>\n",
       "      <td>6.20</td>\n",
       "      <td>12.82</td>\n",
       "      <td>1.63</td>\n",
       "      <td>0.64</td>\n",
       "    </tr>\n",
       "  </tbody>\n",
       "</table>\n",
       "</div>"
      ],
      "text/plain": [
       "      energy_100g  fat_100g  saturated-fat_100g  carbohydrates_100g  \\\n",
       "50%       1209.00     14.12                6.06               30.56   \n",
       "mean      1191.42     18.84                8.22               37.85   \n",
       "min          4.00      0.02                0.01                0.01   \n",
       "max     231199.00    100.00              550.00             2916.67   \n",
       "75%       1674.00     27.27               11.54               64.29   \n",
       "\n",
       "      sugars_100g  fiber_100g  proteins_100g  salt_100g  sodium_100g  \n",
       "50%         11.61        3.30           7.14       0.85         0.33  \n",
       "mean        21.39        4.73           9.50       2.92         1.15  \n",
       "min        -17.86       -6.70        -800.00       0.00         0.00  \n",
       "max       3520.00     5380.00         430.00   64312.80     25320.00  \n",
       "75%         33.33        6.20          12.82       1.63         0.64  "
      ]
     },
     "execution_count": 56,
     "metadata": {},
     "output_type": "execute_result"
    }
   ],
   "source": [
    "round(df_short_US_1.describe().loc[['50%','mean', 'min', 'max', '75%']],2)"
   ]
  },
  {
   "cell_type": "markdown",
   "id": "vocal-panama",
   "metadata": {},
   "source": [
    "- sugar, fiber and protein contain negative values\n",
    "- all variables (except of fat_100g) have a maximum value extremely far from 75% percentile"
   ]
  },
  {
   "cell_type": "markdown",
   "id": "subtle-commerce",
   "metadata": {},
   "source": [
    "Remove all negative values and all values over 100 for variables with suffix _100g (reason: it's per 100g hence cannot be more than 100):"
   ]
  },
  {
   "cell_type": "code",
   "execution_count": 57,
   "id": "talented-action",
   "metadata": {},
   "outputs": [],
   "source": [
    "def NaN_if_negative(x):\n",
    "    if x < 0:\n",
    "        return np.nan\n",
    "    elif x > 100:\n",
    "        return np.nan\n",
    "    return x"
   ]
  },
  {
   "cell_type": "code",
   "execution_count": 58,
   "id": "dangerous-title",
   "metadata": {},
   "outputs": [
    {
     "name": "stderr",
     "output_type": "stream",
     "text": [
      "/Users/heyus/opt/anaconda3/lib/python3.7/site-packages/pandas/core/generic.py:5494: SettingWithCopyWarning: \n",
      "A value is trying to be set on a copy of a slice from a DataFrame.\n",
      "Try using .loc[row_indexer,col_indexer] = value instead\n",
      "\n",
      "See the caveats in the documentation: https://pandas.pydata.org/pandas-docs/stable/user_guide/indexing.html#returning-a-view-versus-a-copy\n",
      "  self[name] = value\n",
      "/Users/heyus/opt/anaconda3/lib/python3.7/site-packages/ipykernel_launcher.py:2: SettingWithCopyWarning: \n",
      "A value is trying to be set on a copy of a slice from a DataFrame.\n",
      "Try using .loc[row_indexer,col_indexer] = value instead\n",
      "\n",
      "See the caveats in the documentation: https://pandas.pydata.org/pandas-docs/stable/user_guide/indexing.html#returning-a-view-versus-a-copy\n",
      "  \n"
     ]
    }
   ],
   "source": [
    "df_short_US_1.fat_100g = df_short_US_1.fat_100g.apply(NaN_if_negative)\n",
    "df_short_US_1['saturated-fat_100g'] = df_short_US_1['saturated-fat_100g'].apply(NaN_if_negative)\n",
    "df_short_US_1.carbohydrates_100g = df_short_US_1.carbohydrates_100g.apply(NaN_if_negative)\n",
    "df_short_US_1.sugars_100g = df_short_US_1.sugars_100g.apply(NaN_if_negative)\n",
    "df_short_US_1.fiber_100g = df_short_US_1.fiber_100g.apply(NaN_if_negative)\n",
    "df_short_US_1.proteins_100g = df_short_US_1.proteins_100g.apply(NaN_if_negative)\n",
    "df_short_US_1.salt_100g = df_short_US_1.salt_100g.apply(NaN_if_negative)\n",
    "df_short_US_1.sodium_100g = df_short_US_1.sodium_100g.apply(NaN_if_negative)"
   ]
  },
  {
   "cell_type": "code",
   "execution_count": 59,
   "id": "executive-remainder",
   "metadata": {},
   "outputs": [
    {
     "data": {
      "text/html": [
       "<div>\n",
       "<style scoped>\n",
       "    .dataframe tbody tr th:only-of-type {\n",
       "        vertical-align: middle;\n",
       "    }\n",
       "\n",
       "    .dataframe tbody tr th {\n",
       "        vertical-align: top;\n",
       "    }\n",
       "\n",
       "    .dataframe thead th {\n",
       "        text-align: right;\n",
       "    }\n",
       "</style>\n",
       "<table border=\"1\" class=\"dataframe\">\n",
       "  <thead>\n",
       "    <tr style=\"text-align: right;\">\n",
       "      <th></th>\n",
       "      <th>energy_100g</th>\n",
       "      <th>fat_100g</th>\n",
       "      <th>saturated-fat_100g</th>\n",
       "      <th>carbohydrates_100g</th>\n",
       "      <th>sugars_100g</th>\n",
       "      <th>fiber_100g</th>\n",
       "      <th>proteins_100g</th>\n",
       "      <th>salt_100g</th>\n",
       "      <th>sodium_100g</th>\n",
       "    </tr>\n",
       "  </thead>\n",
       "  <tbody>\n",
       "    <tr>\n",
       "      <th>50%</th>\n",
       "      <td>1209.00</td>\n",
       "      <td>14.12</td>\n",
       "      <td>6.06</td>\n",
       "      <td>30.56</td>\n",
       "      <td>11.61</td>\n",
       "      <td>3.30</td>\n",
       "      <td>7.14</td>\n",
       "      <td>0.85</td>\n",
       "      <td>0.33</td>\n",
       "    </tr>\n",
       "    <tr>\n",
       "      <th>mean</th>\n",
       "      <td>1191.42</td>\n",
       "      <td>18.84</td>\n",
       "      <td>8.21</td>\n",
       "      <td>37.83</td>\n",
       "      <td>21.36</td>\n",
       "      <td>4.66</td>\n",
       "      <td>9.50</td>\n",
       "      <td>2.15</td>\n",
       "      <td>0.88</td>\n",
       "    </tr>\n",
       "    <tr>\n",
       "      <th>min</th>\n",
       "      <td>4.00</td>\n",
       "      <td>0.02</td>\n",
       "      <td>0.01</td>\n",
       "      <td>0.01</td>\n",
       "      <td>0.01</td>\n",
       "      <td>0.10</td>\n",
       "      <td>0.01</td>\n",
       "      <td>0.00</td>\n",
       "      <td>0.00</td>\n",
       "    </tr>\n",
       "    <tr>\n",
       "      <th>max</th>\n",
       "      <td>231199.00</td>\n",
       "      <td>100.00</td>\n",
       "      <td>100.00</td>\n",
       "      <td>100.00</td>\n",
       "      <td>100.00</td>\n",
       "      <td>100.00</td>\n",
       "      <td>100.00</td>\n",
       "      <td>99.91</td>\n",
       "      <td>100.00</td>\n",
       "    </tr>\n",
       "    <tr>\n",
       "      <th>75%</th>\n",
       "      <td>1674.00</td>\n",
       "      <td>27.27</td>\n",
       "      <td>11.54</td>\n",
       "      <td>64.29</td>\n",
       "      <td>33.33</td>\n",
       "      <td>6.20</td>\n",
       "      <td>12.82</td>\n",
       "      <td>1.63</td>\n",
       "      <td>0.64</td>\n",
       "    </tr>\n",
       "  </tbody>\n",
       "</table>\n",
       "</div>"
      ],
      "text/plain": [
       "      energy_100g  fat_100g  saturated-fat_100g  carbohydrates_100g  \\\n",
       "50%       1209.00     14.12                6.06               30.56   \n",
       "mean      1191.42     18.84                8.21               37.83   \n",
       "min          4.00      0.02                0.01                0.01   \n",
       "max     231199.00    100.00              100.00              100.00   \n",
       "75%       1674.00     27.27               11.54               64.29   \n",
       "\n",
       "      sugars_100g  fiber_100g  proteins_100g  salt_100g  sodium_100g  \n",
       "50%         11.61        3.30           7.14       0.85         0.33  \n",
       "mean        21.36        4.66           9.50       2.15         0.88  \n",
       "min          0.01        0.10           0.01       0.00         0.00  \n",
       "max        100.00      100.00         100.00      99.91       100.00  \n",
       "75%         33.33        6.20          12.82       1.63         0.64  "
      ]
     },
     "execution_count": 59,
     "metadata": {},
     "output_type": "execute_result"
    }
   ],
   "source": [
    "round(df_short_US_1.describe().loc[['50%','mean', 'min', 'max', '75%']],2)"
   ]
  },
  {
   "cell_type": "markdown",
   "id": "honey-search",
   "metadata": {},
   "source": [
    "Remove outliers based on the z-score (Manual outlier removal by z-score (\"3 times the standard deviation from the mean\"), if the distribution would not be skewed:"
   ]
  },
  {
   "cell_type": "code",
   "execution_count": 60,
   "id": "cordless-cookbook",
   "metadata": {},
   "outputs": [],
   "source": [
    "zscores_df = (df_short_US_1 - df_short_US_1.mean()) / (df_short_US_1.std())\n",
    "zfilter_df = np.abs(zscores_df) > 3"
   ]
  },
  {
   "cell_type": "code",
   "execution_count": 61,
   "id": "refined-librarian",
   "metadata": {},
   "outputs": [
    {
     "name": "stdout",
     "output_type": "stream",
     "text": [
      "Number of outliers detected per feature using z-scores:\n",
      "brands                   0\n",
      "carbohydrates_100g       0\n",
      "energy_100g             41\n",
      "fat_100g              2888\n",
      "fiber_100g            1725\n",
      "product_name             0\n",
      "proteins_100g         1827\n",
      "salt_100g             1999\n",
      "saturated-fat_100g    1014\n",
      "sodium_100g           1973\n",
      "sugars_100g           1695\n",
      "dtype: int64\n",
      "Total number of outliers detected: 13162\n"
     ]
    }
   ],
   "source": [
    "print(\"Number of outliers detected per feature using z-scores:\")\n",
    "print(zfilter_df.sum(axis=0))\n",
    "print(\"Total number of outliers detected:\", zfilter_df.sum(axis=0).sum())"
   ]
  },
  {
   "cell_type": "code",
   "execution_count": 62,
   "id": "patent-attribute",
   "metadata": {},
   "outputs": [],
   "source": [
    "zfilter_any  = zfilter_df.any(axis=1)"
   ]
  },
  {
   "cell_type": "code",
   "execution_count": 63,
   "id": "lesser-slope",
   "metadata": {},
   "outputs": [
    {
     "data": {
      "text/plain": [
       "(10567, 11)"
      ]
     },
     "execution_count": 63,
     "metadata": {},
     "output_type": "execute_result"
    }
   ],
   "source": [
    "outliers = df_short_US_1.loc[zfilter_any, :]\n",
    "outliers.shape"
   ]
  },
  {
   "cell_type": "code",
   "execution_count": 64,
   "id": "architectural-drive",
   "metadata": {},
   "outputs": [],
   "source": [
    "df_wo = df_short_US_1.drop(outliers.index, axis=0)"
   ]
  },
  {
   "cell_type": "markdown",
   "id": "japanese-rebate",
   "metadata": {},
   "source": [
    "Remove outliers based on IQR since the distributions of the numeric features is skewed (see histograms):"
   ]
  },
  {
   "cell_type": "code",
   "execution_count": 65,
   "id": "gentle-dispute",
   "metadata": {},
   "outputs": [],
   "source": [
    "df_short_US_1_num = df_short_US_1.select_dtypes(np.number).dropna()"
   ]
  },
  {
   "cell_type": "code",
   "execution_count": 66,
   "id": "sapphire-recipe",
   "metadata": {},
   "outputs": [],
   "source": [
    "Q1 = np.percentile(df_short_US_1_num, 25, axis=0)\n",
    "Q3 = np.percentile(df_short_US_1_num, 75, axis=0)\n",
    "IQR = Q3 - Q1\n",
    "lower_bound = Q1 - 1.5 * IQR\n",
    "upper_bound = Q3 + 1.5 * IQR"
   ]
  },
  {
   "cell_type": "code",
   "execution_count": 67,
   "id": "mounted-climb",
   "metadata": {},
   "outputs": [
    {
     "name": "stdout",
     "output_type": "stream",
     "text": [
      "Number of outliers detected per feature using a boxplot:\n",
      "energy_100g              9\n",
      "fat_100g               243\n",
      "saturated-fat_100g    2499\n",
      "carbohydrates_100g       0\n",
      "sugars_100g             64\n",
      "fiber_100g            1560\n",
      "proteins_100g         3092\n",
      "salt_100g             1781\n",
      "sodium_100g           1782\n",
      "dtype: int64\n",
      "Total number of outliers detected: 11030\n"
     ]
    }
   ],
   "source": [
    "boxplot_filter = (df_short_US_1_num < lower_bound) | (df_short_US_1_num > upper_bound)\n",
    "print(\"Number of outliers detected per feature using a boxplot:\")\n",
    "print(boxplot_filter.sum(axis=0))\n",
    "print(\"Total number of outliers detected:\", boxplot_filter.sum(axis=0).sum())"
   ]
  },
  {
   "cell_type": "code",
   "execution_count": 68,
   "id": "charitable-buffalo",
   "metadata": {},
   "outputs": [
    {
     "data": {
      "text/plain": [
       "3     False\n",
       "7     False\n",
       "12    False\n",
       "15    False\n",
       "16     True\n",
       "dtype: bool"
      ]
     },
     "execution_count": 68,
     "metadata": {},
     "output_type": "execute_result"
    }
   ],
   "source": [
    "boxplot_filter_any  = boxplot_filter.any(axis=1)\n",
    "boxplot_filter_any.head()"
   ]
  },
  {
   "cell_type": "code",
   "execution_count": 69,
   "id": "presidential-bowling",
   "metadata": {},
   "outputs": [
    {
     "data": {
      "text/plain": [
       "(8066, 9)"
      ]
     },
     "execution_count": 69,
     "metadata": {},
     "output_type": "execute_result"
    }
   ],
   "source": [
    "outliers = df_short_US_1_num.loc[boxplot_filter_any, :]\n",
    "outliers.shape"
   ]
  },
  {
   "cell_type": "code",
   "execution_count": 70,
   "id": "separate-yukon",
   "metadata": {},
   "outputs": [],
   "source": [
    "df_short_US_1_num_wo = df_short_US_1_num.drop(outliers.index, axis=0)"
   ]
  },
  {
   "cell_type": "code",
   "execution_count": 71,
   "id": "cheap-bridge",
   "metadata": {},
   "outputs": [
    {
     "data": {
      "text/plain": [
       "(33318, 9)"
      ]
     },
     "execution_count": 71,
     "metadata": {},
     "output_type": "execute_result"
    }
   ],
   "source": [
    "df_short_US_1_num_wo.shape"
   ]
  },
  {
   "cell_type": "code",
   "execution_count": 72,
   "id": "moving-concept",
   "metadata": {},
   "outputs": [
    {
     "data": {
      "image/png": "[encoded data removed]",
      "text/plain": [
       "<Figure size 1080x432 with 9 Axes>"
      ]
     },
     "metadata": {
      "needs_background": "light"
     },
     "output_type": "display_data"
    }
   ],
   "source": [
    "fig, axs = plt.subplots(3, 3, tight_layout=True,figsize=(15, 6))\n",
    "\n",
    "axs[0,0].hist(df_short_US_1_num_wo['energy_100g'])\n",
    "axs[0,0].set_title('energy_100g')\n",
    "axs[0,1].hist(df_short_US_1_num_wo['fat_100g'])\n",
    "axs[0,1].set_title('fat_100g')\n",
    "axs[0,2].hist(df_short_US_1_num_wo['saturated-fat_100g'])\n",
    "axs[0,2].set_title('saturated-fat_100g')\n",
    "axs[1,0].hist(df_short_US_1_num_wo['carbohydrates_100g'])\n",
    "axs[1,0].set_title('carbohydrates_100g')\n",
    "axs[1,1].hist(df_short_US_1_num_wo['sugars_100g'])\n",
    "axs[1,1].set_title('sugars_100g')\n",
    "axs[1,2].hist(df_short_US_1_num_wo['fiber_100g'])\n",
    "axs[1,2].set_title('fiber_100g')\n",
    "axs[2,0].hist(df_short_US_1_num_wo['proteins_100g'])\n",
    "axs[2,0].set_title('proteins_100g')\n",
    "axs[2,1].hist(df_short_US_1_num_wo['salt_100g'])\n",
    "axs[2,1].set_title('salt_100g')\n",
    "axs[2,2].hist(df_short_US_1_num_wo['sodium_100g'])\n",
    "axs[2,2].set_title('sodium_100g')\n",
    "plt.show()"
   ]
  },
  {
   "cell_type": "code",
   "execution_count": 73,
   "id": "mature-assembly",
   "metadata": {},
   "outputs": [],
   "source": [
    "df_short_US_1_num_wo_100g = df_short_US_1_num_wo.loc[:,['fat_100g', 'saturated-fat_100g','carbohydrates_100g','sugars_100g','fiber_100g','proteins_100g','salt_100g','sodium_100g']]\n"
   ]
  },
  {
   "cell_type": "code",
   "execution_count": 74,
   "id": "split-brisbane",
   "metadata": {},
   "outputs": [
    {
     "data": {
      "text/plain": [
       "carbohydrates_100g    41.513697\n",
       "sugars_100g           18.795625\n",
       "fat_100g              16.514155\n",
       "proteins_100g          7.217786\n",
       "saturated-fat_100g     5.584846\n",
       "fiber_100g             3.195687\n",
       "salt_100g              0.849965\n",
       "sodium_100g            0.334632\n",
       "dtype: float64"
      ]
     },
     "execution_count": 74,
     "metadata": {},
     "output_type": "execute_result"
    }
   ],
   "source": [
    "grouped_1 = df_short_US_1_num_wo_100g.mean().sort_values(ascending=False)\n",
    "grouped_1"
   ]
  },
  {
   "cell_type": "code",
   "execution_count": 75,
   "id": "disturbed-technical",
   "metadata": {},
   "outputs": [
    {
     "data": {
      "text/plain": [
       "carbohydrates_100g    43.8600\n",
       "fat_100g              14.1600\n",
       "sugars_100g           12.8800\n",
       "proteins_100g          6.2700\n",
       "saturated-fat_100g     4.1700\n",
       "fiber_100g             2.5000\n",
       "salt_100g              0.7874\n",
       "sodium_100g            0.3100\n",
       "dtype: float64"
      ]
     },
     "execution_count": 75,
     "metadata": {},
     "output_type": "execute_result"
    }
   ],
   "source": [
    "grouped_1 = df_short_US_1_num_wo_100g.median().sort_values(ascending=False)\n",
    "grouped_1"
   ]
  },
  {
   "cell_type": "markdown",
   "id": "massive-sodium",
   "metadata": {},
   "source": [
    "**Findings:** The products within US contain relatively high proportion of fat, carbohydrates and sugars (even with the calculation of median due to skewed distributions)"
   ]
  },
  {
   "cell_type": "markdown",
   "id": "interested-thinking",
   "metadata": {},
   "source": [
    "2. Based on the first questions are there any significant difference between top 10 brands?"
   ]
  },
  {
   "cell_type": "code",
   "execution_count": 76,
   "id": "narrative-kidney",
   "metadata": {},
   "outputs": [
    {
     "data": {
      "text/plain": [
       "brands\n",
       "Kroger           1546\n",
       "Ahold            1298\n",
       "Spartan          1294\n",
       "Roundy's         1205\n",
       "Great Value      1117\n",
       "Weis              991\n",
       "Target Stores     910\n",
       "Shoprite          891\n",
       "Harris Teeter     763\n",
       "dtype: int64"
      ]
     },
     "execution_count": 76,
     "metadata": {},
     "output_type": "execute_result"
    }
   ],
   "source": [
    "df_wo.value_counts('brands')[1:10]"
   ]
  },
  {
   "cell_type": "code",
   "execution_count": 77,
   "id": "classified-courage",
   "metadata": {},
   "outputs": [],
   "source": [
    "df_wo_brands = df_wo.set_index('brands')"
   ]
  },
  {
   "cell_type": "code",
   "execution_count": 78,
   "id": "cubic-reasoning",
   "metadata": {},
   "outputs": [
    {
     "data": {
      "text/html": [
       "<div>\n",
       "<style scoped>\n",
       "    .dataframe tbody tr th:only-of-type {\n",
       "        vertical-align: middle;\n",
       "    }\n",
       "\n",
       "    .dataframe tbody tr th {\n",
       "        vertical-align: top;\n",
       "    }\n",
       "\n",
       "    .dataframe thead th {\n",
       "        text-align: right;\n",
       "    }\n",
       "</style>\n",
       "<table border=\"1\" class=\"dataframe\">\n",
       "  <thead>\n",
       "    <tr style=\"text-align: right;\">\n",
       "      <th></th>\n",
       "      <th>product_name</th>\n",
       "      <th>energy_100g</th>\n",
       "      <th>fat_100g</th>\n",
       "      <th>saturated-fat_100g</th>\n",
       "      <th>carbohydrates_100g</th>\n",
       "      <th>sugars_100g</th>\n",
       "      <th>fiber_100g</th>\n",
       "      <th>proteins_100g</th>\n",
       "      <th>salt_100g</th>\n",
       "      <th>sodium_100g</th>\n",
       "    </tr>\n",
       "    <tr>\n",
       "      <th>brands</th>\n",
       "      <th></th>\n",
       "      <th></th>\n",
       "      <th></th>\n",
       "      <th></th>\n",
       "      <th></th>\n",
       "      <th></th>\n",
       "      <th></th>\n",
       "      <th></th>\n",
       "      <th></th>\n",
       "      <th></th>\n",
       "    </tr>\n",
       "  </thead>\n",
       "  <tbody>\n",
       "    <tr>\n",
       "      <th>Kroger</th>\n",
       "      <td>Strawberry Preserves</td>\n",
       "      <td>1046.0</td>\n",
       "      <td>NaN</td>\n",
       "      <td>NaN</td>\n",
       "      <td>55.00</td>\n",
       "      <td>50.00</td>\n",
       "      <td>NaN</td>\n",
       "      <td>NaN</td>\n",
       "      <td>NaN</td>\n",
       "      <td>NaN</td>\n",
       "    </tr>\n",
       "    <tr>\n",
       "      <th>Kroger</th>\n",
       "      <td>Sandwich Slims</td>\n",
       "      <td>874.0</td>\n",
       "      <td>2.33</td>\n",
       "      <td>NaN</td>\n",
       "      <td>46.51</td>\n",
       "      <td>2.33</td>\n",
       "      <td>11.6</td>\n",
       "      <td>9.3</td>\n",
       "      <td>0.79756</td>\n",
       "      <td>0.314</td>\n",
       "    </tr>\n",
       "  </tbody>\n",
       "</table>\n",
       "</div>"
      ],
      "text/plain": [
       "                product_name  energy_100g  fat_100g  saturated-fat_100g  \\\n",
       "brands                                                                    \n",
       "Kroger  Strawberry Preserves       1046.0       NaN                 NaN   \n",
       "Kroger        Sandwich Slims        874.0      2.33                 NaN   \n",
       "\n",
       "        carbohydrates_100g  sugars_100g  fiber_100g  proteins_100g  salt_100g  \\\n",
       "brands                                                                          \n",
       "Kroger               55.00        50.00         NaN            NaN        NaN   \n",
       "Kroger               46.51         2.33        11.6            9.3    0.79756   \n",
       "\n",
       "        sodium_100g  \n",
       "brands               \n",
       "Kroger          NaN  \n",
       "Kroger        0.314  "
      ]
     },
     "execution_count": 78,
     "metadata": {},
     "output_type": "execute_result"
    }
   ],
   "source": [
    "df_wo_brands.loc['Kroger'].head(2)"
   ]
  },
  {
   "cell_type": "code",
   "execution_count": 79,
   "id": "spectacular-mentor",
   "metadata": {},
   "outputs": [
    {
     "data": {
      "text/html": [
       "<div>\n",
       "<style scoped>\n",
       "    .dataframe tbody tr th:only-of-type {\n",
       "        vertical-align: middle;\n",
       "    }\n",
       "\n",
       "    .dataframe tbody tr th {\n",
       "        vertical-align: top;\n",
       "    }\n",
       "\n",
       "    .dataframe thead th {\n",
       "        text-align: right;\n",
       "    }\n",
       "</style>\n",
       "<table border=\"1\" class=\"dataframe\">\n",
       "  <thead>\n",
       "    <tr style=\"text-align: right;\">\n",
       "      <th></th>\n",
       "      <th>energy_100g</th>\n",
       "      <th>fat_100g</th>\n",
       "      <th>saturated-fat_100g</th>\n",
       "      <th>carbohydrates_100g</th>\n",
       "      <th>sugars_100g</th>\n",
       "      <th>fiber_100g</th>\n",
       "      <th>proteins_100g</th>\n",
       "      <th>salt_100g</th>\n",
       "      <th>sodium_100g</th>\n",
       "    </tr>\n",
       "    <tr>\n",
       "      <th>brands</th>\n",
       "      <th></th>\n",
       "      <th></th>\n",
       "      <th></th>\n",
       "      <th></th>\n",
       "      <th></th>\n",
       "      <th></th>\n",
       "      <th></th>\n",
       "      <th></th>\n",
       "      <th></th>\n",
       "    </tr>\n",
       "  </thead>\n",
       "  <tbody>\n",
       "    <tr>\n",
       "      <th>Ahold</th>\n",
       "      <td>1021.142739</td>\n",
       "      <td>15.746061</td>\n",
       "      <td>6.474871</td>\n",
       "      <td>31.879284</td>\n",
       "      <td>16.059476</td>\n",
       "      <td>3.546218</td>\n",
       "      <td>9.056684</td>\n",
       "      <td>0.976532</td>\n",
       "      <td>0.384461</td>\n",
       "    </tr>\n",
       "    <tr>\n",
       "      <th>Great Value</th>\n",
       "      <td>1032.964187</td>\n",
       "      <td>14.636276</td>\n",
       "      <td>7.562639</td>\n",
       "      <td>34.328014</td>\n",
       "      <td>14.819062</td>\n",
       "      <td>3.770973</td>\n",
       "      <td>9.686330</td>\n",
       "      <td>1.553111</td>\n",
       "      <td>0.611461</td>\n",
       "    </tr>\n",
       "    <tr>\n",
       "      <th>Harris Teeter</th>\n",
       "      <td>896.361673</td>\n",
       "      <td>15.544361</td>\n",
       "      <td>6.681597</td>\n",
       "      <td>26.853726</td>\n",
       "      <td>12.112028</td>\n",
       "      <td>3.558517</td>\n",
       "      <td>8.032149</td>\n",
       "      <td>1.247144</td>\n",
       "      <td>0.491001</td>\n",
       "    </tr>\n",
       "    <tr>\n",
       "      <th>Kroger</th>\n",
       "      <td>1012.368704</td>\n",
       "      <td>15.397129</td>\n",
       "      <td>6.444529</td>\n",
       "      <td>32.333404</td>\n",
       "      <td>15.471442</td>\n",
       "      <td>3.563755</td>\n",
       "      <td>9.001256</td>\n",
       "      <td>1.599864</td>\n",
       "      <td>0.629868</td>\n",
       "    </tr>\n",
       "    <tr>\n",
       "      <th>Roundy's</th>\n",
       "      <td>1130.105640</td>\n",
       "      <td>16.027421</td>\n",
       "      <td>6.383992</td>\n",
       "      <td>37.108996</td>\n",
       "      <td>17.561946</td>\n",
       "      <td>4.028251</td>\n",
       "      <td>8.916060</td>\n",
       "      <td>1.402961</td>\n",
       "      <td>0.552347</td>\n",
       "    </tr>\n",
       "    <tr>\n",
       "      <th>Shoprite</th>\n",
       "      <td>1033.660592</td>\n",
       "      <td>16.428634</td>\n",
       "      <td>8.414847</td>\n",
       "      <td>34.062903</td>\n",
       "      <td>14.696590</td>\n",
       "      <td>3.868872</td>\n",
       "      <td>9.724440</td>\n",
       "      <td>1.342543</td>\n",
       "      <td>0.528560</td>\n",
       "    </tr>\n",
       "    <tr>\n",
       "      <th>Spartan</th>\n",
       "      <td>1021.519935</td>\n",
       "      <td>15.632278</td>\n",
       "      <td>7.498548</td>\n",
       "      <td>33.837738</td>\n",
       "      <td>17.046965</td>\n",
       "      <td>3.646202</td>\n",
       "      <td>8.513126</td>\n",
       "      <td>1.460123</td>\n",
       "      <td>0.574852</td>\n",
       "    </tr>\n",
       "    <tr>\n",
       "      <th>Target Stores</th>\n",
       "      <td>1124.196188</td>\n",
       "      <td>16.338441</td>\n",
       "      <td>6.372025</td>\n",
       "      <td>34.063619</td>\n",
       "      <td>18.318322</td>\n",
       "      <td>3.665677</td>\n",
       "      <td>8.756431</td>\n",
       "      <td>1.036713</td>\n",
       "      <td>0.408155</td>\n",
       "    </tr>\n",
       "    <tr>\n",
       "      <th>Weis</th>\n",
       "      <td>1034.811262</td>\n",
       "      <td>14.812284</td>\n",
       "      <td>7.719939</td>\n",
       "      <td>34.112016</td>\n",
       "      <td>16.604280</td>\n",
       "      <td>3.458126</td>\n",
       "      <td>8.698117</td>\n",
       "      <td>1.287366</td>\n",
       "      <td>0.506837</td>\n",
       "    </tr>\n",
       "  </tbody>\n",
       "</table>\n",
       "</div>"
      ],
      "text/plain": [
       "               energy_100g   fat_100g  saturated-fat_100g  carbohydrates_100g  \\\n",
       "brands                                                                          \n",
       "Ahold          1021.142739  15.746061            6.474871           31.879284   \n",
       "Great Value    1032.964187  14.636276            7.562639           34.328014   \n",
       "Harris Teeter   896.361673  15.544361            6.681597           26.853726   \n",
       "Kroger         1012.368704  15.397129            6.444529           32.333404   \n",
       "Roundy's       1130.105640  16.027421            6.383992           37.108996   \n",
       "Shoprite       1033.660592  16.428634            8.414847           34.062903   \n",
       "Spartan        1021.519935  15.632278            7.498548           33.837738   \n",
       "Target Stores  1124.196188  16.338441            6.372025           34.063619   \n",
       "Weis           1034.811262  14.812284            7.719939           34.112016   \n",
       "\n",
       "               sugars_100g  fiber_100g  proteins_100g  salt_100g  sodium_100g  \n",
       "brands                                                                         \n",
       "Ahold            16.059476    3.546218       9.056684   0.976532     0.384461  \n",
       "Great Value      14.819062    3.770973       9.686330   1.553111     0.611461  \n",
       "Harris Teeter    12.112028    3.558517       8.032149   1.247144     0.491001  \n",
       "Kroger           15.471442    3.563755       9.001256   1.599864     0.629868  \n",
       "Roundy's         17.561946    4.028251       8.916060   1.402961     0.552347  \n",
       "Shoprite         14.696590    3.868872       9.724440   1.342543     0.528560  \n",
       "Spartan          17.046965    3.646202       8.513126   1.460123     0.574852  \n",
       "Target Stores    18.318322    3.665677       8.756431   1.036713     0.408155  \n",
       "Weis             16.604280    3.458126       8.698117   1.287366     0.506837  "
      ]
     },
     "execution_count": 79,
     "metadata": {},
     "output_type": "execute_result"
    }
   ],
   "source": [
    "df_wo_brands_top = df_wo_brands.loc[[\"Kroger\", \"Ahold\", \"Spartan\", \"Roundy\\'s\", \"Great Value\", \"Weis\", \"Target Stores\", \"Shoprite\", \"Harris Teeter\"]]\n",
    "grouped_2 = df_wo_brands_top.groupby('brands').mean()\n",
    "grouped_2"
   ]
  },
  {
   "cell_type": "code",
   "execution_count": 80,
   "id": "thermal-hampshire",
   "metadata": {},
   "outputs": [
    {
     "data": {
      "image/png": "[encoded data removed]",
      "text/plain": [
       "<Figure size 720x720 with 1 Axes>"
      ]
     },
     "metadata": {
      "needs_background": "light"
     },
     "output_type": "display_data"
    }
   ],
   "source": [
    "grouped_2.loc[:,'fat_100g':'sodium_100g'].plot(kind='barh',figsize=(10,10), stacked=True)\n",
    "plt.legend(['fat', 'saturated-fat', 'carbohydrates', 'sugars', 'fiber', 'proteins', 'salt', 'sodium'], loc='upper right')\n",
    "plt.xlabel('gram')\n",
    "plt.ylabel('Top 10 brands in US')\n",
    "plt.title('Stacked overall ingredients')\n",
    "plt.show();"
   ]
  },
  {
   "cell_type": "markdown",
   "id": "geological-politics",
   "metadata": {},
   "source": [
    "**Findings:** fat, carbohydrates and sugars are still represented as a relatively high proportion in the top brands with the brand \"Harris Teeter\" offering products of healthiest ingredients (because lowest proportion of carbohydrates)"
   ]
  },
  {
   "cell_type": "markdown",
   "id": "alpine-employment",
   "metadata": {},
   "source": [
    "3. What product category is most prone to have low values of energy?"
   ]
  },
  {
   "cell_type": "code",
   "execution_count": 81,
   "id": "subject-juice",
   "metadata": {},
   "outputs": [],
   "source": [
    "df_3 = df.dropna(axis=1, how='all')"
   ]
  },
  {
   "cell_type": "code",
   "execution_count": 82,
   "id": "boring-prediction",
   "metadata": {},
   "outputs": [],
   "source": [
    "df_3 = df_3[['energy_100g','main_category_en']]"
   ]
  },
  {
   "cell_type": "code",
   "execution_count": 83,
   "id": "commercial-nutrition",
   "metadata": {},
   "outputs": [],
   "source": [
    "df_3 = df_3.dropna(axis=0, how='any')"
   ]
  },
  {
   "cell_type": "code",
   "execution_count": 84,
   "id": "smooth-legislation",
   "metadata": {},
   "outputs": [],
   "source": [
    "df_3_num = df_3.select_dtypes(np.number).dropna()"
   ]
  },
  {
   "cell_type": "code",
   "execution_count": 85,
   "id": "variable-challenge",
   "metadata": {},
   "outputs": [],
   "source": [
    "Q1 = np.percentile(df_3_num, 25, axis=0)\n",
    "Q3 = np.percentile(df_3_num, 75, axis=0)\n",
    "IQR = Q3 - Q1\n",
    "lower_bound = Q1 - 1.5 * IQR\n",
    "upper_bound = Q3 + 1.5 * IQR"
   ]
  },
  {
   "cell_type": "code",
   "execution_count": 86,
   "id": "applicable-nickel",
   "metadata": {},
   "outputs": [
    {
     "name": "stdout",
     "output_type": "stream",
     "text": [
      "Number of outliers detected per feature using a boxplot:\n",
      "energy_100g    660\n",
      "dtype: int64\n",
      "Total number of outliers detected: 660\n"
     ]
    }
   ],
   "source": [
    "boxplot_filter = (df_3_num < lower_bound) | (df_3_num > upper_bound)\n",
    "print(\"Number of outliers detected per feature using a boxplot:\")\n",
    "print(boxplot_filter.sum(axis=0))\n",
    "print(\"Total number of outliers detected:\", boxplot_filter.sum(axis=0).sum())"
   ]
  },
  {
   "cell_type": "code",
   "execution_count": 87,
   "id": "developed-lindsay",
   "metadata": {},
   "outputs": [
    {
     "data": {
      "text/plain": [
       "176    False\n",
       "177    False\n",
       "182    False\n",
       "183    False\n",
       "185    False\n",
       "dtype: bool"
      ]
     },
     "execution_count": 87,
     "metadata": {},
     "output_type": "execute_result"
    }
   ],
   "source": [
    "boxplot_filter_any = boxplot_filter.any(axis=1)\n",
    "boxplot_filter_any.head()"
   ]
  },
  {
   "cell_type": "code",
   "execution_count": 88,
   "id": "greenhouse-thanksgiving",
   "metadata": {},
   "outputs": [
    {
     "data": {
      "text/plain": [
       "(660, 1)"
      ]
     },
     "execution_count": 88,
     "metadata": {},
     "output_type": "execute_result"
    }
   ],
   "source": [
    "outliers = df_3_num.loc[boxplot_filter_any, :]\n",
    "outliers.shape"
   ]
  },
  {
   "cell_type": "code",
   "execution_count": 89,
   "id": "married-circular",
   "metadata": {},
   "outputs": [],
   "source": [
    "df_3_wo = df_3.drop(outliers.index, axis=0)"
   ]
  },
  {
   "cell_type": "code",
   "execution_count": 90,
   "id": "induced-style",
   "metadata": {},
   "outputs": [],
   "source": [
    "df_3_wo = df_3_wo[df_3_wo['energy_100g'] > 100]"
   ]
  },
  {
   "cell_type": "code",
   "execution_count": 91,
   "id": "comfortable-capability",
   "metadata": {},
   "outputs": [],
   "source": [
    "grouped_3 = df_3_wo.sort_values(['energy_100g'], ascending=True).groupby('main_category_en')"
   ]
  },
  {
   "cell_type": "markdown",
   "id": "removed-novel",
   "metadata": {},
   "source": [
    "It's also good to have a column for the **number of observations** within each group to ensure that the mean is calculated based on an enough large sample (column not created here)."
   ]
  },
  {
   "cell_type": "code",
   "execution_count": 92,
   "id": "honey-performance",
   "metadata": {},
   "outputs": [],
   "source": [
    "grouped_3 = grouped_3.mean()"
   ]
  },
  {
   "cell_type": "code",
   "execution_count": 93,
   "id": "intensive-liverpool",
   "metadata": {},
   "outputs": [
    {
     "data": {
      "text/html": [
       "<div>\n",
       "<style scoped>\n",
       "    .dataframe tbody tr th:only-of-type {\n",
       "        vertical-align: middle;\n",
       "    }\n",
       "\n",
       "    .dataframe tbody tr th {\n",
       "        vertical-align: top;\n",
       "    }\n",
       "\n",
       "    .dataframe thead th {\n",
       "        text-align: right;\n",
       "    }\n",
       "</style>\n",
       "<table border=\"1\" class=\"dataframe\">\n",
       "  <thead>\n",
       "    <tr style=\"text-align: right;\">\n",
       "      <th></th>\n",
       "      <th>energy_100g</th>\n",
       "    </tr>\n",
       "    <tr>\n",
       "      <th>main_category_en</th>\n",
       "      <th></th>\n",
       "    </tr>\n",
       "  </thead>\n",
       "  <tbody>\n",
       "    <tr>\n",
       "      <th>fr:Soupe-de-cresson-en-poudre</th>\n",
       "      <td>101.0</td>\n",
       "    </tr>\n",
       "    <tr>\n",
       "      <th>fr:Opuree-de-tomate-passata</th>\n",
       "      <td>101.0</td>\n",
       "    </tr>\n",
       "    <tr>\n",
       "      <th>Sliced-jalapenos</th>\n",
       "      <td>102.0</td>\n",
       "    </tr>\n",
       "    <tr>\n",
       "      <th>fr:Eaux-de-coco</th>\n",
       "      <td>102.0</td>\n",
       "    </tr>\n",
       "    <tr>\n",
       "      <th>fr:Puree-de-fruit</th>\n",
       "      <td>102.0</td>\n",
       "    </tr>\n",
       "  </tbody>\n",
       "</table>\n",
       "</div>"
      ],
      "text/plain": [
       "                               energy_100g\n",
       "main_category_en                          \n",
       "fr:Soupe-de-cresson-en-poudre        101.0\n",
       "fr:Opuree-de-tomate-passata          101.0\n",
       "Sliced-jalapenos                     102.0\n",
       "fr:Eaux-de-coco                      102.0\n",
       "fr:Puree-de-fruit                    102.0"
      ]
     },
     "execution_count": 93,
     "metadata": {},
     "output_type": "execute_result"
    }
   ],
   "source": [
    "grouped_3.sort_values(['energy_100g'], ascending=True).head()"
   ]
  },
  {
   "cell_type": "markdown",
   "id": "visible-mount",
   "metadata": {},
   "source": [
    "**Findings:** Soups, tomato puree, jalapeno, water and fruit puree are the top product categories with low values of energy "
   ]
  },
  {
   "cell_type": "markdown",
   "id": "alert-pennsylvania",
   "metadata": {},
   "source": [
    "------"
   ]
  },
  {
   "cell_type": "markdown",
   "id": "authentic-value",
   "metadata": {},
   "source": [
    "## C. Text data"
   ]
  },
  {
   "cell_type": "markdown",
   "id": "meaning-tobacco",
   "metadata": {},
   "source": [
    "I will filter and group your data based on the **ingredients_text** column. My goal is to find the **five most common ingredients**. Be careful with text normalization:\n",
    "\n",
    "- punctuation e.g. \"water.\" vs \"water\"`\n",
    "- capitalization e.g. \"water\" vs \"Water\"\n",
    "- white spaces removal e.g. \" water\" vs \"water\""
   ]
  },
  {
   "cell_type": "code",
   "execution_count": 94,
   "id": "hourly-question",
   "metadata": {},
   "outputs": [],
   "source": [
    "df_text = df['ingredients_text']"
   ]
  },
  {
   "cell_type": "code",
   "execution_count": 95,
   "id": "annoying-stable",
   "metadata": {},
   "outputs": [],
   "source": [
    "df_text.dropna(inplace=True)"
   ]
  },
  {
   "cell_type": "code",
   "execution_count": 96,
   "id": "secondary-sleep",
   "metadata": {},
   "outputs": [
    {
     "data": {
      "text/plain": [
       "False    283893\n",
       "Name: ingredients_text, dtype: int64"
      ]
     },
     "execution_count": 96,
     "metadata": {},
     "output_type": "execute_result"
    }
   ],
   "source": [
    "df_text.isnull().value_counts()"
   ]
  },
  {
   "cell_type": "code",
   "execution_count": 97,
   "id": "public-current",
   "metadata": {},
   "outputs": [],
   "source": [
    "# list(df_text)"
   ]
  },
  {
   "cell_type": "code",
   "execution_count": 98,
   "id": "delayed-wayne",
   "metadata": {},
   "outputs": [],
   "source": [
    "def transform(s):\n",
    "    s=s.str.strip('[]')\n",
    "    s=s.str.replace('(','')\n",
    "    s=s.str.replace(')','')\n",
    "    s=s.str.replace('{','')\n",
    "    s=s.str.replace('}','')\n",
    "    s=s.str.replace('.','')\n",
    "    s=s.str.replace(',','')\n",
    "    s=s.str.replace('\"','')\n",
    "    s=s.str.replace('0','')\n",
    "    s=s.str.replace('1','')\n",
    "    s=s.str.replace('2','')\n",
    "    s=s.str.replace('3','')\n",
    "    s=s.str.replace('4','')\n",
    "    s=s.str.replace('5','')\n",
    "    s=s.str.replace('6','')\n",
    "    s=s.str.replace('7','')\n",
    "    s=s.str.replace('8','')\n",
    "    s=s.str.replace('9','')\n",
    "    s=s.str.replace('    ',', ')\n",
    "    s=s.str.replace('   ','')\n",
    "    s=s.str.replace('Eau','Water')\n",
    "    s=s.str.replace('eau','Water')\n",
    "    s=s.str.replace('Sucre','Sugar')\n",
    "    s=s.str.replace('sucre','Sugar')\n",
    "    return(s)"
   ]
  },
  {
   "cell_type": "code",
   "execution_count": 99,
   "id": "strategic-blade",
   "metadata": {},
   "outputs": [
    {
     "name": "stderr",
     "output_type": "stream",
     "text": [
      "/Users/heyus/opt/anaconda3/lib/python3.7/site-packages/ipykernel_launcher.py:3: FutureWarning: The default value of regex will change from True to False in a future version. In addition, single character regular expressions will*not* be treated as literal strings when regex=True.\n",
      "  This is separate from the ipykernel package so we can avoid doing imports until\n",
      "/Users/heyus/opt/anaconda3/lib/python3.7/site-packages/ipykernel_launcher.py:4: FutureWarning: The default value of regex will change from True to False in a future version. In addition, single character regular expressions will*not* be treated as literal strings when regex=True.\n",
      "  after removing the cwd from sys.path.\n",
      "/Users/heyus/opt/anaconda3/lib/python3.7/site-packages/ipykernel_launcher.py:5: FutureWarning: The default value of regex will change from True to False in a future version. In addition, single character regular expressions will*not* be treated as literal strings when regex=True.\n",
      "  \"\"\"\n",
      "/Users/heyus/opt/anaconda3/lib/python3.7/site-packages/ipykernel_launcher.py:6: FutureWarning: The default value of regex will change from True to False in a future version. In addition, single character regular expressions will*not* be treated as literal strings when regex=True.\n",
      "  \n",
      "/Users/heyus/opt/anaconda3/lib/python3.7/site-packages/ipykernel_launcher.py:7: FutureWarning: The default value of regex will change from True to False in a future version. In addition, single character regular expressions will*not* be treated as literal strings when regex=True.\n",
      "  import sys\n"
     ]
    }
   ],
   "source": [
    "df_text_clean = transform(df_text)"
   ]
  },
  {
   "cell_type": "code",
   "execution_count": 100,
   "id": "designing-reservation",
   "metadata": {},
   "outputs": [
    {
     "name": "stderr",
     "output_type": "stream",
     "text": [
      "/Users/heyus/opt/anaconda3/lib/python3.7/site-packages/ipykernel_launcher.py:3: FutureWarning: The default value of regex will change from True to False in a future version.\n",
      "  This is separate from the ipykernel package so we can avoid doing imports until\n"
     ]
    }
   ],
   "source": [
    "replace_dict = {'sel|sea salt|salz': 'salt', 'sucre|dextrose|sirop de glucose': 'sugar', 'blé':'wheat', 'sodium': 'salt', 'eau|carbonated water|filtered water': 'water', 'lait': 'milk', 'huile': 'oil'} #sodium replaced with \"salt\" \n",
    "for k,v in replace_dict.items():     \n",
    "    df_text_clean = df_text_clean.str.replace(k, v)"
   ]
  },
  {
   "cell_type": "code",
   "execution_count": 101,
   "id": "above-review",
   "metadata": {},
   "outputs": [
    {
     "data": {
      "text/plain": [
       "'Bananas vegetable oil coconut oil corn oil and/or palm oil sugar natural banana flavor'"
      ]
     },
     "execution_count": 101,
     "metadata": {},
     "output_type": "execute_result"
    }
   ],
   "source": [
    "df_text_clean[1]"
   ]
  },
  {
   "cell_type": "code",
   "execution_count": 102,
   "id": "governmental-nowhere",
   "metadata": {},
   "outputs": [],
   "source": [
    "df_text_clean = df_text_clean.str.lower()"
   ]
  },
  {
   "cell_type": "code",
   "execution_count": 103,
   "id": "promotional-equality",
   "metadata": {},
   "outputs": [
    {
     "data": {
      "text/plain": [
       "'bananas vegetable oil coconut oil corn oil and/or palm oil sugar natural banana flavor'"
      ]
     },
     "execution_count": 103,
     "metadata": {},
     "output_type": "execute_result"
    }
   ],
   "source": [
    "df_text_clean[1]"
   ]
  },
  {
   "cell_type": "code",
   "execution_count": 104,
   "id": "comfortable-roulette",
   "metadata": {},
   "outputs": [],
   "source": [
    "df_text_clean = df_text_clean.str.split(' ', expand=True)"
   ]
  },
  {
   "cell_type": "code",
   "execution_count": 105,
   "id": "alternative-legend",
   "metadata": {},
   "outputs": [
    {
     "data": {
      "text/html": [
       "<div>\n",
       "<style scoped>\n",
       "    .dataframe tbody tr th:only-of-type {\n",
       "        vertical-align: middle;\n",
       "    }\n",
       "\n",
       "    .dataframe tbody tr th {\n",
       "        vertical-align: top;\n",
       "    }\n",
       "\n",
       "    .dataframe thead th {\n",
       "        text-align: right;\n",
       "    }\n",
       "</style>\n",
       "<table border=\"1\" class=\"dataframe\">\n",
       "  <thead>\n",
       "    <tr style=\"text-align: right;\">\n",
       "      <th></th>\n",
       "      <th>0</th>\n",
       "      <th>1</th>\n",
       "      <th>2</th>\n",
       "      <th>3</th>\n",
       "      <th>4</th>\n",
       "      <th>5</th>\n",
       "      <th>6</th>\n",
       "      <th>7</th>\n",
       "      <th>8</th>\n",
       "      <th>9</th>\n",
       "      <th>...</th>\n",
       "      <th>694</th>\n",
       "      <th>695</th>\n",
       "      <th>696</th>\n",
       "      <th>697</th>\n",
       "      <th>698</th>\n",
       "      <th>699</th>\n",
       "      <th>700</th>\n",
       "      <th>701</th>\n",
       "      <th>702</th>\n",
       "      <th>703</th>\n",
       "    </tr>\n",
       "  </thead>\n",
       "  <tbody>\n",
       "    <tr>\n",
       "      <th>1</th>\n",
       "      <td>bananas</td>\n",
       "      <td>vegetable</td>\n",
       "      <td>oil</td>\n",
       "      <td>coconut</td>\n",
       "      <td>oil</td>\n",
       "      <td>corn</td>\n",
       "      <td>oil</td>\n",
       "      <td>and/or</td>\n",
       "      <td>palm</td>\n",
       "      <td>oil</td>\n",
       "      <td>...</td>\n",
       "      <td>None</td>\n",
       "      <td>None</td>\n",
       "      <td>None</td>\n",
       "      <td>None</td>\n",
       "      <td>None</td>\n",
       "      <td>None</td>\n",
       "      <td>None</td>\n",
       "      <td>None</td>\n",
       "      <td>None</td>\n",
       "      <td>None</td>\n",
       "    </tr>\n",
       "    <tr>\n",
       "      <th>2</th>\n",
       "      <td>peanuts</td>\n",
       "      <td>wheat</td>\n",
       "      <td>flour</td>\n",
       "      <td>sugar</td>\n",
       "      <td>rice</td>\n",
       "      <td>flour</td>\n",
       "      <td>tapioca</td>\n",
       "      <td>starch</td>\n",
       "      <td>salt</td>\n",
       "      <td>leavening</td>\n",
       "      <td>...</td>\n",
       "      <td>None</td>\n",
       "      <td>None</td>\n",
       "      <td>None</td>\n",
       "      <td>None</td>\n",
       "      <td>None</td>\n",
       "      <td>None</td>\n",
       "      <td>None</td>\n",
       "      <td>None</td>\n",
       "      <td>None</td>\n",
       "      <td>None</td>\n",
       "    </tr>\n",
       "    <tr>\n",
       "      <th>3</th>\n",
       "      <td>organic</td>\n",
       "      <td>hazelnuts</td>\n",
       "      <td>organic</td>\n",
       "      <td>cashews</td>\n",
       "      <td>organic</td>\n",
       "      <td>walnuts</td>\n",
       "      <td>almonds</td>\n",
       "      <td>organic</td>\n",
       "      <td>sunflower</td>\n",
       "      <td>oil</td>\n",
       "      <td>...</td>\n",
       "      <td>None</td>\n",
       "      <td>None</td>\n",
       "      <td>None</td>\n",
       "      <td>None</td>\n",
       "      <td>None</td>\n",
       "      <td>None</td>\n",
       "      <td>None</td>\n",
       "      <td>None</td>\n",
       "      <td>None</td>\n",
       "      <td>None</td>\n",
       "    </tr>\n",
       "    <tr>\n",
       "      <th>4</th>\n",
       "      <td>organic</td>\n",
       "      <td>polenta</td>\n",
       "      <td>None</td>\n",
       "      <td>None</td>\n",
       "      <td>None</td>\n",
       "      <td>None</td>\n",
       "      <td>None</td>\n",
       "      <td>None</td>\n",
       "      <td>None</td>\n",
       "      <td>None</td>\n",
       "      <td>...</td>\n",
       "      <td>None</td>\n",
       "      <td>None</td>\n",
       "      <td>None</td>\n",
       "      <td>None</td>\n",
       "      <td>None</td>\n",
       "      <td>None</td>\n",
       "      <td>None</td>\n",
       "      <td>None</td>\n",
       "      <td>None</td>\n",
       "      <td>None</td>\n",
       "    </tr>\n",
       "    <tr>\n",
       "      <th>5</th>\n",
       "      <td>rolled</td>\n",
       "      <td>oats</td>\n",
       "      <td>grape</td>\n",
       "      <td>concentrate</td>\n",
       "      <td>expeller</td>\n",
       "      <td>pressed</td>\n",
       "      <td>canola</td>\n",
       "      <td>oil</td>\n",
       "      <td>sunflower</td>\n",
       "      <td>seeds</td>\n",
       "      <td>...</td>\n",
       "      <td>None</td>\n",
       "      <td>None</td>\n",
       "      <td>None</td>\n",
       "      <td>None</td>\n",
       "      <td>None</td>\n",
       "      <td>None</td>\n",
       "      <td>None</td>\n",
       "      <td>None</td>\n",
       "      <td>None</td>\n",
       "      <td>None</td>\n",
       "    </tr>\n",
       "  </tbody>\n",
       "</table>\n",
       "<p>5 rows × 704 columns</p>\n",
       "</div>"
      ],
      "text/plain": [
       "       0          1        2            3         4        5        6    \\\n",
       "1  bananas  vegetable      oil      coconut       oil     corn      oil   \n",
       "2  peanuts      wheat    flour        sugar      rice    flour  tapioca   \n",
       "3  organic  hazelnuts  organic      cashews   organic  walnuts  almonds   \n",
       "4  organic    polenta     None         None      None     None     None   \n",
       "5   rolled       oats    grape  concentrate  expeller  pressed   canola   \n",
       "\n",
       "       7          8          9    ...   694   695   696   697   698   699  \\\n",
       "1   and/or       palm        oil  ...  None  None  None  None  None  None   \n",
       "2   starch       salt  leavening  ...  None  None  None  None  None  None   \n",
       "3  organic  sunflower        oil  ...  None  None  None  None  None  None   \n",
       "4     None       None       None  ...  None  None  None  None  None  None   \n",
       "5      oil  sunflower      seeds  ...  None  None  None  None  None  None   \n",
       "\n",
       "    700   701   702   703  \n",
       "1  None  None  None  None  \n",
       "2  None  None  None  None  \n",
       "3  None  None  None  None  \n",
       "4  None  None  None  None  \n",
       "5  None  None  None  None  \n",
       "\n",
       "[5 rows x 704 columns]"
      ]
     },
     "execution_count": 105,
     "metadata": {},
     "output_type": "execute_result"
    }
   ],
   "source": [
    "df_text_clean.head()"
   ]
  },
  {
   "cell_type": "code",
   "execution_count": 106,
   "id": "christian-anthropology",
   "metadata": {},
   "outputs": [
    {
     "data": {
      "text/plain": [
       "de       396539\n",
       "salt     266422\n",
       "%        201459\n",
       "sugar    190653\n",
       "water    134750\n",
       "         131922\n",
       "oil      126495\n",
       ":        104040\n",
       "acid      90221\n",
       "milk      87640\n",
       "dtype: int64"
      ]
     },
     "execution_count": 106,
     "metadata": {},
     "output_type": "execute_result"
    }
   ],
   "source": [
    "df_text_clean.stack().value_counts()[0:10] "
   ]
  },
  {
   "cell_type": "markdown",
   "id": "great-garbage",
   "metadata": {},
   "source": [
    "**Findings:** The top 5 ingredients are: salt, sugar, water, oil and acid "
   ]
  },
  {
   "cell_type": "markdown",
   "id": "aggressive-alliance",
   "metadata": {},
   "source": [
    "## D. Time-series analysis"
   ]
  },
  {
   "cell_type": "markdown",
   "id": "swedish-henry",
   "metadata": {},
   "source": [
    "Investigate more closely the **created_datetime** and **last_modified_datetime**. \n",
    "1. I will analyze the **mean time difference** between these two values\n",
    "2. I will analyze the **total number of items** created **each month** over the full timeline of the data and I will also choose an appropriate method to **visualize my findings**."
   ]
  },
  {
   "cell_type": "markdown",
   "id": "black-responsibility",
   "metadata": {},
   "source": [
    "1. **mean time difference** between these two values"
   ]
  },
  {
   "cell_type": "code",
   "execution_count": 107,
   "id": "manual-teach",
   "metadata": {},
   "outputs": [
    {
     "name": "stderr",
     "output_type": "stream",
     "text": [
      "/Users/heyus/opt/anaconda3/lib/python3.7/site-packages/IPython/core/interactiveshell.py:3166: DtypeWarning: Columns (0,3,5,19,20,24,25,26,27,28,36,37,38,39,48) have mixed types.Specify dtype option on import or set low_memory=False.\n",
      "  interactivity=interactivity, compiler=compiler, result=result)\n"
     ]
    }
   ],
   "source": [
    "df = pd.read_csv('en.openfoodfacts.org.products.tsv', sep='\\t')"
   ]
  },
  {
   "cell_type": "code",
   "execution_count": 108,
   "id": "copyrighted-assistant",
   "metadata": {},
   "outputs": [],
   "source": [
    "df.replace([0,0.0,0.00,0.000,0.0000,0.00000,0.000000,0.0000000], np.nan, inplace=True)"
   ]
  },
  {
   "cell_type": "code",
   "execution_count": 109,
   "id": "upper-stuart",
   "metadata": {},
   "outputs": [],
   "source": [
    "df_short = df.dropna(axis=1, how='all')"
   ]
  },
  {
   "cell_type": "code",
   "execution_count": 110,
   "id": "first-nashville",
   "metadata": {},
   "outputs": [
    {
     "name": "stderr",
     "output_type": "stream",
     "text": [
      "/Users/heyus/opt/anaconda3/lib/python3.7/site-packages/ipykernel_launcher.py:1: SettingWithCopyWarning: \n",
      "A value is trying to be set on a copy of a slice from a DataFrame\n",
      "\n",
      "See the caveats in the documentation: https://pandas.pydata.org/pandas-docs/stable/user_guide/indexing.html#returning-a-view-versus-a-copy\n",
      "  \"\"\"Entry point for launching an IPython kernel.\n"
     ]
    }
   ],
   "source": [
    "df_short.dropna(axis=1, thresh=(356027-((0.66)*356027)), inplace=True)"
   ]
  },
  {
   "cell_type": "code",
   "execution_count": 111,
   "id": "prime-stuff",
   "metadata": {},
   "outputs": [],
   "source": [
    "df_created_date = df_short['created_datetime']"
   ]
  },
  {
   "cell_type": "code",
   "execution_count": 112,
   "id": "social-leader",
   "metadata": {},
   "outputs": [],
   "source": [
    "df_mod_date = df_short['last_modified_datetime']"
   ]
  },
  {
   "cell_type": "code",
   "execution_count": 113,
   "id": "moderate-links",
   "metadata": {},
   "outputs": [
    {
     "data": {
      "text/plain": [
       "0         2016-09-17T09:17:46Z\n",
       "1         2017-03-09T14:32:37Z\n",
       "2         2017-03-09T14:32:37Z\n",
       "3         2017-03-09T10:35:31Z\n",
       "4         2017-03-09T10:34:13Z\n",
       "                  ...         \n",
       "356022    2017-03-09T11:31:16Z\n",
       "356023    2015-01-24T11:36:17Z\n",
       "356024    2017-06-09T14:29:09Z\n",
       "356025    2017-04-16T10:54:49Z\n",
       "356026    2017-03-09T15:18:29Z\n",
       "Name: created_datetime, Length: 356027, dtype: object"
      ]
     },
     "execution_count": 113,
     "metadata": {},
     "output_type": "execute_result"
    }
   ],
   "source": [
    "df_created_date"
   ]
  },
  {
   "cell_type": "code",
   "execution_count": 114,
   "id": "preceding-music",
   "metadata": {},
   "outputs": [
    {
     "data": {
      "text/plain": [
       "0         2016-09-17T09:18:13Z\n",
       "1         2017-03-09T14:32:37Z\n",
       "2         2017-03-09T14:32:37Z\n",
       "3         2017-03-09T10:35:31Z\n",
       "4         2017-03-09T10:34:13Z\n",
       "                  ...         \n",
       "356022    2017-04-03T18:34:59Z\n",
       "356023    2017-04-03T18:34:59Z\n",
       "356024    2017-07-22T13:31:45Z\n",
       "356025    2017-04-16T10:54:49Z\n",
       "356026    2017-04-03T18:34:59Z\n",
       "Name: last_modified_datetime, Length: 356027, dtype: object"
      ]
     },
     "execution_count": 114,
     "metadata": {},
     "output_type": "execute_result"
    }
   ],
   "source": [
    "df_mod_date"
   ]
  },
  {
   "cell_type": "code",
   "execution_count": 115,
   "id": "necessary-audio",
   "metadata": {},
   "outputs": [],
   "source": [
    "def transform(s):\n",
    "    s=s.str.replace('T', ' ')\n",
    "    s=s.str.replace('Z', '')\n",
    "    s=s.str.replace('.','')\n",
    "    return(s)"
   ]
  },
  {
   "cell_type": "code",
   "execution_count": 116,
   "id": "unlikely-delhi",
   "metadata": {},
   "outputs": [
    {
     "name": "stderr",
     "output_type": "stream",
     "text": [
      "/Users/heyus/opt/anaconda3/lib/python3.7/site-packages/ipykernel_launcher.py:4: FutureWarning: The default value of regex will change from True to False in a future version. In addition, single character regular expressions will*not* be treated as literal strings when regex=True.\n",
      "  after removing the cwd from sys.path.\n"
     ]
    }
   ],
   "source": [
    "df_created_date = transform(df_created_date)"
   ]
  },
  {
   "cell_type": "code",
   "execution_count": 117,
   "id": "speaking-slide",
   "metadata": {},
   "outputs": [
    {
     "name": "stderr",
     "output_type": "stream",
     "text": [
      "/Users/heyus/opt/anaconda3/lib/python3.7/site-packages/ipykernel_launcher.py:4: FutureWarning: The default value of regex will change from True to False in a future version. In addition, single character regular expressions will*not* be treated as literal strings when regex=True.\n",
      "  after removing the cwd from sys.path.\n"
     ]
    }
   ],
   "source": [
    "df_mod_date = transform(df_mod_date)"
   ]
  },
  {
   "cell_type": "code",
   "execution_count": 118,
   "id": "friendly-berlin",
   "metadata": {},
   "outputs": [
    {
     "data": {
      "text/plain": [
       "'2016-09-17 09:17:46'"
      ]
     },
     "execution_count": 118,
     "metadata": {},
     "output_type": "execute_result"
    }
   ],
   "source": [
    "df_created_date[0]"
   ]
  },
  {
   "cell_type": "code",
   "execution_count": 119,
   "id": "weird-collins",
   "metadata": {},
   "outputs": [
    {
     "data": {
      "text/plain": [
       "'2016-09-17 09:18:13'"
      ]
     },
     "execution_count": 119,
     "metadata": {},
     "output_type": "execute_result"
    }
   ],
   "source": [
    "df_mod_date[0]"
   ]
  },
  {
   "cell_type": "code",
   "execution_count": 120,
   "id": "headed-slovenia",
   "metadata": {},
   "outputs": [
    {
     "data": {
      "text/plain": [
       "10"
      ]
     },
     "execution_count": 120,
     "metadata": {},
     "output_type": "execute_result"
    }
   ],
   "source": [
    "df_created_date.isnull().sum()"
   ]
  },
  {
   "cell_type": "code",
   "execution_count": 121,
   "id": "developed-shaft",
   "metadata": {},
   "outputs": [],
   "source": [
    "df_created_date.dropna(inplace=True)"
   ]
  },
  {
   "cell_type": "code",
   "execution_count": 122,
   "id": "hairy-private",
   "metadata": {},
   "outputs": [
    {
     "data": {
      "text/plain": [
       "0"
      ]
     },
     "execution_count": 122,
     "metadata": {},
     "output_type": "execute_result"
    }
   ],
   "source": [
    "df_mod_date.isnull().sum()"
   ]
  },
  {
   "cell_type": "markdown",
   "id": "partial-institution",
   "metadata": {},
   "source": [
    "correct dtype:"
   ]
  },
  {
   "cell_type": "code",
   "execution_count": 123,
   "id": "fantastic-trainer",
   "metadata": {},
   "outputs": [
    {
     "name": "stderr",
     "output_type": "stream",
     "text": [
      "/Users/heyus/opt/anaconda3/lib/python3.7/site-packages/pandas/core/strings/accessor.py:101: UserWarning: This pattern has match groups. To actually get the groups, use str.extract.\n",
      "  return func(self, *args, **kwargs)\n"
     ]
    },
    {
     "data": {
      "text/plain": [
       "True     356000\n",
       "False        17\n",
       "Name: created_datetime, dtype: int64"
      ]
     },
     "execution_count": 123,
     "metadata": {},
     "output_type": "execute_result"
    }
   ],
   "source": [
    "df_created_date.str.contains('(\\d)').value_counts()"
   ]
  },
  {
   "cell_type": "code",
   "execution_count": 124,
   "id": "sized-monaco",
   "metadata": {},
   "outputs": [
    {
     "data": {
      "text/plain": [
       "True     356001\n",
       "False        26\n",
       "Name: last_modified_datetime, dtype: int64"
      ]
     },
     "execution_count": 124,
     "metadata": {},
     "output_type": "execute_result"
    }
   ],
   "source": [
    "df_mod_date.str.contains('(\\d)').value_counts()"
   ]
  },
  {
   "cell_type": "code",
   "execution_count": 125,
   "id": "accessory-pollution",
   "metadata": {},
   "outputs": [],
   "source": [
    "df_created_date = df_created_date[df_created_date.str.contains('(\\d)')]"
   ]
  },
  {
   "cell_type": "code",
   "execution_count": 126,
   "id": "overhead-summer",
   "metadata": {},
   "outputs": [],
   "source": [
    "df_mod_date = df_mod_date[df_mod_date.str.contains('(\\d)')]"
   ]
  },
  {
   "cell_type": "code",
   "execution_count": 127,
   "id": "gross-extraction",
   "metadata": {},
   "outputs": [],
   "source": [
    "df_created_date = pd.to_datetime(df_created_date, format='%Y-%m-%d %H:%M:%S')"
   ]
  },
  {
   "cell_type": "code",
   "execution_count": 128,
   "id": "private-intensity",
   "metadata": {},
   "outputs": [],
   "source": [
    "df_mod_date = pd.to_datetime(df_mod_date, format='%Y-%m-%d %H:%M:%S')"
   ]
  },
  {
   "cell_type": "code",
   "execution_count": 129,
   "id": "popular-tongue",
   "metadata": {},
   "outputs": [
    {
     "data": {
      "text/plain": [
       "Timedelta('108 days 03:35:24.810790656')"
      ]
     },
     "execution_count": 129,
     "metadata": {},
     "output_type": "execute_result"
    }
   ],
   "source": [
    "df_mod_date.mean()-df_created_date.mean()"
   ]
  },
  {
   "cell_type": "markdown",
   "id": "earned-reminder",
   "metadata": {},
   "source": [
    "2. analyze the **total number of items** created **each month** over the full timeline of the data and choose an appropriate method to **visualize my findings**."
   ]
  },
  {
   "cell_type": "code",
   "execution_count": 130,
   "id": "bizarre-westminster",
   "metadata": {},
   "outputs": [
    {
     "data": {
      "text/plain": [
       "0        2016-09-17 09:17:46\n",
       "1        2017-03-09 14:32:37\n",
       "2        2017-03-09 14:32:37\n",
       "3        2017-03-09 10:35:31\n",
       "4        2017-03-09 10:34:13\n",
       "                 ...        \n",
       "356022   2017-03-09 11:31:16\n",
       "356023   2015-01-24 11:36:17\n",
       "356024   2017-06-09 14:29:09\n",
       "356025   2017-04-16 10:54:49\n",
       "356026   2017-03-09 15:18:29\n",
       "Name: created_datetime, Length: 356000, dtype: datetime64[ns]"
      ]
     },
     "execution_count": 130,
     "metadata": {},
     "output_type": "execute_result"
    }
   ],
   "source": [
    "df_created_date"
   ]
  },
  {
   "cell_type": "code",
   "execution_count": 131,
   "id": "legendary-penguin",
   "metadata": {},
   "outputs": [],
   "source": [
    "df_created_date = df_created_date.astype('str')"
   ]
  },
  {
   "cell_type": "code",
   "execution_count": 132,
   "id": "differential-third",
   "metadata": {},
   "outputs": [
    {
     "name": "stderr",
     "output_type": "stream",
     "text": [
      "/Users/heyus/opt/anaconda3/lib/python3.7/site-packages/ipykernel_launcher.py:1: FutureWarning: The default value of regex will change from True to False in a future version.\n",
      "  \"\"\"Entry point for launching an IPython kernel.\n"
     ]
    }
   ],
   "source": [
    "df_created_date = df_created_date.str.replace('(\\d?\\d):(\\d\\d):(\\d\\d)', '')\n",
    "df_created_date = df_created_date.str.replace(' ', '')"
   ]
  },
  {
   "cell_type": "code",
   "execution_count": 133,
   "id": "monthly-outreach",
   "metadata": {},
   "outputs": [
    {
     "data": {
      "text/plain": [
       "'2016-09-17'"
      ]
     },
     "execution_count": 133,
     "metadata": {},
     "output_type": "execute_result"
    }
   ],
   "source": [
    "df_created_date[0]"
   ]
  },
  {
   "cell_type": "code",
   "execution_count": 134,
   "id": "technical-backup",
   "metadata": {},
   "outputs": [],
   "source": [
    "df_created_date = df_created_date.astype('datetime64[ns]')"
   ]
  },
  {
   "cell_type": "code",
   "execution_count": 135,
   "id": "limited-samuel",
   "metadata": {},
   "outputs": [],
   "source": [
    "df_created_date = pd.to_datetime(df_created_date,format='%Y-%m-%d')"
   ]
  },
  {
   "cell_type": "code",
   "execution_count": 136,
   "id": "shared-facial",
   "metadata": {},
   "outputs": [
    {
     "data": {
      "text/html": [
       "<div>\n",
       "<style scoped>\n",
       "    .dataframe tbody tr th:only-of-type {\n",
       "        vertical-align: middle;\n",
       "    }\n",
       "\n",
       "    .dataframe tbody tr th {\n",
       "        vertical-align: top;\n",
       "    }\n",
       "\n",
       "    .dataframe thead th {\n",
       "        text-align: right;\n",
       "    }\n",
       "</style>\n",
       "<table border=\"1\" class=\"dataframe\">\n",
       "  <thead>\n",
       "    <tr style=\"text-align: right;\">\n",
       "      <th></th>\n",
       "      <th>created_datetime</th>\n",
       "    </tr>\n",
       "  </thead>\n",
       "  <tbody>\n",
       "    <tr>\n",
       "      <th>0</th>\n",
       "      <td>2016-09-17</td>\n",
       "    </tr>\n",
       "  </tbody>\n",
       "</table>\n",
       "</div>"
      ],
      "text/plain": [
       "  created_datetime\n",
       "0       2016-09-17"
      ]
     },
     "execution_count": 136,
     "metadata": {},
     "output_type": "execute_result"
    }
   ],
   "source": [
    "df_created_date = pd.DataFrame(df_created_date)\n",
    "df_created_date.head(1)"
   ]
  },
  {
   "cell_type": "code",
   "execution_count": 137,
   "id": "junior-quarter",
   "metadata": {},
   "outputs": [],
   "source": [
    "df_created_date['count'] = 1"
   ]
  },
  {
   "cell_type": "code",
   "execution_count": 138,
   "id": "romance-monitoring",
   "metadata": {},
   "outputs": [],
   "source": [
    "df_created_date = df_created_date.set_index('created_datetime')"
   ]
  },
  {
   "cell_type": "code",
   "execution_count": 139,
   "id": "false-documentary",
   "metadata": {},
   "outputs": [
    {
     "data": {
      "text/html": [
       "<div>\n",
       "<style scoped>\n",
       "    .dataframe tbody tr th:only-of-type {\n",
       "        vertical-align: middle;\n",
       "    }\n",
       "\n",
       "    .dataframe tbody tr th {\n",
       "        vertical-align: top;\n",
       "    }\n",
       "\n",
       "    .dataframe thead th {\n",
       "        text-align: right;\n",
       "    }\n",
       "</style>\n",
       "<table border=\"1\" class=\"dataframe\">\n",
       "  <thead>\n",
       "    <tr style=\"text-align: right;\">\n",
       "      <th></th>\n",
       "      <th>count</th>\n",
       "    </tr>\n",
       "    <tr>\n",
       "      <th>created_datetime</th>\n",
       "      <th></th>\n",
       "    </tr>\n",
       "  </thead>\n",
       "  <tbody>\n",
       "    <tr>\n",
       "      <th>2016-09-17</th>\n",
       "      <td>1</td>\n",
       "    </tr>\n",
       "  </tbody>\n",
       "</table>\n",
       "</div>"
      ],
      "text/plain": [
       "                  count\n",
       "created_datetime       \n",
       "2016-09-17            1"
      ]
     },
     "execution_count": 139,
     "metadata": {},
     "output_type": "execute_result"
    }
   ],
   "source": [
    "df_created_date.head(1)"
   ]
  },
  {
   "cell_type": "code",
   "execution_count": 140,
   "id": "sharp-difficulty",
   "metadata": {},
   "outputs": [],
   "source": [
    "df_created_date = df_created_date.to_period(freq='M')"
   ]
  },
  {
   "cell_type": "code",
   "execution_count": 141,
   "id": "determined-prince",
   "metadata": {},
   "outputs": [
    {
     "data": {
      "text/plain": [
       "PeriodIndex(['2016-09', '2017-03', '2017-03', '2017-03', '2017-03', '2017-03',\n",
       "             '2017-03', '2017-03', '2017-03', '2017-03',\n",
       "             ...\n",
       "             '2013-04', '2015-04', '2015-10', '2016-05', '2017-03', '2017-03',\n",
       "             '2015-01', '2017-06', '2017-04', '2017-03'],\n",
       "            dtype='period[M]', name='created_datetime', length=356000, freq='M')"
      ]
     },
     "execution_count": 141,
     "metadata": {},
     "output_type": "execute_result"
    }
   ],
   "source": [
    "df_created_date.index"
   ]
  },
  {
   "cell_type": "code",
   "execution_count": 142,
   "id": "vulnerable-hebrew",
   "metadata": {},
   "outputs": [],
   "source": [
    "df_created_date['Month'] = df_created_date.index"
   ]
  },
  {
   "cell_type": "code",
   "execution_count": 143,
   "id": "visible-satin",
   "metadata": {},
   "outputs": [
    {
     "data": {
      "text/html": [
       "<div>\n",
       "<style scoped>\n",
       "    .dataframe tbody tr th:only-of-type {\n",
       "        vertical-align: middle;\n",
       "    }\n",
       "\n",
       "    .dataframe tbody tr th {\n",
       "        vertical-align: top;\n",
       "    }\n",
       "\n",
       "    .dataframe thead th {\n",
       "        text-align: right;\n",
       "    }\n",
       "</style>\n",
       "<table border=\"1\" class=\"dataframe\">\n",
       "  <thead>\n",
       "    <tr style=\"text-align: right;\">\n",
       "      <th></th>\n",
       "      <th>count</th>\n",
       "      <th>Month</th>\n",
       "    </tr>\n",
       "    <tr>\n",
       "      <th>created_datetime</th>\n",
       "      <th></th>\n",
       "      <th></th>\n",
       "    </tr>\n",
       "  </thead>\n",
       "  <tbody>\n",
       "    <tr>\n",
       "      <th>2016-09</th>\n",
       "      <td>1</td>\n",
       "      <td>2016-09</td>\n",
       "    </tr>\n",
       "  </tbody>\n",
       "</table>\n",
       "</div>"
      ],
      "text/plain": [
       "                  count    Month\n",
       "created_datetime                \n",
       "2016-09               1  2016-09"
      ]
     },
     "execution_count": 143,
     "metadata": {},
     "output_type": "execute_result"
    }
   ],
   "source": [
    "df_created_date.head(1)"
   ]
  },
  {
   "cell_type": "code",
   "execution_count": 198,
   "id": "intense-aging",
   "metadata": {},
   "outputs": [
    {
     "data": {
      "image/png": "[encoded data removed]",
      "text/plain": [
       "<Figure size 1296x288 with 1 Axes>"
      ]
     },
     "metadata": {
      "needs_background": "light"
     },
     "output_type": "display_data"
    }
   ],
   "source": [
    "df_created_date.groupby('Month').sum().plot.bar(figsize=(18, 4));\n",
    "bax.plot\n",
    "plt.title('Total monthly created items')\n",
    "plt.show()"
   ]
  },
  {
   "cell_type": "markdown",
   "id": "female-scoop",
   "metadata": {},
   "source": [
    "**Findings**: The data set gets regurarly updated except for a peak in the beginning of 2017"
   ]
  },
  {
   "cell_type": "code",
   "execution_count": 145,
   "id": "certain-technical",
   "metadata": {
    "collapsed": true,
    "jupyter": {
     "outputs_hidden": true
    }
   },
   "outputs": [
    {
     "name": "stdout",
     "output_type": "stream",
     "text": [
      "Requirement already satisfied: brokenaxes in /Users/heyus/opt/anaconda3/lib/python3.7/site-packages (0.4.2)\n",
      "Requirement already satisfied: matplotlib in /Users/heyus/opt/anaconda3/lib/python3.7/site-packages (from brokenaxes) (3.3.4)\n",
      "Requirement already satisfied: kiwisolver>=1.0.1 in /Users/heyus/opt/anaconda3/lib/python3.7/site-packages (from matplotlib->brokenaxes) (1.3.1)\n",
      "Requirement already satisfied: pillow>=6.2.0 in /Users/heyus/opt/anaconda3/lib/python3.7/site-packages (from matplotlib->brokenaxes) (8.1.2)\n",
      "Requirement already satisfied: python-dateutil>=2.1 in /Users/heyus/opt/anaconda3/lib/python3.7/site-packages (from matplotlib->brokenaxes) (2.8.1)\n",
      "Requirement already satisfied: numpy>=1.15 in /Users/heyus/opt/anaconda3/lib/python3.7/site-packages (from matplotlib->brokenaxes) (1.19.2)\n",
      "Requirement already satisfied: pyparsing!=2.0.4,!=2.1.2,!=2.1.6,>=2.0.3 in /Users/heyus/opt/anaconda3/lib/python3.7/site-packages (from matplotlib->brokenaxes) (2.4.7)\n",
      "Requirement already satisfied: cycler>=0.10 in /Users/heyus/opt/anaconda3/lib/python3.7/site-packages (from matplotlib->brokenaxes) (0.10.0)\n",
      "Requirement already satisfied: six in /Users/heyus/opt/anaconda3/lib/python3.7/site-packages (from cycler>=0.10->matplotlib->brokenaxes) (1.15.0)\n",
      "Note: you may need to restart the kernel to use updated packages.\n"
     ]
    }
   ],
   "source": [
    "pip install brokenaxes"
   ]
  },
  {
   "cell_type": "code",
   "execution_count": 146,
   "id": "swedish-uzbekistan",
   "metadata": {},
   "outputs": [],
   "source": [
    "from brokenaxes import brokenaxes"
   ]
  },
  {
   "cell_type": "markdown",
   "id": "wooden-excuse",
   "metadata": {},
   "source": [
    "https://github.com/bendichter/brokenaxes "
   ]
  },
  {
   "cell_type": "markdown",
   "id": "amazing-reflection",
   "metadata": {},
   "source": [
    "## E. Build a database"
   ]
  },
  {
   "cell_type": "markdown",
   "id": "varying-differential",
   "metadata": {},
   "source": [
    "Take the cleaned openfoodfacts dataset and put it into an SQL database\n",
    "\n",
    "1. Restrict your data to 1000 entries and 5 columns of your choice\n",
    "2. Create a connection to a sqlite3 database\n",
    "3. Create one or multiple tables, at least one of the tables should have a PRIMARY KEY\n",
    "4. Fill the database with your data\n",
    "5. Run at least one query to demonstrate that it works correctly"
   ]
  },
  {
   "cell_type": "markdown",
   "id": "current-ground",
   "metadata": {},
   "source": [
    "1. Restrict your data to 1000 entries and 5 columns of your choice"
   ]
  },
  {
   "cell_type": "code",
   "execution_count": 148,
   "id": "opposite-monitor",
   "metadata": {},
   "outputs": [],
   "source": [
    "df_short_db = df_short.iloc[0:1004][['code','product_name', 'brands', 'fat_100g','carbohydrates_100g']]"
   ]
  },
  {
   "cell_type": "code",
   "execution_count": 149,
   "id": "thousand-trouble",
   "metadata": {},
   "outputs": [],
   "source": [
    "df_short_db.drop_duplicates(subset='code', inplace=True)"
   ]
  },
  {
   "cell_type": "code",
   "execution_count": 150,
   "id": "danish-mexican",
   "metadata": {},
   "outputs": [
    {
     "data": {
      "text/plain": [
       "False    1000\n",
       "Name: code, dtype: int64"
      ]
     },
     "execution_count": 150,
     "metadata": {},
     "output_type": "execute_result"
    }
   ],
   "source": [
    "df_short_db.code.duplicated().value_counts()"
   ]
  },
  {
   "cell_type": "code",
   "execution_count": 151,
   "id": "animated-detail",
   "metadata": {},
   "outputs": [
    {
     "data": {
      "text/plain": [
       "(1000, 5)"
      ]
     },
     "execution_count": 151,
     "metadata": {},
     "output_type": "execute_result"
    }
   ],
   "source": [
    "df_short_db.shape"
   ]
  },
  {
   "cell_type": "code",
   "execution_count": 152,
   "id": "portuguese-career",
   "metadata": {},
   "outputs": [
    {
     "data": {
      "text/html": [
       "<div>\n",
       "<style scoped>\n",
       "    .dataframe tbody tr th:only-of-type {\n",
       "        vertical-align: middle;\n",
       "    }\n",
       "\n",
       "    .dataframe tbody tr th {\n",
       "        vertical-align: top;\n",
       "    }\n",
       "\n",
       "    .dataframe thead th {\n",
       "        text-align: right;\n",
       "    }\n",
       "</style>\n",
       "<table border=\"1\" class=\"dataframe\">\n",
       "  <thead>\n",
       "    <tr style=\"text-align: right;\">\n",
       "      <th></th>\n",
       "      <th>code</th>\n",
       "      <th>product_name</th>\n",
       "      <th>brands</th>\n",
       "      <th>fat_100g</th>\n",
       "      <th>carbohydrates_100g</th>\n",
       "    </tr>\n",
       "  </thead>\n",
       "  <tbody>\n",
       "    <tr>\n",
       "      <th>0</th>\n",
       "      <td>3087</td>\n",
       "      <td>Farine de blé noir</td>\n",
       "      <td>Ferme t'y R'nao</td>\n",
       "      <td>NaN</td>\n",
       "      <td>NaN</td>\n",
       "    </tr>\n",
       "  </tbody>\n",
       "</table>\n",
       "</div>"
      ],
      "text/plain": [
       "   code        product_name           brands  fat_100g  carbohydrates_100g\n",
       "0  3087  Farine de blé noir  Ferme t'y R'nao       NaN                 NaN"
      ]
     },
     "execution_count": 152,
     "metadata": {},
     "output_type": "execute_result"
    }
   ],
   "source": [
    "df_short_db.head(1)"
   ]
  },
  {
   "cell_type": "code",
   "execution_count": 153,
   "id": "interim-committee",
   "metadata": {},
   "outputs": [
    {
     "data": {
      "text/plain": [
       "code                   object\n",
       "product_name           object\n",
       "brands                 object\n",
       "fat_100g              float64\n",
       "carbohydrates_100g    float64\n",
       "dtype: object"
      ]
     },
     "execution_count": 153,
     "metadata": {},
     "output_type": "execute_result"
    }
   ],
   "source": [
    "df_short_db.dtypes"
   ]
  },
  {
   "cell_type": "markdown",
   "id": "fancy-mother",
   "metadata": {},
   "source": [
    "2. Create a connection to a sqlite3 database"
   ]
  },
  {
   "cell_type": "code",
   "execution_count": 154,
   "id": "acceptable-jurisdiction",
   "metadata": {},
   "outputs": [],
   "source": [
    "db = sqlite3.connect(\"my_database.db\")"
   ]
  },
  {
   "cell_type": "markdown",
   "id": "satisfied-princess",
   "metadata": {},
   "source": [
    "3. Create one or multiple tables, at least one of the tables should have a PRIMARY KEY"
   ]
  },
  {
   "cell_type": "code",
   "execution_count": 155,
   "id": "indonesian-reynolds",
   "metadata": {},
   "outputs": [],
   "source": [
    "query = \"CREATE TABLE food_facts (code INTEGER PRIMARY KEY, product_name TEXT, brands TEXT, fat_100g REAL, carbohydrates_100g REAL);\""
   ]
  },
  {
   "cell_type": "code",
   "execution_count": 156,
   "id": "other-foundation",
   "metadata": {},
   "outputs": [],
   "source": [
    "cursor = db.cursor()"
   ]
  },
  {
   "cell_type": "code",
   "execution_count": 157,
   "id": "appointed-torture",
   "metadata": {},
   "outputs": [
    {
     "data": {
      "text/plain": [
       "<sqlite3.Cursor at 0x1cdc4f180>"
      ]
     },
     "execution_count": 157,
     "metadata": {},
     "output_type": "execute_result"
    }
   ],
   "source": [
    "cursor.execute(query)"
   ]
  },
  {
   "cell_type": "code",
   "execution_count": 158,
   "id": "photographic-samuel",
   "metadata": {},
   "outputs": [
    {
     "data": {
      "text/plain": [
       "<sqlite3.Cursor at 0x1cdc4f180>"
      ]
     },
     "execution_count": 158,
     "metadata": {},
     "output_type": "execute_result"
    }
   ],
   "source": [
    "cursor.execute(\"SELECT name FROM sqlite_master WHERE type='table';\")"
   ]
  },
  {
   "cell_type": "code",
   "execution_count": 159,
   "id": "floppy-eight",
   "metadata": {},
   "outputs": [
    {
     "name": "stdout",
     "output_type": "stream",
     "text": [
      "[('food_facts',)]\n"
     ]
    }
   ],
   "source": [
    "results = cursor.fetchall()\n",
    "print(results)"
   ]
  },
  {
   "cell_type": "markdown",
   "id": "disciplinary-sentence",
   "metadata": {},
   "source": [
    "4. Fill the database with your data"
   ]
  },
  {
   "cell_type": "code",
   "execution_count": 160,
   "id": "atomic-negative",
   "metadata": {},
   "outputs": [],
   "source": [
    "df_short_db.to_sql(name='food_facts', con=db, if_exists='append', index=False)"
   ]
  },
  {
   "cell_type": "markdown",
   "id": "approved-islam",
   "metadata": {},
   "source": [
    "5. Run at least one query to demonstrate that it works correctly"
   ]
  },
  {
   "cell_type": "code",
   "execution_count": 161,
   "id": "golden-tournament",
   "metadata": {},
   "outputs": [
    {
     "data": {
      "text/html": [
       "<div>\n",
       "<style scoped>\n",
       "    .dataframe tbody tr th:only-of-type {\n",
       "        vertical-align: middle;\n",
       "    }\n",
       "\n",
       "    .dataframe tbody tr th {\n",
       "        vertical-align: top;\n",
       "    }\n",
       "\n",
       "    .dataframe thead th {\n",
       "        text-align: right;\n",
       "    }\n",
       "</style>\n",
       "<table border=\"1\" class=\"dataframe\">\n",
       "  <thead>\n",
       "    <tr style=\"text-align: right;\">\n",
       "      <th></th>\n",
       "      <th>code</th>\n",
       "      <th>product_name</th>\n",
       "      <th>brands</th>\n",
       "      <th>fat_100g</th>\n",
       "      <th>carbohydrates_100g</th>\n",
       "    </tr>\n",
       "  </thead>\n",
       "  <tbody>\n",
       "    <tr>\n",
       "      <th>0</th>\n",
       "      <td>10</td>\n",
       "      <td>Madeleines nature</td>\n",
       "      <td>Bijou</td>\n",
       "      <td>23.00</td>\n",
       "      <td>55.00</td>\n",
       "    </tr>\n",
       "    <tr>\n",
       "      <th>1</th>\n",
       "      <td>30</td>\n",
       "      <td>Cakes Raisins</td>\n",
       "      <td>Bijou</td>\n",
       "      <td>19.00</td>\n",
       "      <td>56.00</td>\n",
       "    </tr>\n",
       "    <tr>\n",
       "      <th>2</th>\n",
       "      <td>31</td>\n",
       "      <td>Cakes aux Fruits</td>\n",
       "      <td>Bijou</td>\n",
       "      <td>15.00</td>\n",
       "      <td>60.00</td>\n",
       "    </tr>\n",
       "    <tr>\n",
       "      <th>3</th>\n",
       "      <td>50</td>\n",
       "      <td>Financiers aux Amandes</td>\n",
       "      <td>Bijou</td>\n",
       "      <td>23.00</td>\n",
       "      <td>51.00</td>\n",
       "    </tr>\n",
       "    <tr>\n",
       "      <th>4</th>\n",
       "      <td>51</td>\n",
       "      <td>Fondants Citron</td>\n",
       "      <td>Bijou</td>\n",
       "      <td>24.00</td>\n",
       "      <td>50.00</td>\n",
       "    </tr>\n",
       "    <tr>\n",
       "      <th>...</th>\n",
       "      <td>...</td>\n",
       "      <td>...</td>\n",
       "      <td>...</td>\n",
       "      <td>...</td>\n",
       "      <td>...</td>\n",
       "    </tr>\n",
       "    <tr>\n",
       "      <th>995</th>\n",
       "      <td>78895300024</td>\n",
       "      <td>Panda Brand, Oyster Flavored Sauce</td>\n",
       "      <td>Lee Kum Kee,  Lee Kum Kee (Usa) Foods Inc.</td>\n",
       "      <td>NaN</td>\n",
       "      <td>26.32</td>\n",
       "    </tr>\n",
       "    <tr>\n",
       "      <th>996</th>\n",
       "      <td>79122112502</td>\n",
       "      <td>Almonds Cookies</td>\n",
       "      <td>Amay's Bakery &amp; Noodle Co.  Inc.</td>\n",
       "      <td>26.67</td>\n",
       "      <td>60.00</td>\n",
       "    </tr>\n",
       "    <tr>\n",
       "      <th>997</th>\n",
       "      <td>82592194152</td>\n",
       "      <td>100% Juice Smoothie, Strawberry Banana</td>\n",
       "      <td>Naked,  Naked Juice</td>\n",
       "      <td>NaN</td>\n",
       "      <td>13.11</td>\n",
       "    </tr>\n",
       "    <tr>\n",
       "      <th>998</th>\n",
       "      <td>82592660152</td>\n",
       "      <td>Pure Fruit 100% Juice Smoothie, Mighty Mango</td>\n",
       "      <td>Naked</td>\n",
       "      <td>NaN</td>\n",
       "      <td>15.11</td>\n",
       "    </tr>\n",
       "    <tr>\n",
       "      <th>999</th>\n",
       "      <td>82592726150</td>\n",
       "      <td>Boosted 100% Juice Smoothie, Red Machine</td>\n",
       "      <td>Naked,  Easley Enterprises  Inc.</td>\n",
       "      <td>2.00</td>\n",
       "      <td>13.11</td>\n",
       "    </tr>\n",
       "  </tbody>\n",
       "</table>\n",
       "<p>1000 rows × 5 columns</p>\n",
       "</div>"
      ],
      "text/plain": [
       "            code                                  product_name  \\\n",
       "0             10                             Madeleines nature   \n",
       "1             30                                 Cakes Raisins   \n",
       "2             31                              Cakes aux Fruits   \n",
       "3             50                        Financiers aux Amandes   \n",
       "4             51                               Fondants Citron   \n",
       "..           ...                                           ...   \n",
       "995  78895300024            Panda Brand, Oyster Flavored Sauce   \n",
       "996  79122112502                               Almonds Cookies   \n",
       "997  82592194152        100% Juice Smoothie, Strawberry Banana   \n",
       "998  82592660152  Pure Fruit 100% Juice Smoothie, Mighty Mango   \n",
       "999  82592726150      Boosted 100% Juice Smoothie, Red Machine   \n",
       "\n",
       "                                         brands  fat_100g  carbohydrates_100g  \n",
       "0                                         Bijou     23.00               55.00  \n",
       "1                                         Bijou     19.00               56.00  \n",
       "2                                         Bijou     15.00               60.00  \n",
       "3                                         Bijou     23.00               51.00  \n",
       "4                                         Bijou     24.00               50.00  \n",
       "..                                          ...       ...                 ...  \n",
       "995  Lee Kum Kee,  Lee Kum Kee (Usa) Foods Inc.       NaN               26.32  \n",
       "996            Amay's Bakery & Noodle Co.  Inc.     26.67               60.00  \n",
       "997                         Naked,  Naked Juice       NaN               13.11  \n",
       "998                                       Naked       NaN               15.11  \n",
       "999            Naked,  Easley Enterprises  Inc.      2.00               13.11  \n",
       "\n",
       "[1000 rows x 5 columns]"
      ]
     },
     "execution_count": 161,
     "metadata": {},
     "output_type": "execute_result"
    }
   ],
   "source": [
    "pd.read_sql_query(\"SELECT * FROM food_facts;\",db)"
   ]
  },
  {
   "cell_type": "markdown",
   "id": "contemporary-stanley",
   "metadata": {},
   "source": [
    "## F. Finding correlations"
   ]
  },
  {
   "cell_type": "markdown",
   "id": "ideal-nashville",
   "metadata": {},
   "source": [
    "Find correlations between the different data fields. Identify the variables which **most affect the nutritional score** and provide some insight into which factors cause both a **low** or a **high nutritional score**."
   ]
  },
  {
   "cell_type": "code",
   "execution_count": 162,
   "id": "actual-bidding",
   "metadata": {},
   "outputs": [],
   "source": [
    "df_corr = df.corr().dropna(axis=1, how='all').dropna(how='all')"
   ]
  },
  {
   "cell_type": "markdown",
   "id": "personal-operator",
   "metadata": {},
   "source": [
    "Working assumption: \"most affect\" means a positive/negative correlation of more than 0.6. Based on this assumption the variables which most affectnutrition-score-uk_100g are: "
   ]
  },
  {
   "cell_type": "code",
   "execution_count": 163,
   "id": "under-spare",
   "metadata": {},
   "outputs": [
    {
     "data": {
      "text/plain": [
       "saturated-fat_100g                      0.633942\n",
       "-lauric-acid_100g                      -1.000000\n",
       "omega-9-fat_100g                        0.640127\n",
       "-oleic-acid_100g                        0.869978\n",
       "-maltose_100g                           0.997222\n",
       "serum-proteins_100g                     0.691806\n",
       "nucleotides_100g                       -0.863384\n",
       "beta-carotene_100g                      0.686812\n",
       "bicarbonate_100g                        1.000000\n",
       "chloride_100g                           0.780068\n",
       "molybdenum_100g                         0.877297\n",
       "fruits-vegetables-nuts-estimate_100g   -0.611147\n",
       "nutrition-score-fr_100g                 0.978487\n",
       "nutrition-score-uk_100g                 1.000000\n",
       "Name: nutrition-score-uk_100g, dtype: float64"
      ]
     },
     "execution_count": 163,
     "metadata": {},
     "output_type": "execute_result"
    }
   ],
   "source": [
    "df_corr[abs(df_corr)>0.6].loc['nutrition-score-uk_100g'].dropna()"
   ]
  },
  {
   "cell_type": "code",
   "execution_count": 164,
   "id": "legendary-agent",
   "metadata": {},
   "outputs": [
    {
     "data": {
      "text/html": [
       "<div>\n",
       "<style scoped>\n",
       "    .dataframe tbody tr th:only-of-type {\n",
       "        vertical-align: middle;\n",
       "    }\n",
       "\n",
       "    .dataframe tbody tr th {\n",
       "        vertical-align: top;\n",
       "    }\n",
       "\n",
       "    .dataframe thead th {\n",
       "        text-align: right;\n",
       "    }\n",
       "</style>\n",
       "<table border=\"1\" class=\"dataframe\">\n",
       "  <thead>\n",
       "    <tr style=\"text-align: right;\">\n",
       "      <th></th>\n",
       "      <th>nutrition-score-uk_100g</th>\n",
       "      <th>-lauric-acid_100g</th>\n",
       "    </tr>\n",
       "  </thead>\n",
       "  <tbody>\n",
       "    <tr>\n",
       "      <th>236152</th>\n",
       "      <td>15.0</td>\n",
       "      <td>49.00000</td>\n",
       "    </tr>\n",
       "    <tr>\n",
       "      <th>311670</th>\n",
       "      <td>19.0</td>\n",
       "      <td>0.04473</td>\n",
       "    </tr>\n",
       "  </tbody>\n",
       "</table>\n",
       "</div>"
      ],
      "text/plain": [
       "        nutrition-score-uk_100g  -lauric-acid_100g\n",
       "236152                     15.0           49.00000\n",
       "311670                     19.0            0.04473"
      ]
     },
     "execution_count": 164,
     "metadata": {},
     "output_type": "execute_result"
    }
   ],
   "source": [
    "df[['nutrition-score-uk_100g', '-lauric-acid_100g']].dropna(axis=0, how='any')"
   ]
  },
  {
   "cell_type": "code",
   "execution_count": 165,
   "id": "dress-determination",
   "metadata": {},
   "outputs": [
    {
     "data": {
      "text/plain": [
       "356023"
      ]
     },
     "execution_count": 165,
     "metadata": {},
     "output_type": "execute_result"
    }
   ],
   "source": [
    "df['-lauric-acid_100g'].isna().sum()"
   ]
  },
  {
   "cell_type": "code",
   "execution_count": 166,
   "id": "persistent-clear",
   "metadata": {},
   "outputs": [
    {
     "data": {
      "text/plain": [
       "356018"
      ]
     },
     "execution_count": 166,
     "metadata": {},
     "output_type": "execute_result"
    }
   ],
   "source": [
    "df['nucleotides_100g'].isna().sum()"
   ]
  },
  {
   "cell_type": "code",
   "execution_count": 167,
   "id": "packed-translation",
   "metadata": {},
   "outputs": [
    {
     "data": {
      "text/plain": [
       "355624"
      ]
     },
     "execution_count": 167,
     "metadata": {},
     "output_type": "execute_result"
    }
   ],
   "source": [
    "df['fruits-vegetables-nuts-estimate_100g'].isna().sum()"
   ]
  },
  {
   "cell_type": "code",
   "execution_count": 168,
   "id": "foreign-introduction",
   "metadata": {},
   "outputs": [
    {
     "data": {
      "text/plain": [
       "117267"
      ]
     },
     "execution_count": 168,
     "metadata": {},
     "output_type": "execute_result"
    }
   ],
   "source": [
    "df['nutrition-score-uk_100g'].isna().sum()"
   ]
  },
  {
   "cell_type": "code",
   "execution_count": 169,
   "id": "expired-gates",
   "metadata": {},
   "outputs": [
    {
     "data": {
      "text/plain": [
       "<seaborn.axisgrid.PairGrid at 0x1830ef210>"
      ]
     },
     "execution_count": 169,
     "metadata": {},
     "output_type": "execute_result"
    },
    {
     "data": {
      "image/png": "[encoded data removed]",
      "text/plain": [
       "<Figure size 2520x180 with 15 Axes>"
      ]
     },
     "metadata": {
      "needs_background": "light"
     },
     "output_type": "display_data"
    }
   ],
   "source": [
    "sns.pairplot(df, x_vars = list(df_corr[abs(df_corr)>0.6].loc['nutrition-score-uk_100g'].dropna().index),\n",
    "            y_vars = 'nutrition-score-uk_100g')"
   ]
  },
  {
   "cell_type": "markdown",
   "id": "intense-crazy",
   "metadata": {},
   "source": [
    "**Preliminary findings:** The reason we see large negative correlations for -lauric-acid_100g, nucleotides_100g and fruits-vegetables-nuts-estimate_100g is because the variables contain mostly null-values only. For the remaining values (as shown above with -lauric-acid_100g) Pandas calculates the correlation. This can result in a strongly misleading correlation since the data set is too small. The pairplot can show how big the data sets are in order to evaluate if the calculated correlations make sense and if we first need to remove some outliers (or incorrect data like negative values where negatives do not make sense)."
   ]
  },
  {
   "cell_type": "markdown",
   "id": "lasting-resistance",
   "metadata": {},
   "source": [
    "For a better readability/accuracy the data set needs to be cleaned again for all data (only done for US previously):"
   ]
  },
  {
   "cell_type": "code",
   "execution_count": 170,
   "id": "appreciated-flush",
   "metadata": {},
   "outputs": [],
   "source": [
    "df_short_F = df.dropna(axis=1, how='all')"
   ]
  },
  {
   "cell_type": "code",
   "execution_count": 171,
   "id": "natural-camera",
   "metadata": {},
   "outputs": [],
   "source": [
    "def NaN_if_negative(x):\n",
    "    if x > 100:\n",
    "        return np.nan\n",
    "    return x"
   ]
  },
  {
   "cell_type": "code",
   "execution_count": 172,
   "id": "electric-occupation",
   "metadata": {},
   "outputs": [
    {
     "name": "stderr",
     "output_type": "stream",
     "text": [
      "/Users/heyus/opt/anaconda3/lib/python3.7/site-packages/ipykernel_launcher.py:1: SettingWithCopyWarning: \n",
      "A value is trying to be set on a copy of a slice from a DataFrame.\n",
      "Try using .loc[row_indexer,col_indexer] = value instead\n",
      "\n",
      "See the caveats in the documentation: https://pandas.pydata.org/pandas-docs/stable/user_guide/indexing.html#returning-a-view-versus-a-copy\n",
      "  \"\"\"Entry point for launching an IPython kernel.\n",
      "/Users/heyus/opt/anaconda3/lib/python3.7/site-packages/ipykernel_launcher.py:2: SettingWithCopyWarning: \n",
      "A value is trying to be set on a copy of a slice from a DataFrame.\n",
      "Try using .loc[row_indexer,col_indexer] = value instead\n",
      "\n",
      "See the caveats in the documentation: https://pandas.pydata.org/pandas-docs/stable/user_guide/indexing.html#returning-a-view-versus-a-copy\n",
      "  \n",
      "/Users/heyus/opt/anaconda3/lib/python3.7/site-packages/ipykernel_launcher.py:3: SettingWithCopyWarning: \n",
      "A value is trying to be set on a copy of a slice from a DataFrame.\n",
      "Try using .loc[row_indexer,col_indexer] = value instead\n",
      "\n",
      "See the caveats in the documentation: https://pandas.pydata.org/pandas-docs/stable/user_guide/indexing.html#returning-a-view-versus-a-copy\n",
      "  This is separate from the ipykernel package so we can avoid doing imports until\n",
      "/Users/heyus/opt/anaconda3/lib/python3.7/site-packages/ipykernel_launcher.py:4: SettingWithCopyWarning: \n",
      "A value is trying to be set on a copy of a slice from a DataFrame.\n",
      "Try using .loc[row_indexer,col_indexer] = value instead\n",
      "\n",
      "See the caveats in the documentation: https://pandas.pydata.org/pandas-docs/stable/user_guide/indexing.html#returning-a-view-versus-a-copy\n",
      "  after removing the cwd from sys.path.\n",
      "/Users/heyus/opt/anaconda3/lib/python3.7/site-packages/ipykernel_launcher.py:5: SettingWithCopyWarning: \n",
      "A value is trying to be set on a copy of a slice from a DataFrame.\n",
      "Try using .loc[row_indexer,col_indexer] = value instead\n",
      "\n",
      "See the caveats in the documentation: https://pandas.pydata.org/pandas-docs/stable/user_guide/indexing.html#returning-a-view-versus-a-copy\n",
      "  \"\"\"\n",
      "/Users/heyus/opt/anaconda3/lib/python3.7/site-packages/ipykernel_launcher.py:6: SettingWithCopyWarning: \n",
      "A value is trying to be set on a copy of a slice from a DataFrame.\n",
      "Try using .loc[row_indexer,col_indexer] = value instead\n",
      "\n",
      "See the caveats in the documentation: https://pandas.pydata.org/pandas-docs/stable/user_guide/indexing.html#returning-a-view-versus-a-copy\n",
      "  \n",
      "/Users/heyus/opt/anaconda3/lib/python3.7/site-packages/ipykernel_launcher.py:7: SettingWithCopyWarning: \n",
      "A value is trying to be set on a copy of a slice from a DataFrame.\n",
      "Try using .loc[row_indexer,col_indexer] = value instead\n",
      "\n",
      "See the caveats in the documentation: https://pandas.pydata.org/pandas-docs/stable/user_guide/indexing.html#returning-a-view-versus-a-copy\n",
      "  import sys\n",
      "/Users/heyus/opt/anaconda3/lib/python3.7/site-packages/ipykernel_launcher.py:8: SettingWithCopyWarning: \n",
      "A value is trying to be set on a copy of a slice from a DataFrame.\n",
      "Try using .loc[row_indexer,col_indexer] = value instead\n",
      "\n",
      "See the caveats in the documentation: https://pandas.pydata.org/pandas-docs/stable/user_guide/indexing.html#returning-a-view-versus-a-copy\n",
      "  \n",
      "/Users/heyus/opt/anaconda3/lib/python3.7/site-packages/ipykernel_launcher.py:9: SettingWithCopyWarning: \n",
      "A value is trying to be set on a copy of a slice from a DataFrame.\n",
      "Try using .loc[row_indexer,col_indexer] = value instead\n",
      "\n",
      "See the caveats in the documentation: https://pandas.pydata.org/pandas-docs/stable/user_guide/indexing.html#returning-a-view-versus-a-copy\n",
      "  if __name__ == '__main__':\n",
      "/Users/heyus/opt/anaconda3/lib/python3.7/site-packages/ipykernel_launcher.py:10: SettingWithCopyWarning: \n",
      "A value is trying to be set on a copy of a slice from a DataFrame.\n",
      "Try using .loc[row_indexer,col_indexer] = value instead\n",
      "\n",
      "See the caveats in the documentation: https://pandas.pydata.org/pandas-docs/stable/user_guide/indexing.html#returning-a-view-versus-a-copy\n",
      "  # Remove the CWD from sys.path while we load stuff.\n",
      "/Users/heyus/opt/anaconda3/lib/python3.7/site-packages/ipykernel_launcher.py:11: SettingWithCopyWarning: \n",
      "A value is trying to be set on a copy of a slice from a DataFrame.\n",
      "Try using .loc[row_indexer,col_indexer] = value instead\n",
      "\n",
      "See the caveats in the documentation: https://pandas.pydata.org/pandas-docs/stable/user_guide/indexing.html#returning-a-view-versus-a-copy\n",
      "  # This is added back by InteractiveShellApp.init_path()\n"
     ]
    }
   ],
   "source": [
    "df_short_F['saturated-fat_100g'] = df_short_F['saturated-fat_100g'].apply(NaN_if_negative)\n",
    "df_short_F['-lauric-acid_100g'] = df_short_F['-lauric-acid_100g'].apply(NaN_if_negative)\n",
    "df_short_F['omega-9-fat_100g'] = df_short_F['omega-9-fat_100g'].apply(NaN_if_negative)\n",
    "df_short_F['-oleic-acid_100g'] = df_short_F['-oleic-acid_100g'].apply(NaN_if_negative)\n",
    "df_short_F['-maltose_100g'] = df_short_F['-maltose_100g'].apply(NaN_if_negative)\n",
    "df_short_F['serum-proteins_100g'] = df_short_F['serum-proteins_100g'].apply(NaN_if_negative)\n",
    "df_short_F['nucleotides_100g'] = df_short_F['nucleotides_100g'].apply(NaN_if_negative)\n",
    "df_short_F['beta-carotene_100g'] = df_short_F['beta-carotene_100g'].apply(NaN_if_negative)\n",
    "df_short_F['bicarbonate_100g'] = df_short_F['bicarbonate_100g'].apply(NaN_if_negative)\n",
    "df_short_F['chloride_100g'] = df_short_F['chloride_100g'].apply(NaN_if_negative)\n",
    "df_short_F['molybdenum_100g'] = df_short_F['molybdenum_100g'].apply(NaN_if_negative)"
   ]
  },
  {
   "cell_type": "code",
   "execution_count": 173,
   "id": "bottom-politics",
   "metadata": {},
   "outputs": [],
   "source": [
    "def NaN_if_negative(x):\n",
    "    if x < 0:\n",
    "        return np.nan\n",
    "    return x"
   ]
  },
  {
   "cell_type": "code",
   "execution_count": 174,
   "id": "super-premises",
   "metadata": {},
   "outputs": [
    {
     "name": "stderr",
     "output_type": "stream",
     "text": [
      "/Users/heyus/opt/anaconda3/lib/python3.7/site-packages/ipykernel_launcher.py:1: SettingWithCopyWarning: \n",
      "A value is trying to be set on a copy of a slice from a DataFrame.\n",
      "Try using .loc[row_indexer,col_indexer] = value instead\n",
      "\n",
      "See the caveats in the documentation: https://pandas.pydata.org/pandas-docs/stable/user_guide/indexing.html#returning-a-view-versus-a-copy\n",
      "  \"\"\"Entry point for launching an IPython kernel.\n",
      "/Users/heyus/opt/anaconda3/lib/python3.7/site-packages/ipykernel_launcher.py:2: SettingWithCopyWarning: \n",
      "A value is trying to be set on a copy of a slice from a DataFrame.\n",
      "Try using .loc[row_indexer,col_indexer] = value instead\n",
      "\n",
      "See the caveats in the documentation: https://pandas.pydata.org/pandas-docs/stable/user_guide/indexing.html#returning-a-view-versus-a-copy\n",
      "  \n"
     ]
    }
   ],
   "source": [
    "df_short_F['nutrition-score-fr_100g'] = df_short_F['nutrition-score-fr_100g'].apply(NaN_if_negative)\n",
    "df_short_F['nutrition-score-uk_100g'] = df_short_F['nutrition-score-uk_100g'].apply(NaN_if_negative)"
   ]
  },
  {
   "cell_type": "code",
   "execution_count": 175,
   "id": "romantic-bouquet",
   "metadata": {},
   "outputs": [],
   "source": [
    "df_short_F = df_short_F.select_dtypes(np.number)"
   ]
  },
  {
   "cell_type": "code",
   "execution_count": 176,
   "id": "ahead-mayor",
   "metadata": {},
   "outputs": [
    {
     "data": {
      "text/plain": [
       "additives_n                                185838\n",
       "ingredients_from_palm_oil_n                349455\n",
       "ingredients_that_may_be_from_palm_oil_n    341699\n",
       "energy_100g                                 70076\n",
       "energy-from-fat_100g                       355324\n",
       "                                            ...  \n",
       "collagen-meat-protein-ratio_100g           355845\n",
       "cocoa_100g                                 354644\n",
       "carbon-footprint_100g                      355775\n",
       "nutrition-score-fr_100g                    156231\n",
       "nutrition-score-uk_100g                    159678\n",
       "Length: 91, dtype: int64"
      ]
     },
     "execution_count": 176,
     "metadata": {},
     "output_type": "execute_result"
    }
   ],
   "source": [
    "df_short_F.isnull().sum()"
   ]
  },
  {
   "cell_type": "code",
   "execution_count": 177,
   "id": "pursuant-wireless",
   "metadata": {},
   "outputs": [],
   "source": [
    "Q1 = np.percentile(df_short_F, 25, axis=0)\n",
    "Q3 = np.percentile(df_short_F, 75, axis=0)\n",
    "IQR = Q3 - Q1\n",
    "lower_bound = Q1 - 1.5 * IQR\n",
    "upper_bound = Q3 + 1.5 * IQR"
   ]
  },
  {
   "cell_type": "code",
   "execution_count": 178,
   "id": "decent-clone",
   "metadata": {},
   "outputs": [
    {
     "name": "stdout",
     "output_type": "stream",
     "text": [
      "Number of outliers detected per feature using a boxplot:\n",
      "additives_n                                0\n",
      "ingredients_from_palm_oil_n                0\n",
      "ingredients_that_may_be_from_palm_oil_n    0\n",
      "energy_100g                                0\n",
      "energy-from-fat_100g                       0\n",
      "                                          ..\n",
      "collagen-meat-protein-ratio_100g           0\n",
      "cocoa_100g                                 0\n",
      "carbon-footprint_100g                      0\n",
      "nutrition-score-fr_100g                    0\n",
      "nutrition-score-uk_100g                    0\n",
      "Length: 91, dtype: int64\n",
      "Total number of outliers detected: 0\n"
     ]
    }
   ],
   "source": [
    "boxplot_filter = (df_short_F < lower_bound) | (df_short_F > upper_bound)\n",
    "print(\"Number of outliers detected per feature using a boxplot:\")\n",
    "print(boxplot_filter.sum(axis=0))\n",
    "print(\"Total number of outliers detected:\", boxplot_filter.sum(axis=0).sum())"
   ]
  },
  {
   "cell_type": "code",
   "execution_count": 179,
   "id": "superior-laugh",
   "metadata": {},
   "outputs": [
    {
     "data": {
      "text/plain": [
       "0    False\n",
       "1    False\n",
       "2    False\n",
       "3    False\n",
       "4    False\n",
       "dtype: bool"
      ]
     },
     "execution_count": 179,
     "metadata": {},
     "output_type": "execute_result"
    }
   ],
   "source": [
    "boxplot_filter_any  = boxplot_filter.any(axis=1)\n",
    "boxplot_filter_any.head()"
   ]
  },
  {
   "cell_type": "code",
   "execution_count": 180,
   "id": "quick-fantasy",
   "metadata": {},
   "outputs": [
    {
     "data": {
      "text/plain": [
       "(0, 91)"
      ]
     },
     "execution_count": 180,
     "metadata": {},
     "output_type": "execute_result"
    }
   ],
   "source": [
    "outliers = df_short_F.loc[boxplot_filter_any, :]\n",
    "outliers.shape"
   ]
  },
  {
   "cell_type": "code",
   "execution_count": 181,
   "id": "wanted-yesterday",
   "metadata": {},
   "outputs": [],
   "source": [
    "df_short_F = df_short_F.drop(outliers.index, axis=0)"
   ]
  },
  {
   "cell_type": "code",
   "execution_count": 182,
   "id": "sustained-ireland",
   "metadata": {},
   "outputs": [],
   "source": [
    "df_short_F_corr = df_short_F.corr().dropna(axis=1, how='all')"
   ]
  },
  {
   "cell_type": "code",
   "execution_count": 183,
   "id": "intimate-muslim",
   "metadata": {},
   "outputs": [],
   "source": [
    "df_short_F_corr = df_short_F.corr().dropna(how='all')"
   ]
  },
  {
   "cell_type": "code",
   "execution_count": 184,
   "id": "experienced-spencer",
   "metadata": {},
   "outputs": [],
   "source": [
    "df_short_F_corr = df_short_F_corr[abs(df_short_F_corr)>0.6].loc['nutrition-score-uk_100g'].dropna()"
   ]
  },
  {
   "cell_type": "code",
   "execution_count": 185,
   "id": "directed-bottle",
   "metadata": {},
   "outputs": [
    {
     "data": {
      "text/plain": [
       "saturated-fat_100g                      166243\n",
       "-lauric-acid_100g                       356023\n",
       "omega-9-fat_100g                        356002\n",
       "-oleic-acid_100g                        356012\n",
       "-maltose_100g                           356021\n",
       "serum-proteins_100g                     356010\n",
       "nucleotides_100g                        356018\n",
       "beta-carotene_100g                      355994\n",
       "bicarbonate_100g                        355928\n",
       "chloride_100g                           355829\n",
       "molybdenum_100g                         356007\n",
       "fruits-vegetables-nuts-estimate_100g    355624\n",
       "nutrition-score-fr_100g                 156231\n",
       "nutrition-score-uk_100g                 159678\n",
       "dtype: int64"
      ]
     },
     "execution_count": 185,
     "metadata": {},
     "output_type": "execute_result"
    }
   ],
   "source": [
    "df_short_F[list(df_corr[abs(df_corr)>0.6].loc['nutrition-score-uk_100g'].dropna().index)].isnull().sum()"
   ]
  },
  {
   "cell_type": "code",
   "execution_count": 186,
   "id": "divided-female",
   "metadata": {},
   "outputs": [
    {
     "data": {
      "text/plain": [
       "saturated-fat_100g         0.617623\n",
       "-lauric-acid_100g         -1.000000\n",
       "omega-9-fat_100g           0.640127\n",
       "-oleic-acid_100g           0.884100\n",
       "-maltose_100g              0.997222\n",
       "polyols_100g              -0.702646\n",
       "serum-proteins_100g        0.691806\n",
       "nucleotides_100g          -0.863384\n",
       "bicarbonate_100g           1.000000\n",
       "chloride_100g              0.806432\n",
       "molybdenum_100g            0.603996\n",
       "nutrition-score-fr_100g    0.967428\n",
       "nutrition-score-uk_100g    1.000000\n",
       "Name: nutrition-score-uk_100g, dtype: float64"
      ]
     },
     "execution_count": 186,
     "metadata": {},
     "output_type": "execute_result"
    }
   ],
   "source": [
    "df_short_F_corr"
   ]
  },
  {
   "cell_type": "code",
   "execution_count": 187,
   "id": "distant-status",
   "metadata": {},
   "outputs": [
    {
     "data": {
      "text/plain": [
       "saturated-fat_100g                      0.633942\n",
       "-lauric-acid_100g                      -1.000000\n",
       "omega-9-fat_100g                        0.640127\n",
       "-oleic-acid_100g                        0.869978\n",
       "-maltose_100g                           0.997222\n",
       "serum-proteins_100g                     0.691806\n",
       "nucleotides_100g                       -0.863384\n",
       "beta-carotene_100g                      0.686812\n",
       "bicarbonate_100g                        1.000000\n",
       "chloride_100g                           0.780068\n",
       "molybdenum_100g                         0.877297\n",
       "fruits-vegetables-nuts-estimate_100g   -0.611147\n",
       "nutrition-score-fr_100g                 0.978487\n",
       "nutrition-score-uk_100g                 1.000000\n",
       "Name: nutrition-score-uk_100g, dtype: float64"
      ]
     },
     "execution_count": 187,
     "metadata": {},
     "output_type": "execute_result"
    }
   ],
   "source": [
    "df_corr[abs(df_corr)>0.6].loc['nutrition-score-uk_100g'].dropna()"
   ]
  },
  {
   "cell_type": "markdown",
   "id": "classical-hawaiian",
   "metadata": {},
   "source": [
    "**Final findings:** For -lauric-acid_100g and nucleotides_100g we can still see the same large negative correlations because both have a large amount of null values in the data set and did not drop out during cleaning. However we should take into account the sum of null values per variable before intepreting the final correlations. The variable fruits-vegetables-nuts-estimate_100g has been dropped during the analysis since the correlation is lower than 0.6 after cleaning the data set. "
   ]
  },
  {
   "cell_type": "code",
   "execution_count": null,
   "id": "choice-paragraph",
   "metadata": {},
   "outputs": [],
   "source": []
  }
 ],
 "metadata": {
  "kernelspec": {
   "display_name": "Python 3",
   "language": "python",
   "name": "python3"
  },
  "language_info": {
   "codemirror_mode": {
    "name": "ipython",
    "version": 3
   },
   "file_extension": ".py",
   "mimetype": "text/x-python",
   "name": "python",
   "nbconvert_exporter": "python",
   "pygments_lexer": "ipython3",
   "version": "3.7.6"
  }
 },
 "nbformat": 4,
 "nbformat_minor": 5
}
