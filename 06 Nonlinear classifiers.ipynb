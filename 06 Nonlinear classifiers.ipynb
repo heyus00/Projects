{
 "cells": [
  {
   "cell_type": "markdown",
   "id": "5535760d",
   "metadata": {},
   "source": [
    "# Nonlinear classifiers"
   ]
  },
  {
   "cell_type": "markdown",
   "id": "83a22245",
   "metadata": {},
   "source": [
    "Try with nonlinear classifiers,  can you do better than the models from above?\n",
    "- Try with a random Forest, does increasing the number of trees help?\n",
    "- Try with SVMs - does the RBF kernel perform better than the linear one?"
   ]
  },
  {
   "cell_type": "code",
   "execution_count": 19,
   "id": "859d608b",
   "metadata": {},
   "outputs": [],
   "source": [
    "import numpy as np\n",
    "import pandas as pd"
   ]
  },
  {
   "cell_type": "code",
   "execution_count": 2,
   "id": "c2528a43",
   "metadata": {},
   "outputs": [],
   "source": [
    "with np.load('train.npz', allow_pickle=False) as npz_file:\n",
    "    # Load the arrays\n",
    "    x_train = npz_file['features']\n",
    "    y_train = npz_file['targets']\n",
    "\n",
    "with np.load('valid.npz', allow_pickle=False) as npz_file:\n",
    "    # Load the arrays\n",
    "    x_valid = npz_file['features']\n",
    "    y_valid = npz_file['targets']\n",
    "\n",
    "with np.load('test.npz', allow_pickle=False) as npz_file:\n",
    "    # Load the arrays\n",
    "    x_test = npz_file['features']\n",
    "    y_test = npz_file['targets']\n",
    "\n",
    "# X = np.concatenate((x_train, x_valid, x_test), axis=0)\n",
    "# y = np.concatenate((y_train, y_valid, y_test), axis=0)"
   ]
  },
  {
   "cell_type": "markdown",
   "id": "dd398e9d",
   "metadata": {},
   "source": [
    "## Random Forest"
   ]
  },
  {
   "cell_type": "code",
   "execution_count": 3,
   "id": "4bcbad0c",
   "metadata": {},
   "outputs": [],
   "source": [
    "from sklearn.ensemble import RandomForestClassifier"
   ]
  },
  {
   "cell_type": "markdown",
   "id": "f32fe40c",
   "metadata": {},
   "source": [
    "Let's start with an ensemble of 1 decision tree and a max_depth of 3 for better comparibility with the previous model 'Simple decision tree'."
   ]
  },
  {
   "cell_type": "code",
   "execution_count": 4,
   "id": "9fadacb0",
   "metadata": {},
   "outputs": [
    {
     "data": {
      "text/plain": [
       "RandomForestClassifier(bootstrap=True, class_weight=None, criterion='gini',\n",
       "            max_depth=3, max_features='auto', max_leaf_nodes=None,\n",
       "            min_impurity_decrease=0.0, min_impurity_split=None,\n",
       "            min_samples_leaf=1, min_samples_split=2,\n",
       "            min_weight_fraction_leaf=0.0, n_estimators=1, n_jobs=None,\n",
       "            oob_score=False, random_state=0, verbose=0, warm_start=False)"
      ]
     },
     "execution_count": 4,
     "metadata": {},
     "output_type": "execute_result"
    }
   ],
   "source": [
    "rf = RandomForestClassifier(n_estimators=1, max_depth=3, random_state=0)\n",
    "rf.fit(x_train, y_train)"
   ]
  },
  {
   "cell_type": "code",
   "execution_count": 5,
   "id": "402e0722",
   "metadata": {},
   "outputs": [
    {
     "data": {
      "text/plain": [
       "0.19424460431654678"
      ]
     },
     "execution_count": 5,
     "metadata": {},
     "output_type": "execute_result"
    }
   ],
   "source": [
    "rf.score(x_valid, y_valid)"
   ]
  },
  {
   "cell_type": "markdown",
   "id": "1c1b24c1",
   "metadata": {},
   "source": [
    "The simple decision tree has a lower accuracy compared to this simple Random Forest tree. "
   ]
  },
  {
   "cell_type": "markdown",
   "id": "baee4d70",
   "metadata": {},
   "source": [
    "Tune the number of trees:"
   ]
  },
  {
   "cell_type": "code",
   "execution_count": 6,
   "id": "3919d4e8",
   "metadata": {},
   "outputs": [
    {
     "data": {
      "text/plain": [
       "RandomForestClassifier(bootstrap=True, class_weight=None, criterion='gini',\n",
       "            max_depth=3, max_features='auto', max_leaf_nodes=None,\n",
       "            min_impurity_decrease=0.0, min_impurity_split=None,\n",
       "            min_samples_leaf=1, min_samples_split=2,\n",
       "            min_weight_fraction_leaf=0.0, n_estimators=100, n_jobs=None,\n",
       "            oob_score=False, random_state=0, verbose=0, warm_start=False)"
      ]
     },
     "execution_count": 6,
     "metadata": {},
     "output_type": "execute_result"
    }
   ],
   "source": [
    "rf_tuned = RandomForestClassifier(n_estimators=100, max_depth=3, random_state=0)\n",
    "rf_tuned.fit(x_train, y_train)"
   ]
  },
  {
   "cell_type": "code",
   "execution_count": 7,
   "id": "93195d9a",
   "metadata": {},
   "outputs": [
    {
     "data": {
      "text/plain": [
       "0.41007194244604317"
      ]
     },
     "execution_count": 7,
     "metadata": {},
     "output_type": "execute_result"
    }
   ],
   "source": [
    "rf_tuned.score(x_valid, y_valid)"
   ]
  },
  {
   "cell_type": "markdown",
   "id": "0969ebc9",
   "metadata": {},
   "source": [
    "We can achieve a higher accuracy compared to the simple (notably untuned) decision tree and a slightly lower accuracy compared to the k-nn model by increasing the number of trees. However the Random Forest model does slightly better than the tuned LogRegression model. Note: the LogRegression model was tuned based on a higher amount of data set since x_train and x_valid has been concatenated. For this reason we cannot compare 1:1 both models."
   ]
  },
  {
   "cell_type": "code",
   "execution_count": 8,
   "id": "543db8ab",
   "metadata": {},
   "outputs": [],
   "source": [
    "from sklearn.model_selection import cross_validate"
   ]
  },
  {
   "cell_type": "code",
   "execution_count": 9,
   "id": "bb228520",
   "metadata": {},
   "outputs": [
    {
     "name": "stdout",
     "output_type": "stream",
     "text": [
      "Decision tree - mean test 0.221\n",
      "Random forest - mean test 0.231\n"
     ]
    }
   ],
   "source": [
    "# Mean test score of a single decision tree \n",
    "rf_scores = cross_validate(rf, x_train, y_train, cv=10)\n",
    "print('Decision tree - mean test {:.3f}'.format(\n",
    "    np.mean(rf_scores['test_score'])))\n",
    "\n",
    "# Mean test score of a random forest\n",
    "rf_tuned_scores = cross_validate(rf_tuned, x_train, y_train, cv=10)\n",
    "print('Random forest - mean test {:.3f}'.format(\n",
    "    np.mean(rf_tuned_scores['test_score'])))"
   ]
  },
  {
   "cell_type": "markdown",
   "id": "46848e6f",
   "metadata": {},
   "source": [
    "A (stratified) 10-fold cross-validation shows that the ensemble of trees achieves better results than the single tree using cross-validation."
   ]
  },
  {
   "cell_type": "markdown",
   "id": "e5c72405",
   "metadata": {},
   "source": [
    "## RBF SVM (Support Vector Machines)"
   ]
  },
  {
   "cell_type": "code",
   "execution_count": 10,
   "id": "6f4bf6fb",
   "metadata": {},
   "outputs": [],
   "source": [
    "from sklearn.svm import SVC"
   ]
  },
  {
   "cell_type": "code",
   "execution_count": 11,
   "id": "b0a42b28",
   "metadata": {},
   "outputs": [
    {
     "data": {
      "text/plain": [
       "SVC(C=10, cache_size=200, class_weight=None, coef0=0.0,\n",
       "  decision_function_shape='ovr', degree=3, gamma=1, kernel='rbf',\n",
       "  max_iter=-1, probability=False, random_state=0, shrinking=True,\n",
       "  tol=0.001, verbose=False)"
      ]
     },
     "execution_count": 11,
     "metadata": {},
     "output_type": "execute_result"
    }
   ],
   "source": [
    "rbf_svc = SVC(kernel='rbf', C=10, gamma=1, random_state=0)\n",
    "rbf_svc.fit(x_train, y_train)"
   ]
  },
  {
   "cell_type": "code",
   "execution_count": 12,
   "id": "ec090a91",
   "metadata": {
    "scrolled": true
   },
   "outputs": [
    {
     "data": {
      "text/plain": [
       "0.23741007194244604"
      ]
     },
     "execution_count": 12,
     "metadata": {},
     "output_type": "execute_result"
    }
   ],
   "source": [
    "rbf_svc.score(x_valid, y_valid)"
   ]
  },
  {
   "cell_type": "markdown",
   "id": "64055485",
   "metadata": {},
   "source": [
    "Change the kernel to the linear one:"
   ]
  },
  {
   "cell_type": "code",
   "execution_count": 13,
   "id": "69eac28b",
   "metadata": {},
   "outputs": [
    {
     "data": {
      "text/plain": [
       "SVC(C=10, cache_size=200, class_weight=None, coef0=0.0,\n",
       "  decision_function_shape='ovr', degree=3, gamma=1, kernel='linear',\n",
       "  max_iter=-1, probability=False, random_state=0, shrinking=True,\n",
       "  tol=0.001, verbose=False)"
      ]
     },
     "execution_count": 13,
     "metadata": {},
     "output_type": "execute_result"
    }
   ],
   "source": [
    "linear_svc = SVC(kernel='linear', C=10, gamma=1, random_state=0)\n",
    "linear_svc.fit(x_train, y_train)"
   ]
  },
  {
   "cell_type": "code",
   "execution_count": 14,
   "id": "73a94411",
   "metadata": {},
   "outputs": [
    {
     "data": {
      "text/plain": [
       "0.15827338129496402"
      ]
     },
     "execution_count": 14,
     "metadata": {},
     "output_type": "execute_result"
    }
   ],
   "source": [
    "linear_svc.score(x_valid, y_valid)"
   ]
  },
  {
   "cell_type": "markdown",
   "id": "89f22a52",
   "metadata": {},
   "source": [
    "Scikit-learn provides a LinearSVC estimator which is a very efficient implementation of support vector machines with a linear kernel but comes at a cost of a lower accuracy."
   ]
  },
  {
   "cell_type": "markdown",
   "id": "607d98fc",
   "metadata": {},
   "source": [
    "---------------"
   ]
  },
  {
   "cell_type": "markdown",
   "id": "3faf8aab",
   "metadata": {},
   "source": [
    "Store the model names and the accuracy on the test data in a .csv file:"
   ]
  },
  {
   "cell_type": "code",
   "execution_count": 15,
   "id": "de176cdb",
   "metadata": {},
   "outputs": [
    {
     "data": {
      "text/plain": [
       "0.44"
      ]
     },
     "execution_count": 15,
     "metadata": {},
     "output_type": "execute_result"
    }
   ],
   "source": [
    "rf_tuned.score(x_test, y_test)"
   ]
  },
  {
   "cell_type": "code",
   "execution_count": 16,
   "id": "051f299d",
   "metadata": {},
   "outputs": [
    {
     "data": {
      "text/plain": [
       "0.18"
      ]
     },
     "execution_count": 16,
     "metadata": {},
     "output_type": "execute_result"
    }
   ],
   "source": [
    "linear_svc.score(x_test, y_test)"
   ]
  },
  {
   "cell_type": "code",
   "execution_count": 17,
   "id": "870b2a04",
   "metadata": {},
   "outputs": [
    {
     "data": {
      "text/plain": [
       "0.24"
      ]
     },
     "execution_count": 17,
     "metadata": {},
     "output_type": "execute_result"
    }
   ],
   "source": [
    "rbf_svc.score(x_test, y_test)"
   ]
  },
  {
   "cell_type": "code",
   "execution_count": 20,
   "id": "cd2a88a0",
   "metadata": {},
   "outputs": [],
   "source": [
    "Test_accuracy_06_Nonlinear_classifiers =  pd.DataFrame(data = {'model': ['random forest', 'svm linear', 'svm rbf'], 'test_acurracy': [rf_tuned.score(x_test, y_test),linear_svc.score(x_test, y_test), rbf_svc.score(x_test, y_test)]})"
   ]
  },
  {
   "cell_type": "code",
   "execution_count": 22,
   "id": "a5b47d6a",
   "metadata": {},
   "outputs": [],
   "source": [
    "Test_accuracy_06_Nonlinear_classifiers.to_csv(path_or_buf = r'C:\\Users\\heyus\\Desktop\\Desktop\\EPFL_Data Science COS\\EPFL\\04. Applied Machine Learning 2\\11. Course project\\Test_accuracy_06_Nonlinear_classifiers.csv')"
   ]
  }
 ],
 "metadata": {
  "kernelspec": {
   "display_name": "Python 3",
   "language": "python",
   "name": "python3"
  },
  "language_info": {
   "codemirror_mode": {
    "name": "ipython",
    "version": 3
   },
   "file_extension": ".py",
   "mimetype": "text/x-python",
   "name": "python",
   "nbconvert_exporter": "python",
   "pygments_lexer": "ipython3",
   "version": "3.6.13"
  }
 },
 "nbformat": 4,
 "nbformat_minor": 5
}
