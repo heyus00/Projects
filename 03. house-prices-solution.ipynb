{
 "cells": [
  {
   "cell_type": "markdown",
   "metadata": {},
   "source": [
    "This document is referring to the third course project of the COS \"Applied Data Science: Machine Learning\"\n",
    "# Course Project Topic: Part 2 - House prices\n",
    "House prices data set assembled and published by Dean De Cock (2,930 observations with 82 attributes each)\n",
    "\n",
    "The goal is to use the first 2,430 ones to fit and evaluate different models and use them to make predictions for the last 500 ones\n",
    "\n",
    "The prices for those 500 houses are not provided, your task is to estimate them\n",
    "\n",
    "\n"
   ]
  },
  {
   "cell_type": "markdown",
   "metadata": {},
   "source": [
    "> - Detailed data description - documentation.txt (http://jse.amstat.org/v19n3/decock/DataDocumentation.txt)\n",
    "> - The 2,430 data points with prices - house-prices.csv\n",
    "> - The remaining 500 without prices - house-prices-test.csv\n",
    "> - Example submission file - predictions-example.csv\n",
    "> - Data set source - source.txt"
   ]
  },
  {
   "cell_type": "code",
   "execution_count": 1,
   "metadata": {},
   "outputs": [],
   "source": [
    "import pandas as pd\n",
    "import numpy as np\n",
    "import seaborn as sns\n",
    "%matplotlib inline\n",
    "import matplotlib.pyplot as plt"
   ]
  },
  {
   "cell_type": "code",
   "execution_count": 2,
   "metadata": {},
   "outputs": [
    {
     "data": {
      "text/html": [
       "<div>\n",
       "<style scoped>\n",
       "    .dataframe tbody tr th:only-of-type {\n",
       "        vertical-align: middle;\n",
       "    }\n",
       "\n",
       "    .dataframe tbody tr th {\n",
       "        vertical-align: top;\n",
       "    }\n",
       "\n",
       "    .dataframe thead th {\n",
       "        text-align: right;\n",
       "    }\n",
       "</style>\n",
       "<table border=\"1\" class=\"dataframe\">\n",
       "  <thead>\n",
       "    <tr style=\"text-align: right;\">\n",
       "      <th></th>\n",
       "      <th>Order</th>\n",
       "      <th>PID</th>\n",
       "      <th>MS SubClass</th>\n",
       "      <th>MS Zoning</th>\n",
       "      <th>Lot Frontage</th>\n",
       "      <th>Lot Area</th>\n",
       "      <th>Street</th>\n",
       "      <th>Alley</th>\n",
       "      <th>Lot Shape</th>\n",
       "      <th>Land Contour</th>\n",
       "      <th>...</th>\n",
       "      <th>Pool Area</th>\n",
       "      <th>Pool QC</th>\n",
       "      <th>Fence</th>\n",
       "      <th>Misc Feature</th>\n",
       "      <th>Misc Val</th>\n",
       "      <th>Mo Sold</th>\n",
       "      <th>Yr Sold</th>\n",
       "      <th>Sale Type</th>\n",
       "      <th>Sale Condition</th>\n",
       "      <th>SalePrice</th>\n",
       "    </tr>\n",
       "  </thead>\n",
       "  <tbody>\n",
       "    <tr>\n",
       "      <th>0</th>\n",
       "      <td>484</td>\n",
       "      <td>528275070</td>\n",
       "      <td>60</td>\n",
       "      <td>RL</td>\n",
       "      <td>NaN</td>\n",
       "      <td>8795</td>\n",
       "      <td>Pave</td>\n",
       "      <td>NaN</td>\n",
       "      <td>IR1</td>\n",
       "      <td>Lvl</td>\n",
       "      <td>...</td>\n",
       "      <td>0</td>\n",
       "      <td>NaN</td>\n",
       "      <td>NaN</td>\n",
       "      <td>NaN</td>\n",
       "      <td>0</td>\n",
       "      <td>4</td>\n",
       "      <td>2009</td>\n",
       "      <td>WD</td>\n",
       "      <td>Normal</td>\n",
       "      <td>236000</td>\n",
       "    </tr>\n",
       "    <tr>\n",
       "      <th>1</th>\n",
       "      <td>2586</td>\n",
       "      <td>535305120</td>\n",
       "      <td>20</td>\n",
       "      <td>RL</td>\n",
       "      <td>75.0</td>\n",
       "      <td>10170</td>\n",
       "      <td>Pave</td>\n",
       "      <td>NaN</td>\n",
       "      <td>Reg</td>\n",
       "      <td>Lvl</td>\n",
       "      <td>...</td>\n",
       "      <td>0</td>\n",
       "      <td>NaN</td>\n",
       "      <td>NaN</td>\n",
       "      <td>NaN</td>\n",
       "      <td>0</td>\n",
       "      <td>6</td>\n",
       "      <td>2006</td>\n",
       "      <td>WD</td>\n",
       "      <td>Normal</td>\n",
       "      <td>155000</td>\n",
       "    </tr>\n",
       "    <tr>\n",
       "      <th>2</th>\n",
       "      <td>2289</td>\n",
       "      <td>923228250</td>\n",
       "      <td>160</td>\n",
       "      <td>RM</td>\n",
       "      <td>21.0</td>\n",
       "      <td>2001</td>\n",
       "      <td>Pave</td>\n",
       "      <td>NaN</td>\n",
       "      <td>Reg</td>\n",
       "      <td>Lvl</td>\n",
       "      <td>...</td>\n",
       "      <td>0</td>\n",
       "      <td>NaN</td>\n",
       "      <td>NaN</td>\n",
       "      <td>NaN</td>\n",
       "      <td>0</td>\n",
       "      <td>1</td>\n",
       "      <td>2007</td>\n",
       "      <td>WD</td>\n",
       "      <td>Normal</td>\n",
       "      <td>75000</td>\n",
       "    </tr>\n",
       "    <tr>\n",
       "      <th>3</th>\n",
       "      <td>142</td>\n",
       "      <td>535152150</td>\n",
       "      <td>20</td>\n",
       "      <td>RL</td>\n",
       "      <td>70.0</td>\n",
       "      <td>10552</td>\n",
       "      <td>Pave</td>\n",
       "      <td>NaN</td>\n",
       "      <td>IR1</td>\n",
       "      <td>Lvl</td>\n",
       "      <td>...</td>\n",
       "      <td>0</td>\n",
       "      <td>NaN</td>\n",
       "      <td>NaN</td>\n",
       "      <td>NaN</td>\n",
       "      <td>0</td>\n",
       "      <td>4</td>\n",
       "      <td>2010</td>\n",
       "      <td>WD</td>\n",
       "      <td>Normal</td>\n",
       "      <td>165500</td>\n",
       "    </tr>\n",
       "    <tr>\n",
       "      <th>4</th>\n",
       "      <td>2042</td>\n",
       "      <td>903475060</td>\n",
       "      <td>190</td>\n",
       "      <td>RM</td>\n",
       "      <td>60.0</td>\n",
       "      <td>10120</td>\n",
       "      <td>Pave</td>\n",
       "      <td>NaN</td>\n",
       "      <td>IR1</td>\n",
       "      <td>Bnk</td>\n",
       "      <td>...</td>\n",
       "      <td>0</td>\n",
       "      <td>NaN</td>\n",
       "      <td>MnPrv</td>\n",
       "      <td>NaN</td>\n",
       "      <td>0</td>\n",
       "      <td>1</td>\n",
       "      <td>2007</td>\n",
       "      <td>WD</td>\n",
       "      <td>Normal</td>\n",
       "      <td>122000</td>\n",
       "    </tr>\n",
       "  </tbody>\n",
       "</table>\n",
       "<p>5 rows × 82 columns</p>\n",
       "</div>"
      ],
      "text/plain": [
       "   Order        PID  MS SubClass MS Zoning  Lot Frontage  Lot Area Street  \\\n",
       "0    484  528275070           60        RL           NaN      8795   Pave   \n",
       "1   2586  535305120           20        RL          75.0     10170   Pave   \n",
       "2   2289  923228250          160        RM          21.0      2001   Pave   \n",
       "3    142  535152150           20        RL          70.0     10552   Pave   \n",
       "4   2042  903475060          190        RM          60.0     10120   Pave   \n",
       "\n",
       "  Alley Lot Shape Land Contour  ... Pool Area Pool QC  Fence Misc Feature  \\\n",
       "0   NaN       IR1          Lvl  ...         0     NaN    NaN          NaN   \n",
       "1   NaN       Reg          Lvl  ...         0     NaN    NaN          NaN   \n",
       "2   NaN       Reg          Lvl  ...         0     NaN    NaN          NaN   \n",
       "3   NaN       IR1          Lvl  ...         0     NaN    NaN          NaN   \n",
       "4   NaN       IR1          Bnk  ...         0     NaN  MnPrv          NaN   \n",
       "\n",
       "  Misc Val Mo Sold Yr Sold Sale Type  Sale Condition  SalePrice  \n",
       "0        0       4    2009       WD           Normal     236000  \n",
       "1        0       6    2006       WD           Normal     155000  \n",
       "2        0       1    2007       WD           Normal      75000  \n",
       "3        0       4    2010       WD           Normal     165500  \n",
       "4        0       1    2007       WD           Normal     122000  \n",
       "\n",
       "[5 rows x 82 columns]"
      ]
     },
     "execution_count": 2,
     "metadata": {},
     "output_type": "execute_result"
    }
   ],
   "source": [
    "df = pd.read_csv('house-prices.csv')\n",
    "df.head()"
   ]
  },
  {
   "cell_type": "markdown",
   "metadata": {},
   "source": [
    "There are 82 columns in the data sets. 39 of them are numerical columns."
   ]
  },
  {
   "cell_type": "code",
   "execution_count": 3,
   "metadata": {},
   "outputs": [
    {
     "data": {
      "text/plain": [
       "(2430, 82)"
      ]
     },
     "execution_count": 3,
     "metadata": {},
     "output_type": "execute_result"
    }
   ],
   "source": [
    "df.shape"
   ]
  },
  {
   "cell_type": "markdown",
   "metadata": {},
   "source": [
    "## Data cleaning"
   ]
  },
  {
   "cell_type": "markdown",
   "metadata": {},
   "source": [
    "Your analysis should include the necessary data cleaning steps. For instance\n",
    "\n",
    "- Find and handle incorrect, missing values\n",
    "- Correct inconsistencies in the variables\n",
    "- Handle outliers\n",
    "\n",
    "You are free to choose your preferred approach to handle each step. For instance, you might want to replace missing values with the average or the most frequent value or create a missing category. In any case, justify your choices!"
   ]
  },
  {
   "cell_type": "markdown",
   "metadata": {},
   "source": [
    "You should **address all these issues** during the data cleaning stage:\n",
    "\n",
    "- The Order and PID variables are identifiers. They are not useful to predict house prices.\n",
    "- The variables are not necessarily encoded consistently. For instance, MS SubClass (the type of dwelling) and MS Zoning (zoning classification) are both categorical variables, but one is encoded with numerical values and the other with short labels.\n",
    "- The data isn't clean: there are incorrect and missing values, outliers and inconsistencies"
   ]
  },
  {
   "cell_type": "markdown",
   "metadata": {},
   "source": [
    "-------"
   ]
  },
  {
   "cell_type": "markdown",
   "metadata": {},
   "source": [
    "1. Find and handle incorrect, missing values"
   ]
  },
  {
   "cell_type": "code",
   "execution_count": 4,
   "metadata": {},
   "outputs": [],
   "source": [
    "# ensure a consistenc encoding of the dtype\n",
    "df[['Order', 'PID', 'MS SubClass']] = df[['Order', 'PID', 'MS SubClass']].astype('object')"
   ]
  },
  {
   "cell_type": "code",
   "execution_count": 5,
   "metadata": {},
   "outputs": [
    {
     "data": {
      "text/plain": [
       "False    2430\n",
       "Name: Order, dtype: int64"
      ]
     },
     "execution_count": 5,
     "metadata": {},
     "output_type": "execute_result"
    }
   ],
   "source": [
    "df['Order'].duplicated().value_counts()"
   ]
  },
  {
   "cell_type": "code",
   "execution_count": 6,
   "metadata": {},
   "outputs": [
    {
     "data": {
      "text/plain": [
       "False    2430\n",
       "Name: PID, dtype: int64"
      ]
     },
     "execution_count": 6,
     "metadata": {},
     "output_type": "execute_result"
    }
   ],
   "source": [
    "df['PID'].duplicated().value_counts()"
   ]
  },
  {
   "cell_type": "markdown",
   "metadata": {},
   "source": [
    "Let's have a look at the null values at a first glance:"
   ]
  },
  {
   "cell_type": "code",
   "execution_count": 7,
   "metadata": {},
   "outputs": [
    {
     "data": {
      "text/plain": [
       "Pool QC           2418\n",
       "Misc Feature      2340\n",
       "Alley             2267\n",
       "Fence             1941\n",
       "Fireplace Qu      1186\n",
       "Lot Frontage       420\n",
       "Garage Yr Blt      138\n",
       "Garage Cond        138\n",
       "Garage Qual        138\n",
       "Garage Finish      138\n",
       "Garage Type        136\n",
       "Bsmt Exposure       74\n",
       "BsmtFin Type 2      72\n",
       "Bsmt Cond           71\n",
       "Bsmt Qual           71\n",
       "BsmtFin Type 1      71\n",
       "Mas Vnr Type        20\n",
       "Mas Vnr Area        20\n",
       "Bsmt Half Bath       2\n",
       "Bsmt Full Bath       2\n",
       "Garage Cars          1\n",
       "BsmtFin SF 2         1\n",
       "BsmtFin SF 1         1\n",
       "Bsmt Unf SF          1\n",
       "Total Bsmt SF        1\n",
       "Garage Area          1\n",
       "Electrical           1\n",
       "dtype: int64"
      ]
     },
     "execution_count": 7,
     "metadata": {},
     "output_type": "execute_result"
    }
   ],
   "source": [
    "df[df.columns[df.isna().any()].tolist()].isnull().sum().sort_values(ascending=False)"
   ]
  },
  {
   "cell_type": "markdown",
   "metadata": {},
   "source": [
    "An NaN value can encode the absence of value or the absence of information:"
   ]
  },
  {
   "cell_type": "markdown",
   "metadata": {},
   "source": [
    "For instance Pool QC has a relatively high proportion of null values (compared to a total data points of 2430). This is because the variable belongs to a **categorial** one that includes a 'No Pool' category (reflected as N/A in the data set, meaning no category available as opposed to missing data). Therefore the high proprotion is not based on bad data quality. The following categorial variables include a category related to (N/A) according to the documentation:\n",
    "\n",
    "**Ordinal variables** (you can order the categories): \n",
    "> *Alley, Bsmt Qual, Bsmt Cond, Bsmt Exposure, BsmtFin Type 1, BsmtFin Type 2, Fireplace Qu, Garage Type, Garage Finish, Garage Qual, Garage Cond, Pool QC, Fence, Misc Feature*\n",
    "\n",
    "We can drop the columns if they include a high proportion of N/A values (threshold: 10% of total data points, approx. 2200 null values) because it makes our model more complex without adding much value in terms of information (i.e. the feature does not carry significant information about the target). However at this stage it is not advised to remove it (having a little information is better than removing it which erases this information). Removing variables will decrease the accuracy of our predictions since the model is less informed about the house for which it has to estimate the price. The solution in such case is simply to **use a model with regularization** (will be applied later in the analysis)."
   ]
  },
  {
   "cell_type": "code",
   "execution_count": 8,
   "metadata": {},
   "outputs": [],
   "source": [
    "df_ordinals = df.loc[:,['Alley', 'Bsmt Qual', 'Bsmt Cond', 'Bsmt Exposure', 'BsmtFin Type 1', 'BsmtFin Type 2', 'Fireplace Qu', 'Garage Type', 'Garage Finish', 'Garage Qual', 'Garage Cond', 'Pool QC', 'Fence', 'Misc Feature']]"
   ]
  },
  {
   "cell_type": "code",
   "execution_count": 9,
   "metadata": {},
   "outputs": [
    {
     "data": {
      "text/plain": [
       "Pool QC           2418\n",
       "Misc Feature      2340\n",
       "Alley             2267\n",
       "Fence             1941\n",
       "Fireplace Qu      1186\n",
       "Garage Cond        138\n",
       "Garage Qual        138\n",
       "Garage Finish      138\n",
       "Garage Type        136\n",
       "Bsmt Exposure       74\n",
       "BsmtFin Type 2      72\n",
       "BsmtFin Type 1      71\n",
       "Bsmt Cond           71\n",
       "Bsmt Qual           71\n",
       "dtype: int64"
      ]
     },
     "execution_count": 9,
     "metadata": {},
     "output_type": "execute_result"
    }
   ],
   "source": [
    "df_ordinals[df_ordinals.columns[df_ordinals.isna().any()].tolist()].isnull().sum().sort_values(ascending=False)"
   ]
  },
  {
   "cell_type": "markdown",
   "metadata": {},
   "source": [
    "Let's proceed to the **numerical** variables where null values are indicating real bad data. These columns/data points need a closer look and possibly handling of null values. \n",
    "\n",
    "The following discrete variables contain categories (e.g. 0/1 or 0/1/2/3/4/5/6) according to the documentation/data set and therefore contain information in the related 0 data points: \n",
    "\n",
    "**Discrete variables** (categories are integer values): \n",
    ">*Bsmt Full Bath, Bsmt Half Bath, Full Bath, Half Bath, Bedroom AbvGr, Kitchen AbvGr, TotRms AbvGrd, Fireplaces, Garage Cars, Mo Sold* \n",
    "\n",
    "-> all other numerical variables (= continous variables) with 0 or 0.0 can be replaced with null values:\n"
   ]
  },
  {
   "cell_type": "code",
   "execution_count": 10,
   "metadata": {},
   "outputs": [],
   "source": [
    "df_discrete = df.loc[:,['Bsmt Full Bath', 'Bsmt Half Bath', 'Full Bath', 'Half Bath', 'Bedroom AbvGr', 'Kitchen AbvGr', 'TotRms AbvGrd', 'Fireplaces', 'Garage Cars', 'Mo Sold', 'Overall Qual', 'Overall Cond']]"
   ]
  },
  {
   "cell_type": "code",
   "execution_count": 11,
   "metadata": {},
   "outputs": [],
   "source": [
    "df_num = df.select_dtypes(['float64', 'int64']).astype('float64')"
   ]
  },
  {
   "cell_type": "code",
   "execution_count": 12,
   "metadata": {},
   "outputs": [],
   "source": [
    "df_num = df_num.drop(df_discrete.columns, axis=1)"
   ]
  },
  {
   "cell_type": "code",
   "execution_count": 13,
   "metadata": {},
   "outputs": [],
   "source": [
    "df.loc[:,df_num.columns] = df.loc[:,df_num.columns].replace([0,0.0], np.nan, inplace=False)"
   ]
  },
  {
   "cell_type": "code",
   "execution_count": 14,
   "metadata": {},
   "outputs": [
    {
     "data": {
      "text/plain": [
       "Pool QC            2418\n",
       "Pool Area          2418\n",
       "3Ssn Porch         2401\n",
       "Low Qual Fin SF    2400\n",
       "Misc Val           2342\n",
       "Misc Feature       2340\n",
       "Alley              2267\n",
       "Screen Porch       2212\n",
       "BsmtFin SF 2       2136\n",
       "Enclosed Porch     2055\n",
       "Fence              1941\n",
       "Mas Vnr Area       1458\n",
       "2nd Flr SF         1405\n",
       "Wood Deck SF       1272\n",
       "Fireplace Qu       1186\n",
       "Open Porch SF      1080\n",
       "BsmtFin SF 1        774\n",
       "Lot Frontage        420\n",
       "Bsmt Unf SF         211\n",
       "Garage Yr Blt       138\n",
       "Garage Finish       138\n",
       "Garage Cond         138\n",
       "Garage Qual         138\n",
       "Garage Area         137\n",
       "Garage Type         136\n",
       "Bsmt Exposure        74\n",
       "BsmtFin Type 2       72\n",
       "BsmtFin Type 1       71\n",
       "Bsmt Cond            71\n",
       "Bsmt Qual            71\n",
       "Total Bsmt SF        71\n",
       "Mas Vnr Type         20\n",
       "Bsmt Full Bath        2\n",
       "Bsmt Half Bath        2\n",
       "Garage Cars           1\n",
       "Electrical            1\n",
       "dtype: int64"
      ]
     },
     "execution_count": 14,
     "metadata": {},
     "output_type": "execute_result"
    }
   ],
   "source": [
    "df[df.columns[df.isna().any()].tolist()].isnull().sum().sort_values(ascending=False)"
   ]
  },
  {
   "cell_type": "markdown",
   "metadata": {},
   "source": [
    "Let's take a closer look on the **continous** (numerical) variables in order to take appropriate actions with regards to null values. Most of them do not require special treatment of null values because they are reflecting an \"absence\" of the respective variable. For instance a lot of houses have no 'Pool Area' data points because they simply do not have a pool as reflected in the same amount of null values of 'Pool QC'. There is no need to replace missing values with a newly created missing category (null is already reflecting the absence). After comparison of the documentation with the isnull() list above the following variables have to be analyzed:"
   ]
  },
  {
   "cell_type": "markdown",
   "metadata": {},
   "source": [
    "> - Lot Frontage: there has to be some street connected to the house - replace the missing values of Lot Frontage with the mean value of the column. Assumption: there is a correlation with the MS Zoning (e.g. the linear feet of street connected to an industrial zone is probably higher on average than connected to a residential high density zone)\n",
    "> - Garage variables: for instance Yr Blt could be replaced with the Year Built of the house in the respective data point because there is a high correlation (see below) but apparently the data set is not missing values because all the related garage variables have null values\n",
    "> - Basement variables: same logic applied as with Garage and therefore no handling of the null values - validating that the data reveals consistency ex. a house without a garage should have consistent Garage {Qual, Yr Blt, Cars, ..} values.\n",
    "> - The remaining variables with null values can be neglected due to very low amount of data points being null\n"
   ]
  },
  {
   "cell_type": "code",
   "execution_count": 15,
   "metadata": {},
   "outputs": [],
   "source": [
    "# Lot Frontage\n",
    "df['Lot Frontage']=df.groupby(['Lot Config','MS Zoning'])['Lot Frontage'].transform(lambda x: x.fillna(x.median()))"
   ]
  },
  {
   "cell_type": "code",
   "execution_count": 16,
   "metadata": {},
   "outputs": [
    {
     "data": {
      "text/plain": [
       "0.8355102326795137"
      ]
     },
     "execution_count": 16,
     "metadata": {},
     "output_type": "execute_result"
    }
   ],
   "source": [
    "# Garage variables\n",
    "df.corr().loc['Garage Yr Blt', 'Year Built']"
   ]
  },
  {
   "cell_type": "code",
   "execution_count": 17,
   "metadata": {},
   "outputs": [
    {
     "data": {
      "text/plain": [
       "Garage Type      136\n",
       "Garage Yr Blt    136\n",
       "Garage Finish    136\n",
       "Garage Cars        0\n",
       "Garage Area      136\n",
       "Garage Qual      136\n",
       "Garage Cond      136\n",
       "dtype: int64"
      ]
     },
     "execution_count": 17,
     "metadata": {},
     "output_type": "execute_result"
    }
   ],
   "source": [
    "# validate that the data is consistent ex. a house without a garage should have consistent Garage {Qual, Yr Blt, Cars, ..}\n",
    "df[df['Garage Cars'] == 0].loc[:,['Garage' in str(x) for x in df.columns]].isnull().sum()"
   ]
  },
  {
   "cell_type": "code",
   "execution_count": 18,
   "metadata": {},
   "outputs": [
    {
     "data": {
      "text/html": [
       "<div>\n",
       "<style scoped>\n",
       "    .dataframe tbody tr th:only-of-type {\n",
       "        vertical-align: middle;\n",
       "    }\n",
       "\n",
       "    .dataframe tbody tr th {\n",
       "        vertical-align: top;\n",
       "    }\n",
       "\n",
       "    .dataframe thead th {\n",
       "        text-align: right;\n",
       "    }\n",
       "</style>\n",
       "<table border=\"1\" class=\"dataframe\">\n",
       "  <thead>\n",
       "    <tr style=\"text-align: right;\">\n",
       "      <th></th>\n",
       "      <th>Bsmt Qual</th>\n",
       "      <th>Bsmt Cond</th>\n",
       "      <th>Bsmt Exposure</th>\n",
       "      <th>BsmtFin Type 1</th>\n",
       "      <th>BsmtFin SF 1</th>\n",
       "      <th>BsmtFin Type 2</th>\n",
       "      <th>BsmtFin SF 2</th>\n",
       "      <th>Bsmt Unf SF</th>\n",
       "      <th>Total Bsmt SF</th>\n",
       "      <th>Bsmt Full Bath</th>\n",
       "      <th>Bsmt Half Bath</th>\n",
       "    </tr>\n",
       "  </thead>\n",
       "  <tbody>\n",
       "    <tr>\n",
       "      <th>35</th>\n",
       "      <td>NaN</td>\n",
       "      <td>NaN</td>\n",
       "      <td>NaN</td>\n",
       "      <td>NaN</td>\n",
       "      <td>NaN</td>\n",
       "      <td>NaN</td>\n",
       "      <td>NaN</td>\n",
       "      <td>NaN</td>\n",
       "      <td>NaN</td>\n",
       "      <td>0.0</td>\n",
       "      <td>0.0</td>\n",
       "    </tr>\n",
       "    <tr>\n",
       "      <th>48</th>\n",
       "      <td>NaN</td>\n",
       "      <td>NaN</td>\n",
       "      <td>NaN</td>\n",
       "      <td>NaN</td>\n",
       "      <td>NaN</td>\n",
       "      <td>NaN</td>\n",
       "      <td>NaN</td>\n",
       "      <td>NaN</td>\n",
       "      <td>NaN</td>\n",
       "      <td>0.0</td>\n",
       "      <td>0.0</td>\n",
       "    </tr>\n",
       "    <tr>\n",
       "      <th>75</th>\n",
       "      <td>NaN</td>\n",
       "      <td>NaN</td>\n",
       "      <td>NaN</td>\n",
       "      <td>NaN</td>\n",
       "      <td>NaN</td>\n",
       "      <td>NaN</td>\n",
       "      <td>NaN</td>\n",
       "      <td>NaN</td>\n",
       "      <td>NaN</td>\n",
       "      <td>0.0</td>\n",
       "      <td>0.0</td>\n",
       "    </tr>\n",
       "    <tr>\n",
       "      <th>104</th>\n",
       "      <td>NaN</td>\n",
       "      <td>NaN</td>\n",
       "      <td>NaN</td>\n",
       "      <td>NaN</td>\n",
       "      <td>NaN</td>\n",
       "      <td>NaN</td>\n",
       "      <td>NaN</td>\n",
       "      <td>NaN</td>\n",
       "      <td>NaN</td>\n",
       "      <td>NaN</td>\n",
       "      <td>NaN</td>\n",
       "    </tr>\n",
       "    <tr>\n",
       "      <th>117</th>\n",
       "      <td>NaN</td>\n",
       "      <td>NaN</td>\n",
       "      <td>NaN</td>\n",
       "      <td>NaN</td>\n",
       "      <td>NaN</td>\n",
       "      <td>NaN</td>\n",
       "      <td>NaN</td>\n",
       "      <td>NaN</td>\n",
       "      <td>NaN</td>\n",
       "      <td>0.0</td>\n",
       "      <td>0.0</td>\n",
       "    </tr>\n",
       "    <tr>\n",
       "      <th>...</th>\n",
       "      <td>...</td>\n",
       "      <td>...</td>\n",
       "      <td>...</td>\n",
       "      <td>...</td>\n",
       "      <td>...</td>\n",
       "      <td>...</td>\n",
       "      <td>...</td>\n",
       "      <td>...</td>\n",
       "      <td>...</td>\n",
       "      <td>...</td>\n",
       "      <td>...</td>\n",
       "    </tr>\n",
       "    <tr>\n",
       "      <th>2292</th>\n",
       "      <td>NaN</td>\n",
       "      <td>NaN</td>\n",
       "      <td>NaN</td>\n",
       "      <td>NaN</td>\n",
       "      <td>NaN</td>\n",
       "      <td>NaN</td>\n",
       "      <td>NaN</td>\n",
       "      <td>NaN</td>\n",
       "      <td>NaN</td>\n",
       "      <td>0.0</td>\n",
       "      <td>0.0</td>\n",
       "    </tr>\n",
       "    <tr>\n",
       "      <th>2347</th>\n",
       "      <td>NaN</td>\n",
       "      <td>NaN</td>\n",
       "      <td>NaN</td>\n",
       "      <td>NaN</td>\n",
       "      <td>NaN</td>\n",
       "      <td>NaN</td>\n",
       "      <td>NaN</td>\n",
       "      <td>NaN</td>\n",
       "      <td>NaN</td>\n",
       "      <td>0.0</td>\n",
       "      <td>0.0</td>\n",
       "    </tr>\n",
       "    <tr>\n",
       "      <th>2375</th>\n",
       "      <td>NaN</td>\n",
       "      <td>NaN</td>\n",
       "      <td>NaN</td>\n",
       "      <td>NaN</td>\n",
       "      <td>NaN</td>\n",
       "      <td>NaN</td>\n",
       "      <td>NaN</td>\n",
       "      <td>NaN</td>\n",
       "      <td>NaN</td>\n",
       "      <td>0.0</td>\n",
       "      <td>0.0</td>\n",
       "    </tr>\n",
       "    <tr>\n",
       "      <th>2380</th>\n",
       "      <td>NaN</td>\n",
       "      <td>NaN</td>\n",
       "      <td>NaN</td>\n",
       "      <td>NaN</td>\n",
       "      <td>NaN</td>\n",
       "      <td>NaN</td>\n",
       "      <td>NaN</td>\n",
       "      <td>NaN</td>\n",
       "      <td>NaN</td>\n",
       "      <td>0.0</td>\n",
       "      <td>0.0</td>\n",
       "    </tr>\n",
       "    <tr>\n",
       "      <th>2396</th>\n",
       "      <td>NaN</td>\n",
       "      <td>NaN</td>\n",
       "      <td>NaN</td>\n",
       "      <td>NaN</td>\n",
       "      <td>NaN</td>\n",
       "      <td>NaN</td>\n",
       "      <td>NaN</td>\n",
       "      <td>NaN</td>\n",
       "      <td>NaN</td>\n",
       "      <td>0.0</td>\n",
       "      <td>0.0</td>\n",
       "    </tr>\n",
       "  </tbody>\n",
       "</table>\n",
       "<p>74 rows × 11 columns</p>\n",
       "</div>"
      ],
      "text/plain": [
       "     Bsmt Qual Bsmt Cond Bsmt Exposure BsmtFin Type 1  BsmtFin SF 1  \\\n",
       "35         NaN       NaN           NaN            NaN           NaN   \n",
       "48         NaN       NaN           NaN            NaN           NaN   \n",
       "75         NaN       NaN           NaN            NaN           NaN   \n",
       "104        NaN       NaN           NaN            NaN           NaN   \n",
       "117        NaN       NaN           NaN            NaN           NaN   \n",
       "...        ...       ...           ...            ...           ...   \n",
       "2292       NaN       NaN           NaN            NaN           NaN   \n",
       "2347       NaN       NaN           NaN            NaN           NaN   \n",
       "2375       NaN       NaN           NaN            NaN           NaN   \n",
       "2380       NaN       NaN           NaN            NaN           NaN   \n",
       "2396       NaN       NaN           NaN            NaN           NaN   \n",
       "\n",
       "     BsmtFin Type 2  BsmtFin SF 2  Bsmt Unf SF  Total Bsmt SF  Bsmt Full Bath  \\\n",
       "35              NaN           NaN          NaN            NaN             0.0   \n",
       "48              NaN           NaN          NaN            NaN             0.0   \n",
       "75              NaN           NaN          NaN            NaN             0.0   \n",
       "104             NaN           NaN          NaN            NaN             NaN   \n",
       "117             NaN           NaN          NaN            NaN             0.0   \n",
       "...             ...           ...          ...            ...             ...   \n",
       "2292            NaN           NaN          NaN            NaN             0.0   \n",
       "2347            NaN           NaN          NaN            NaN             0.0   \n",
       "2375            NaN           NaN          NaN            NaN             0.0   \n",
       "2380            NaN           NaN          NaN            NaN             0.0   \n",
       "2396            NaN           NaN          NaN            NaN             0.0   \n",
       "\n",
       "      Bsmt Half Bath  \n",
       "35               0.0  \n",
       "48               0.0  \n",
       "75               0.0  \n",
       "104              NaN  \n",
       "117              0.0  \n",
       "...              ...  \n",
       "2292             0.0  \n",
       "2347             0.0  \n",
       "2375             0.0  \n",
       "2380             0.0  \n",
       "2396             0.0  \n",
       "\n",
       "[74 rows x 11 columns]"
      ]
     },
     "execution_count": 18,
     "metadata": {},
     "output_type": "execute_result"
    }
   ],
   "source": [
    "# Basement variables\n",
    "df[df['Bsmt Exposure'].isna()].loc[:,['Bsmt' in str(x) for x in df.columns]]"
   ]
  },
  {
   "cell_type": "markdown",
   "metadata": {},
   "source": [
    "2. Correct inconsistencies in the variables"
   ]
  },
  {
   "cell_type": "markdown",
   "metadata": {},
   "source": [
    "\"In general, a simple way to detect both cases is with the Pandas value_counts() function which counts the number of occurences for each categorical value and sorts the results by frequency. Statistically, such incorrect categorical values will only happen once (or a very few times at best) and will appear at the beginning of the sorted list\":"
   ]
  },
  {
   "cell_type": "code",
   "execution_count": 19,
   "metadata": {},
   "outputs": [],
   "source": [
    "#df['construction year'].value_counts().sort_values()\n",
    "# 20020: 1 occurrence <-- strange!\n",
    "# 2018: 51 occurrences\n",
    "# 2020: 83 occurrences\n",
    "# 2019: 130 occurrences\n",
    "# .."
   ]
  },
  {
   "cell_type": "markdown",
   "metadata": {},
   "source": [
    "Check object columns, ordinal and discrete variables for inconsistencies:"
   ]
  },
  {
   "cell_type": "code",
   "execution_count": 20,
   "metadata": {},
   "outputs": [
    {
     "name": "stdout",
     "output_type": "stream",
     "text": [
      "2930    1\n",
      "2908    1\n",
      "2928    1\n",
      "2927    1\n",
      "2926    1\n",
      "       ..\n",
      "5       1\n",
      "4       1\n",
      "3       1\n",
      "21      1\n",
      "1       1\n",
      "Name: Order, Length: 2430, dtype: int64\n",
      "527450110    1\n",
      "909275110    1\n",
      "905478140    1\n",
      "535126010    1\n",
      "528228345    1\n",
      "            ..\n",
      "534278150    1\n",
      "909452050    1\n",
      "534450180    1\n",
      "535425060    1\n",
      "902111010    1\n",
      "Name: PID, Length: 2430, dtype: int64\n",
      "150      1\n",
      "40       4\n",
      "180     14\n",
      "45      15\n",
      "75      19\n",
      "85      41\n",
      "190     55\n",
      "90      86\n",
      "80      94\n",
      "160    103\n",
      "70     107\n",
      "30     119\n",
      "120    159\n",
      "50     231\n",
      "60     470\n",
      "20     912\n",
      "Name: MS SubClass, dtype: int64\n",
      "I (all)       2\n",
      "A (agr)       2\n",
      "C (all)      17\n",
      "RH           19\n",
      "FV          113\n",
      "RM          383\n",
      "RL         1894\n",
      "Name: MS Zoning, dtype: int64\n",
      "Grvl      11\n",
      "Pave    2419\n",
      "Name: Street, dtype: int64\n",
      "Pave     59\n",
      "Grvl    104\n",
      "Name: Alley, dtype: int64\n",
      "IR3      14\n",
      "IR2      66\n",
      "IR1     836\n",
      "Reg    1514\n",
      "Name: Lot Shape, dtype: int64\n",
      "Low      54\n",
      "HLS      98\n",
      "Bnk     102\n",
      "Lvl    2176\n",
      "Name: Land Contour, dtype: int64\n",
      "NoSeWa       1\n",
      "NoSewr       2\n",
      "AllPub    2427\n",
      "Name: Utilities, dtype: int64\n",
      "FR3          11\n",
      "FR2          72\n",
      "CulDSac     157\n",
      "Corner      416\n",
      "Inside     1774\n",
      "Name: Lot Config, dtype: int64\n",
      "Sev      16\n",
      "Mod     102\n",
      "Gtl    2312\n",
      "Name: Land Slope, dtype: int64\n",
      "Landmrk      1\n",
      "GrnHill      2\n",
      "Blueste      6\n",
      "Greens       8\n",
      "Veenker     20\n",
      "NPkVill     21\n",
      "Blmngtn     21\n",
      "BrDale      26\n",
      "MeadowV     28\n",
      "SWISU       37\n",
      "ClearCr     39\n",
      "StoneBr     40\n",
      "NoRidge     53\n",
      "Timber      60\n",
      "IDOTRR      75\n",
      "Crawfor     79\n",
      "BrkSide     89\n",
      "Mitchel     99\n",
      "SawyerW    102\n",
      "NWAmes     121\n",
      "Sawyer     128\n",
      "NridgHt    134\n",
      "Gilbert    135\n",
      "Somerst    151\n",
      "Edwards    159\n",
      "OldTown    209\n",
      "CollgCr    226\n",
      "NAmes      361\n",
      "Name: Neighborhood, dtype: int64\n",
      "RRNe         5\n",
      "RRNn         8\n",
      "PosA        17\n",
      "RRAe        24\n",
      "PosN        35\n",
      "RRAn        43\n",
      "Artery      78\n",
      "Feedr      134\n",
      "Norm      2086\n",
      "Name: Condition 1, dtype: int64\n",
      "RRAe         1\n",
      "RRAn         1\n",
      "RRNn         2\n",
      "PosN         2\n",
      "PosA         4\n",
      "Artery       5\n",
      "Feedr       12\n",
      "Norm      2403\n",
      "Name: Condition 2, dtype: int64\n",
      "2fmCon      56\n",
      "Duplex      86\n",
      "Twnhs       88\n",
      "TwnhsE     184\n",
      "1Fam      2016\n",
      "Name: Bldg Type, dtype: int64\n",
      "2.5Fin       7\n",
      "1.5Unf      16\n",
      "2.5Unf      21\n",
      "SFoyer      70\n",
      "SLvl       103\n",
      "1.5Fin     257\n",
      "2Story     712\n",
      "1Story    1244\n",
      "Name: House Style, dtype: int64\n",
      "Shed          5\n",
      "Mansard       8\n",
      "Flat         18\n",
      "Gambrel      21\n",
      "Hip         455\n",
      "Gable      1923\n",
      "Name: Roof Style, dtype: int64\n",
      "Membran       1\n",
      "Metal         1\n",
      "ClyTile       1\n",
      "WdShngl       7\n",
      "WdShake       7\n",
      "Tar&Grv      21\n",
      "CompShg    2392\n",
      "Name: Roof Matl, dtype: int64\n",
      "PreCast      1\n",
      "ImStucc      1\n",
      "Stone        2\n",
      "AsphShn      2\n",
      "CBlock       2\n",
      "BrkComm      6\n",
      "Stucco      36\n",
      "AsbShng     36\n",
      "WdShing     47\n",
      "BrkFace     74\n",
      "CemntBd     92\n",
      "Plywood    192\n",
      "Wd Sdng    342\n",
      "HdBoard    368\n",
      "MetalSd    371\n",
      "VinylSd    858\n",
      "Name: Exterior 1st, dtype: int64\n",
      "PreCast      1\n",
      "CBlock       2\n",
      "AsphShn      4\n",
      "Stone        5\n",
      "ImStucc     12\n",
      "Brk Cmn     20\n",
      "AsbShng     32\n",
      "Stucco      37\n",
      "BrkFace     43\n",
      "Wd Shng     67\n",
      "CmentBd     94\n",
      "Plywood    228\n",
      "Wd Sdng    327\n",
      "HdBoard    342\n",
      "MetalSd    366\n",
      "VinylSd    850\n",
      "Name: Exterior 2nd, dtype: int64\n",
      "CBlock        1\n",
      "BrkCmn       21\n",
      "Stone       210\n",
      "BrkFace     736\n",
      "None       1442\n",
      "Name: Mas Vnr Type, dtype: int64\n",
      "Fa      31\n",
      "Ex      87\n",
      "Gd     816\n",
      "TA    1496\n",
      "Name: Exter Qual, dtype: int64\n",
      "Po       3\n",
      "Ex      12\n",
      "Fa      54\n",
      "Gd     251\n",
      "TA    2110\n",
      "Name: Exter Cond, dtype: int64\n",
      "Wood         5\n",
      "Stone        7\n",
      "Slab        42\n",
      "BrkTil     268\n",
      "CBlock    1022\n",
      "PConc     1086\n",
      "Name: Foundation, dtype: int64\n",
      "Po       1\n",
      "Fa      75\n",
      "Ex     213\n",
      "Gd    1008\n",
      "TA    1062\n",
      "Name: Bsmt Qual, dtype: int64\n",
      "Ex       2\n",
      "Po       4\n",
      "Fa      82\n",
      "Gd     101\n",
      "TA    2170\n",
      "Name: Bsmt Cond, dtype: int64\n",
      "Mn     208\n",
      "Gd     235\n",
      "Av     350\n",
      "No    1563\n",
      "Name: Bsmt Exposure, dtype: int64\n",
      "LwQ    124\n",
      "BLQ    227\n",
      "Rec    242\n",
      "ALQ    352\n",
      "Unf    703\n",
      "GLQ    711\n",
      "Name: BsmtFin Type 1, dtype: int64\n",
      "GLQ      28\n",
      "ALQ      45\n",
      "BLQ      61\n",
      "LwQ      75\n",
      "Rec      84\n",
      "Unf    2065\n",
      "Name: BsmtFin Type 2, dtype: int64\n",
      "Floor       1\n",
      "OthW        1\n",
      "Wall        5\n",
      "Grav        8\n",
      "GasW       21\n",
      "GasA     2394\n",
      "Name: Heating, dtype: int64\n",
      "Po       2\n",
      "Fa      81\n",
      "Gd     401\n",
      "TA     717\n",
      "Ex    1229\n",
      "Name: Heating QC, dtype: int64\n",
      "N     168\n",
      "Y    2262\n",
      "Name: Central Air, dtype: int64\n",
      "Mix         1\n",
      "FuseP       7\n",
      "FuseF      38\n",
      "FuseA     160\n",
      "SBrkr    2223\n",
      "Name: Electrical, dtype: int64\n",
      "Po       1\n",
      "Fa      58\n",
      "Ex     177\n",
      "Gd     957\n",
      "TA    1237\n",
      "Name: Kitchen Qual, dtype: int64\n",
      "Sal        1\n",
      "Sev        2\n",
      "Maj2       7\n",
      "Maj1      18\n",
      "Mod       30\n",
      "Min2      53\n",
      "Min1      56\n",
      "Typ     2263\n",
      "Name: Functional, dtype: int64\n",
      "Ex     38\n",
      "Po     42\n",
      "Fa     67\n",
      "TA    477\n",
      "Gd    620\n",
      "Name: Fireplace Qu, dtype: int64\n",
      "CarPort      11\n",
      "2Types       22\n",
      "Basment      28\n",
      "BuiltIn     147\n",
      "Detchd      650\n",
      "Attchd     1436\n",
      "Name: Garage Type, dtype: int64\n",
      "Fin     596\n",
      "RFn     665\n",
      "Unf    1031\n",
      "Name: Garage Finish, dtype: int64\n",
      "Ex       2\n",
      "Po       5\n",
      "Gd      20\n",
      "Fa     109\n",
      "TA    2156\n",
      "Name: Garage Qual, dtype: int64\n",
      "Ex       2\n",
      "Gd      13\n",
      "Po      14\n",
      "Fa      61\n",
      "TA    2202\n",
      "Name: Garage Cond, dtype: int64\n",
      "P      51\n",
      "N     185\n",
      "Y    2194\n",
      "Name: Paved Drive, dtype: int64\n",
      "Fa    2\n",
      "Gd    3\n",
      "TA    3\n",
      "Ex    4\n",
      "Name: Pool QC, dtype: int64\n",
      "MnWw      10\n",
      "GdWo      94\n",
      "GdPrv     97\n",
      "MnPrv    288\n",
      "Name: Fence, dtype: int64\n",
      "TenC     1\n",
      "Elev     1\n",
      "Othr     3\n",
      "Gar2     5\n",
      "Shed    80\n",
      "Name: Misc Feature, dtype: int64\n",
      "VWD         1\n",
      "ConLw       4\n",
      "Con         5\n",
      "Oth         6\n",
      "ConLI       7\n",
      "CWD        10\n",
      "ConLD      21\n",
      "COD        74\n",
      "New       186\n",
      "WD       2116\n",
      "Name: Sale Type, dtype: int64\n",
      "AdjLand      10\n",
      "Alloca       20\n",
      "Family       32\n",
      "Abnorml     154\n",
      "Partial     192\n",
      "Normal     2022\n",
      "Name: Sale Condition, dtype: int64\n"
     ]
    }
   ],
   "source": [
    "# no inconsistencies found for object related columns\n",
    "columns = df.select_dtypes('object').columns\n",
    "for column in columns:\n",
    "    print(df[column].value_counts().sort_values())"
   ]
  },
  {
   "cell_type": "code",
   "execution_count": 21,
   "metadata": {},
   "outputs": [
    {
     "name": "stdout",
     "output_type": "stream",
     "text": [
      "Pave     59\n",
      "Grvl    104\n",
      "Name: Alley, dtype: int64\n",
      "Po       1\n",
      "Fa      75\n",
      "Ex     213\n",
      "Gd    1008\n",
      "TA    1062\n",
      "Name: Bsmt Qual, dtype: int64\n",
      "Ex       2\n",
      "Po       4\n",
      "Fa      82\n",
      "Gd     101\n",
      "TA    2170\n",
      "Name: Bsmt Cond, dtype: int64\n",
      "Mn     208\n",
      "Gd     235\n",
      "Av     350\n",
      "No    1563\n",
      "Name: Bsmt Exposure, dtype: int64\n",
      "LwQ    124\n",
      "BLQ    227\n",
      "Rec    242\n",
      "ALQ    352\n",
      "Unf    703\n",
      "GLQ    711\n",
      "Name: BsmtFin Type 1, dtype: int64\n",
      "GLQ      28\n",
      "ALQ      45\n",
      "BLQ      61\n",
      "LwQ      75\n",
      "Rec      84\n",
      "Unf    2065\n",
      "Name: BsmtFin Type 2, dtype: int64\n",
      "Ex     38\n",
      "Po     42\n",
      "Fa     67\n",
      "TA    477\n",
      "Gd    620\n",
      "Name: Fireplace Qu, dtype: int64\n",
      "CarPort      11\n",
      "2Types       22\n",
      "Basment      28\n",
      "BuiltIn     147\n",
      "Detchd      650\n",
      "Attchd     1436\n",
      "Name: Garage Type, dtype: int64\n",
      "Fin     596\n",
      "RFn     665\n",
      "Unf    1031\n",
      "Name: Garage Finish, dtype: int64\n",
      "Ex       2\n",
      "Po       5\n",
      "Gd      20\n",
      "Fa     109\n",
      "TA    2156\n",
      "Name: Garage Qual, dtype: int64\n",
      "Ex       2\n",
      "Gd      13\n",
      "Po      14\n",
      "Fa      61\n",
      "TA    2202\n",
      "Name: Garage Cond, dtype: int64\n",
      "Fa    2\n",
      "Gd    3\n",
      "TA    3\n",
      "Ex    4\n",
      "Name: Pool QC, dtype: int64\n",
      "MnWw      10\n",
      "GdWo      94\n",
      "GdPrv     97\n",
      "MnPrv    288\n",
      "Name: Fence, dtype: int64\n",
      "TenC     1\n",
      "Elev     1\n",
      "Othr     3\n",
      "Gar2     5\n",
      "Shed    80\n",
      "Name: Misc Feature, dtype: int64\n"
     ]
    }
   ],
   "source": [
    "# no inconsistencies found for ordinal variables\n",
    "columns = df_ordinals.columns\n",
    "for column in columns:\n",
    "    print(df[column].value_counts().sort_values())"
   ]
  },
  {
   "cell_type": "code",
   "execution_count": 22,
   "metadata": {},
   "outputs": [
    {
     "name": "stdout",
     "output_type": "stream",
     "text": [
      "3.0       2\n",
      "2.0      34\n",
      "1.0     980\n",
      "0.0    1412\n",
      "Name: Bsmt Full Bath, dtype: int64\n",
      "2.0       3\n",
      "1.0     140\n",
      "0.0    2285\n",
      "Name: Bsmt Half Bath, dtype: int64\n",
      "4       3\n",
      "0      11\n",
      "3      46\n",
      "1    1097\n",
      "2    1273\n",
      "Name: Full Bath, dtype: int64\n",
      "2      22\n",
      "1     854\n",
      "0    1554\n",
      "Name: Half Bath, dtype: int64\n",
      "8       1\n",
      "0       8\n",
      "6      12\n",
      "5      40\n",
      "1      93\n",
      "4     327\n",
      "2     620\n",
      "3    1329\n",
      "Name: Bedroom AbvGr, dtype: int64\n",
      "3       1\n",
      "0       2\n",
      "2     104\n",
      "1    2323\n",
      "Name: Kitchen AbvGr, dtype: int64\n",
      "15      1\n",
      "13      1\n",
      "14      1\n",
      "2       1\n",
      "12     11\n",
      "11     22\n",
      "3      22\n",
      "10     60\n",
      "9     122\n",
      "4     170\n",
      "8     281\n",
      "5     501\n",
      "7     537\n",
      "6     700\n",
      "Name: TotRms AbvGrd, dtype: int64\n",
      "4       1\n",
      "3      10\n",
      "2     179\n",
      "1    1054\n",
      "0    1186\n",
      "Name: Fireplaces, dtype: int64\n",
      "4.0      12\n",
      "0.0     136\n",
      "3.0     306\n",
      "1.0     635\n",
      "2.0    1340\n",
      "Name: Garage Cars, dtype: int64\n",
      "12     92\n",
      "1     108\n",
      "2     109\n",
      "11    112\n",
      "9     135\n",
      "10    143\n",
      "8     186\n",
      "3     187\n",
      "4     227\n",
      "5     335\n",
      "7     374\n",
      "6     422\n",
      "Name: Mo Sold, dtype: int64\n",
      "1       4\n",
      "2      12\n",
      "10     24\n",
      "3      35\n",
      "9      96\n",
      "4     181\n",
      "8     277\n",
      "7     503\n",
      "6     608\n",
      "5     690\n",
      "Name: Overall Qual, dtype: int64\n",
      "1       6\n",
      "2      10\n",
      "9      33\n",
      "3      41\n",
      "4      78\n",
      "8     125\n",
      "7     322\n",
      "6     448\n",
      "5    1367\n",
      "Name: Overall Cond, dtype: int64\n"
     ]
    }
   ],
   "source": [
    "# no inconsistencies found for discrete variables\n",
    "columns = df_discrete.columns\n",
    "for column in columns:\n",
    "    print(df[column].value_counts().sort_values())"
   ]
  },
  {
   "cell_type": "code",
   "execution_count": 23,
   "metadata": {},
   "outputs": [
    {
     "name": "stdout",
     "output_type": "stream",
     "text": [
      "141.0      1\n",
      "123.0      1\n",
      "113.0      1\n",
      "150.0      1\n",
      "182.0      1\n",
      "        ... \n",
      "80.0     112\n",
      "85.0     146\n",
      "50.0     178\n",
      "60.0     237\n",
      "70.0     301\n",
      "Name: Lot Frontage, Length: 122, dtype: int64\n",
      "4750      1\n",
      "18261     1\n",
      "3950      1\n",
      "3940      1\n",
      "10083     1\n",
      "         ..\n",
      "10800    20\n",
      "9000     26\n",
      "6000     28\n",
      "7200     34\n",
      "9600     35\n",
      "Name: Lot Area, Length: 1695, dtype: int64\n",
      "1875      1\n",
      "1907      1\n",
      "1911      1\n",
      "1879      1\n",
      "1893      1\n",
      "       ... \n",
      "2003     75\n",
      "2004     84\n",
      "2007     87\n",
      "2006    109\n",
      "2005    116\n",
      "Name: Year Built, Length: 115, dtype: int64\n",
      "1982      8\n",
      "1983      9\n",
      "1987      9\n",
      "1981     10\n",
      "2010     11\n",
      "       ... \n",
      "2004     95\n",
      "2005    115\n",
      "2007    133\n",
      "2006    162\n",
      "1950    294\n",
      "Name: Year Remod/Add, Length: 61, dtype: int64\n",
      "258.0     1\n",
      "564.0     1\n",
      "452.0     1\n",
      "760.0     1\n",
      "468.0     1\n",
      "         ..\n",
      "216.0     9\n",
      "176.0    10\n",
      "144.0    11\n",
      "200.0    12\n",
      "120.0    14\n",
      "Name: Mas Vnr Area, Length: 407, dtype: int64\n",
      "615.0      1\n",
      "1505.0     1\n",
      "1127.0     1\n",
      "1733.0     1\n",
      "475.0      1\n",
      "          ..\n",
      "600.0      7\n",
      "288.0      7\n",
      "300.0      7\n",
      "16.0      12\n",
      "24.0      24\n",
      "Name: BsmtFin SF 1, Length: 903, dtype: int64\n",
      "177.0     1\n",
      "869.0     1\n",
      "543.0     1\n",
      "1029.0    1\n",
      "842.0     1\n",
      "         ..\n",
      "435.0     3\n",
      "144.0     3\n",
      "374.0     3\n",
      "180.0     4\n",
      "294.0     4\n",
      "Name: BsmtFin SF 2, Length: 239, dtype: int64\n",
      "871.0      1\n",
      "123.0      1\n",
      "436.0      1\n",
      "1168.0     1\n",
      "1176.0     1\n",
      "          ..\n",
      "600.0     10\n",
      "572.0     11\n",
      "672.0     11\n",
      "384.0     12\n",
      "728.0     13\n",
      "Name: Bsmt Unf SF, Length: 1039, dtype: int64\n",
      "1125.0     1\n",
      "1172.0     1\n",
      "1950.0     1\n",
      "2006.0     1\n",
      "1575.0     1\n",
      "          ..\n",
      "768.0     22\n",
      "912.0     24\n",
      "1040.0    24\n",
      "672.0     25\n",
      "864.0     59\n",
      "Name: Total Bsmt SF, Length: 968, dtype: int64\n",
      "2053     1\n",
      "903      1\n",
      "897      1\n",
      "895      1\n",
      "893      1\n",
      "        ..\n",
      "848     16\n",
      "672     16\n",
      "912     17\n",
      "1040    26\n",
      "864     34\n",
      "Name: 1st Flr SF, Length: 990, dtype: int64\n",
      "1198.0     1\n",
      "1836.0     1\n",
      "874.0      1\n",
      "423.0      1\n",
      "1092.0     1\n",
      "          ..\n",
      "600.0     11\n",
      "720.0     11\n",
      "504.0     15\n",
      "546.0     17\n",
      "728.0     17\n",
      "Name: 2nd Flr SF, Length: 552, dtype: int64\n",
      "479.0     1\n",
      "420.0     1\n",
      "515.0     1\n",
      "371.0     1\n",
      "362.0     1\n",
      "481.0     1\n",
      "156.0     1\n",
      "392.0     1\n",
      "312.0     1\n",
      "234.0     1\n",
      "140.0     1\n",
      "473.0     1\n",
      "259.0     1\n",
      "572.0     1\n",
      "120.0     1\n",
      "436.0     1\n",
      "513.0     1\n",
      "450.0     1\n",
      "697.0     1\n",
      "360.0     1\n",
      "528.0     1\n",
      "108.0     1\n",
      "53.0      1\n",
      "384.0     1\n",
      "512.0     1\n",
      "390.0     1\n",
      "1064.0    1\n",
      "205.0     1\n",
      "80.0      2\n",
      "Name: Low Qual Fin SF, dtype: int64\n",
      "2501     1\n",
      "1389     1\n",
      "1391     1\n",
      "1393     1\n",
      "1409     1\n",
      "        ..\n",
      "912     13\n",
      "1092    16\n",
      "1456    18\n",
      "1040    23\n",
      "864     30\n",
      "Name: Gr Liv Area, Length: 1163, dtype: int64\n",
      "1908.0      1\n",
      "2207.0      1\n",
      "1943.0      1\n",
      "1896.0      1\n",
      "1919.0      1\n",
      "         ... \n",
      "2003.0     79\n",
      "2004.0     84\n",
      "2006.0     89\n",
      "2007.0     91\n",
      "2005.0    114\n",
      "Name: Garage Yr Blt, Length: 101, dtype: int64\n",
      "739.0      1\n",
      "1041.0     1\n",
      "1110.0     1\n",
      "327.0      1\n",
      "916.0      1\n",
      "          ..\n",
      "528.0     49\n",
      "240.0     55\n",
      "484.0     65\n",
      "576.0     77\n",
      "440.0     84\n",
      "Name: Garage Area, Length: 556, dtype: int64\n",
      "211.0     1\n",
      "394.0     1\n",
      "153.0     1\n",
      "294.0     1\n",
      "221.0     1\n",
      "         ..\n",
      "120.0    42\n",
      "168.0    46\n",
      "144.0    48\n",
      "100.0    58\n",
      "192.0    59\n",
      "Name: Wood Deck SF, Length: 350, dtype: int64\n",
      "372.0     1\n",
      "204.0     1\n",
      "319.0     1\n",
      "282.0     1\n",
      "139.0     1\n",
      "         ..\n",
      "24.0     29\n",
      "32.0     36\n",
      "40.0     41\n",
      "36.0     43\n",
      "48.0     45\n",
      "Name: Open Porch SF, Length: 233, dtype: int64\n",
      "26.0      1\n",
      "203.0     1\n",
      "330.0     1\n",
      "51.0      1\n",
      "86.0      1\n",
      "         ..\n",
      "168.0     7\n",
      "144.0     9\n",
      "192.0    10\n",
      "96.0     10\n",
      "112.0    21\n",
      "Name: Enclosed Porch, Length: 159, dtype: int64\n",
      "120.0    1\n",
      "245.0    1\n",
      "196.0    1\n",
      "508.0    1\n",
      "86.0     1\n",
      "407.0    1\n",
      "225.0    1\n",
      "238.0    1\n",
      "174.0    1\n",
      "255.0    1\n",
      "323.0    1\n",
      "290.0    1\n",
      "320.0    1\n",
      "176.0    1\n",
      "23.0     1\n",
      "96.0     1\n",
      "130.0    1\n",
      "304.0    1\n",
      "153.0    2\n",
      "216.0    2\n",
      "180.0    2\n",
      "144.0    2\n",
      "168.0    3\n",
      "Name: 3Ssn Porch, dtype: int64\n",
      "104.0     1\n",
      "233.0     1\n",
      "312.0     1\n",
      "266.0     1\n",
      "221.0     1\n",
      "         ..\n",
      "180.0     7\n",
      "216.0     7\n",
      "192.0     8\n",
      "168.0    10\n",
      "144.0    11\n",
      "Name: Screen Porch, Length: 110, dtype: int64\n",
      "519.0    1\n",
      "444.0    1\n",
      "555.0    1\n",
      "228.0    1\n",
      "561.0    1\n",
      "368.0    1\n",
      "800.0    1\n",
      "576.0    1\n",
      "512.0    1\n",
      "480.0    1\n",
      "144.0    1\n",
      "648.0    1\n",
      "Name: Pool Area, dtype: int64\n",
      "3500.0      1\n",
      "1000.0      1\n",
      "1150.0      1\n",
      "8300.0      1\n",
      "1512.0      1\n",
      "560.0       1\n",
      "455.0       1\n",
      "12500.0     1\n",
      "420.0       1\n",
      "300.0       1\n",
      "620.0       1\n",
      "800.0       1\n",
      "80.0        1\n",
      "460.0       1\n",
      "2500.0      1\n",
      "17000.0     1\n",
      "350.0       1\n",
      "1300.0      1\n",
      "15500.0     1\n",
      "6500.0      1\n",
      "750.0       1\n",
      "4500.0      2\n",
      "480.0       2\n",
      "3000.0      2\n",
      "1500.0      3\n",
      "1200.0      3\n",
      "650.0       3\n",
      "700.0       5\n",
      "2000.0      6\n",
      "450.0       7\n",
      "600.0       8\n",
      "500.0      11\n",
      "400.0      15\n",
      "Name: Misc Val, dtype: int64\n",
      "2010    284\n",
      "2006    514\n",
      "2009    518\n",
      "2008    530\n",
      "2007    584\n",
      "Name: Yr Sold, dtype: int64\n",
      "203135     1\n",
      "122250     1\n",
      "293077     1\n",
      "244400     1\n",
      "167300     1\n",
      "          ..\n",
      "135000    22\n",
      "145000    23\n",
      "140000    24\n",
      "130000    25\n",
      "155000    26\n",
      "Name: SalePrice, Length: 906, dtype: int64\n"
     ]
    }
   ],
   "source": [
    "columns = df_num.columns\n",
    "for column in columns:\n",
    "    print(df[column].value_counts().sort_values())"
   ]
  },
  {
   "cell_type": "markdown",
   "metadata": {},
   "source": [
    "**Findings:**\n",
    "- Garage Yr Blt: year '2207' is not possible"
   ]
  },
  {
   "cell_type": "code",
   "execution_count": 24,
   "metadata": {},
   "outputs": [
    {
     "data": {
      "text/plain": [
       "2219"
      ]
     },
     "execution_count": 24,
     "metadata": {},
     "output_type": "execute_result"
    }
   ],
   "source": [
    "df[df['Garage Yr Blt'] >2010].loc[:,['Garage Yr Blt']].index[0]"
   ]
  },
  {
   "cell_type": "code",
   "execution_count": 25,
   "metadata": {},
   "outputs": [],
   "source": [
    "df.loc[df[df['Garage Yr Blt'] >2010].loc[:,['Garage Yr Blt']].index[0],'Garage Yr Blt'] = np.nan"
   ]
  },
  {
   "cell_type": "markdown",
   "metadata": {},
   "source": [
    "Identify rows with negative values for numeric variables:"
   ]
  },
  {
   "cell_type": "code",
   "execution_count": 26,
   "metadata": {},
   "outputs": [
    {
     "name": "stdout",
     "output_type": "stream",
     "text": [
      "Int64Index([], dtype='int64')\n",
      "Int64Index([], dtype='int64')\n",
      "Int64Index([], dtype='int64')\n",
      "Int64Index([], dtype='int64')\n",
      "Int64Index([], dtype='int64')\n",
      "Int64Index([], dtype='int64')\n",
      "Int64Index([], dtype='int64')\n",
      "Int64Index([], dtype='int64')\n",
      "Int64Index([], dtype='int64')\n",
      "Int64Index([], dtype='int64')\n",
      "Int64Index([], dtype='int64')\n",
      "Int64Index([], dtype='int64')\n",
      "Int64Index([], dtype='int64')\n",
      "Int64Index([], dtype='int64')\n",
      "Int64Index([], dtype='int64')\n",
      "Int64Index([], dtype='int64')\n",
      "Int64Index([], dtype='int64')\n",
      "Int64Index([], dtype='int64')\n",
      "Int64Index([], dtype='int64')\n",
      "Int64Index([], dtype='int64')\n",
      "Int64Index([], dtype='int64')\n",
      "Int64Index([], dtype='int64')\n",
      "Int64Index([], dtype='int64')\n"
     ]
    }
   ],
   "source": [
    "for cols in df_num.columns.tolist()[1:]:\n",
    "    data = df_num.index[df_num[cols] < 0]\n",
    "    print(data)"
   ]
  },
  {
   "cell_type": "code",
   "execution_count": 27,
   "metadata": {},
   "outputs": [
    {
     "name": "stdout",
     "output_type": "stream",
     "text": [
      "Int64Index([], dtype='int64')\n",
      "Int64Index([], dtype='int64')\n",
      "Int64Index([], dtype='int64')\n",
      "Int64Index([], dtype='int64')\n",
      "Int64Index([], dtype='int64')\n",
      "Int64Index([], dtype='int64')\n",
      "Int64Index([], dtype='int64')\n",
      "Int64Index([], dtype='int64')\n",
      "Int64Index([], dtype='int64')\n",
      "Int64Index([], dtype='int64')\n",
      "Int64Index([], dtype='int64')\n"
     ]
    }
   ],
   "source": [
    "for cols in df_discrete.columns.tolist()[1:]:\n",
    "    data = df_discrete.index[df_discrete[cols] < 0]\n",
    "    print(data)"
   ]
  },
  {
   "cell_type": "markdown",
   "metadata": {},
   "source": [
    "**Findings:** no negative values detected"
   ]
  },
  {
   "cell_type": "markdown",
   "metadata": {},
   "source": [
    "The following variables have to be adjusted since they include redundant or misleading information for the respective data points and thus negatively impacting our prediction model:\n",
    "- a) Condition 2 (Nominal): Proximity to various conditions (if more than one is present) -> replace all data points with NaN where Condition 2 = Condition 1 (i.e. if only 1 condition is present)\n",
    "- b) Year Remod/Add: same as construction date (Year Built) if no remodeling or additions -> replace with N/A if the Year Remod/Add = Year Built\n",
    "- c) Exterior 2: -> replace all data points with NaN where Exterior 2 = Exterior 1"
   ]
  },
  {
   "cell_type": "code",
   "execution_count": 28,
   "metadata": {},
   "outputs": [],
   "source": [
    "df.loc[df[df['Condition 1'] == df['Condition 2']].loc[:,['Condition 2']].index, 'Condition 2'] = np.nan"
   ]
  },
  {
   "cell_type": "code",
   "execution_count": 29,
   "metadata": {},
   "outputs": [],
   "source": [
    "df.loc[df[df['Year Built'] == df['Year Remod/Add']].loc[:,['Year Remod/Add']].index,'Year Remod/Add'] = np.nan"
   ]
  },
  {
   "cell_type": "code",
   "execution_count": 30,
   "metadata": {},
   "outputs": [],
   "source": [
    "df.loc[df[df['Exterior 1st'] == df['Exterior 2nd']].loc[:,['Exterior 2nd']].index,'Exterior 2nd'] = np.nan"
   ]
  },
  {
   "cell_type": "markdown",
   "metadata": {},
   "source": [
    "3. Handle outliers:"
   ]
  },
  {
   "cell_type": "markdown",
   "metadata": {},
   "source": [
    "Let's start to plot the sale price against each continuous variable to visually detect unusual values:"
   ]
  },
  {
   "cell_type": "code",
   "execution_count": 31,
   "metadata": {},
   "outputs": [
    {
     "data": {
      "image/png": "[encoded data removed]",
      "text/plain": [
       "<Figure size 720x576 with 28 Axes>"
      ]
     },
     "metadata": {
      "needs_background": "light"
     },
     "output_type": "display_data"
    }
   ],
   "source": [
    "fig, axes = plt.subplots(nrows=4, ncols=7, figsize=(10, 8))\n",
    "\n",
    "for column, ax in zip(df_num.columns, axes.ravel()):\n",
    "    ax.scatter(df_num.SalePrice, df[column],alpha=0.3)\n",
    "    ax.set_title(column)\n",
    "\n",
    "plt.tight_layout() \n",
    "plt.show()"
   ]
  },
  {
   "cell_type": "markdown",
   "metadata": {},
   "source": [
    "At first glance there seems to be some outliers for most of the variables. Let's inspect 'Gr Liv Area' as proposed in the documentation:"
   ]
  },
  {
   "cell_type": "code",
   "execution_count": 32,
   "metadata": {},
   "outputs": [
    {
     "data": {
      "text/plain": [
       "<matplotlib.collections.PathCollection at 0x2221cff07f0>"
      ]
     },
     "execution_count": 32,
     "metadata": {},
     "output_type": "execute_result"
    },
    {
     "data": {
      "image/png": "[encoded data removed]",
      "text/plain": [
       "<Figure size 432x288 with 1 Axes>"
      ]
     },
     "metadata": {
      "needs_background": "light"
     },
     "output_type": "display_data"
    }
   ],
   "source": [
    "plt.scatter(df.SalePrice, df['Gr Liv Area'],alpha=0.3)"
   ]
  },
  {
   "cell_type": "markdown",
   "metadata": {},
   "source": [
    "As stated in the documentation I would recommend removing any houses with more than 4000 square feet from the data set (which eliminates these 5 unusual observations) before continuing with the analysis. We can already spot outliers on the fly while investigating on the variables (e.g. 'Lot Area' has a max value which is 20 times higher than the 75% quantile):"
   ]
  },
  {
   "cell_type": "code",
   "execution_count": 33,
   "metadata": {},
   "outputs": [
    {
     "data": {
      "text/html": [
       "<div>\n",
       "<style scoped>\n",
       "    .dataframe tbody tr th:only-of-type {\n",
       "        vertical-align: middle;\n",
       "    }\n",
       "\n",
       "    .dataframe tbody tr th {\n",
       "        vertical-align: top;\n",
       "    }\n",
       "\n",
       "    .dataframe thead th {\n",
       "        text-align: right;\n",
       "    }\n",
       "</style>\n",
       "<table border=\"1\" class=\"dataframe\">\n",
       "  <thead>\n",
       "    <tr style=\"text-align: right;\">\n",
       "      <th></th>\n",
       "      <th>Lot Frontage</th>\n",
       "      <th>Lot Area</th>\n",
       "      <th>Overall Qual</th>\n",
       "      <th>Overall Cond</th>\n",
       "      <th>Year Built</th>\n",
       "      <th>Year Remod/Add</th>\n",
       "      <th>Mas Vnr Area</th>\n",
       "      <th>BsmtFin SF 1</th>\n",
       "      <th>BsmtFin SF 2</th>\n",
       "      <th>Bsmt Unf SF</th>\n",
       "      <th>...</th>\n",
       "      <th>Wood Deck SF</th>\n",
       "      <th>Open Porch SF</th>\n",
       "      <th>Enclosed Porch</th>\n",
       "      <th>3Ssn Porch</th>\n",
       "      <th>Screen Porch</th>\n",
       "      <th>Pool Area</th>\n",
       "      <th>Misc Val</th>\n",
       "      <th>Mo Sold</th>\n",
       "      <th>Yr Sold</th>\n",
       "      <th>SalePrice</th>\n",
       "    </tr>\n",
       "  </thead>\n",
       "  <tbody>\n",
       "    <tr>\n",
       "      <th>count</th>\n",
       "      <td>2430.000000</td>\n",
       "      <td>2430.000000</td>\n",
       "      <td>2430.000000</td>\n",
       "      <td>2430.000000</td>\n",
       "      <td>2430.000000</td>\n",
       "      <td>1127.000000</td>\n",
       "      <td>972.000000</td>\n",
       "      <td>1656.000000</td>\n",
       "      <td>294.000000</td>\n",
       "      <td>2219.000000</td>\n",
       "      <td>...</td>\n",
       "      <td>1158.000000</td>\n",
       "      <td>1350.000000</td>\n",
       "      <td>375.000000</td>\n",
       "      <td>29.000000</td>\n",
       "      <td>218.000000</td>\n",
       "      <td>12.000000</td>\n",
       "      <td>88.000000</td>\n",
       "      <td>2430.000000</td>\n",
       "      <td>2430.000000</td>\n",
       "      <td>2430.000000</td>\n",
       "    </tr>\n",
       "    <tr>\n",
       "      <th>mean</th>\n",
       "      <td>68.953498</td>\n",
       "      <td>10243.557613</td>\n",
       "      <td>6.088889</td>\n",
       "      <td>5.569959</td>\n",
       "      <td>1971.167490</td>\n",
       "      <td>1986.162378</td>\n",
       "      <td>252.889918</td>\n",
       "      <td>651.172101</td>\n",
       "      <td>421.965986</td>\n",
       "      <td>609.144660</td>\n",
       "      <td>...</td>\n",
       "      <td>197.081174</td>\n",
       "      <td>84.765185</td>\n",
       "      <td>144.469333</td>\n",
       "      <td>207.103448</td>\n",
       "      <td>184.247706</td>\n",
       "      <td>486.250000</td>\n",
       "      <td>1551.329545</td>\n",
       "      <td>6.209465</td>\n",
       "      <td>2007.783539</td>\n",
       "      <td>180199.692593</td>\n",
       "    </tr>\n",
       "    <tr>\n",
       "      <th>std</th>\n",
       "      <td>22.083366</td>\n",
       "      <td>8353.925254</td>\n",
       "      <td>1.414621</td>\n",
       "      <td>1.116442</td>\n",
       "      <td>30.207931</td>\n",
       "      <td>22.545815</td>\n",
       "      <td>197.954434</td>\n",
       "      <td>414.707338</td>\n",
       "      <td>297.530907</td>\n",
       "      <td>423.672958</td>\n",
       "      <td>...</td>\n",
       "      <td>118.763772</td>\n",
       "      <td>70.121395</td>\n",
       "      <td>87.062726</td>\n",
       "      <td>99.030423</td>\n",
       "      <td>71.394620</td>\n",
       "      <td>176.928915</td>\n",
       "      <td>2875.912676</td>\n",
       "      <td>2.721942</td>\n",
       "      <td>1.311843</td>\n",
       "      <td>79607.467171</td>\n",
       "    </tr>\n",
       "    <tr>\n",
       "      <th>min</th>\n",
       "      <td>21.000000</td>\n",
       "      <td>1470.000000</td>\n",
       "      <td>1.000000</td>\n",
       "      <td>1.000000</td>\n",
       "      <td>1875.000000</td>\n",
       "      <td>1950.000000</td>\n",
       "      <td>1.000000</td>\n",
       "      <td>2.000000</td>\n",
       "      <td>6.000000</td>\n",
       "      <td>14.000000</td>\n",
       "      <td>...</td>\n",
       "      <td>4.000000</td>\n",
       "      <td>4.000000</td>\n",
       "      <td>16.000000</td>\n",
       "      <td>23.000000</td>\n",
       "      <td>40.000000</td>\n",
       "      <td>144.000000</td>\n",
       "      <td>80.000000</td>\n",
       "      <td>1.000000</td>\n",
       "      <td>2006.000000</td>\n",
       "      <td>12789.000000</td>\n",
       "    </tr>\n",
       "    <tr>\n",
       "      <th>25%</th>\n",
       "      <td>58.000000</td>\n",
       "      <td>7482.000000</td>\n",
       "      <td>5.000000</td>\n",
       "      <td>5.000000</td>\n",
       "      <td>1954.000000</td>\n",
       "      <td>1956.500000</td>\n",
       "      <td>120.000000</td>\n",
       "      <td>357.500000</td>\n",
       "      <td>173.250000</td>\n",
       "      <td>279.000000</td>\n",
       "      <td>...</td>\n",
       "      <td>123.000000</td>\n",
       "      <td>39.000000</td>\n",
       "      <td>89.000000</td>\n",
       "      <td>153.000000</td>\n",
       "      <td>144.000000</td>\n",
       "      <td>425.000000</td>\n",
       "      <td>450.000000</td>\n",
       "      <td>4.000000</td>\n",
       "      <td>2007.000000</td>\n",
       "      <td>129000.000000</td>\n",
       "    </tr>\n",
       "    <tr>\n",
       "      <th>50%</th>\n",
       "      <td>70.000000</td>\n",
       "      <td>9500.000000</td>\n",
       "      <td>6.000000</td>\n",
       "      <td>5.000000</td>\n",
       "      <td>1973.000000</td>\n",
       "      <td>1996.000000</td>\n",
       "      <td>200.000000</td>\n",
       "      <td>608.000000</td>\n",
       "      <td>373.500000</td>\n",
       "      <td>520.000000</td>\n",
       "      <td>...</td>\n",
       "      <td>169.500000</td>\n",
       "      <td>63.000000</td>\n",
       "      <td>135.000000</td>\n",
       "      <td>180.000000</td>\n",
       "      <td>174.500000</td>\n",
       "      <td>515.500000</td>\n",
       "      <td>600.000000</td>\n",
       "      <td>6.000000</td>\n",
       "      <td>2008.000000</td>\n",
       "      <td>160000.000000</td>\n",
       "    </tr>\n",
       "    <tr>\n",
       "      <th>75%</th>\n",
       "      <td>80.000000</td>\n",
       "      <td>11604.500000</td>\n",
       "      <td>7.000000</td>\n",
       "      <td>6.000000</td>\n",
       "      <td>2000.000000</td>\n",
       "      <td>2004.000000</td>\n",
       "      <td>320.500000</td>\n",
       "      <td>877.000000</td>\n",
       "      <td>607.500000</td>\n",
       "      <td>835.500000</td>\n",
       "      <td>...</td>\n",
       "      <td>239.000000</td>\n",
       "      <td>109.500000</td>\n",
       "      <td>192.000000</td>\n",
       "      <td>245.000000</td>\n",
       "      <td>216.000000</td>\n",
       "      <td>564.750000</td>\n",
       "      <td>1225.000000</td>\n",
       "      <td>8.000000</td>\n",
       "      <td>2009.000000</td>\n",
       "      <td>213099.750000</td>\n",
       "    </tr>\n",
       "    <tr>\n",
       "      <th>max</th>\n",
       "      <td>313.000000</td>\n",
       "      <td>215245.000000</td>\n",
       "      <td>10.000000</td>\n",
       "      <td>9.000000</td>\n",
       "      <td>2010.000000</td>\n",
       "      <td>2010.000000</td>\n",
       "      <td>1600.000000</td>\n",
       "      <td>5644.000000</td>\n",
       "      <td>1526.000000</td>\n",
       "      <td>2336.000000</td>\n",
       "      <td>...</td>\n",
       "      <td>1424.000000</td>\n",
       "      <td>742.000000</td>\n",
       "      <td>1012.000000</td>\n",
       "      <td>508.000000</td>\n",
       "      <td>490.000000</td>\n",
       "      <td>800.000000</td>\n",
       "      <td>17000.000000</td>\n",
       "      <td>12.000000</td>\n",
       "      <td>2010.000000</td>\n",
       "      <td>755000.000000</td>\n",
       "    </tr>\n",
       "  </tbody>\n",
       "</table>\n",
       "<p>8 rows × 36 columns</p>\n",
       "</div>"
      ],
      "text/plain": [
       "       Lot Frontage       Lot Area  Overall Qual  Overall Cond   Year Built  \\\n",
       "count   2430.000000    2430.000000   2430.000000   2430.000000  2430.000000   \n",
       "mean      68.953498   10243.557613      6.088889      5.569959  1971.167490   \n",
       "std       22.083366    8353.925254      1.414621      1.116442    30.207931   \n",
       "min       21.000000    1470.000000      1.000000      1.000000  1875.000000   \n",
       "25%       58.000000    7482.000000      5.000000      5.000000  1954.000000   \n",
       "50%       70.000000    9500.000000      6.000000      5.000000  1973.000000   \n",
       "75%       80.000000   11604.500000      7.000000      6.000000  2000.000000   \n",
       "max      313.000000  215245.000000     10.000000      9.000000  2010.000000   \n",
       "\n",
       "       Year Remod/Add  Mas Vnr Area  BsmtFin SF 1  BsmtFin SF 2  Bsmt Unf SF  \\\n",
       "count     1127.000000    972.000000   1656.000000    294.000000  2219.000000   \n",
       "mean      1986.162378    252.889918    651.172101    421.965986   609.144660   \n",
       "std         22.545815    197.954434    414.707338    297.530907   423.672958   \n",
       "min       1950.000000      1.000000      2.000000      6.000000    14.000000   \n",
       "25%       1956.500000    120.000000    357.500000    173.250000   279.000000   \n",
       "50%       1996.000000    200.000000    608.000000    373.500000   520.000000   \n",
       "75%       2004.000000    320.500000    877.000000    607.500000   835.500000   \n",
       "max       2010.000000   1600.000000   5644.000000   1526.000000  2336.000000   \n",
       "\n",
       "       ...  Wood Deck SF  Open Porch SF  Enclosed Porch  3Ssn Porch  \\\n",
       "count  ...   1158.000000    1350.000000      375.000000   29.000000   \n",
       "mean   ...    197.081174      84.765185      144.469333  207.103448   \n",
       "std    ...    118.763772      70.121395       87.062726   99.030423   \n",
       "min    ...      4.000000       4.000000       16.000000   23.000000   \n",
       "25%    ...    123.000000      39.000000       89.000000  153.000000   \n",
       "50%    ...    169.500000      63.000000      135.000000  180.000000   \n",
       "75%    ...    239.000000     109.500000      192.000000  245.000000   \n",
       "max    ...   1424.000000     742.000000     1012.000000  508.000000   \n",
       "\n",
       "       Screen Porch   Pool Area      Misc Val      Mo Sold      Yr Sold  \\\n",
       "count    218.000000   12.000000     88.000000  2430.000000  2430.000000   \n",
       "mean     184.247706  486.250000   1551.329545     6.209465  2007.783539   \n",
       "std       71.394620  176.928915   2875.912676     2.721942     1.311843   \n",
       "min       40.000000  144.000000     80.000000     1.000000  2006.000000   \n",
       "25%      144.000000  425.000000    450.000000     4.000000  2007.000000   \n",
       "50%      174.500000  515.500000    600.000000     6.000000  2008.000000   \n",
       "75%      216.000000  564.750000   1225.000000     8.000000  2009.000000   \n",
       "max      490.000000  800.000000  17000.000000    12.000000  2010.000000   \n",
       "\n",
       "           SalePrice  \n",
       "count    2430.000000  \n",
       "mean   180199.692593  \n",
       "std     79607.467171  \n",
       "min     12789.000000  \n",
       "25%    129000.000000  \n",
       "50%    160000.000000  \n",
       "75%    213099.750000  \n",
       "max    755000.000000  \n",
       "\n",
       "[8 rows x 36 columns]"
      ]
     },
     "execution_count": 33,
     "metadata": {},
     "output_type": "execute_result"
    }
   ],
   "source": [
    "df.describe()"
   ]
  },
  {
   "cell_type": "code",
   "execution_count": 34,
   "metadata": {},
   "outputs": [
    {
     "data": {
      "image/png": "[encoded data removed]",
      "text/plain": [
       "<Figure size 720x576 with 28 Axes>"
      ]
     },
     "metadata": {
      "needs_background": "light"
     },
     "output_type": "display_data"
    }
   ],
   "source": [
    "# A quick look at the distribution of the variables\n",
    "fig, axes = plt.subplots(nrows=4, ncols=7, figsize=(10, 8))\n",
    "\n",
    "for c, ax in zip(df_num.dropna(), axes.ravel()):\n",
    "    ax.hist(df[c], bins=30)\n",
    "    ax.set_title(c)\n",
    "\n",
    "plt.tight_layout() \n",
    "plt.show()"
   ]
  },
  {
   "cell_type": "markdown",
   "metadata": {},
   "source": [
    "Remove outliers based on IQR since the distributions of the numeric features is skewed (see histograms):"
   ]
  },
  {
   "cell_type": "code",
   "execution_count": 35,
   "metadata": {},
   "outputs": [],
   "source": [
    "# use df.loc[:,df_num.columns]\n",
    "Q1 = np.percentile(df.loc[:,df_num.columns], 25, axis=0)\n",
    "Q3 = np.percentile(df.loc[:,df_num.columns], 75, axis=0)\n",
    "IQR = Q3 - Q1\n",
    "lower_bound = Q1 - 1.5 * IQR\n",
    "upper_bound = Q3 + 1.5 * IQR"
   ]
  },
  {
   "cell_type": "code",
   "execution_count": 36,
   "metadata": {},
   "outputs": [
    {
     "name": "stdout",
     "output_type": "stream",
     "text": [
      "Number of outliers detected per feature using a boxplot:\n",
      "Lot Frontage       153\n",
      "Lot Area           108\n",
      "Year Built           6\n",
      "Year Remod/Add       0\n",
      "Mas Vnr Area         0\n",
      "BsmtFin SF 1         0\n",
      "BsmtFin SF 2         0\n",
      "Bsmt Unf SF          0\n",
      "Total Bsmt SF        0\n",
      "1st Flr SF          36\n",
      "2nd Flr SF           0\n",
      "Low Qual Fin SF      0\n",
      "Gr Liv Area         54\n",
      "Garage Yr Blt        0\n",
      "Garage Area          0\n",
      "Wood Deck SF         0\n",
      "Open Porch SF        0\n",
      "Enclosed Porch       0\n",
      "3Ssn Porch           0\n",
      "Screen Porch         0\n",
      "Pool Area            0\n",
      "Misc Val             0\n",
      "Yr Sold              0\n",
      "SalePrice          110\n",
      "dtype: int64\n",
      "Total number of outliers detected: 467\n"
     ]
    }
   ],
   "source": [
    "boxplot_filter = (df.loc[:,df_num.columns] < lower_bound) | (df.loc[:,df_num.columns] > upper_bound)\n",
    "print(\"Number of outliers detected per feature using a boxplot:\")\n",
    "print(boxplot_filter.sum(axis=0))\n",
    "print(\"Total number of outliers detected:\", boxplot_filter.sum(axis=0).sum())"
   ]
  },
  {
   "cell_type": "markdown",
   "metadata": {},
   "source": [
    "In case all outliers are values on different rows the outliers selection would remove about 1/5 of all data points. This is why we should replace the respective values with NaN instead of removing the entire row:"
   ]
  },
  {
   "cell_type": "code",
   "execution_count": 37,
   "metadata": {},
   "outputs": [],
   "source": [
    "for column in boxplot_filter.drop('SalePrice', axis=1).columns:\n",
    "    boxplot_filter_any  = boxplot_filter[boxplot_filter[column] == True].loc[:,[column]].index\n",
    "    df.loc[boxplot_filter_any, column] = np.nan"
   ]
  },
  {
   "cell_type": "markdown",
   "metadata": {},
   "source": [
    "Outliers removed? Apparently Yes because 'Lot Area' has a max value which is much lower than 20 times the 75% quantile"
   ]
  },
  {
   "cell_type": "code",
   "execution_count": 38,
   "metadata": {},
   "outputs": [
    {
     "data": {
      "text/html": [
       "<div>\n",
       "<style scoped>\n",
       "    .dataframe tbody tr th:only-of-type {\n",
       "        vertical-align: middle;\n",
       "    }\n",
       "\n",
       "    .dataframe tbody tr th {\n",
       "        vertical-align: top;\n",
       "    }\n",
       "\n",
       "    .dataframe thead th {\n",
       "        text-align: right;\n",
       "    }\n",
       "</style>\n",
       "<table border=\"1\" class=\"dataframe\">\n",
       "  <thead>\n",
       "    <tr style=\"text-align: right;\">\n",
       "      <th></th>\n",
       "      <th>Lot Frontage</th>\n",
       "      <th>Lot Area</th>\n",
       "      <th>Overall Qual</th>\n",
       "      <th>Overall Cond</th>\n",
       "      <th>Year Built</th>\n",
       "      <th>Year Remod/Add</th>\n",
       "      <th>Mas Vnr Area</th>\n",
       "      <th>BsmtFin SF 1</th>\n",
       "      <th>BsmtFin SF 2</th>\n",
       "      <th>Bsmt Unf SF</th>\n",
       "      <th>...</th>\n",
       "      <th>Wood Deck SF</th>\n",
       "      <th>Open Porch SF</th>\n",
       "      <th>Enclosed Porch</th>\n",
       "      <th>3Ssn Porch</th>\n",
       "      <th>Screen Porch</th>\n",
       "      <th>Pool Area</th>\n",
       "      <th>Misc Val</th>\n",
       "      <th>Mo Sold</th>\n",
       "      <th>Yr Sold</th>\n",
       "      <th>SalePrice</th>\n",
       "    </tr>\n",
       "  </thead>\n",
       "  <tbody>\n",
       "    <tr>\n",
       "      <th>count</th>\n",
       "      <td>2277.000000</td>\n",
       "      <td>2322.000000</td>\n",
       "      <td>2430.000000</td>\n",
       "      <td>2430.000000</td>\n",
       "      <td>2424.000000</td>\n",
       "      <td>1127.000000</td>\n",
       "      <td>972.000000</td>\n",
       "      <td>1656.000000</td>\n",
       "      <td>294.000000</td>\n",
       "      <td>2219.000000</td>\n",
       "      <td>...</td>\n",
       "      <td>1158.000000</td>\n",
       "      <td>1350.000000</td>\n",
       "      <td>375.000000</td>\n",
       "      <td>29.000000</td>\n",
       "      <td>218.000000</td>\n",
       "      <td>12.000000</td>\n",
       "      <td>88.000000</td>\n",
       "      <td>2430.000000</td>\n",
       "      <td>2430.000000</td>\n",
       "      <td>2430.000000</td>\n",
       "    </tr>\n",
       "    <tr>\n",
       "      <th>mean</th>\n",
       "      <td>68.521739</td>\n",
       "      <td>9220.711025</td>\n",
       "      <td>6.088889</td>\n",
       "      <td>5.569959</td>\n",
       "      <td>1971.395627</td>\n",
       "      <td>1986.162378</td>\n",
       "      <td>252.889918</td>\n",
       "      <td>651.172101</td>\n",
       "      <td>421.965986</td>\n",
       "      <td>609.144660</td>\n",
       "      <td>...</td>\n",
       "      <td>197.081174</td>\n",
       "      <td>84.765185</td>\n",
       "      <td>144.469333</td>\n",
       "      <td>207.103448</td>\n",
       "      <td>184.247706</td>\n",
       "      <td>486.250000</td>\n",
       "      <td>1551.329545</td>\n",
       "      <td>6.209465</td>\n",
       "      <td>2007.783539</td>\n",
       "      <td>180199.692593</td>\n",
       "    </tr>\n",
       "    <tr>\n",
       "      <th>std</th>\n",
       "      <td>15.988039</td>\n",
       "      <td>3249.449364</td>\n",
       "      <td>1.414621</td>\n",
       "      <td>1.116442</td>\n",
       "      <td>29.894529</td>\n",
       "      <td>22.545815</td>\n",
       "      <td>197.954434</td>\n",
       "      <td>414.707338</td>\n",
       "      <td>297.530907</td>\n",
       "      <td>423.672958</td>\n",
       "      <td>...</td>\n",
       "      <td>118.763772</td>\n",
       "      <td>70.121395</td>\n",
       "      <td>87.062726</td>\n",
       "      <td>99.030423</td>\n",
       "      <td>71.394620</td>\n",
       "      <td>176.928915</td>\n",
       "      <td>2875.912676</td>\n",
       "      <td>2.721942</td>\n",
       "      <td>1.311843</td>\n",
       "      <td>79607.467171</td>\n",
       "    </tr>\n",
       "    <tr>\n",
       "      <th>min</th>\n",
       "      <td>25.000000</td>\n",
       "      <td>1470.000000</td>\n",
       "      <td>1.000000</td>\n",
       "      <td>1.000000</td>\n",
       "      <td>1885.000000</td>\n",
       "      <td>1950.000000</td>\n",
       "      <td>1.000000</td>\n",
       "      <td>2.000000</td>\n",
       "      <td>6.000000</td>\n",
       "      <td>14.000000</td>\n",
       "      <td>...</td>\n",
       "      <td>4.000000</td>\n",
       "      <td>4.000000</td>\n",
       "      <td>16.000000</td>\n",
       "      <td>23.000000</td>\n",
       "      <td>40.000000</td>\n",
       "      <td>144.000000</td>\n",
       "      <td>80.000000</td>\n",
       "      <td>1.000000</td>\n",
       "      <td>2006.000000</td>\n",
       "      <td>12789.000000</td>\n",
       "    </tr>\n",
       "    <tr>\n",
       "      <th>25%</th>\n",
       "      <td>60.000000</td>\n",
       "      <td>7316.500000</td>\n",
       "      <td>5.000000</td>\n",
       "      <td>5.000000</td>\n",
       "      <td>1954.000000</td>\n",
       "      <td>1956.500000</td>\n",
       "      <td>120.000000</td>\n",
       "      <td>357.500000</td>\n",
       "      <td>173.250000</td>\n",
       "      <td>279.000000</td>\n",
       "      <td>...</td>\n",
       "      <td>123.000000</td>\n",
       "      <td>39.000000</td>\n",
       "      <td>89.000000</td>\n",
       "      <td>153.000000</td>\n",
       "      <td>144.000000</td>\n",
       "      <td>425.000000</td>\n",
       "      <td>450.000000</td>\n",
       "      <td>4.000000</td>\n",
       "      <td>2007.000000</td>\n",
       "      <td>129000.000000</td>\n",
       "    </tr>\n",
       "    <tr>\n",
       "      <th>50%</th>\n",
       "      <td>70.000000</td>\n",
       "      <td>9301.500000</td>\n",
       "      <td>6.000000</td>\n",
       "      <td>5.000000</td>\n",
       "      <td>1973.000000</td>\n",
       "      <td>1996.000000</td>\n",
       "      <td>200.000000</td>\n",
       "      <td>608.000000</td>\n",
       "      <td>373.500000</td>\n",
       "      <td>520.000000</td>\n",
       "      <td>...</td>\n",
       "      <td>169.500000</td>\n",
       "      <td>63.000000</td>\n",
       "      <td>135.000000</td>\n",
       "      <td>180.000000</td>\n",
       "      <td>174.500000</td>\n",
       "      <td>515.500000</td>\n",
       "      <td>600.000000</td>\n",
       "      <td>6.000000</td>\n",
       "      <td>2008.000000</td>\n",
       "      <td>160000.000000</td>\n",
       "    </tr>\n",
       "    <tr>\n",
       "      <th>75%</th>\n",
       "      <td>80.000000</td>\n",
       "      <td>11191.500000</td>\n",
       "      <td>7.000000</td>\n",
       "      <td>6.000000</td>\n",
       "      <td>2000.250000</td>\n",
       "      <td>2004.000000</td>\n",
       "      <td>320.500000</td>\n",
       "      <td>877.000000</td>\n",
       "      <td>607.500000</td>\n",
       "      <td>835.500000</td>\n",
       "      <td>...</td>\n",
       "      <td>239.000000</td>\n",
       "      <td>109.500000</td>\n",
       "      <td>192.000000</td>\n",
       "      <td>245.000000</td>\n",
       "      <td>216.000000</td>\n",
       "      <td>564.750000</td>\n",
       "      <td>1225.000000</td>\n",
       "      <td>8.000000</td>\n",
       "      <td>2009.000000</td>\n",
       "      <td>213099.750000</td>\n",
       "    </tr>\n",
       "    <tr>\n",
       "      <th>max</th>\n",
       "      <td>113.000000</td>\n",
       "      <td>17778.000000</td>\n",
       "      <td>10.000000</td>\n",
       "      <td>9.000000</td>\n",
       "      <td>2010.000000</td>\n",
       "      <td>2010.000000</td>\n",
       "      <td>1600.000000</td>\n",
       "      <td>5644.000000</td>\n",
       "      <td>1526.000000</td>\n",
       "      <td>2336.000000</td>\n",
       "      <td>...</td>\n",
       "      <td>1424.000000</td>\n",
       "      <td>742.000000</td>\n",
       "      <td>1012.000000</td>\n",
       "      <td>508.000000</td>\n",
       "      <td>490.000000</td>\n",
       "      <td>800.000000</td>\n",
       "      <td>17000.000000</td>\n",
       "      <td>12.000000</td>\n",
       "      <td>2010.000000</td>\n",
       "      <td>755000.000000</td>\n",
       "    </tr>\n",
       "  </tbody>\n",
       "</table>\n",
       "<p>8 rows × 36 columns</p>\n",
       "</div>"
      ],
      "text/plain": [
       "       Lot Frontage      Lot Area  Overall Qual  Overall Cond   Year Built  \\\n",
       "count   2277.000000   2322.000000   2430.000000   2430.000000  2424.000000   \n",
       "mean      68.521739   9220.711025      6.088889      5.569959  1971.395627   \n",
       "std       15.988039   3249.449364      1.414621      1.116442    29.894529   \n",
       "min       25.000000   1470.000000      1.000000      1.000000  1885.000000   \n",
       "25%       60.000000   7316.500000      5.000000      5.000000  1954.000000   \n",
       "50%       70.000000   9301.500000      6.000000      5.000000  1973.000000   \n",
       "75%       80.000000  11191.500000      7.000000      6.000000  2000.250000   \n",
       "max      113.000000  17778.000000     10.000000      9.000000  2010.000000   \n",
       "\n",
       "       Year Remod/Add  Mas Vnr Area  BsmtFin SF 1  BsmtFin SF 2  Bsmt Unf SF  \\\n",
       "count     1127.000000    972.000000   1656.000000    294.000000  2219.000000   \n",
       "mean      1986.162378    252.889918    651.172101    421.965986   609.144660   \n",
       "std         22.545815    197.954434    414.707338    297.530907   423.672958   \n",
       "min       1950.000000      1.000000      2.000000      6.000000    14.000000   \n",
       "25%       1956.500000    120.000000    357.500000    173.250000   279.000000   \n",
       "50%       1996.000000    200.000000    608.000000    373.500000   520.000000   \n",
       "75%       2004.000000    320.500000    877.000000    607.500000   835.500000   \n",
       "max       2010.000000   1600.000000   5644.000000   1526.000000  2336.000000   \n",
       "\n",
       "       ...  Wood Deck SF  Open Porch SF  Enclosed Porch  3Ssn Porch  \\\n",
       "count  ...   1158.000000    1350.000000      375.000000   29.000000   \n",
       "mean   ...    197.081174      84.765185      144.469333  207.103448   \n",
       "std    ...    118.763772      70.121395       87.062726   99.030423   \n",
       "min    ...      4.000000       4.000000       16.000000   23.000000   \n",
       "25%    ...    123.000000      39.000000       89.000000  153.000000   \n",
       "50%    ...    169.500000      63.000000      135.000000  180.000000   \n",
       "75%    ...    239.000000     109.500000      192.000000  245.000000   \n",
       "max    ...   1424.000000     742.000000     1012.000000  508.000000   \n",
       "\n",
       "       Screen Porch   Pool Area      Misc Val      Mo Sold      Yr Sold  \\\n",
       "count    218.000000   12.000000     88.000000  2430.000000  2430.000000   \n",
       "mean     184.247706  486.250000   1551.329545     6.209465  2007.783539   \n",
       "std       71.394620  176.928915   2875.912676     2.721942     1.311843   \n",
       "min       40.000000  144.000000     80.000000     1.000000  2006.000000   \n",
       "25%      144.000000  425.000000    450.000000     4.000000  2007.000000   \n",
       "50%      174.500000  515.500000    600.000000     6.000000  2008.000000   \n",
       "75%      216.000000  564.750000   1225.000000     8.000000  2009.000000   \n",
       "max      490.000000  800.000000  17000.000000    12.000000  2010.000000   \n",
       "\n",
       "           SalePrice  \n",
       "count    2430.000000  \n",
       "mean   180199.692593  \n",
       "std     79607.467171  \n",
       "min     12789.000000  \n",
       "25%    129000.000000  \n",
       "50%    160000.000000  \n",
       "75%    213099.750000  \n",
       "max    755000.000000  \n",
       "\n",
       "[8 rows x 36 columns]"
      ]
     },
     "execution_count": 38,
     "metadata": {},
     "output_type": "execute_result"
    }
   ],
   "source": [
    "df.describe()"
   ]
  },
  {
   "cell_type": "code",
   "execution_count": 39,
   "metadata": {},
   "outputs": [
    {
     "data": {
      "text/plain": [
       "<matplotlib.collections.PathCollection at 0x2221c9029d0>"
      ]
     },
     "execution_count": 39,
     "metadata": {},
     "output_type": "execute_result"
    },
    {
     "data": {
      "image/png": "[encoded data removed]",
      "text/plain": [
       "<Figure size 432x288 with 1 Axes>"
      ]
     },
     "metadata": {
      "needs_background": "light"
     },
     "output_type": "display_data"
    }
   ],
   "source": [
    "plt.scatter(df.SalePrice, df['Gr Liv Area'],alpha=0.3)"
   ]
  },
  {
   "cell_type": "markdown",
   "metadata": {},
   "source": [
    "The 5 unusual observations have been removed by setting to NaN. Let's check for ther other variables:"
   ]
  },
  {
   "cell_type": "code",
   "execution_count": 40,
   "metadata": {},
   "outputs": [
    {
     "data": {
      "image/png": "[encoded data removed]",
      "text/plain": [
       "<Figure size 720x576 with 28 Axes>"
      ]
     },
     "metadata": {
      "needs_background": "light"
     },
     "output_type": "display_data"
    }
   ],
   "source": [
    "fig, axes = plt.subplots(nrows=4, ncols=7, figsize=(10, 8))\n",
    "\n",
    "for column, ax in zip(df_num.columns, axes.ravel()):\n",
    "    ax.scatter(df_num.SalePrice, df[column],alpha=0.3)\n",
    "    ax.set_title(column)\n",
    "\n",
    "plt.tight_layout() \n",
    "plt.show()"
   ]
  },
  {
   "cell_type": "markdown",
   "metadata": {},
   "source": [
    "By visual inspection we can still spot a few outliers. Let's set them to NaN as well:"
   ]
  },
  {
   "cell_type": "code",
   "execution_count": 41,
   "metadata": {},
   "outputs": [],
   "source": [
    "df.loc[df[df['BsmtFin SF 1']>3000].loc[:,['BsmtFin SF 1']].index, 'BsmtFin SF 1']= np.nan\n",
    "df.loc[df[df['Total Bsmt SF']>4000].loc[:,['Total Bsmt SF']].index, 'Total Bsmt SF']= np.nan\n",
    "df.loc[df[df['Low Qual Fin SF']>1000].loc[:,['Low Qual Fin SF']].index, 'Low Qual Fin SF']= np.nan\n",
    "df.loc[df[df['Wood Deck SF']>1000].loc[:,['Wood Deck SF']].index, 'Wood Deck SF']= np.nan\n",
    "df.loc[df[df['Enclosed Porch']>900].loc[:,['Enclosed Porch']].index, 'Enclosed Porch']= np.nan\n",
    "df.loc[df[df['Misc Val']>10000].loc[:,['Misc Val']].index, 'Misc Val']= np.nan"
   ]
  },
  {
   "cell_type": "markdown",
   "metadata": {},
   "source": [
    "After the continuous variables we can inspect the non-continuous variables for potential outliers:"
   ]
  },
  {
   "cell_type": "code",
   "execution_count": 42,
   "metadata": {},
   "outputs": [
    {
     "name": "stdout",
     "output_type": "stream",
     "text": [
      "Bsmt Full Bath [0.0, 1.0, 2.0, 3.0, nan]\n",
      "Bsmt Half Bath [0.0, 1.0, 2.0, nan]\n",
      "Full Bath [0, 1, 2, 3, 4]\n",
      "Half Bath [0, 1, 2]\n",
      "Bedroom AbvGr [0, 1, 2, 3, 4, 5, 6, 8]\n",
      "Kitchen AbvGr [0, 1, 2, 3]\n",
      "TotRms AbvGrd [2, 3, 4, 5, 6, 7, 8, 9, 10, 11, 12, 13, 14, 15]\n",
      "Fireplaces [0, 1, 2, 3, 4]\n",
      "Garage Cars [0.0, 1.0, 2.0, 3.0, 4.0, nan]\n",
      "Mo Sold [1, 2, 3, 4, 5, 6, 7, 8, 9, 10, 11, 12]\n",
      "Overall Qual [1, 2, 3, 4, 5, 6, 7, 8, 9, 10]\n",
      "Overall Cond [1, 2, 3, 4, 5, 6, 7, 8, 9]\n"
     ]
    }
   ],
   "source": [
    "columns = df_discrete.columns\n",
    "for column in columns:\n",
    "    print(column, sorted(set(df[column].unique())))"
   ]
  },
  {
   "cell_type": "markdown",
   "metadata": {},
   "source": [
    "No outlier or unusual value detected (e.g. TotRms AbvGrd of 0 would not make sense)"
   ]
  },
  {
   "cell_type": "code",
   "execution_count": 43,
   "metadata": {},
   "outputs": [
    {
     "name": "stdout",
     "output_type": "stream",
     "text": [
      "Alley [nan 'Grvl' 'Pave']\n",
      "Bsmt Qual ['Gd' 'TA' 'Ex' nan 'Fa' 'Po']\n",
      "Bsmt Cond ['TA' 'Gd' 'Fa' nan 'Ex' 'Po']\n",
      "Bsmt Exposure ['No' 'Av' 'Mn' 'Gd' nan]\n",
      "BsmtFin Type 1 ['GLQ' 'Unf' 'Rec' 'LwQ' 'BLQ' 'ALQ' nan]\n",
      "BsmtFin Type 2 ['Unf' 'LwQ' 'BLQ' nan 'Rec' 'ALQ' 'GLQ']\n",
      "Fireplace Qu ['TA' 'Gd' nan 'Fa' 'Po' 'Ex']\n",
      "Garage Type ['BuiltIn' 'Attchd' 'Detchd' nan '2Types' 'Basment' 'CarPort']\n",
      "Garage Finish ['Fin' 'Unf' 'RFn' nan]\n",
      "Garage Qual ['TA' 'Fa' nan 'Gd' 'Ex' 'Po']\n",
      "Garage Cond ['TA' nan 'Fa' 'Gd' 'Ex' 'Po']\n",
      "Pool QC [nan 'Fa' 'Ex' 'TA' 'Gd']\n",
      "Fence [nan 'MnPrv' 'MnWw' 'GdPrv' 'GdWo']\n",
      "Misc Feature [nan 'Shed' 'Othr' 'Elev' 'Gar2' 'TenC']\n"
     ]
    }
   ],
   "source": [
    "columns = df_ordinals.columns\n",
    "for column in columns:\n",
    "    print(column, df[column].unique())"
   ]
  },
  {
   "cell_type": "markdown",
   "metadata": {},
   "source": [
    "No outlier or unusual value detected"
   ]
  },
  {
   "cell_type": "code",
   "execution_count": 44,
   "metadata": {},
   "outputs": [
    {
     "name": "stdout",
     "output_type": "stream",
     "text": [
      "Order [484 2586 2289 ... 1654 2608 2733]\n",
      "PID [528275070 535305120 923228250 ... 527353080 535402070 905402110]\n",
      "MS SubClass [60 20 160 190 50 70 120 30 90 85 45 80 180 75 40 150]\n",
      "MS Zoning ['RL' 'RM' 'FV' 'I (all)' 'C (all)' 'RH' 'A (agr)']\n",
      "Street ['Pave' 'Grvl']\n",
      "Alley [nan 'Grvl' 'Pave']\n",
      "Lot Shape ['IR1' 'Reg' 'IR2' 'IR3']\n",
      "Land Contour ['Lvl' 'Bnk' 'HLS' 'Low']\n",
      "Utilities ['AllPub' 'NoSewr' 'NoSeWa']\n",
      "Lot Config ['Inside' 'Corner' 'CulDSac' 'FR2' 'FR3']\n",
      "Land Slope ['Gtl' 'Mod' 'Sev']\n",
      "Neighborhood ['Gilbert' 'NAmes' 'MeadowV' 'OldTown' 'SawyerW' 'Somerst' 'Timber'\n",
      " 'Edwards' 'NWAmes' 'Mitchel' 'CollgCr' 'NridgHt' 'IDOTRR' 'NoRidge'\n",
      " 'GrnHill' 'Crawfor' 'StoneBr' 'BrDale' 'BrkSide' 'Landmrk' 'SWISU'\n",
      " 'Sawyer' 'ClearCr' 'Greens' 'Veenker' 'Blueste' 'NPkVill' 'Blmngtn']\n",
      "Condition 1 ['Norm' 'Feedr' 'PosN' 'RRAe' 'Artery' 'PosA' 'RRAn' 'RRNn' 'RRNe']\n",
      "Condition 2 [nan 'Norm' 'Feedr' 'Artery' 'RRNn' 'RRAe' 'PosA' 'RRAn']\n",
      "Bldg Type ['1Fam' 'Twnhs' '2fmCon' 'TwnhsE' 'Duplex']\n",
      "House Style ['2Story' '1Story' '2.5Unf' '1.5Fin' 'SFoyer' '1.5Unf' 'SLvl' '2.5Fin']\n",
      "Roof Style ['Gable' 'Hip' 'Flat' 'Gambrel' 'Mansard' 'Shed']\n",
      "Roof Matl ['CompShg' 'Tar&Grv' 'WdShake' 'WdShngl' 'Metal' 'ClyTile' 'Membran']\n",
      "Exterior 1st ['VinylSd' 'Wd Sdng' 'CemntBd' 'BrkFace' 'MetalSd' 'Plywood' 'HdBoard'\n",
      " 'Stucco' 'Stone' 'CBlock' 'AsbShng' 'WdShing' 'BrkComm' 'PreCast'\n",
      " 'AsphShn' 'ImStucc']\n",
      "Exterior 2nd [nan 'CmentBd' 'Plywood' 'Wd Sdng' 'Stucco' 'Wd Shng' 'HdBoard' 'Stone'\n",
      " 'ImStucc' 'CBlock' 'Brk Cmn' 'AsbShng' 'VinylSd' 'AsphShn' 'MetalSd'\n",
      " 'BrkFace']\n",
      "Mas Vnr Type ['None' 'BrkFace' 'Stone' nan 'BrkCmn' 'CBlock']\n",
      "Exter Qual ['Gd' 'TA' 'Fa' 'Ex']\n",
      "Exter Cond ['TA' 'Gd' 'Fa' 'Ex' 'Po']\n",
      "Foundation ['PConc' 'CBlock' 'BrkTil' 'Slab' 'Stone' 'Wood']\n",
      "Bsmt Qual ['Gd' 'TA' 'Ex' nan 'Fa' 'Po']\n",
      "Bsmt Cond ['TA' 'Gd' 'Fa' nan 'Ex' 'Po']\n",
      "Bsmt Exposure ['No' 'Av' 'Mn' 'Gd' nan]\n",
      "BsmtFin Type 1 ['GLQ' 'Unf' 'Rec' 'LwQ' 'BLQ' 'ALQ' nan]\n",
      "BsmtFin Type 2 ['Unf' 'LwQ' 'BLQ' nan 'Rec' 'ALQ' 'GLQ']\n",
      "Heating ['GasA' 'GasW' 'Wall' 'Grav' 'OthW' 'Floor']\n",
      "Heating QC ['Ex' 'TA' 'Fa' 'Gd' 'Po']\n",
      "Central Air ['Y' 'N']\n",
      "Electrical ['SBrkr' 'FuseF' 'FuseA' 'FuseP' nan 'Mix']\n",
      "Kitchen Qual ['Gd' 'TA' 'Ex' 'Fa' 'Po']\n",
      "Functional ['Typ' 'Mod' 'Maj1' 'Min2' 'Min1' 'Maj2' 'Sal' 'Sev']\n",
      "Fireplace Qu ['TA' 'Gd' nan 'Fa' 'Po' 'Ex']\n",
      "Garage Type ['BuiltIn' 'Attchd' 'Detchd' nan '2Types' 'Basment' 'CarPort']\n",
      "Garage Finish ['Fin' 'Unf' 'RFn' nan]\n",
      "Garage Qual ['TA' 'Fa' nan 'Gd' 'Ex' 'Po']\n",
      "Garage Cond ['TA' nan 'Fa' 'Gd' 'Ex' 'Po']\n",
      "Paved Drive ['Y' 'N' 'P']\n",
      "Pool QC [nan 'Fa' 'Ex' 'TA' 'Gd']\n",
      "Fence [nan 'MnPrv' 'MnWw' 'GdPrv' 'GdWo']\n",
      "Misc Feature [nan 'Shed' 'Othr' 'Elev' 'Gar2' 'TenC']\n",
      "Sale Type ['WD ' 'New' 'ConLD' 'ConLI' 'CWD' 'COD' 'Oth' 'Con' 'ConLw' 'VWD']\n",
      "Sale Condition ['Normal' 'Family' 'Partial' 'Abnorml' 'Alloca' 'AdjLand']\n"
     ]
    }
   ],
   "source": [
    "columns = df.select_dtypes('object').columns\n",
    "for column in columns:\n",
    "    print(column, df[column].unique())"
   ]
  },
  {
   "cell_type": "markdown",
   "metadata": {},
   "source": [
    "No outlier or unusual value detected"
   ]
  },
  {
   "cell_type": "markdown",
   "metadata": {},
   "source": [
    "## Feature encoding"
   ]
  },
  {
   "cell_type": "markdown",
   "metadata": {},
   "source": [
    "Your analysis should include the necessary feature encoding steps. The documentation.txt file labels each variable with its type. For categorical ones, it uses the ordinal, nominal and discrete classification.\n",
    "\n",
    "- Ordinal variables - you can order the categories\n",
    "- Nominal variables - no possible ordering\n",
    "- Discrete variables - categories are integer values\n",
    "\n",
    "The encoding depends on the type of variable and its meaning. For instance, the kitchen quality variable is on a scale from excellent to poor. Hence, it's an ordinal variable, and you can choose to apply one-hot encoding or define a numerical scale ex. excellent corresponds to 5 and poor to 1. In any case, justify your choices!"
   ]
  },
  {
   "cell_type": "markdown",
   "metadata": {},
   "source": [
    "One-hot encoding is a common transformation for (categorial) features that have **non-linear** relationships with the target to add more flexibility to linear models. For ordinal variables we should apply hot-encoding instead of defining a numerical scale. The reason is that a numerical scale is not really useful in this format (we compared the two R^2 coefficients in the example with bike-small.csv - both are very close whereas encoding the variable has resulted in a much higher score). In addition we can also include 'Yr Sold' in the hot-encoding."
   ]
  },
  {
   "cell_type": "markdown",
   "metadata": {},
   "source": [
    "**One-Hot-Encoding (OHE) variables**: \n",
    "> 'MS SubClass', 'MS Zoning', 'Street', 'Alley',\n",
    "       'Lot Shape', 'Land Contour', 'Utilities', 'Lot Config', 'Land Slope',\n",
    "       'Neighborhood', 'Condition 1', 'Condition 2', 'Bldg Type',\n",
    "       'House Style', 'Roof Style', 'Roof Matl', 'Exterior 1st',\n",
    "       'Exterior 2nd', 'Mas Vnr Type', 'Exter Qual', 'Exter Cond',\n",
    "       'Foundation', 'Bsmt Qual', 'Bsmt Cond', 'Bsmt Exposure',\n",
    "       'BsmtFin Type 1', 'BsmtFin Type 2', 'Heating', 'Heating QC',\n",
    "       'Central Air', 'Electrical', 'Kitchen Qual', 'Functional',\n",
    "       'Fireplace Qu', 'Garage Type', 'Garage Finish', 'Garage Qual',\n",
    "       'Garage Cond', 'Paved Drive', 'Pool QC', 'Fence', 'Misc Feature',\n",
    "       'Sale Type', 'Sale Condition', 'Bsmt Full Bath', 'Bsmt Half Bath', 'Full Bath', 'Half Bath', 'Bedroom AbvGr', 'Kitchen AbvGr', 'TotRms AbvGrd', 'Fireplaces', 'Garage Cars', 'Mo Sold', 'Yr Sold' "
   ]
  },
  {
   "cell_type": "code",
   "execution_count": 45,
   "metadata": {},
   "outputs": [],
   "source": [
    "df_ohe = df.loc[:,['MS SubClass', 'MS Zoning', 'Street', 'Alley', 'Lot Shape', 'Land Contour', 'Utilities', 'Lot Config', 'Land Slope', 'Neighborhood', 'Condition 1', 'Condition 2', 'Bldg Type', 'House Style', 'Roof Style', 'Roof Matl', 'Exterior 1st', 'Exterior 2nd', 'Mas Vnr Type', 'Exter Qual', 'Exter Cond', 'Foundation', 'Bsmt Qual', 'Bsmt Cond', 'Bsmt Exposure', 'BsmtFin Type 1', 'BsmtFin Type 2', 'Heating', 'Heating QC', 'Central Air', 'Electrical', 'Kitchen Qual', 'Functional', 'Fireplace Qu', 'Garage Type', 'Garage Finish', 'Garage Qual', 'Garage Cond', 'Paved Drive', 'Pool QC', 'Fence', 'Misc Feature', 'Sale Type', 'Sale Condition', 'Bsmt Full Bath', 'Bsmt Half Bath', 'Full Bath', 'Half Bath', 'Bedroom AbvGr', 'Kitchen AbvGr', 'TotRms AbvGrd', 'Fireplaces', 'Garage Cars', 'Mo Sold', 'Yr Sold']]"
   ]
  },
  {
   "cell_type": "code",
   "execution_count": 46,
   "metadata": {},
   "outputs": [
    {
     "data": {
      "text/html": [
       "<div>\n",
       "<style scoped>\n",
       "    .dataframe tbody tr th:only-of-type {\n",
       "        vertical-align: middle;\n",
       "    }\n",
       "\n",
       "    .dataframe tbody tr th {\n",
       "        vertical-align: top;\n",
       "    }\n",
       "\n",
       "    .dataframe thead th {\n",
       "        text-align: right;\n",
       "    }\n",
       "</style>\n",
       "<table border=\"1\" class=\"dataframe\">\n",
       "  <thead>\n",
       "    <tr style=\"text-align: right;\">\n",
       "      <th></th>\n",
       "      <th>Order</th>\n",
       "      <th>PID</th>\n",
       "      <th>Lot Frontage</th>\n",
       "      <th>Lot Area</th>\n",
       "      <th>Overall Qual</th>\n",
       "      <th>Overall Cond</th>\n",
       "      <th>Year Built</th>\n",
       "      <th>Year Remod/Add</th>\n",
       "      <th>Mas Vnr Area</th>\n",
       "      <th>BsmtFin SF 1</th>\n",
       "      <th>...</th>\n",
       "      <th>Mo Sold_7</th>\n",
       "      <th>Mo Sold_8</th>\n",
       "      <th>Mo Sold_9</th>\n",
       "      <th>Mo Sold_10</th>\n",
       "      <th>Mo Sold_11</th>\n",
       "      <th>Mo Sold_12</th>\n",
       "      <th>Yr Sold_2007.0</th>\n",
       "      <th>Yr Sold_2008.0</th>\n",
       "      <th>Yr Sold_2009.0</th>\n",
       "      <th>Yr Sold_2010.0</th>\n",
       "    </tr>\n",
       "  </thead>\n",
       "  <tbody>\n",
       "    <tr>\n",
       "      <th>0</th>\n",
       "      <td>484</td>\n",
       "      <td>528275070</td>\n",
       "      <td>70.0</td>\n",
       "      <td>8795.0</td>\n",
       "      <td>7</td>\n",
       "      <td>5</td>\n",
       "      <td>2000.0</td>\n",
       "      <td>NaN</td>\n",
       "      <td>NaN</td>\n",
       "      <td>300.0</td>\n",
       "      <td>...</td>\n",
       "      <td>0</td>\n",
       "      <td>0</td>\n",
       "      <td>0</td>\n",
       "      <td>0</td>\n",
       "      <td>0</td>\n",
       "      <td>0</td>\n",
       "      <td>0</td>\n",
       "      <td>0</td>\n",
       "      <td>1</td>\n",
       "      <td>0</td>\n",
       "    </tr>\n",
       "    <tr>\n",
       "      <th>1</th>\n",
       "      <td>2586</td>\n",
       "      <td>535305120</td>\n",
       "      <td>75.0</td>\n",
       "      <td>10170.0</td>\n",
       "      <td>6</td>\n",
       "      <td>6</td>\n",
       "      <td>1951.0</td>\n",
       "      <td>NaN</td>\n",
       "      <td>522.0</td>\n",
       "      <td>NaN</td>\n",
       "      <td>...</td>\n",
       "      <td>0</td>\n",
       "      <td>0</td>\n",
       "      <td>0</td>\n",
       "      <td>0</td>\n",
       "      <td>0</td>\n",
       "      <td>0</td>\n",
       "      <td>0</td>\n",
       "      <td>0</td>\n",
       "      <td>0</td>\n",
       "      <td>0</td>\n",
       "    </tr>\n",
       "    <tr>\n",
       "      <th>2</th>\n",
       "      <td>2289</td>\n",
       "      <td>923228250</td>\n",
       "      <td>NaN</td>\n",
       "      <td>2001.0</td>\n",
       "      <td>4</td>\n",
       "      <td>5</td>\n",
       "      <td>1970.0</td>\n",
       "      <td>NaN</td>\n",
       "      <td>80.0</td>\n",
       "      <td>NaN</td>\n",
       "      <td>...</td>\n",
       "      <td>0</td>\n",
       "      <td>0</td>\n",
       "      <td>0</td>\n",
       "      <td>0</td>\n",
       "      <td>0</td>\n",
       "      <td>0</td>\n",
       "      <td>1</td>\n",
       "      <td>0</td>\n",
       "      <td>0</td>\n",
       "      <td>0</td>\n",
       "    </tr>\n",
       "    <tr>\n",
       "      <th>3</th>\n",
       "      <td>142</td>\n",
       "      <td>535152150</td>\n",
       "      <td>70.0</td>\n",
       "      <td>10552.0</td>\n",
       "      <td>5</td>\n",
       "      <td>5</td>\n",
       "      <td>1959.0</td>\n",
       "      <td>NaN</td>\n",
       "      <td>NaN</td>\n",
       "      <td>1018.0</td>\n",
       "      <td>...</td>\n",
       "      <td>0</td>\n",
       "      <td>0</td>\n",
       "      <td>0</td>\n",
       "      <td>0</td>\n",
       "      <td>0</td>\n",
       "      <td>0</td>\n",
       "      <td>0</td>\n",
       "      <td>0</td>\n",
       "      <td>0</td>\n",
       "      <td>1</td>\n",
       "    </tr>\n",
       "    <tr>\n",
       "      <th>4</th>\n",
       "      <td>2042</td>\n",
       "      <td>903475060</td>\n",
       "      <td>60.0</td>\n",
       "      <td>10120.0</td>\n",
       "      <td>7</td>\n",
       "      <td>4</td>\n",
       "      <td>1910.0</td>\n",
       "      <td>1950.0</td>\n",
       "      <td>NaN</td>\n",
       "      <td>NaN</td>\n",
       "      <td>...</td>\n",
       "      <td>0</td>\n",
       "      <td>0</td>\n",
       "      <td>0</td>\n",
       "      <td>0</td>\n",
       "      <td>0</td>\n",
       "      <td>0</td>\n",
       "      <td>1</td>\n",
       "      <td>0</td>\n",
       "      <td>0</td>\n",
       "      <td>0</td>\n",
       "    </tr>\n",
       "    <tr>\n",
       "      <th>...</th>\n",
       "      <td>...</td>\n",
       "      <td>...</td>\n",
       "      <td>...</td>\n",
       "      <td>...</td>\n",
       "      <td>...</td>\n",
       "      <td>...</td>\n",
       "      <td>...</td>\n",
       "      <td>...</td>\n",
       "      <td>...</td>\n",
       "      <td>...</td>\n",
       "      <td>...</td>\n",
       "      <td>...</td>\n",
       "      <td>...</td>\n",
       "      <td>...</td>\n",
       "      <td>...</td>\n",
       "      <td>...</td>\n",
       "      <td>...</td>\n",
       "      <td>...</td>\n",
       "      <td>...</td>\n",
       "      <td>...</td>\n",
       "      <td>...</td>\n",
       "    </tr>\n",
       "    <tr>\n",
       "      <th>2425</th>\n",
       "      <td>764</td>\n",
       "      <td>904301070</td>\n",
       "      <td>60.0</td>\n",
       "      <td>10800.0</td>\n",
       "      <td>5</td>\n",
       "      <td>5</td>\n",
       "      <td>1987.0</td>\n",
       "      <td>1988.0</td>\n",
       "      <td>NaN</td>\n",
       "      <td>1200.0</td>\n",
       "      <td>...</td>\n",
       "      <td>0</td>\n",
       "      <td>0</td>\n",
       "      <td>0</td>\n",
       "      <td>0</td>\n",
       "      <td>0</td>\n",
       "      <td>0</td>\n",
       "      <td>0</td>\n",
       "      <td>0</td>\n",
       "      <td>1</td>\n",
       "      <td>0</td>\n",
       "    </tr>\n",
       "    <tr>\n",
       "      <th>2426</th>\n",
       "      <td>836</td>\n",
       "      <td>907126010</td>\n",
       "      <td>82.0</td>\n",
       "      <td>12464.0</td>\n",
       "      <td>5</td>\n",
       "      <td>5</td>\n",
       "      <td>1996.0</td>\n",
       "      <td>NaN</td>\n",
       "      <td>NaN</td>\n",
       "      <td>732.0</td>\n",
       "      <td>...</td>\n",
       "      <td>0</td>\n",
       "      <td>0</td>\n",
       "      <td>0</td>\n",
       "      <td>0</td>\n",
       "      <td>1</td>\n",
       "      <td>0</td>\n",
       "      <td>0</td>\n",
       "      <td>0</td>\n",
       "      <td>1</td>\n",
       "      <td>0</td>\n",
       "    </tr>\n",
       "    <tr>\n",
       "      <th>2427</th>\n",
       "      <td>1654</td>\n",
       "      <td>527353080</td>\n",
       "      <td>80.0</td>\n",
       "      <td>11584.0</td>\n",
       "      <td>7</td>\n",
       "      <td>6</td>\n",
       "      <td>1979.0</td>\n",
       "      <td>NaN</td>\n",
       "      <td>96.0</td>\n",
       "      <td>315.0</td>\n",
       "      <td>...</td>\n",
       "      <td>0</td>\n",
       "      <td>0</td>\n",
       "      <td>0</td>\n",
       "      <td>0</td>\n",
       "      <td>1</td>\n",
       "      <td>0</td>\n",
       "      <td>1</td>\n",
       "      <td>0</td>\n",
       "      <td>0</td>\n",
       "      <td>0</td>\n",
       "    </tr>\n",
       "    <tr>\n",
       "      <th>2428</th>\n",
       "      <td>2608</td>\n",
       "      <td>535402070</td>\n",
       "      <td>85.0</td>\n",
       "      <td>13400.0</td>\n",
       "      <td>5</td>\n",
       "      <td>5</td>\n",
       "      <td>1966.0</td>\n",
       "      <td>NaN</td>\n",
       "      <td>1047.0</td>\n",
       "      <td>516.0</td>\n",
       "      <td>...</td>\n",
       "      <td>0</td>\n",
       "      <td>0</td>\n",
       "      <td>0</td>\n",
       "      <td>0</td>\n",
       "      <td>0</td>\n",
       "      <td>0</td>\n",
       "      <td>0</td>\n",
       "      <td>0</td>\n",
       "      <td>0</td>\n",
       "      <td>0</td>\n",
       "    </tr>\n",
       "    <tr>\n",
       "      <th>2429</th>\n",
       "      <td>2733</td>\n",
       "      <td>905402110</td>\n",
       "      <td>75.0</td>\n",
       "      <td>9375.0</td>\n",
       "      <td>4</td>\n",
       "      <td>5</td>\n",
       "      <td>1954.0</td>\n",
       "      <td>NaN</td>\n",
       "      <td>NaN</td>\n",
       "      <td>799.0</td>\n",
       "      <td>...</td>\n",
       "      <td>0</td>\n",
       "      <td>0</td>\n",
       "      <td>0</td>\n",
       "      <td>0</td>\n",
       "      <td>0</td>\n",
       "      <td>0</td>\n",
       "      <td>0</td>\n",
       "      <td>0</td>\n",
       "      <td>0</td>\n",
       "      <td>0</td>\n",
       "    </tr>\n",
       "  </tbody>\n",
       "</table>\n",
       "<p>2430 rows × 320 columns</p>\n",
       "</div>"
      ],
      "text/plain": [
       "     Order        PID  Lot Frontage  Lot Area  Overall Qual  Overall Cond  \\\n",
       "0      484  528275070          70.0    8795.0             7             5   \n",
       "1     2586  535305120          75.0   10170.0             6             6   \n",
       "2     2289  923228250           NaN    2001.0             4             5   \n",
       "3      142  535152150          70.0   10552.0             5             5   \n",
       "4     2042  903475060          60.0   10120.0             7             4   \n",
       "...    ...        ...           ...       ...           ...           ...   \n",
       "2425   764  904301070          60.0   10800.0             5             5   \n",
       "2426   836  907126010          82.0   12464.0             5             5   \n",
       "2427  1654  527353080          80.0   11584.0             7             6   \n",
       "2428  2608  535402070          85.0   13400.0             5             5   \n",
       "2429  2733  905402110          75.0    9375.0             4             5   \n",
       "\n",
       "      Year Built  Year Remod/Add  Mas Vnr Area  BsmtFin SF 1  ...  Mo Sold_7  \\\n",
       "0         2000.0             NaN           NaN         300.0  ...          0   \n",
       "1         1951.0             NaN         522.0           NaN  ...          0   \n",
       "2         1970.0             NaN          80.0           NaN  ...          0   \n",
       "3         1959.0             NaN           NaN        1018.0  ...          0   \n",
       "4         1910.0          1950.0           NaN           NaN  ...          0   \n",
       "...          ...             ...           ...           ...  ...        ...   \n",
       "2425      1987.0          1988.0           NaN        1200.0  ...          0   \n",
       "2426      1996.0             NaN           NaN         732.0  ...          0   \n",
       "2427      1979.0             NaN          96.0         315.0  ...          0   \n",
       "2428      1966.0             NaN        1047.0         516.0  ...          0   \n",
       "2429      1954.0             NaN           NaN         799.0  ...          0   \n",
       "\n",
       "      Mo Sold_8  Mo Sold_9  Mo Sold_10  Mo Sold_11  Mo Sold_12  \\\n",
       "0             0          0           0           0           0   \n",
       "1             0          0           0           0           0   \n",
       "2             0          0           0           0           0   \n",
       "3             0          0           0           0           0   \n",
       "4             0          0           0           0           0   \n",
       "...         ...        ...         ...         ...         ...   \n",
       "2425          0          0           0           0           0   \n",
       "2426          0          0           0           1           0   \n",
       "2427          0          0           0           1           0   \n",
       "2428          0          0           0           0           0   \n",
       "2429          0          0           0           0           0   \n",
       "\n",
       "      Yr Sold_2007.0  Yr Sold_2008.0  Yr Sold_2009.0  Yr Sold_2010.0  \n",
       "0                  0               0               1               0  \n",
       "1                  0               0               0               0  \n",
       "2                  1               0               0               0  \n",
       "3                  0               0               0               1  \n",
       "4                  1               0               0               0  \n",
       "...              ...             ...             ...             ...  \n",
       "2425               0               0               1               0  \n",
       "2426               0               0               1               0  \n",
       "2427               1               0               0               0  \n",
       "2428               0               0               0               0  \n",
       "2429               0               0               0               0  \n",
       "\n",
       "[2430 rows x 320 columns]"
      ]
     },
     "execution_count": 46,
     "metadata": {},
     "output_type": "execute_result"
    }
   ],
   "source": [
    "encoded_df = pd.get_dummies(df,columns=df_ohe.columns, dummy_na=False, drop_first=True)\n",
    "encoded_df"
   ]
  },
  {
   "cell_type": "markdown",
   "metadata": {},
   "source": [
    "## Feature Engineering"
   ]
  },
  {
   "cell_type": "markdown",
   "metadata": {},
   "source": [
    "- '1st Flr SF', '2nd Flr SF': add another column Total Floors (0: if '2nd Flr SF'>0, otherwise: 1) \n",
    "- 'Garage Area' and 'Garage Cars': drop 'Garage Cars' because it's measuring the same area but less precise than 'Garage Area' \n",
    "\n",
    "Those variables don't add \"modeling power\" to the model if you keep the original features in the data and can lead to ill-conditioning and numerical issues. On the other hand, if you create such variables and **remove the original features**, it can be seen as a way to compress the information on fewer dimensions which can be useful for the **simple and intermediate** models where the number of variables is limited."
   ]
  },
  {
   "cell_type": "code",
   "execution_count": 47,
   "metadata": {},
   "outputs": [],
   "source": [
    "def transform(x):\n",
    "    if x > 0:\n",
    "        return 1\n",
    "    elif x == np.nan:\n",
    "        return 0\n",
    "    return x"
   ]
  },
  {
   "cell_type": "code",
   "execution_count": 48,
   "metadata": {},
   "outputs": [],
   "source": [
    "df['2nd Flr SF'] = df['2nd Flr SF'].apply(transform)"
   ]
  },
  {
   "cell_type": "code",
   "execution_count": 49,
   "metadata": {},
   "outputs": [],
   "source": [
    "df = df.drop(['Garage Cars'], axis=1)"
   ]
  },
  {
   "cell_type": "code",
   "execution_count": 50,
   "metadata": {},
   "outputs": [],
   "source": [
    "df_ohe = df_ohe.drop(['Garage Cars'], axis=1)"
   ]
  },
  {
   "cell_type": "markdown",
   "metadata": {},
   "source": [
    "Many of the continuous variables have a skewed distribution according to the histograms:"
   ]
  },
  {
   "cell_type": "code",
   "execution_count": 51,
   "metadata": {},
   "outputs": [
    {
     "data": {
      "image/png": "[encoded data removed]",
      "text/plain": [
       "<Figure size 720x576 with 28 Axes>"
      ]
     },
     "metadata": {
      "needs_background": "light"
     },
     "output_type": "display_data"
    }
   ],
   "source": [
    "fig, axes = plt.subplots(nrows=4, ncols=7, figsize=(10, 8))\n",
    "\n",
    "for c, ax in zip(df_num.dropna(), axes.ravel()):\n",
    "    ax.hist(df[c], bins=30)\n",
    "    ax.set_title(c)\n",
    "\n",
    "plt.tight_layout() \n",
    "plt.show()"
   ]
  },
  {
   "cell_type": "markdown",
   "metadata": {},
   "source": [
    "This is why we have to apply a log-transform to the following features:\n",
    "> 'Mas Vnr Area', 'BsmtFin SF 1', 'BsmtFin SF 2', 'Bsmt Unf SF','Total Bsmt SF','1st Flr SF','Garage Area', 'Wood Deck SF','Open Porch SF', 'Enclosed Porch','Screen Porch', 'Misc Val'"
   ]
  },
  {
   "cell_type": "code",
   "execution_count": 52,
   "metadata": {},
   "outputs": [],
   "source": [
    "continuous_log = df.loc[:,df[['Mas Vnr Area', 'BsmtFin SF 1', 'BsmtFin SF 2', 'Bsmt Unf SF','Total Bsmt SF','1st Flr SF','Garage Area', 'Wood Deck SF','Open Porch SF', 'Enclosed Porch','Screen Porch', 'Misc Val']].columns].columns"
   ]
  },
  {
   "cell_type": "code",
   "execution_count": 53,
   "metadata": {},
   "outputs": [],
   "source": [
    "df[continuous_log] = np.log1p(df[continuous_log])"
   ]
  },
  {
   "cell_type": "markdown",
   "metadata": {},
   "source": [
    "With the log-transform the distributions of the respective features are more normalized:"
   ]
  },
  {
   "cell_type": "code",
   "execution_count": 54,
   "metadata": {},
   "outputs": [
    {
     "data": {
      "image/png": "[encoded data removed]",
      "text/plain": [
       "<Figure size 720x576 with 28 Axes>"
      ]
     },
     "metadata": {
      "needs_background": "light"
     },
     "output_type": "display_data"
    }
   ],
   "source": [
    "fig, axes = plt.subplots(nrows=4, ncols=7, figsize=(10, 8))\n",
    "\n",
    "for c, ax in zip(df_num.dropna(), axes.ravel()):\n",
    "    ax.hist(df[c], bins=30)\n",
    "    ax.set_title(c)\n",
    "\n",
    "plt.tight_layout() \n",
    "plt.show()"
   ]
  },
  {
   "cell_type": "markdown",
   "metadata": {},
   "source": [
    "## Model fitting"
   ]
  },
  {
   "cell_type": "markdown",
   "metadata": {},
   "source": [
    "Your analysis should include an appropriate baseline and evaluate three different models ranging in complexity\n",
    "\n",
    "- A **simple** model with two variables (three with the target variable)\n",
    "- An **intermediate** model (between 10 and 20 variables)\n",
    "- A **complex** model with all variables\n",
    "\n",
    "The number of variables is only given as an indication, it's not a strict range. Also, it corresponds to the variables count **before** one-hot encoding. For the simple and intermediate models, you can choose the variables. You are free to choose your preferred approach for this variable selection step, but you should include a short comment to explain your choice."
   ]
  },
  {
   "cell_type": "markdown",
   "metadata": {},
   "source": [
    "Your analysis should include regularization for at least the complex model, tune its strength with **grid search** and plot the **validation curves**."
   ]
  },
  {
   "cell_type": "markdown",
   "metadata": {},
   "source": [
    "## Compute predictions"
   ]
  },
  {
   "cell_type": "markdown",
   "metadata": {},
   "source": [
    "Make predictions for the 500 new houses from house-prices-test.csv using each model and save them in a .csv file.\n",
    "\n",
    "- Predictions from your simple model - predictions-simple-model.csv\n",
    "- Predictions from your intermediate model - predictions-intermediate-model.csv\n",
    "- Predictions from your complex model - predictions-complex-model.csv\n",
    "\n",
    "Your .csv files must contain 500 rows and 2 columns: the house PID and the predicted price as SalePrice.\n",
    "You can find a sample submission file in predictions-example.csv. Be careful to respect the column names."
   ]
  },
  {
   "cell_type": "code",
   "execution_count": 55,
   "metadata": {},
   "outputs": [],
   "source": [
    "from sklearn.linear_model import LinearRegression, Ridge\n",
    "from sklearn.model_selection import train_test_split\n",
    "from sklearn.preprocessing import StandardScaler\n",
    "from sklearn.metrics import mean_squared_error as MSE\n",
    "from sklearn.metrics import mean_absolute_error as MAE"
   ]
  },
  {
   "cell_type": "markdown",
   "metadata": {},
   "source": [
    "Define preprocessing function (one-hot-encoding, fillna, add polynomial features):\n",
    "\n",
    "When we square positive numbers the same distance between larger x-values is stretched more than for smaller x-values. But we don't know whether that is apriori a suitable choice. Maybe we want the opposite effect. The square root function does just that: the same distance between larger x-values is stretched less than for smaller x-values. By using both powers we can cover both behaviors. Add their polynomial features of degree 2, 3 and 0.5 (square root)."
   ]
  },
  {
   "cell_type": "code",
   "execution_count": 56,
   "metadata": {},
   "outputs": [
    {
     "data": {
      "text/plain": [
       "Index(['Yr Sold'], dtype='object')"
      ]
     },
     "execution_count": 56,
     "metadata": {},
     "output_type": "execute_result"
    }
   ],
   "source": [
    "df_num.columns.intersection(df_ohe.columns)"
   ]
  },
  {
   "cell_type": "code",
   "execution_count": 57,
   "metadata": {},
   "outputs": [],
   "source": [
    "# Preprocessing function\n",
    "\n",
    "def preprocess(df):\n",
    "    # Work on a copy\n",
    "    df = df.copy()\n",
    "\n",
    "    # Fill missing values\n",
    "    for c in df.columns:\n",
    "        df[c] = df[c].fillna(0)\n",
    "        \n",
    "    # Add polynomial features\n",
    "    for c in df.columns.intersection(df_num.drop(['Year Built', 'Year Remod/Add','Yr Sold', 'SalePrice'], axis=1).columns):\n",
    "        for d in [0.5, 2, 3]:\n",
    "            name = '{}**{}'.format(c, d)\n",
    "            df[name] = df[c]**d\n",
    "            \n",
    "    # One-hot encoding\n",
    "    df = pd.get_dummies(df,columns=df.columns.intersection(df_ohe.drop(['Yr Sold'], axis=1).columns), dummy_na=False, drop_first=True)\n",
    "\n",
    "    return df"
   ]
  },
  {
   "cell_type": "markdown",
   "metadata": {},
   "source": [
    "---"
   ]
  },
  {
   "cell_type": "markdown",
   "metadata": {},
   "source": [
    "A **simple** model "
   ]
  },
  {
   "cell_type": "markdown",
   "metadata": {},
   "source": [
    "Since I have to select a subset of the overall features, my decision should be based on the EDA to select the features that are more decisive (i.e. that affects the price the most) and can be ranked in order of importance after the EDA. The limit, in this case, is relative (I willpick the top features based on their relative correlation scores)."
   ]
  },
  {
   "cell_type": "markdown",
   "metadata": {},
   "source": [
    "Correlation of SalesPrice with all other features:"
   ]
  },
  {
   "cell_type": "code",
   "execution_count": 58,
   "metadata": {},
   "outputs": [
    {
     "data": {
      "text/plain": [
       "Pool Area         -0.317338\n",
       "Kitchen AbvGr     -0.119954\n",
       "Overall Cond      -0.102353\n",
       "Bsmt Half Bath    -0.026990\n",
       "Yr Sold           -0.026386\n",
       "Mo Sold            0.035734\n",
       "Bsmt Unf SF        0.080655\n",
       "3Ssn Porch         0.123987\n",
       "Open Porch SF      0.127996\n",
       "Bedroom AbvGr      0.133007\n",
       "Misc Val           0.146286\n",
       "BsmtFin SF 2       0.158883\n",
       "Screen Porch       0.206496\n",
       "Wood Deck SF       0.207452\n",
       "Enclosed Porch     0.208544\n",
       "Low Qual Fin SF    0.273437\n",
       "Bsmt Full Bath     0.278545\n",
       "Half Bath          0.279828\n",
       "BsmtFin SF 1       0.309986\n",
       "Lot Frontage       0.334977\n",
       "Mas Vnr Area       0.382530\n",
       "Lot Area           0.415868\n",
       "Year Remod/Add     0.478920\n",
       "TotRms AbvGrd      0.483882\n",
       "Fireplaces         0.492056\n",
       "Garage Yr Blt      0.535601\n",
       "Full Bath          0.536616\n",
       "Year Built         0.564739\n",
       "1st Flr SF         0.589395\n",
       "Total Bsmt SF      0.599625\n",
       "Garage Area        0.600780\n",
       "Gr Liv Area        0.682238\n",
       "Overall Qual       0.799022\n",
       "SalePrice          1.000000\n",
       "2nd Flr SF              NaN\n",
       "Name: SalePrice, dtype: float64"
      ]
     },
     "execution_count": 58,
     "metadata": {},
     "output_type": "execute_result"
    }
   ],
   "source": [
    "df.corr().iloc[-1,:].sort_values()"
   ]
  },
  {
   "cell_type": "code",
   "execution_count": 59,
   "metadata": {},
   "outputs": [
    {
     "data": {
      "text/plain": [
       "Year Built       6\n",
       "Gr Liv Area     54\n",
       "Overall Qual     0\n",
       "dtype: int64"
      ]
     },
     "execution_count": 59,
     "metadata": {},
     "output_type": "execute_result"
    }
   ],
   "source": [
    "df[['Year Built', 'Gr Liv Area', 'Overall Qual']].isnull().sum()"
   ]
  },
  {
   "cell_type": "markdown",
   "metadata": {},
   "source": [
    "Year Built, Gr Liv Area and Overall Qual look like strong variables to predict SalePrice with a low proportion of null values (i.e. carrying a lot of information about the target value). "
   ]
  },
  {
   "cell_type": "code",
   "execution_count": 60,
   "metadata": {},
   "outputs": [],
   "source": [
    "df_simple = pd.DataFrame(columns=['Year Built', 'Gr Liv Area', 'Overall Qual'])"
   ]
  },
  {
   "cell_type": "code",
   "execution_count": 61,
   "metadata": {},
   "outputs": [
    {
     "data": {
      "text/plain": [
       "Index([], dtype='object')"
      ]
     },
     "execution_count": 61,
     "metadata": {},
     "output_type": "execute_result"
    }
   ],
   "source": [
    "df_simple.columns.intersection(df_ohe.columns)"
   ]
  },
  {
   "cell_type": "markdown",
   "metadata": {},
   "source": [
    "Train **simple** model and calculate test data target values:"
   ]
  },
  {
   "cell_type": "code",
   "execution_count": 62,
   "metadata": {},
   "outputs": [],
   "source": [
    "df_test = pd.read_csv('house-prices-test.csv')"
   ]
  },
  {
   "cell_type": "code",
   "execution_count": 63,
   "metadata": {},
   "outputs": [],
   "source": [
    "df_simple = df[['Year Built', 'Gr Liv Area', 'Overall Qual']]"
   ]
  },
  {
   "cell_type": "code",
   "execution_count": 64,
   "metadata": {},
   "outputs": [
    {
     "data": {
      "text/html": [
       "<div>\n",
       "<style scoped>\n",
       "    .dataframe tbody tr th:only-of-type {\n",
       "        vertical-align: middle;\n",
       "    }\n",
       "\n",
       "    .dataframe tbody tr th {\n",
       "        vertical-align: top;\n",
       "    }\n",
       "\n",
       "    .dataframe thead th {\n",
       "        text-align: right;\n",
       "    }\n",
       "</style>\n",
       "<table border=\"1\" class=\"dataframe\">\n",
       "  <thead>\n",
       "    <tr style=\"text-align: right;\">\n",
       "      <th></th>\n",
       "      <th>Year Built</th>\n",
       "      <th>Gr Liv Area</th>\n",
       "      <th>Overall Qual</th>\n",
       "      <th>Gr Liv Area**0.5</th>\n",
       "      <th>Gr Liv Area**2</th>\n",
       "      <th>Gr Liv Area**3</th>\n",
       "    </tr>\n",
       "  </thead>\n",
       "  <tbody>\n",
       "    <tr>\n",
       "      <th>0</th>\n",
       "      <td>2000.0</td>\n",
       "      <td>2256.0</td>\n",
       "      <td>7</td>\n",
       "      <td>47.497368</td>\n",
       "      <td>5089536.0</td>\n",
       "      <td>1.148199e+10</td>\n",
       "    </tr>\n",
       "    <tr>\n",
       "      <th>1</th>\n",
       "      <td>1951.0</td>\n",
       "      <td>1575.0</td>\n",
       "      <td>6</td>\n",
       "      <td>39.686270</td>\n",
       "      <td>2480625.0</td>\n",
       "      <td>3.906984e+09</td>\n",
       "    </tr>\n",
       "    <tr>\n",
       "      <th>2</th>\n",
       "      <td>1970.0</td>\n",
       "      <td>1092.0</td>\n",
       "      <td>4</td>\n",
       "      <td>33.045423</td>\n",
       "      <td>1192464.0</td>\n",
       "      <td>1.302171e+09</td>\n",
       "    </tr>\n",
       "    <tr>\n",
       "      <th>3</th>\n",
       "      <td>1959.0</td>\n",
       "      <td>1700.0</td>\n",
       "      <td>5</td>\n",
       "      <td>41.231056</td>\n",
       "      <td>2890000.0</td>\n",
       "      <td>4.913000e+09</td>\n",
       "    </tr>\n",
       "    <tr>\n",
       "      <th>4</th>\n",
       "      <td>1910.0</td>\n",
       "      <td>1889.0</td>\n",
       "      <td>7</td>\n",
       "      <td>43.462628</td>\n",
       "      <td>3568321.0</td>\n",
       "      <td>6.740558e+09</td>\n",
       "    </tr>\n",
       "  </tbody>\n",
       "</table>\n",
       "</div>"
      ],
      "text/plain": [
       "   Year Built  Gr Liv Area  Overall Qual  Gr Liv Area**0.5  Gr Liv Area**2  \\\n",
       "0      2000.0       2256.0             7         47.497368       5089536.0   \n",
       "1      1951.0       1575.0             6         39.686270       2480625.0   \n",
       "2      1970.0       1092.0             4         33.045423       1192464.0   \n",
       "3      1959.0       1700.0             5         41.231056       2890000.0   \n",
       "4      1910.0       1889.0             7         43.462628       3568321.0   \n",
       "\n",
       "   Gr Liv Area**3  \n",
       "0    1.148199e+10  \n",
       "1    3.906984e+09  \n",
       "2    1.302171e+09  \n",
       "3    4.913000e+09  \n",
       "4    6.740558e+09  "
      ]
     },
     "execution_count": 64,
     "metadata": {},
     "output_type": "execute_result"
    }
   ],
   "source": [
    "preprocessed_df_simple = preprocess(df_simple)\n",
    "preprocessed_df_simple.head()"
   ]
  },
  {
   "cell_type": "code",
   "execution_count": 65,
   "metadata": {},
   "outputs": [],
   "source": [
    "X_tr_cols_simple = list(preprocessed_df_simple)"
   ]
  },
  {
   "cell_type": "code",
   "execution_count": 66,
   "metadata": {},
   "outputs": [],
   "source": [
    "X = preprocessed_df_simple.values"
   ]
  },
  {
   "cell_type": "code",
   "execution_count": 67,
   "metadata": {},
   "outputs": [],
   "source": [
    "y = df.SalePrice.values"
   ]
  },
  {
   "cell_type": "code",
   "execution_count": 68,
   "metadata": {},
   "outputs": [],
   "source": [
    "X_tr, X_te, y_tr, y_te = train_test_split(X, y, test_size=0.5, random_state=0)"
   ]
  },
  {
   "cell_type": "code",
   "execution_count": 69,
   "metadata": {},
   "outputs": [],
   "source": [
    "scaler_simple = StandardScaler()\n",
    "X_tr_rescaled = scaler_simple.fit_transform(X_tr)\n",
    "X_te_rescaled = scaler_simple.transform(X_te)"
   ]
  },
  {
   "cell_type": "code",
   "execution_count": 70,
   "metadata": {},
   "outputs": [
    {
     "data": {
      "text/plain": [
       "Ridge()"
      ]
     },
     "execution_count": 70,
     "metadata": {},
     "output_type": "execute_result"
    }
   ],
   "source": [
    "ridge_simple = Ridge()\n",
    "ridge_simple.fit(X_tr_rescaled, y_tr)"
   ]
  },
  {
   "cell_type": "code",
   "execution_count": 71,
   "metadata": {},
   "outputs": [
    {
     "name": "stdout",
     "output_type": "stream",
     "text": [
      "train_MAE_intermediate: 28553.8275371884\n",
      "test_MAE_intermediate: 27421.000453999462\n"
     ]
    }
   ],
   "source": [
    "print('train_MAE_intermediate:', MAE(y_tr, ridge_simple.predict(X_tr_rescaled)))\n",
    "print('test_MAE_intermediate:', MAE(y_te, ridge_simple.predict(X_te_rescaled)))"
   ]
  },
  {
   "cell_type": "code",
   "execution_count": 72,
   "metadata": {},
   "outputs": [],
   "source": [
    "test_MAE_simple = MAE(y_te, ridge_simple.predict(X_te_rescaled))"
   ]
  },
  {
   "cell_type": "markdown",
   "metadata": {},
   "source": [
    "Calculate test data target value:"
   ]
  },
  {
   "cell_type": "code",
   "execution_count": 73,
   "metadata": {},
   "outputs": [],
   "source": [
    "df_simple_test = df_test[df_simple.columns]"
   ]
  },
  {
   "cell_type": "code",
   "execution_count": 74,
   "metadata": {},
   "outputs": [
    {
     "data": {
      "text/html": [
       "<div>\n",
       "<style scoped>\n",
       "    .dataframe tbody tr th:only-of-type {\n",
       "        vertical-align: middle;\n",
       "    }\n",
       "\n",
       "    .dataframe tbody tr th {\n",
       "        vertical-align: top;\n",
       "    }\n",
       "\n",
       "    .dataframe thead th {\n",
       "        text-align: right;\n",
       "    }\n",
       "</style>\n",
       "<table border=\"1\" class=\"dataframe\">\n",
       "  <thead>\n",
       "    <tr style=\"text-align: right;\">\n",
       "      <th></th>\n",
       "      <th>Year Built</th>\n",
       "      <th>Gr Liv Area</th>\n",
       "      <th>Overall Qual</th>\n",
       "      <th>Gr Liv Area**0.5</th>\n",
       "      <th>Gr Liv Area**2</th>\n",
       "      <th>Gr Liv Area**3</th>\n",
       "    </tr>\n",
       "  </thead>\n",
       "  <tbody>\n",
       "    <tr>\n",
       "      <th>0</th>\n",
       "      <td>1932</td>\n",
       "      <td>1991</td>\n",
       "      <td>6</td>\n",
       "      <td>44.620623</td>\n",
       "      <td>3964081</td>\n",
       "      <td>7892485271</td>\n",
       "    </tr>\n",
       "    <tr>\n",
       "      <th>1</th>\n",
       "      <td>1994</td>\n",
       "      <td>990</td>\n",
       "      <td>5</td>\n",
       "      <td>31.464265</td>\n",
       "      <td>980100</td>\n",
       "      <td>970299000</td>\n",
       "    </tr>\n",
       "    <tr>\n",
       "      <th>2</th>\n",
       "      <td>2006</td>\n",
       "      <td>1970</td>\n",
       "      <td>8</td>\n",
       "      <td>44.384682</td>\n",
       "      <td>3880900</td>\n",
       "      <td>7645373000</td>\n",
       "    </tr>\n",
       "    <tr>\n",
       "      <th>3</th>\n",
       "      <td>1960</td>\n",
       "      <td>1134</td>\n",
       "      <td>5</td>\n",
       "      <td>33.674916</td>\n",
       "      <td>1285956</td>\n",
       "      <td>1458274104</td>\n",
       "    </tr>\n",
       "    <tr>\n",
       "      <th>4</th>\n",
       "      <td>1900</td>\n",
       "      <td>1178</td>\n",
       "      <td>4</td>\n",
       "      <td>34.322005</td>\n",
       "      <td>1387684</td>\n",
       "      <td>1634691752</td>\n",
       "    </tr>\n",
       "  </tbody>\n",
       "</table>\n",
       "</div>"
      ],
      "text/plain": [
       "   Year Built  Gr Liv Area  Overall Qual  Gr Liv Area**0.5  Gr Liv Area**2  \\\n",
       "0        1932         1991             6         44.620623         3964081   \n",
       "1        1994          990             5         31.464265          980100   \n",
       "2        2006         1970             8         44.384682         3880900   \n",
       "3        1960         1134             5         33.674916         1285956   \n",
       "4        1900         1178             4         34.322005         1387684   \n",
       "\n",
       "   Gr Liv Area**3  \n",
       "0      7892485271  \n",
       "1       970299000  \n",
       "2      7645373000  \n",
       "3      1458274104  \n",
       "4      1634691752  "
      ]
     },
     "execution_count": 74,
     "metadata": {},
     "output_type": "execute_result"
    }
   ],
   "source": [
    "preprocessed_df_simple = preprocess(df_simple_test)\n",
    "preprocessed_df_simple.head()"
   ]
  },
  {
   "cell_type": "code",
   "execution_count": 75,
   "metadata": {},
   "outputs": [],
   "source": [
    "X_tmp=preprocessed_df_simple.reindex(X_tr_cols_simple, axis=\"columns\")"
   ]
  },
  {
   "cell_type": "code",
   "execution_count": 76,
   "metadata": {},
   "outputs": [],
   "source": [
    "X_tmp=X_tmp.fillna(0)"
   ]
  },
  {
   "cell_type": "code",
   "execution_count": 77,
   "metadata": {},
   "outputs": [],
   "source": [
    "X = X_tmp.values"
   ]
  },
  {
   "cell_type": "code",
   "execution_count": 78,
   "metadata": {},
   "outputs": [],
   "source": [
    "X_rescaled = scaler_simple.transform(X)"
   ]
  },
  {
   "cell_type": "code",
   "execution_count": 79,
   "metadata": {},
   "outputs": [
    {
     "data": {
      "text/plain": [
       "array([201790.54946407, 122123.24587433, 274674.46636981, 121594.60774871,\n",
       "        83755.4879296 , 177798.60962849,  47951.66998922, 155750.40435791,\n",
       "       132804.45607512,  87697.90600768])"
      ]
     },
     "execution_count": 79,
     "metadata": {},
     "output_type": "execute_result"
    }
   ],
   "source": [
    "ridge_simple.predict(X_rescaled)[0:10]"
   ]
  },
  {
   "cell_type": "code",
   "execution_count": 80,
   "metadata": {},
   "outputs": [],
   "source": [
    "d = {'PID': df_test.PID, 'SalePrice': ridge_simple.predict(X_rescaled).astype('int64')}"
   ]
  },
  {
   "cell_type": "code",
   "execution_count": 81,
   "metadata": {},
   "outputs": [],
   "source": [
    "y_test_simple = pd.DataFrame(data=d)"
   ]
  },
  {
   "cell_type": "code",
   "execution_count": 82,
   "metadata": {},
   "outputs": [
    {
     "data": {
      "text/html": [
       "<div>\n",
       "<style scoped>\n",
       "    .dataframe tbody tr th:only-of-type {\n",
       "        vertical-align: middle;\n",
       "    }\n",
       "\n",
       "    .dataframe tbody tr th {\n",
       "        vertical-align: top;\n",
       "    }\n",
       "\n",
       "    .dataframe thead th {\n",
       "        text-align: right;\n",
       "    }\n",
       "</style>\n",
       "<table border=\"1\" class=\"dataframe\">\n",
       "  <thead>\n",
       "    <tr style=\"text-align: right;\">\n",
       "      <th></th>\n",
       "      <th>PID</th>\n",
       "      <th>SalePrice</th>\n",
       "    </tr>\n",
       "  </thead>\n",
       "  <tbody>\n",
       "    <tr>\n",
       "      <th>0</th>\n",
       "      <td>909279080</td>\n",
       "      <td>201790</td>\n",
       "    </tr>\n",
       "    <tr>\n",
       "      <th>1</th>\n",
       "      <td>907126050</td>\n",
       "      <td>122123</td>\n",
       "    </tr>\n",
       "    <tr>\n",
       "      <th>2</th>\n",
       "      <td>528144030</td>\n",
       "      <td>274674</td>\n",
       "    </tr>\n",
       "    <tr>\n",
       "      <th>3</th>\n",
       "      <td>535452060</td>\n",
       "      <td>121594</td>\n",
       "    </tr>\n",
       "    <tr>\n",
       "      <th>4</th>\n",
       "      <td>911202100</td>\n",
       "      <td>83755</td>\n",
       "    </tr>\n",
       "  </tbody>\n",
       "</table>\n",
       "</div>"
      ],
      "text/plain": [
       "         PID  SalePrice\n",
       "0  909279080     201790\n",
       "1  907126050     122123\n",
       "2  528144030     274674\n",
       "3  535452060     121594\n",
       "4  911202100      83755"
      ]
     },
     "execution_count": 82,
     "metadata": {},
     "output_type": "execute_result"
    }
   ],
   "source": [
    "y_test_simple.head()"
   ]
  },
  {
   "cell_type": "code",
   "execution_count": 83,
   "metadata": {},
   "outputs": [],
   "source": [
    "y_test_simple.to_csv('predictions-simple-model.csv', index=False)"
   ]
  },
  {
   "cell_type": "markdown",
   "metadata": {},
   "source": [
    "---"
   ]
  },
  {
   "cell_type": "markdown",
   "metadata": {},
   "source": [
    "Train **intermediate** model and calculate test data target values:"
   ]
  },
  {
   "cell_type": "code",
   "execution_count": 84,
   "metadata": {},
   "outputs": [],
   "source": [
    "df_intermediate = df[['Year Built', 'Gr Liv Area', 'Overall Qual','Year Remod/Add','1st Flr SF', 'Garage Yr Blt', 'Garage Area', 'Full Bath', 'Total Bsmt SF','MS Zoning', 'Utilities', 'Kitchen AbvGr', 'Functional', 'Sale Type', 'Sale Condition']]"
   ]
  },
  {
   "cell_type": "code",
   "execution_count": 85,
   "metadata": {},
   "outputs": [
    {
     "data": {
      "text/html": [
       "<div>\n",
       "<style scoped>\n",
       "    .dataframe tbody tr th:only-of-type {\n",
       "        vertical-align: middle;\n",
       "    }\n",
       "\n",
       "    .dataframe tbody tr th {\n",
       "        vertical-align: top;\n",
       "    }\n",
       "\n",
       "    .dataframe thead th {\n",
       "        text-align: right;\n",
       "    }\n",
       "</style>\n",
       "<table border=\"1\" class=\"dataframe\">\n",
       "  <thead>\n",
       "    <tr style=\"text-align: right;\">\n",
       "      <th></th>\n",
       "      <th>Year Built</th>\n",
       "      <th>Gr Liv Area</th>\n",
       "      <th>Overall Qual</th>\n",
       "      <th>Year Remod/Add</th>\n",
       "      <th>1st Flr SF</th>\n",
       "      <th>Garage Yr Blt</th>\n",
       "      <th>Garage Area</th>\n",
       "      <th>Total Bsmt SF</th>\n",
       "      <th>Gr Liv Area**0.5</th>\n",
       "      <th>Gr Liv Area**2</th>\n",
       "      <th>...</th>\n",
       "      <th>Sale Type_ConLw</th>\n",
       "      <th>Sale Type_New</th>\n",
       "      <th>Sale Type_Oth</th>\n",
       "      <th>Sale Type_VWD</th>\n",
       "      <th>Sale Type_WD</th>\n",
       "      <th>Sale Condition_AdjLand</th>\n",
       "      <th>Sale Condition_Alloca</th>\n",
       "      <th>Sale Condition_Family</th>\n",
       "      <th>Sale Condition_Normal</th>\n",
       "      <th>Sale Condition_Partial</th>\n",
       "    </tr>\n",
       "  </thead>\n",
       "  <tbody>\n",
       "    <tr>\n",
       "      <th>0</th>\n",
       "      <td>2000.0</td>\n",
       "      <td>2256.0</td>\n",
       "      <td>7</td>\n",
       "      <td>0.0</td>\n",
       "      <td>6.888572</td>\n",
       "      <td>2000.0</td>\n",
       "      <td>6.318968</td>\n",
       "      <td>6.859615</td>\n",
       "      <td>47.497368</td>\n",
       "      <td>5089536.0</td>\n",
       "      <td>...</td>\n",
       "      <td>0</td>\n",
       "      <td>0</td>\n",
       "      <td>0</td>\n",
       "      <td>0</td>\n",
       "      <td>1</td>\n",
       "      <td>0</td>\n",
       "      <td>0</td>\n",
       "      <td>0</td>\n",
       "      <td>1</td>\n",
       "      <td>0</td>\n",
       "    </tr>\n",
       "    <tr>\n",
       "      <th>1</th>\n",
       "      <td>1951.0</td>\n",
       "      <td>1575.0</td>\n",
       "      <td>6</td>\n",
       "      <td>0.0</td>\n",
       "      <td>7.362645</td>\n",
       "      <td>1951.0</td>\n",
       "      <td>5.993961</td>\n",
       "      <td>5.379897</td>\n",
       "      <td>39.686270</td>\n",
       "      <td>2480625.0</td>\n",
       "      <td>...</td>\n",
       "      <td>0</td>\n",
       "      <td>0</td>\n",
       "      <td>0</td>\n",
       "      <td>0</td>\n",
       "      <td>1</td>\n",
       "      <td>0</td>\n",
       "      <td>0</td>\n",
       "      <td>0</td>\n",
       "      <td>1</td>\n",
       "      <td>0</td>\n",
       "    </tr>\n",
       "    <tr>\n",
       "      <th>2</th>\n",
       "      <td>1970.0</td>\n",
       "      <td>1092.0</td>\n",
       "      <td>4</td>\n",
       "      <td>0.0</td>\n",
       "      <td>6.304449</td>\n",
       "      <td>1970.0</td>\n",
       "      <td>5.659482</td>\n",
       "      <td>6.304449</td>\n",
       "      <td>33.045423</td>\n",
       "      <td>1192464.0</td>\n",
       "      <td>...</td>\n",
       "      <td>0</td>\n",
       "      <td>0</td>\n",
       "      <td>0</td>\n",
       "      <td>0</td>\n",
       "      <td>1</td>\n",
       "      <td>0</td>\n",
       "      <td>0</td>\n",
       "      <td>0</td>\n",
       "      <td>1</td>\n",
       "      <td>0</td>\n",
       "    </tr>\n",
       "    <tr>\n",
       "      <th>3</th>\n",
       "      <td>1959.0</td>\n",
       "      <td>1700.0</td>\n",
       "      <td>5</td>\n",
       "      <td>0.0</td>\n",
       "      <td>7.438972</td>\n",
       "      <td>1959.0</td>\n",
       "      <td>6.104793</td>\n",
       "      <td>7.243513</td>\n",
       "      <td>41.231056</td>\n",
       "      <td>2890000.0</td>\n",
       "      <td>...</td>\n",
       "      <td>0</td>\n",
       "      <td>0</td>\n",
       "      <td>0</td>\n",
       "      <td>0</td>\n",
       "      <td>1</td>\n",
       "      <td>0</td>\n",
       "      <td>0</td>\n",
       "      <td>0</td>\n",
       "      <td>1</td>\n",
       "      <td>0</td>\n",
       "    </tr>\n",
       "    <tr>\n",
       "      <th>4</th>\n",
       "      <td>1910.0</td>\n",
       "      <td>1889.0</td>\n",
       "      <td>7</td>\n",
       "      <td>1950.0</td>\n",
       "      <td>6.872128</td>\n",
       "      <td>1960.0</td>\n",
       "      <td>5.733341</td>\n",
       "      <td>6.830874</td>\n",
       "      <td>43.462628</td>\n",
       "      <td>3568321.0</td>\n",
       "      <td>...</td>\n",
       "      <td>0</td>\n",
       "      <td>0</td>\n",
       "      <td>0</td>\n",
       "      <td>0</td>\n",
       "      <td>1</td>\n",
       "      <td>0</td>\n",
       "      <td>0</td>\n",
       "      <td>0</td>\n",
       "      <td>1</td>\n",
       "      <td>0</td>\n",
       "    </tr>\n",
       "  </tbody>\n",
       "</table>\n",
       "<p>5 rows × 59 columns</p>\n",
       "</div>"
      ],
      "text/plain": [
       "   Year Built  Gr Liv Area  Overall Qual  Year Remod/Add  1st Flr SF  \\\n",
       "0      2000.0       2256.0             7             0.0    6.888572   \n",
       "1      1951.0       1575.0             6             0.0    7.362645   \n",
       "2      1970.0       1092.0             4             0.0    6.304449   \n",
       "3      1959.0       1700.0             5             0.0    7.438972   \n",
       "4      1910.0       1889.0             7          1950.0    6.872128   \n",
       "\n",
       "   Garage Yr Blt  Garage Area  Total Bsmt SF  Gr Liv Area**0.5  \\\n",
       "0         2000.0     6.318968       6.859615         47.497368   \n",
       "1         1951.0     5.993961       5.379897         39.686270   \n",
       "2         1970.0     5.659482       6.304449         33.045423   \n",
       "3         1959.0     6.104793       7.243513         41.231056   \n",
       "4         1960.0     5.733341       6.830874         43.462628   \n",
       "\n",
       "   Gr Liv Area**2  ...  Sale Type_ConLw  Sale Type_New  Sale Type_Oth  \\\n",
       "0       5089536.0  ...                0              0              0   \n",
       "1       2480625.0  ...                0              0              0   \n",
       "2       1192464.0  ...                0              0              0   \n",
       "3       2890000.0  ...                0              0              0   \n",
       "4       3568321.0  ...                0              0              0   \n",
       "\n",
       "   Sale Type_VWD  Sale Type_WD   Sale Condition_AdjLand  \\\n",
       "0              0              1                       0   \n",
       "1              0              1                       0   \n",
       "2              0              1                       0   \n",
       "3              0              1                       0   \n",
       "4              0              1                       0   \n",
       "\n",
       "   Sale Condition_Alloca  Sale Condition_Family  Sale Condition_Normal  \\\n",
       "0                      0                      0                      1   \n",
       "1                      0                      0                      1   \n",
       "2                      0                      0                      1   \n",
       "3                      0                      0                      1   \n",
       "4                      0                      0                      1   \n",
       "\n",
       "   Sale Condition_Partial  \n",
       "0                       0  \n",
       "1                       0  \n",
       "2                       0  \n",
       "3                       0  \n",
       "4                       0  \n",
       "\n",
       "[5 rows x 59 columns]"
      ]
     },
     "execution_count": 85,
     "metadata": {},
     "output_type": "execute_result"
    }
   ],
   "source": [
    "preprocessed_df_intermediate = preprocess(df_intermediate)\n",
    "preprocessed_df_intermediate.head()"
   ]
  },
  {
   "cell_type": "code",
   "execution_count": 86,
   "metadata": {},
   "outputs": [],
   "source": [
    "X_tr_cols_intermediate = list(preprocessed_df_intermediate)"
   ]
  },
  {
   "cell_type": "code",
   "execution_count": 87,
   "metadata": {},
   "outputs": [],
   "source": [
    "X = preprocessed_df_intermediate.values"
   ]
  },
  {
   "cell_type": "code",
   "execution_count": 88,
   "metadata": {},
   "outputs": [],
   "source": [
    "X_tr, X_te, y_tr, y_te = train_test_split(X, y, test_size=0.5, random_state=0)"
   ]
  },
  {
   "cell_type": "code",
   "execution_count": 89,
   "metadata": {},
   "outputs": [],
   "source": [
    "scaler_intermediate = StandardScaler()\n",
    "X_tr_rescaled = scaler_intermediate.fit_transform(X_tr)\n",
    "X_te_rescaled = scaler_intermediate.transform(X_te)"
   ]
  },
  {
   "cell_type": "code",
   "execution_count": 90,
   "metadata": {},
   "outputs": [
    {
     "data": {
      "text/plain": [
       "Ridge()"
      ]
     },
     "execution_count": 90,
     "metadata": {},
     "output_type": "execute_result"
    }
   ],
   "source": [
    "ridge_intermediate = Ridge()\n",
    "ridge_intermediate.fit(X_tr_rescaled, y_tr)"
   ]
  },
  {
   "cell_type": "code",
   "execution_count": 91,
   "metadata": {},
   "outputs": [
    {
     "name": "stdout",
     "output_type": "stream",
     "text": [
      "train_MAE_intermediate: 21308.574090753093\n",
      "test_MAE_intermediate: 21640.171321747894\n"
     ]
    }
   ],
   "source": [
    "print('train_MAE_intermediate:', MAE(y_tr, ridge_intermediate.predict(X_tr_rescaled)))\n",
    "print('test_MAE_intermediate:', MAE(y_te, ridge_intermediate.predict(X_te_rescaled)))"
   ]
  },
  {
   "cell_type": "code",
   "execution_count": 92,
   "metadata": {},
   "outputs": [],
   "source": [
    "test_MAE_intermediate = MAE(y_te, ridge_intermediate.predict(X_te_rescaled))"
   ]
  },
  {
   "cell_type": "markdown",
   "metadata": {},
   "source": [
    "Calculate test data target value:"
   ]
  },
  {
   "cell_type": "code",
   "execution_count": 93,
   "metadata": {},
   "outputs": [],
   "source": [
    "df_test_intermediate = df_test[df_intermediate.columns]"
   ]
  },
  {
   "cell_type": "code",
   "execution_count": 94,
   "metadata": {},
   "outputs": [
    {
     "data": {
      "text/html": [
       "<div>\n",
       "<style scoped>\n",
       "    .dataframe tbody tr th:only-of-type {\n",
       "        vertical-align: middle;\n",
       "    }\n",
       "\n",
       "    .dataframe tbody tr th {\n",
       "        vertical-align: top;\n",
       "    }\n",
       "\n",
       "    .dataframe thead th {\n",
       "        text-align: right;\n",
       "    }\n",
       "</style>\n",
       "<table border=\"1\" class=\"dataframe\">\n",
       "  <thead>\n",
       "    <tr style=\"text-align: right;\">\n",
       "      <th></th>\n",
       "      <th>Year Built</th>\n",
       "      <th>Gr Liv Area</th>\n",
       "      <th>Overall Qual</th>\n",
       "      <th>Year Remod/Add</th>\n",
       "      <th>1st Flr SF</th>\n",
       "      <th>Garage Yr Blt</th>\n",
       "      <th>Garage Area</th>\n",
       "      <th>Total Bsmt SF</th>\n",
       "      <th>Gr Liv Area**0.5</th>\n",
       "      <th>Gr Liv Area**2</th>\n",
       "      <th>...</th>\n",
       "      <th>Sale Type_ConLI</th>\n",
       "      <th>Sale Type_ConLw</th>\n",
       "      <th>Sale Type_New</th>\n",
       "      <th>Sale Type_Oth</th>\n",
       "      <th>Sale Type_WD</th>\n",
       "      <th>Sale Condition_AdjLand</th>\n",
       "      <th>Sale Condition_Alloca</th>\n",
       "      <th>Sale Condition_Family</th>\n",
       "      <th>Sale Condition_Normal</th>\n",
       "      <th>Sale Condition_Partial</th>\n",
       "    </tr>\n",
       "  </thead>\n",
       "  <tbody>\n",
       "    <tr>\n",
       "      <th>0</th>\n",
       "      <td>1932</td>\n",
       "      <td>1991</td>\n",
       "      <td>6</td>\n",
       "      <td>1950</td>\n",
       "      <td>1096</td>\n",
       "      <td>1977.0</td>\n",
       "      <td>432.0</td>\n",
       "      <td>854.0</td>\n",
       "      <td>44.620623</td>\n",
       "      <td>3964081</td>\n",
       "      <td>...</td>\n",
       "      <td>0</td>\n",
       "      <td>0</td>\n",
       "      <td>0</td>\n",
       "      <td>0</td>\n",
       "      <td>1</td>\n",
       "      <td>0</td>\n",
       "      <td>0</td>\n",
       "      <td>0</td>\n",
       "      <td>1</td>\n",
       "      <td>0</td>\n",
       "    </tr>\n",
       "    <tr>\n",
       "      <th>1</th>\n",
       "      <td>1994</td>\n",
       "      <td>990</td>\n",
       "      <td>5</td>\n",
       "      <td>1994</td>\n",
       "      <td>990</td>\n",
       "      <td>1995.0</td>\n",
       "      <td>440.0</td>\n",
       "      <td>990.0</td>\n",
       "      <td>31.464265</td>\n",
       "      <td>980100</td>\n",
       "      <td>...</td>\n",
       "      <td>0</td>\n",
       "      <td>0</td>\n",
       "      <td>0</td>\n",
       "      <td>0</td>\n",
       "      <td>1</td>\n",
       "      <td>0</td>\n",
       "      <td>0</td>\n",
       "      <td>0</td>\n",
       "      <td>1</td>\n",
       "      <td>0</td>\n",
       "    </tr>\n",
       "    <tr>\n",
       "      <th>2</th>\n",
       "      <td>2006</td>\n",
       "      <td>1970</td>\n",
       "      <td>8</td>\n",
       "      <td>2006</td>\n",
       "      <td>1120</td>\n",
       "      <td>2006.0</td>\n",
       "      <td>753.0</td>\n",
       "      <td>1085.0</td>\n",
       "      <td>44.384682</td>\n",
       "      <td>3880900</td>\n",
       "      <td>...</td>\n",
       "      <td>0</td>\n",
       "      <td>0</td>\n",
       "      <td>1</td>\n",
       "      <td>0</td>\n",
       "      <td>0</td>\n",
       "      <td>0</td>\n",
       "      <td>0</td>\n",
       "      <td>0</td>\n",
       "      <td>0</td>\n",
       "      <td>1</td>\n",
       "    </tr>\n",
       "    <tr>\n",
       "      <th>3</th>\n",
       "      <td>1960</td>\n",
       "      <td>1134</td>\n",
       "      <td>5</td>\n",
       "      <td>2002</td>\n",
       "      <td>1134</td>\n",
       "      <td>1960.0</td>\n",
       "      <td>254.0</td>\n",
       "      <td>1010.0</td>\n",
       "      <td>33.674916</td>\n",
       "      <td>1285956</td>\n",
       "      <td>...</td>\n",
       "      <td>0</td>\n",
       "      <td>0</td>\n",
       "      <td>0</td>\n",
       "      <td>0</td>\n",
       "      <td>1</td>\n",
       "      <td>0</td>\n",
       "      <td>0</td>\n",
       "      <td>1</td>\n",
       "      <td>0</td>\n",
       "      <td>0</td>\n",
       "    </tr>\n",
       "    <tr>\n",
       "      <th>4</th>\n",
       "      <td>1900</td>\n",
       "      <td>1178</td>\n",
       "      <td>4</td>\n",
       "      <td>1950</td>\n",
       "      <td>859</td>\n",
       "      <td>1964.0</td>\n",
       "      <td>384.0</td>\n",
       "      <td>859.0</td>\n",
       "      <td>34.322005</td>\n",
       "      <td>1387684</td>\n",
       "      <td>...</td>\n",
       "      <td>0</td>\n",
       "      <td>0</td>\n",
       "      <td>0</td>\n",
       "      <td>0</td>\n",
       "      <td>1</td>\n",
       "      <td>0</td>\n",
       "      <td>0</td>\n",
       "      <td>0</td>\n",
       "      <td>0</td>\n",
       "      <td>0</td>\n",
       "    </tr>\n",
       "  </tbody>\n",
       "</table>\n",
       "<p>5 rows × 52 columns</p>\n",
       "</div>"
      ],
      "text/plain": [
       "   Year Built  Gr Liv Area  Overall Qual  Year Remod/Add  1st Flr SF  \\\n",
       "0        1932         1991             6            1950        1096   \n",
       "1        1994          990             5            1994         990   \n",
       "2        2006         1970             8            2006        1120   \n",
       "3        1960         1134             5            2002        1134   \n",
       "4        1900         1178             4            1950         859   \n",
       "\n",
       "   Garage Yr Blt  Garage Area  Total Bsmt SF  Gr Liv Area**0.5  \\\n",
       "0         1977.0        432.0          854.0         44.620623   \n",
       "1         1995.0        440.0          990.0         31.464265   \n",
       "2         2006.0        753.0         1085.0         44.384682   \n",
       "3         1960.0        254.0         1010.0         33.674916   \n",
       "4         1964.0        384.0          859.0         34.322005   \n",
       "\n",
       "   Gr Liv Area**2  ...  Sale Type_ConLI  Sale Type_ConLw  Sale Type_New  \\\n",
       "0         3964081  ...                0                0              0   \n",
       "1          980100  ...                0                0              0   \n",
       "2         3880900  ...                0                0              1   \n",
       "3         1285956  ...                0                0              0   \n",
       "4         1387684  ...                0                0              0   \n",
       "\n",
       "   Sale Type_Oth  Sale Type_WD   Sale Condition_AdjLand  \\\n",
       "0              0              1                       0   \n",
       "1              0              1                       0   \n",
       "2              0              0                       0   \n",
       "3              0              1                       0   \n",
       "4              0              1                       0   \n",
       "\n",
       "   Sale Condition_Alloca  Sale Condition_Family  Sale Condition_Normal  \\\n",
       "0                      0                      0                      1   \n",
       "1                      0                      0                      1   \n",
       "2                      0                      0                      0   \n",
       "3                      0                      1                      0   \n",
       "4                      0                      0                      0   \n",
       "\n",
       "   Sale Condition_Partial  \n",
       "0                       0  \n",
       "1                       0  \n",
       "2                       1  \n",
       "3                       0  \n",
       "4                       0  \n",
       "\n",
       "[5 rows x 52 columns]"
      ]
     },
     "execution_count": 94,
     "metadata": {},
     "output_type": "execute_result"
    }
   ],
   "source": [
    "preprocessed_df_intermediate  = preprocess(df_test_intermediate)\n",
    "preprocessed_df_intermediate.head()"
   ]
  },
  {
   "cell_type": "code",
   "execution_count": 95,
   "metadata": {},
   "outputs": [],
   "source": [
    "X_tmp = preprocessed_df_intermediate.reindex(X_tr_cols_intermediate, axis=\"columns\")"
   ]
  },
  {
   "cell_type": "code",
   "execution_count": 96,
   "metadata": {},
   "outputs": [],
   "source": [
    "X_tmp = X_tmp.fillna(0)"
   ]
  },
  {
   "cell_type": "code",
   "execution_count": 97,
   "metadata": {},
   "outputs": [],
   "source": [
    "X = X_tmp.values"
   ]
  },
  {
   "cell_type": "code",
   "execution_count": 98,
   "metadata": {},
   "outputs": [],
   "source": [
    "X_rescaled = scaler_intermediate.transform(X)"
   ]
  },
  {
   "cell_type": "code",
   "execution_count": 99,
   "metadata": {},
   "outputs": [
    {
     "data": {
      "text/plain": [
       "array([1.12844445e+12, 1.25766473e+12, 1.89204995e+12, 1.48303024e+12,\n",
       "       8.21443258e+11, 6.15541535e+11, 2.35141956e+11, 1.28516642e+12,\n",
       "       4.01720638e+12, 8.46742109e+11])"
      ]
     },
     "execution_count": 99,
     "metadata": {},
     "output_type": "execute_result"
    }
   ],
   "source": [
    "ridge_intermediate.predict(X_rescaled)[0:10]"
   ]
  },
  {
   "cell_type": "code",
   "execution_count": 100,
   "metadata": {},
   "outputs": [],
   "source": [
    "d = {'PID': df_test.PID, 'SalePrice': ridge_intermediate.predict(X_rescaled).astype('int64')}"
   ]
  },
  {
   "cell_type": "code",
   "execution_count": 101,
   "metadata": {},
   "outputs": [],
   "source": [
    "y_test_intermediate = pd.DataFrame(data=d)"
   ]
  },
  {
   "cell_type": "code",
   "execution_count": 102,
   "metadata": {},
   "outputs": [
    {
     "data": {
      "text/html": [
       "<div>\n",
       "<style scoped>\n",
       "    .dataframe tbody tr th:only-of-type {\n",
       "        vertical-align: middle;\n",
       "    }\n",
       "\n",
       "    .dataframe tbody tr th {\n",
       "        vertical-align: top;\n",
       "    }\n",
       "\n",
       "    .dataframe thead th {\n",
       "        text-align: right;\n",
       "    }\n",
       "</style>\n",
       "<table border=\"1\" class=\"dataframe\">\n",
       "  <thead>\n",
       "    <tr style=\"text-align: right;\">\n",
       "      <th></th>\n",
       "      <th>PID</th>\n",
       "      <th>SalePrice</th>\n",
       "    </tr>\n",
       "  </thead>\n",
       "  <tbody>\n",
       "    <tr>\n",
       "      <th>0</th>\n",
       "      <td>909279080</td>\n",
       "      <td>1128444453445</td>\n",
       "    </tr>\n",
       "    <tr>\n",
       "      <th>1</th>\n",
       "      <td>907126050</td>\n",
       "      <td>1257664727589</td>\n",
       "    </tr>\n",
       "    <tr>\n",
       "      <th>2</th>\n",
       "      <td>528144030</td>\n",
       "      <td>1892049954664</td>\n",
       "    </tr>\n",
       "    <tr>\n",
       "      <th>3</th>\n",
       "      <td>535452060</td>\n",
       "      <td>1483030240030</td>\n",
       "    </tr>\n",
       "    <tr>\n",
       "      <th>4</th>\n",
       "      <td>911202100</td>\n",
       "      <td>821443258461</td>\n",
       "    </tr>\n",
       "  </tbody>\n",
       "</table>\n",
       "</div>"
      ],
      "text/plain": [
       "         PID      SalePrice\n",
       "0  909279080  1128444453445\n",
       "1  907126050  1257664727589\n",
       "2  528144030  1892049954664\n",
       "3  535452060  1483030240030\n",
       "4  911202100   821443258461"
      ]
     },
     "execution_count": 102,
     "metadata": {},
     "output_type": "execute_result"
    }
   ],
   "source": [
    "y_test_intermediate.head()"
   ]
  },
  {
   "cell_type": "code",
   "execution_count": 103,
   "metadata": {},
   "outputs": [],
   "source": [
    "y_test_intermediate.to_csv('predictions-intermediate-model.csv', index=False)"
   ]
  },
  {
   "cell_type": "markdown",
   "metadata": {},
   "source": [
    "-----"
   ]
  },
  {
   "cell_type": "markdown",
   "metadata": {},
   "source": [
    "Train **complex** model and calculate test data target values:"
   ]
  },
  {
   "cell_type": "code",
   "execution_count": 104,
   "metadata": {},
   "outputs": [
    {
     "data": {
      "text/html": [
       "<div>\n",
       "<style scoped>\n",
       "    .dataframe tbody tr th:only-of-type {\n",
       "        vertical-align: middle;\n",
       "    }\n",
       "\n",
       "    .dataframe tbody tr th {\n",
       "        vertical-align: top;\n",
       "    }\n",
       "\n",
       "    .dataframe thead th {\n",
       "        text-align: right;\n",
       "    }\n",
       "</style>\n",
       "<table border=\"1\" class=\"dataframe\">\n",
       "  <thead>\n",
       "    <tr style=\"text-align: right;\">\n",
       "      <th></th>\n",
       "      <th>Order</th>\n",
       "      <th>PID</th>\n",
       "      <th>Lot Frontage</th>\n",
       "      <th>Lot Area</th>\n",
       "      <th>Overall Qual</th>\n",
       "      <th>Overall Cond</th>\n",
       "      <th>Year Built</th>\n",
       "      <th>Year Remod/Add</th>\n",
       "      <th>Mas Vnr Area</th>\n",
       "      <th>BsmtFin SF 1</th>\n",
       "      <th>...</th>\n",
       "      <th>Sale Type_ConLw</th>\n",
       "      <th>Sale Type_New</th>\n",
       "      <th>Sale Type_Oth</th>\n",
       "      <th>Sale Type_VWD</th>\n",
       "      <th>Sale Type_WD</th>\n",
       "      <th>Sale Condition_AdjLand</th>\n",
       "      <th>Sale Condition_Alloca</th>\n",
       "      <th>Sale Condition_Family</th>\n",
       "      <th>Sale Condition_Normal</th>\n",
       "      <th>Sale Condition_Partial</th>\n",
       "    </tr>\n",
       "  </thead>\n",
       "  <tbody>\n",
       "    <tr>\n",
       "      <th>0</th>\n",
       "      <td>484</td>\n",
       "      <td>528275070</td>\n",
       "      <td>70.0</td>\n",
       "      <td>8795.0</td>\n",
       "      <td>7</td>\n",
       "      <td>5</td>\n",
       "      <td>2000.0</td>\n",
       "      <td>0.0</td>\n",
       "      <td>0.000000</td>\n",
       "      <td>5.707110</td>\n",
       "      <td>...</td>\n",
       "      <td>0</td>\n",
       "      <td>0</td>\n",
       "      <td>0</td>\n",
       "      <td>0</td>\n",
       "      <td>1</td>\n",
       "      <td>0</td>\n",
       "      <td>0</td>\n",
       "      <td>0</td>\n",
       "      <td>1</td>\n",
       "      <td>0</td>\n",
       "    </tr>\n",
       "    <tr>\n",
       "      <th>1</th>\n",
       "      <td>2586</td>\n",
       "      <td>535305120</td>\n",
       "      <td>75.0</td>\n",
       "      <td>10170.0</td>\n",
       "      <td>6</td>\n",
       "      <td>6</td>\n",
       "      <td>1951.0</td>\n",
       "      <td>0.0</td>\n",
       "      <td>6.259581</td>\n",
       "      <td>0.000000</td>\n",
       "      <td>...</td>\n",
       "      <td>0</td>\n",
       "      <td>0</td>\n",
       "      <td>0</td>\n",
       "      <td>0</td>\n",
       "      <td>1</td>\n",
       "      <td>0</td>\n",
       "      <td>0</td>\n",
       "      <td>0</td>\n",
       "      <td>1</td>\n",
       "      <td>0</td>\n",
       "    </tr>\n",
       "    <tr>\n",
       "      <th>2</th>\n",
       "      <td>2289</td>\n",
       "      <td>923228250</td>\n",
       "      <td>0.0</td>\n",
       "      <td>2001.0</td>\n",
       "      <td>4</td>\n",
       "      <td>5</td>\n",
       "      <td>1970.0</td>\n",
       "      <td>0.0</td>\n",
       "      <td>4.394449</td>\n",
       "      <td>0.000000</td>\n",
       "      <td>...</td>\n",
       "      <td>0</td>\n",
       "      <td>0</td>\n",
       "      <td>0</td>\n",
       "      <td>0</td>\n",
       "      <td>1</td>\n",
       "      <td>0</td>\n",
       "      <td>0</td>\n",
       "      <td>0</td>\n",
       "      <td>1</td>\n",
       "      <td>0</td>\n",
       "    </tr>\n",
       "    <tr>\n",
       "      <th>3</th>\n",
       "      <td>142</td>\n",
       "      <td>535152150</td>\n",
       "      <td>70.0</td>\n",
       "      <td>10552.0</td>\n",
       "      <td>5</td>\n",
       "      <td>5</td>\n",
       "      <td>1959.0</td>\n",
       "      <td>0.0</td>\n",
       "      <td>0.000000</td>\n",
       "      <td>6.926577</td>\n",
       "      <td>...</td>\n",
       "      <td>0</td>\n",
       "      <td>0</td>\n",
       "      <td>0</td>\n",
       "      <td>0</td>\n",
       "      <td>1</td>\n",
       "      <td>0</td>\n",
       "      <td>0</td>\n",
       "      <td>0</td>\n",
       "      <td>1</td>\n",
       "      <td>0</td>\n",
       "    </tr>\n",
       "    <tr>\n",
       "      <th>4</th>\n",
       "      <td>2042</td>\n",
       "      <td>903475060</td>\n",
       "      <td>60.0</td>\n",
       "      <td>10120.0</td>\n",
       "      <td>7</td>\n",
       "      <td>4</td>\n",
       "      <td>1910.0</td>\n",
       "      <td>1950.0</td>\n",
       "      <td>0.000000</td>\n",
       "      <td>0.000000</td>\n",
       "      <td>...</td>\n",
       "      <td>0</td>\n",
       "      <td>0</td>\n",
       "      <td>0</td>\n",
       "      <td>0</td>\n",
       "      <td>1</td>\n",
       "      <td>0</td>\n",
       "      <td>0</td>\n",
       "      <td>0</td>\n",
       "      <td>1</td>\n",
       "      <td>0</td>\n",
       "    </tr>\n",
       "  </tbody>\n",
       "</table>\n",
       "<p>5 rows × 390 columns</p>\n",
       "</div>"
      ],
      "text/plain": [
       "   Order        PID  Lot Frontage  Lot Area  Overall Qual  Overall Cond  \\\n",
       "0    484  528275070          70.0    8795.0             7             5   \n",
       "1   2586  535305120          75.0   10170.0             6             6   \n",
       "2   2289  923228250           0.0    2001.0             4             5   \n",
       "3    142  535152150          70.0   10552.0             5             5   \n",
       "4   2042  903475060          60.0   10120.0             7             4   \n",
       "\n",
       "   Year Built  Year Remod/Add  Mas Vnr Area  BsmtFin SF 1  ...  \\\n",
       "0      2000.0             0.0      0.000000      5.707110  ...   \n",
       "1      1951.0             0.0      6.259581      0.000000  ...   \n",
       "2      1970.0             0.0      4.394449      0.000000  ...   \n",
       "3      1959.0             0.0      0.000000      6.926577  ...   \n",
       "4      1910.0          1950.0      0.000000      0.000000  ...   \n",
       "\n",
       "   Sale Type_ConLw  Sale Type_New  Sale Type_Oth  Sale Type_VWD  \\\n",
       "0                0              0              0              0   \n",
       "1                0              0              0              0   \n",
       "2                0              0              0              0   \n",
       "3                0              0              0              0   \n",
       "4                0              0              0              0   \n",
       "\n",
       "   Sale Type_WD   Sale Condition_AdjLand  Sale Condition_Alloca  \\\n",
       "0              1                       0                      0   \n",
       "1              1                       0                      0   \n",
       "2              1                       0                      0   \n",
       "3              1                       0                      0   \n",
       "4              1                       0                      0   \n",
       "\n",
       "   Sale Condition_Family  Sale Condition_Normal  Sale Condition_Partial  \n",
       "0                      0                      1                       0  \n",
       "1                      0                      1                       0  \n",
       "2                      0                      1                       0  \n",
       "3                      0                      1                       0  \n",
       "4                      0                      1                       0  \n",
       "\n",
       "[5 rows x 390 columns]"
      ]
     },
     "execution_count": 104,
     "metadata": {},
     "output_type": "execute_result"
    }
   ],
   "source": [
    "preprocessed_df_complex = preprocess(df.drop('SalePrice', axis=1))\n",
    "preprocessed_df_complex.head()"
   ]
  },
  {
   "cell_type": "code",
   "execution_count": 105,
   "metadata": {},
   "outputs": [],
   "source": [
    "X_tr_cols_complex = list(preprocessed_df_complex)"
   ]
  },
  {
   "cell_type": "code",
   "execution_count": 106,
   "metadata": {},
   "outputs": [],
   "source": [
    "X = preprocessed_df_complex.values"
   ]
  },
  {
   "cell_type": "code",
   "execution_count": 107,
   "metadata": {},
   "outputs": [],
   "source": [
    "X_tr, X_te, y_tr, y_te = train_test_split(X, y, test_size=0.5, random_state=0)"
   ]
  },
  {
   "cell_type": "code",
   "execution_count": 108,
   "metadata": {},
   "outputs": [],
   "source": [
    "scaler_complex = StandardScaler()\n",
    "X_tr_rescaled = scaler_complex.fit_transform(X_tr)\n",
    "X_te_rescaled = scaler_complex.transform(X_te)"
   ]
  },
  {
   "cell_type": "code",
   "execution_count": 109,
   "metadata": {},
   "outputs": [
    {
     "name": "stdout",
     "output_type": "stream",
     "text": [
      "train_mae: 12504.334642660242\n",
      "test_mae: 19036.23499064132\n"
     ]
    }
   ],
   "source": [
    "ridge_complex = Ridge()\n",
    "ridge_complex.fit(X_tr_rescaled, y_tr)\n",
    "print('train_mae:', MAE(y_tr, ridge_complex.predict(X_tr_rescaled)))\n",
    "print('test_mae:', MAE(y_te, ridge_complex.predict(X_te_rescaled)))"
   ]
  },
  {
   "cell_type": "markdown",
   "metadata": {},
   "source": [
    "As you can see the train_mae is the lowest of all three models. However we will iterate over a list of alpha values and pick the one with the best test score. We want to find hyperparameters that minimize the generalization error."
   ]
  },
  {
   "cell_type": "code",
   "execution_count": 110,
   "metadata": {},
   "outputs": [
    {
     "data": {
      "image/png": "[encoded data removed]",
      "text/plain": [
       "<Figure size 432x288 with 1 Axes>"
      ]
     },
     "metadata": {
      "needs_background": "light"
     },
     "output_type": "display_data"
    }
   ],
   "source": [
    "# Variable to store the results\n",
    "gs_results = []\n",
    "\n",
    "# Grid search\n",
    "for alpha in np.logspace(-1, 4, num=20):\n",
    "    # Create and fit ridge regression\n",
    "    ridge_complex = Ridge(alpha=alpha)\n",
    "    ridge_complex.fit(X_tr_rescaled, y_tr)\n",
    "    \n",
    "    # Save model and its performance on train/test sets\n",
    "    gs_results.append({\n",
    "        'model': ridge_complex,\n",
    "        'alpha': alpha,\n",
    "        'train_mse': MSE(y_tr, ridge_complex.predict(X_tr_rescaled)),\n",
    "        'train_mae': MAE(y_tr, ridge_complex.predict(X_tr_rescaled)),\n",
    "        'test_mse': MSE(y_te, ridge_complex.predict(X_te_rescaled)),\n",
    "        'test_mae': MAE(y_te, ridge_complex.predict(X_te_rescaled)),\n",
    "    })\n",
    "\n",
    "# Convert results to DataFrame\n",
    "gs_results = pd.DataFrame(gs_results)\n",
    "\n",
    "# Plot the validation curves\n",
    "plt.plot(np.log10(gs_results['alpha']), gs_results['train_mse'], label='train curve')\n",
    "plt.plot(np.log10(gs_results['alpha']), gs_results['test_mse'], label='test curve')\n",
    "\n",
    "# Mark best alpha value\n",
    "best_result = gs_results.loc[gs_results.test_mse.idxmin()]\n",
    "plt.scatter(np.log10(best_result.alpha), best_result.test_mse, marker='x', c='red', zorder=10)\n",
    "plt.title('Best alpha: {:.1e} - MSE: {:.4f} MAE: {:,.0f}$'.format(\n",
    "    best_result.alpha, best_result.test_mse, best_result.test_mae))\n",
    "\n",
    "plt.xlabel('$log_{10}(alpha)$')\n",
    "plt.ylabel('MSE')\n",
    "plt.legend()\n",
    "plt.show()"
   ]
  },
  {
   "cell_type": "markdown",
   "metadata": {},
   "source": [
    "The test MAE score is now lower compared to the regression without grid search. "
   ]
  },
  {
   "cell_type": "code",
   "execution_count": 111,
   "metadata": {},
   "outputs": [
    {
     "name": "stdout",
     "output_type": "stream",
     "text": [
      "train_MAE_complex: 14862.073041816875\n",
      "test_MAE_complex: 17082.068183335043\n"
     ]
    }
   ],
   "source": [
    "ridge_complex = Ridge(alpha=2.6e+02)\n",
    "ridge_complex.fit(X_tr_rescaled, y_tr)\n",
    "print('train_MAE_complex:', MAE(y_tr, ridge_complex.predict(X_tr_rescaled)))\n",
    "print('test_MAE_complex:', MAE(y_te, ridge_complex.predict(X_te_rescaled)))"
   ]
  },
  {
   "cell_type": "code",
   "execution_count": 112,
   "metadata": {},
   "outputs": [],
   "source": [
    "test_MAE_complex = MAE(y_te, ridge_complex.predict(X_te_rescaled))"
   ]
  },
  {
   "cell_type": "markdown",
   "metadata": {},
   "source": [
    "Calculate test data target value:"
   ]
  },
  {
   "cell_type": "code",
   "execution_count": 113,
   "metadata": {},
   "outputs": [],
   "source": [
    "df_test_complex = df_test[df.drop('SalePrice', axis=1).columns]"
   ]
  },
  {
   "cell_type": "code",
   "execution_count": 114,
   "metadata": {},
   "outputs": [
    {
     "data": {
      "text/html": [
       "<div>\n",
       "<style scoped>\n",
       "    .dataframe tbody tr th:only-of-type {\n",
       "        vertical-align: middle;\n",
       "    }\n",
       "\n",
       "    .dataframe tbody tr th {\n",
       "        vertical-align: top;\n",
       "    }\n",
       "\n",
       "    .dataframe thead th {\n",
       "        text-align: right;\n",
       "    }\n",
       "</style>\n",
       "<table border=\"1\" class=\"dataframe\">\n",
       "  <thead>\n",
       "    <tr style=\"text-align: right;\">\n",
       "      <th></th>\n",
       "      <th>Year Built</th>\n",
       "      <th>Gr Liv Area</th>\n",
       "      <th>Overall Qual</th>\n",
       "      <th>Year Remod/Add</th>\n",
       "      <th>1st Flr SF</th>\n",
       "      <th>Garage Yr Blt</th>\n",
       "      <th>Garage Area</th>\n",
       "      <th>Total Bsmt SF</th>\n",
       "      <th>Gr Liv Area**0.5</th>\n",
       "      <th>Gr Liv Area**2</th>\n",
       "      <th>...</th>\n",
       "      <th>Sale Type_ConLI</th>\n",
       "      <th>Sale Type_ConLw</th>\n",
       "      <th>Sale Type_New</th>\n",
       "      <th>Sale Type_Oth</th>\n",
       "      <th>Sale Type_WD</th>\n",
       "      <th>Sale Condition_AdjLand</th>\n",
       "      <th>Sale Condition_Alloca</th>\n",
       "      <th>Sale Condition_Family</th>\n",
       "      <th>Sale Condition_Normal</th>\n",
       "      <th>Sale Condition_Partial</th>\n",
       "    </tr>\n",
       "  </thead>\n",
       "  <tbody>\n",
       "    <tr>\n",
       "      <th>0</th>\n",
       "      <td>1932</td>\n",
       "      <td>1991</td>\n",
       "      <td>6</td>\n",
       "      <td>1950</td>\n",
       "      <td>1096</td>\n",
       "      <td>1977.0</td>\n",
       "      <td>432.0</td>\n",
       "      <td>854.0</td>\n",
       "      <td>44.620623</td>\n",
       "      <td>3964081</td>\n",
       "      <td>...</td>\n",
       "      <td>0</td>\n",
       "      <td>0</td>\n",
       "      <td>0</td>\n",
       "      <td>0</td>\n",
       "      <td>1</td>\n",
       "      <td>0</td>\n",
       "      <td>0</td>\n",
       "      <td>0</td>\n",
       "      <td>1</td>\n",
       "      <td>0</td>\n",
       "    </tr>\n",
       "    <tr>\n",
       "      <th>1</th>\n",
       "      <td>1994</td>\n",
       "      <td>990</td>\n",
       "      <td>5</td>\n",
       "      <td>1994</td>\n",
       "      <td>990</td>\n",
       "      <td>1995.0</td>\n",
       "      <td>440.0</td>\n",
       "      <td>990.0</td>\n",
       "      <td>31.464265</td>\n",
       "      <td>980100</td>\n",
       "      <td>...</td>\n",
       "      <td>0</td>\n",
       "      <td>0</td>\n",
       "      <td>0</td>\n",
       "      <td>0</td>\n",
       "      <td>1</td>\n",
       "      <td>0</td>\n",
       "      <td>0</td>\n",
       "      <td>0</td>\n",
       "      <td>1</td>\n",
       "      <td>0</td>\n",
       "    </tr>\n",
       "    <tr>\n",
       "      <th>2</th>\n",
       "      <td>2006</td>\n",
       "      <td>1970</td>\n",
       "      <td>8</td>\n",
       "      <td>2006</td>\n",
       "      <td>1120</td>\n",
       "      <td>2006.0</td>\n",
       "      <td>753.0</td>\n",
       "      <td>1085.0</td>\n",
       "      <td>44.384682</td>\n",
       "      <td>3880900</td>\n",
       "      <td>...</td>\n",
       "      <td>0</td>\n",
       "      <td>0</td>\n",
       "      <td>1</td>\n",
       "      <td>0</td>\n",
       "      <td>0</td>\n",
       "      <td>0</td>\n",
       "      <td>0</td>\n",
       "      <td>0</td>\n",
       "      <td>0</td>\n",
       "      <td>1</td>\n",
       "    </tr>\n",
       "    <tr>\n",
       "      <th>3</th>\n",
       "      <td>1960</td>\n",
       "      <td>1134</td>\n",
       "      <td>5</td>\n",
       "      <td>2002</td>\n",
       "      <td>1134</td>\n",
       "      <td>1960.0</td>\n",
       "      <td>254.0</td>\n",
       "      <td>1010.0</td>\n",
       "      <td>33.674916</td>\n",
       "      <td>1285956</td>\n",
       "      <td>...</td>\n",
       "      <td>0</td>\n",
       "      <td>0</td>\n",
       "      <td>0</td>\n",
       "      <td>0</td>\n",
       "      <td>1</td>\n",
       "      <td>0</td>\n",
       "      <td>0</td>\n",
       "      <td>1</td>\n",
       "      <td>0</td>\n",
       "      <td>0</td>\n",
       "    </tr>\n",
       "    <tr>\n",
       "      <th>4</th>\n",
       "      <td>1900</td>\n",
       "      <td>1178</td>\n",
       "      <td>4</td>\n",
       "      <td>1950</td>\n",
       "      <td>859</td>\n",
       "      <td>1964.0</td>\n",
       "      <td>384.0</td>\n",
       "      <td>859.0</td>\n",
       "      <td>34.322005</td>\n",
       "      <td>1387684</td>\n",
       "      <td>...</td>\n",
       "      <td>0</td>\n",
       "      <td>0</td>\n",
       "      <td>0</td>\n",
       "      <td>0</td>\n",
       "      <td>1</td>\n",
       "      <td>0</td>\n",
       "      <td>0</td>\n",
       "      <td>0</td>\n",
       "      <td>0</td>\n",
       "      <td>0</td>\n",
       "    </tr>\n",
       "  </tbody>\n",
       "</table>\n",
       "<p>5 rows × 52 columns</p>\n",
       "</div>"
      ],
      "text/plain": [
       "   Year Built  Gr Liv Area  Overall Qual  Year Remod/Add  1st Flr SF  \\\n",
       "0        1932         1991             6            1950        1096   \n",
       "1        1994          990             5            1994         990   \n",
       "2        2006         1970             8            2006        1120   \n",
       "3        1960         1134             5            2002        1134   \n",
       "4        1900         1178             4            1950         859   \n",
       "\n",
       "   Garage Yr Blt  Garage Area  Total Bsmt SF  Gr Liv Area**0.5  \\\n",
       "0         1977.0        432.0          854.0         44.620623   \n",
       "1         1995.0        440.0          990.0         31.464265   \n",
       "2         2006.0        753.0         1085.0         44.384682   \n",
       "3         1960.0        254.0         1010.0         33.674916   \n",
       "4         1964.0        384.0          859.0         34.322005   \n",
       "\n",
       "   Gr Liv Area**2  ...  Sale Type_ConLI  Sale Type_ConLw  Sale Type_New  \\\n",
       "0         3964081  ...                0                0              0   \n",
       "1          980100  ...                0                0              0   \n",
       "2         3880900  ...                0                0              1   \n",
       "3         1285956  ...                0                0              0   \n",
       "4         1387684  ...                0                0              0   \n",
       "\n",
       "   Sale Type_Oth  Sale Type_WD   Sale Condition_AdjLand  \\\n",
       "0              0              1                       0   \n",
       "1              0              1                       0   \n",
       "2              0              0                       0   \n",
       "3              0              1                       0   \n",
       "4              0              1                       0   \n",
       "\n",
       "   Sale Condition_Alloca  Sale Condition_Family  Sale Condition_Normal  \\\n",
       "0                      0                      0                      1   \n",
       "1                      0                      0                      1   \n",
       "2                      0                      0                      0   \n",
       "3                      0                      1                      0   \n",
       "4                      0                      0                      0   \n",
       "\n",
       "   Sale Condition_Partial  \n",
       "0                       0  \n",
       "1                       0  \n",
       "2                       1  \n",
       "3                       0  \n",
       "4                       0  \n",
       "\n",
       "[5 rows x 52 columns]"
      ]
     },
     "execution_count": 114,
     "metadata": {},
     "output_type": "execute_result"
    }
   ],
   "source": [
    "preprocessed_df_complex  = preprocess(df_test_intermediate)\n",
    "preprocessed_df_complex.head()"
   ]
  },
  {
   "cell_type": "code",
   "execution_count": 115,
   "metadata": {},
   "outputs": [],
   "source": [
    "X_tmp = preprocessed_df_complex.reindex(X_tr_cols_complex, axis=\"columns\")"
   ]
  },
  {
   "cell_type": "code",
   "execution_count": 116,
   "metadata": {},
   "outputs": [],
   "source": [
    "X_tmp = X_tmp.fillna(0)"
   ]
  },
  {
   "cell_type": "code",
   "execution_count": 117,
   "metadata": {},
   "outputs": [],
   "source": [
    "X = X_tmp.values"
   ]
  },
  {
   "cell_type": "code",
   "execution_count": 118,
   "metadata": {},
   "outputs": [],
   "source": [
    "X_rescaled = scaler_complex.transform(X)"
   ]
  },
  {
   "cell_type": "code",
   "execution_count": 119,
   "metadata": {},
   "outputs": [
    {
     "data": {
      "text/plain": [
       "array([1.38524107e+11, 1.43242753e+11, 2.18008539e+11, 1.74688393e+11,\n",
       "       9.36869386e+10, 7.05964914e+10, 3.38504591e+10, 1.46693778e+11,\n",
       "       4.55865797e+11, 1.20321351e+11])"
      ]
     },
     "execution_count": 119,
     "metadata": {},
     "output_type": "execute_result"
    }
   ],
   "source": [
    "ridge_complex.predict(X_rescaled)[0:10]"
   ]
  },
  {
   "cell_type": "code",
   "execution_count": 120,
   "metadata": {},
   "outputs": [],
   "source": [
    "d = {'PID': df_test.PID, 'SalePrice': ridge_complex.predict(X_rescaled).astype('int64')}"
   ]
  },
  {
   "cell_type": "code",
   "execution_count": 121,
   "metadata": {},
   "outputs": [],
   "source": [
    "y_test_complex = pd.DataFrame(data=d)"
   ]
  },
  {
   "cell_type": "code",
   "execution_count": 122,
   "metadata": {},
   "outputs": [
    {
     "data": {
      "text/html": [
       "<div>\n",
       "<style scoped>\n",
       "    .dataframe tbody tr th:only-of-type {\n",
       "        vertical-align: middle;\n",
       "    }\n",
       "\n",
       "    .dataframe tbody tr th {\n",
       "        vertical-align: top;\n",
       "    }\n",
       "\n",
       "    .dataframe thead th {\n",
       "        text-align: right;\n",
       "    }\n",
       "</style>\n",
       "<table border=\"1\" class=\"dataframe\">\n",
       "  <thead>\n",
       "    <tr style=\"text-align: right;\">\n",
       "      <th></th>\n",
       "      <th>PID</th>\n",
       "      <th>SalePrice</th>\n",
       "    </tr>\n",
       "  </thead>\n",
       "  <tbody>\n",
       "    <tr>\n",
       "      <th>0</th>\n",
       "      <td>909279080</td>\n",
       "      <td>138524107448</td>\n",
       "    </tr>\n",
       "    <tr>\n",
       "      <th>1</th>\n",
       "      <td>907126050</td>\n",
       "      <td>143242752866</td>\n",
       "    </tr>\n",
       "    <tr>\n",
       "      <th>2</th>\n",
       "      <td>528144030</td>\n",
       "      <td>218008538955</td>\n",
       "    </tr>\n",
       "    <tr>\n",
       "      <th>3</th>\n",
       "      <td>535452060</td>\n",
       "      <td>174688393183</td>\n",
       "    </tr>\n",
       "    <tr>\n",
       "      <th>4</th>\n",
       "      <td>911202100</td>\n",
       "      <td>93686938648</td>\n",
       "    </tr>\n",
       "  </tbody>\n",
       "</table>\n",
       "</div>"
      ],
      "text/plain": [
       "         PID     SalePrice\n",
       "0  909279080  138524107448\n",
       "1  907126050  143242752866\n",
       "2  528144030  218008538955\n",
       "3  535452060  174688393183\n",
       "4  911202100   93686938648"
      ]
     },
     "execution_count": 122,
     "metadata": {},
     "output_type": "execute_result"
    }
   ],
   "source": [
    "y_test_complex.head()"
   ]
  },
  {
   "cell_type": "code",
   "execution_count": 123,
   "metadata": {},
   "outputs": [],
   "source": [
    "y_test_complex.to_csv('predictions-complex-model.csv', index=False)"
   ]
  },
  {
   "cell_type": "markdown",
   "metadata": {},
   "source": [
    "---"
   ]
  },
  {
   "cell_type": "markdown",
   "metadata": {},
   "source": [
    "MAE **baseline** calculation:\n",
    "\n",
    "The sklearn MAE function does not support a constant value of the median. "
   ]
  },
  {
   "cell_type": "code",
   "execution_count": 124,
   "metadata": {},
   "outputs": [],
   "source": [
    "# mae_baseline = MAE(10**y_te), np.median(10**X_tr)) --> returns an error"
   ]
  },
  {
   "cell_type": "markdown",
   "metadata": {},
   "source": [
    "Therefore, you need to pass an array:"
   ]
  },
  {
   "cell_type": "code",
   "execution_count": 125,
   "metadata": {},
   "outputs": [
    {
     "data": {
      "text/plain": [
       "54622.248559670785"
      ]
     },
     "execution_count": 125,
     "metadata": {},
     "output_type": "execute_result"
    }
   ],
   "source": [
    "MAE(y_te, np.full(y_te.shape, np.median(y_te)))"
   ]
  },
  {
   "cell_type": "code",
   "execution_count": 126,
   "metadata": {},
   "outputs": [
    {
     "data": {
      "text/plain": [
       "54741.624691358025"
      ]
     },
     "execution_count": 126,
     "metadata": {},
     "output_type": "execute_result"
    }
   ],
   "source": [
    "MAE_baseline = np.mean(np.abs(y_te - np.median(y_tr)))\n",
    "MAE_baseline"
   ]
  },
  {
   "cell_type": "markdown",
   "metadata": {},
   "source": [
    "---"
   ]
  },
  {
   "cell_type": "markdown",
   "metadata": {},
   "source": [
    "My models have the folowing MAE (in thousand dollars)\n",
    "\n",
    "- baseline: 54'741\n",
    "- simple model: 27'421\n",
    "- intermediate model: 19'036\n",
    "- complex model: 17'082"
   ]
  },
  {
   "cell_type": "code",
   "execution_count": 127,
   "metadata": {},
   "outputs": [
    {
     "data": {
      "image/png": "[encoded data removed]",
      "text/plain": [
       "<Figure size 432x288 with 1 Axes>"
      ]
     },
     "metadata": {
      "needs_background": "light"
     },
     "output_type": "display_data"
    }
   ],
   "source": [
    "# Final comparison\n",
    "MAE_values = [MAE_baseline, test_MAE_simple, test_MAE_intermediate, test_MAE_complex]\n",
    "titles = ['median', 'mae_simple', 'mae_intermediate', 'mae_complex']\n",
    "\n",
    "xcor = np.arange(len(MAE_values))\n",
    "plt.bar(xcor, MAE_values)\n",
    "plt.xticks(xcor, titles)\n",
    "\n",
    "plt.ylabel('MAE')\n",
    "plt.tight_layout()\n",
    "plt.show()"
   ]
  }
 ],
 "metadata": {
  "kernelspec": {
   "display_name": "Python 3",
   "language": "python",
   "name": "python3"
  },
  "language_info": {
   "codemirror_mode": {
    "name": "ipython",
    "version": 3
   },
   "file_extension": ".py",
   "mimetype": "text/x-python",
   "name": "python",
   "nbconvert_exporter": "python",
   "pygments_lexer": "ipython3",
   "version": "3.8.5"
  }
 },
 "nbformat": 4,
 "nbformat_minor": 5
}
